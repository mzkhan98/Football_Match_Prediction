{
 "cells": [
  {
   "cell_type": "code",
   "execution_count": 1,
   "metadata": {},
   "outputs": [],
   "source": [
    "import pandas as pd \n",
    "import glob \n",
    "import seaborn as sns\n",
    "\n",
    "files = glob.glob(\"./Football-Dataset/*/*.csv\")\n",
    "pd_list = []\n",
    "\n",
    "for file in files:\n",
    "    temp_csv = pd.read_csv(file)\n",
    "    pd_list.append(temp_csv)\n",
    "\n",
    "df = pd.concat(pd_list)"
   ]
  },
  {
   "cell_type": "code",
   "execution_count": 2,
   "metadata": {},
   "outputs": [
    {
     "data": {
      "text/html": [
       "<div>\n",
       "<style scoped>\n",
       "    .dataframe tbody tr th:only-of-type {\n",
       "        vertical-align: middle;\n",
       "    }\n",
       "\n",
       "    .dataframe tbody tr th {\n",
       "        vertical-align: top;\n",
       "    }\n",
       "\n",
       "    .dataframe thead th {\n",
       "        text-align: right;\n",
       "    }\n",
       "</style>\n",
       "<table border=\"1\" class=\"dataframe\">\n",
       "  <thead>\n",
       "    <tr style=\"text-align: right;\">\n",
       "      <th></th>\n",
       "      <th>Home_Team</th>\n",
       "      <th>Away_Team</th>\n",
       "      <th>Result</th>\n",
       "      <th>Link</th>\n",
       "      <th>Season</th>\n",
       "      <th>Round</th>\n",
       "      <th>League</th>\n",
       "    </tr>\n",
       "  </thead>\n",
       "  <tbody>\n",
       "    <tr>\n",
       "      <th>0</th>\n",
       "      <td>Bologna</td>\n",
       "      <td>Atalanta</td>\n",
       "      <td>1-0</td>\n",
       "      <td>https://www.besoccer.com/match/bologna/atalant...</td>\n",
       "      <td>2002</td>\n",
       "      <td>1</td>\n",
       "      <td>serie_a</td>\n",
       "    </tr>\n",
       "    <tr>\n",
       "      <th>1</th>\n",
       "      <td>Lazio</td>\n",
       "      <td>Piacenza</td>\n",
       "      <td>1-1</td>\n",
       "      <td>https://www.besoccer.com/match/lazio/piacenza/...</td>\n",
       "      <td>2002</td>\n",
       "      <td>1</td>\n",
       "      <td>serie_a</td>\n",
       "    </tr>\n",
       "    <tr>\n",
       "      <th>2</th>\n",
       "      <td>Inter</td>\n",
       "      <td>Perugia</td>\n",
       "      <td>4-1</td>\n",
       "      <td>https://www.besoccer.com/match/internazionale/...</td>\n",
       "      <td>2002</td>\n",
       "      <td>1</td>\n",
       "      <td>serie_a</td>\n",
       "    </tr>\n",
       "    <tr>\n",
       "      <th>3</th>\n",
       "      <td>Fiorentina</td>\n",
       "      <td>Chievo</td>\n",
       "      <td>0-2</td>\n",
       "      <td>https://www.besoccer.com/match/fiorentina/chie...</td>\n",
       "      <td>2002</td>\n",
       "      <td>1</td>\n",
       "      <td>serie_a</td>\n",
       "    </tr>\n",
       "    <tr>\n",
       "      <th>4</th>\n",
       "      <td>Juventus</td>\n",
       "      <td>Venezia</td>\n",
       "      <td>4-0</td>\n",
       "      <td>https://www.besoccer.com/match/juventus-fc/ven...</td>\n",
       "      <td>2002</td>\n",
       "      <td>1</td>\n",
       "      <td>serie_a</td>\n",
       "    </tr>\n",
       "    <tr>\n",
       "      <th>...</th>\n",
       "      <td>...</td>\n",
       "      <td>...</td>\n",
       "      <td>...</td>\n",
       "      <td>...</td>\n",
       "      <td>...</td>\n",
       "      <td>...</td>\n",
       "      <td>...</td>\n",
       "    </tr>\n",
       "    <tr>\n",
       "      <th>457</th>\n",
       "      <td>Middlesbrough</td>\n",
       "      <td>Norwich City</td>\n",
       "      <td>3-3</td>\n",
       "      <td>https://www.besoccer.com/match/middlesbrough-f...</td>\n",
       "      <td>1993</td>\n",
       "      <td>42</td>\n",
       "      <td>premier_league</td>\n",
       "    </tr>\n",
       "    <tr>\n",
       "      <th>458</th>\n",
       "      <td>Oldham Athletic AFC</td>\n",
       "      <td>Southampton</td>\n",
       "      <td>4-3</td>\n",
       "      <td>https://www.besoccer.com/match/oldham-athletic...</td>\n",
       "      <td>1993</td>\n",
       "      <td>42</td>\n",
       "      <td>premier_league</td>\n",
       "    </tr>\n",
       "    <tr>\n",
       "      <th>459</th>\n",
       "      <td>Sheffield United</td>\n",
       "      <td>Chelsea</td>\n",
       "      <td>4-2</td>\n",
       "      <td>https://www.besoccer.com/match/sheffield-unite...</td>\n",
       "      <td>1993</td>\n",
       "      <td>42</td>\n",
       "      <td>premier_league</td>\n",
       "    </tr>\n",
       "    <tr>\n",
       "      <th>460</th>\n",
       "      <td>Queens Park Rangers</td>\n",
       "      <td>Aston Villa</td>\n",
       "      <td>2-1</td>\n",
       "      <td>https://www.besoccer.com/match/queens-park-ran...</td>\n",
       "      <td>1993</td>\n",
       "      <td>42</td>\n",
       "      <td>premier_league</td>\n",
       "    </tr>\n",
       "    <tr>\n",
       "      <th>461</th>\n",
       "      <td>Wimbledon FC</td>\n",
       "      <td>Man. Utd</td>\n",
       "      <td>1-2</td>\n",
       "      <td>https://www.besoccer.com/match/wimbledon-fc/ma...</td>\n",
       "      <td>1993</td>\n",
       "      <td>42</td>\n",
       "      <td>premier_league</td>\n",
       "    </tr>\n",
       "  </tbody>\n",
       "</table>\n",
       "<p>146498 rows × 7 columns</p>\n",
       "</div>"
      ],
      "text/plain": [
       "               Home_Team     Away_Team Result  \\\n",
       "0                Bologna      Atalanta    1-0   \n",
       "1                  Lazio      Piacenza    1-1   \n",
       "2                  Inter       Perugia    4-1   \n",
       "3             Fiorentina        Chievo    0-2   \n",
       "4               Juventus       Venezia    4-0   \n",
       "..                   ...           ...    ...   \n",
       "457        Middlesbrough  Norwich City    3-3   \n",
       "458  Oldham Athletic AFC   Southampton    4-3   \n",
       "459     Sheffield United       Chelsea    4-2   \n",
       "460  Queens Park Rangers   Aston Villa    2-1   \n",
       "461         Wimbledon FC      Man. Utd    1-2   \n",
       "\n",
       "                                                  Link Season Round  \\\n",
       "0    https://www.besoccer.com/match/bologna/atalant...   2002     1   \n",
       "1    https://www.besoccer.com/match/lazio/piacenza/...   2002     1   \n",
       "2    https://www.besoccer.com/match/internazionale/...   2002     1   \n",
       "3    https://www.besoccer.com/match/fiorentina/chie...   2002     1   \n",
       "4    https://www.besoccer.com/match/juventus-fc/ven...   2002     1   \n",
       "..                                                 ...    ...   ...   \n",
       "457  https://www.besoccer.com/match/middlesbrough-f...   1993    42   \n",
       "458  https://www.besoccer.com/match/oldham-athletic...   1993    42   \n",
       "459  https://www.besoccer.com/match/sheffield-unite...   1993    42   \n",
       "460  https://www.besoccer.com/match/queens-park-ran...   1993    42   \n",
       "461  https://www.besoccer.com/match/wimbledon-fc/ma...   1993    42   \n",
       "\n",
       "             League  \n",
       "0           serie_a  \n",
       "1           serie_a  \n",
       "2           serie_a  \n",
       "3           serie_a  \n",
       "4           serie_a  \n",
       "..              ...  \n",
       "457  premier_league  \n",
       "458  premier_league  \n",
       "459  premier_league  \n",
       "460  premier_league  \n",
       "461  premier_league  \n",
       "\n",
       "[146498 rows x 7 columns]"
      ]
     },
     "execution_count": 2,
     "metadata": {},
     "output_type": "execute_result"
    }
   ],
   "source": [
    "df"
   ]
  },
  {
   "cell_type": "code",
   "execution_count": 3,
   "metadata": {},
   "outputs": [],
   "source": [
    "def clean_link(x):\n",
    "    new_link = x.split('.com')[1]\n",
    "    new_link_year = new_link.split('/')[-1][0:4]\n",
    "    new_link_complete = '/'.join(new_link.split('/')[:-1]) + '/' + new_link_year\n",
    "    return new_link_complete"
   ]
  },
  {
   "cell_type": "code",
   "execution_count": 4,
   "metadata": {},
   "outputs": [],
   "source": [
    "df['New Link'] = df['Link'].apply(clean_link)"
   ]
  },
  {
   "cell_type": "code",
   "execution_count": 5,
   "metadata": {},
   "outputs": [],
   "source": [
    "match_info_df = pd.read_csv('Match_Info.csv')"
   ]
  },
  {
   "cell_type": "code",
   "execution_count": 6,
   "metadata": {},
   "outputs": [],
   "source": [
    "new_df = df.merge(match_info_df, left_on='New Link', right_on='Link').rename(columns={'Link_x': 'Link'})"
   ]
  },
  {
   "cell_type": "code",
   "execution_count": 7,
   "metadata": {},
   "outputs": [
    {
     "data": {
      "text/html": [
       "<div>\n",
       "<style scoped>\n",
       "    .dataframe tbody tr th:only-of-type {\n",
       "        vertical-align: middle;\n",
       "    }\n",
       "\n",
       "    .dataframe tbody tr th {\n",
       "        vertical-align: top;\n",
       "    }\n",
       "\n",
       "    .dataframe thead th {\n",
       "        text-align: right;\n",
       "    }\n",
       "</style>\n",
       "<table border=\"1\" class=\"dataframe\">\n",
       "  <thead>\n",
       "    <tr style=\"text-align: right;\">\n",
       "      <th></th>\n",
       "      <th>Home_Team</th>\n",
       "      <th>Away_Team</th>\n",
       "      <th>Result</th>\n",
       "      <th>Link</th>\n",
       "      <th>Season</th>\n",
       "      <th>Round</th>\n",
       "      <th>League</th>\n",
       "      <th>New Link</th>\n",
       "      <th>Link_y</th>\n",
       "      <th>Date_New</th>\n",
       "      <th>Referee</th>\n",
       "      <th>Home_Yellow</th>\n",
       "      <th>Home_Red</th>\n",
       "      <th>Away_Yellow</th>\n",
       "      <th>Away_Red</th>\n",
       "    </tr>\n",
       "  </thead>\n",
       "  <tbody>\n",
       "    <tr>\n",
       "      <th>0</th>\n",
       "      <td>Bologna</td>\n",
       "      <td>Atalanta</td>\n",
       "      <td>1-0</td>\n",
       "      <td>https://www.besoccer.com/match/bologna/atalant...</td>\n",
       "      <td>2002</td>\n",
       "      <td>1</td>\n",
       "      <td>serie_a</td>\n",
       "      <td>/match/bologna/atalanta/2002</td>\n",
       "      <td>/match/bologna/atalanta/2002</td>\n",
       "      <td>Saturday, 25 August 2001, 20:30</td>\n",
       "      <td>\\r\\nReferee: Roberto Rosetti\\r\\n</td>\n",
       "      <td>1.0</td>\n",
       "      <td>0.0</td>\n",
       "      <td>3.0</td>\n",
       "      <td>0.0</td>\n",
       "    </tr>\n",
       "    <tr>\n",
       "      <th>1</th>\n",
       "      <td>Lazio</td>\n",
       "      <td>Piacenza</td>\n",
       "      <td>1-1</td>\n",
       "      <td>https://www.besoccer.com/match/lazio/piacenza/...</td>\n",
       "      <td>2002</td>\n",
       "      <td>1</td>\n",
       "      <td>serie_a</td>\n",
       "      <td>/match/lazio/piacenza/2002</td>\n",
       "      <td>/match/lazio/piacenza/2002</td>\n",
       "      <td>Sunday, 26 August 2001, 15:00</td>\n",
       "      <td>\\r\\nReferee: Cosimo Bolognino\\r\\n</td>\n",
       "      <td>0.0</td>\n",
       "      <td>0.0</td>\n",
       "      <td>1.0</td>\n",
       "      <td>0.0</td>\n",
       "    </tr>\n",
       "    <tr>\n",
       "      <th>2</th>\n",
       "      <td>Inter</td>\n",
       "      <td>Perugia</td>\n",
       "      <td>4-1</td>\n",
       "      <td>https://www.besoccer.com/match/internazionale/...</td>\n",
       "      <td>2002</td>\n",
       "      <td>1</td>\n",
       "      <td>serie_a</td>\n",
       "      <td>/match/internazionale/perugia/2002</td>\n",
       "      <td>/match/internazionale/perugia/2002</td>\n",
       "      <td>Sunday, 26 August 2001, 15:00</td>\n",
       "      <td>\\r\\nReferee: Fiorenzo Treossi\\r\\n</td>\n",
       "      <td>2.0</td>\n",
       "      <td>0.0</td>\n",
       "      <td>5.0</td>\n",
       "      <td>0.0</td>\n",
       "    </tr>\n",
       "    <tr>\n",
       "      <th>3</th>\n",
       "      <td>Fiorentina</td>\n",
       "      <td>Chievo</td>\n",
       "      <td>0-2</td>\n",
       "      <td>https://www.besoccer.com/match/fiorentina/chie...</td>\n",
       "      <td>2002</td>\n",
       "      <td>1</td>\n",
       "      <td>serie_a</td>\n",
       "      <td>/match/fiorentina/chievo/2002</td>\n",
       "      <td>/match/fiorentina/chievo/2002</td>\n",
       "      <td>Sunday, 26 August 2001, 15:00</td>\n",
       "      <td>\\r\\nReferee: Marco Gabriele\\r\\n</td>\n",
       "      <td>0.0</td>\n",
       "      <td>0.0</td>\n",
       "      <td>3.0</td>\n",
       "      <td>0.0</td>\n",
       "    </tr>\n",
       "    <tr>\n",
       "      <th>4</th>\n",
       "      <td>Juventus</td>\n",
       "      <td>Venezia</td>\n",
       "      <td>4-0</td>\n",
       "      <td>https://www.besoccer.com/match/juventus-fc/ven...</td>\n",
       "      <td>2002</td>\n",
       "      <td>1</td>\n",
       "      <td>serie_a</td>\n",
       "      <td>/match/juventus-fc/venezia/2002</td>\n",
       "      <td>/match/juventus-fc/venezia/2002</td>\n",
       "      <td>Sunday, 26 August 2001, 15:00</td>\n",
       "      <td>\\r\\nReferee: Paolo Bertini\\r\\n</td>\n",
       "      <td>0.0</td>\n",
       "      <td>0.0</td>\n",
       "      <td>0.0</td>\n",
       "      <td>0.0</td>\n",
       "    </tr>\n",
       "    <tr>\n",
       "      <th>...</th>\n",
       "      <td>...</td>\n",
       "      <td>...</td>\n",
       "      <td>...</td>\n",
       "      <td>...</td>\n",
       "      <td>...</td>\n",
       "      <td>...</td>\n",
       "      <td>...</td>\n",
       "      <td>...</td>\n",
       "      <td>...</td>\n",
       "      <td>...</td>\n",
       "      <td>...</td>\n",
       "      <td>...</td>\n",
       "      <td>...</td>\n",
       "      <td>...</td>\n",
       "      <td>...</td>\n",
       "    </tr>\n",
       "    <tr>\n",
       "      <th>142531</th>\n",
       "      <td>Middlesbrough</td>\n",
       "      <td>Norwich City</td>\n",
       "      <td>3-3</td>\n",
       "      <td>https://www.besoccer.com/match/middlesbrough-f...</td>\n",
       "      <td>1993</td>\n",
       "      <td>42</td>\n",
       "      <td>premier_league</td>\n",
       "      <td>/match/middlesbrough-fc/norwich-city-fc/1993</td>\n",
       "      <td>/match/middlesbrough-fc/norwich-city-fc/1993</td>\n",
       "      <td>Saturday, 08 May 1993, 00:00</td>\n",
       "      <td>\\r\\nReferee: Gerald Ashby\\r\\n</td>\n",
       "      <td>0.0</td>\n",
       "      <td>0.0</td>\n",
       "      <td>0.0</td>\n",
       "      <td>0.0</td>\n",
       "    </tr>\n",
       "    <tr>\n",
       "      <th>142532</th>\n",
       "      <td>Oldham Athletic AFC</td>\n",
       "      <td>Southampton</td>\n",
       "      <td>4-3</td>\n",
       "      <td>https://www.besoccer.com/match/oldham-athletic...</td>\n",
       "      <td>1993</td>\n",
       "      <td>42</td>\n",
       "      <td>premier_league</td>\n",
       "      <td>/match/oldham-athletic-afc/southampton-fc/1993</td>\n",
       "      <td>/match/oldham-athletic-afc/southampton-fc/1993</td>\n",
       "      <td>Saturday, 08 May 1993, 00:00</td>\n",
       "      <td>\\r\\nReferee: Howard King\\r\\n</td>\n",
       "      <td>0.0</td>\n",
       "      <td>0.0</td>\n",
       "      <td>0.0</td>\n",
       "      <td>0.0</td>\n",
       "    </tr>\n",
       "    <tr>\n",
       "      <th>142533</th>\n",
       "      <td>Sheffield United</td>\n",
       "      <td>Chelsea</td>\n",
       "      <td>4-2</td>\n",
       "      <td>https://www.besoccer.com/match/sheffield-unite...</td>\n",
       "      <td>1993</td>\n",
       "      <td>42</td>\n",
       "      <td>premier_league</td>\n",
       "      <td>/match/sheffield-united/chelsea-fc/1993</td>\n",
       "      <td>/match/sheffield-united/chelsea-fc/1993</td>\n",
       "      <td>Saturday, 08 May 1993, 00:00</td>\n",
       "      <td>\\r\\nReferee: Allan Gunn\\r\\n</td>\n",
       "      <td>1.0</td>\n",
       "      <td>0.0</td>\n",
       "      <td>2.0</td>\n",
       "      <td>0.0</td>\n",
       "    </tr>\n",
       "    <tr>\n",
       "      <th>142534</th>\n",
       "      <td>Queens Park Rangers</td>\n",
       "      <td>Aston Villa</td>\n",
       "      <td>2-1</td>\n",
       "      <td>https://www.besoccer.com/match/queens-park-ran...</td>\n",
       "      <td>1993</td>\n",
       "      <td>42</td>\n",
       "      <td>premier_league</td>\n",
       "      <td>/match/queens-park-rangers-fc/aston-villa-fc/1993</td>\n",
       "      <td>/match/queens-park-rangers-fc/aston-villa-fc/1993</td>\n",
       "      <td>Saturday, 08 May 1993, 00:00</td>\n",
       "      <td>\\r\\nReferee: Paul Durkin\\r\\n</td>\n",
       "      <td>0.0</td>\n",
       "      <td>0.0</td>\n",
       "      <td>0.0</td>\n",
       "      <td>0.0</td>\n",
       "    </tr>\n",
       "    <tr>\n",
       "      <th>142535</th>\n",
       "      <td>Wimbledon FC</td>\n",
       "      <td>Man. Utd</td>\n",
       "      <td>1-2</td>\n",
       "      <td>https://www.besoccer.com/match/wimbledon-fc/ma...</td>\n",
       "      <td>1993</td>\n",
       "      <td>42</td>\n",
       "      <td>premier_league</td>\n",
       "      <td>/match/wimbledon-fc/manchester-united-fc/1993</td>\n",
       "      <td>/match/wimbledon-fc/manchester-united-fc/1993</td>\n",
       "      <td>Saturday, 08 May 1993, 00:00</td>\n",
       "      <td>\\r\\nReferee: Joseph Worrall\\r\\n</td>\n",
       "      <td>0.0</td>\n",
       "      <td>0.0</td>\n",
       "      <td>0.0</td>\n",
       "      <td>0.0</td>\n",
       "    </tr>\n",
       "  </tbody>\n",
       "</table>\n",
       "<p>142536 rows × 15 columns</p>\n",
       "</div>"
      ],
      "text/plain": [
       "                  Home_Team     Away_Team Result  \\\n",
       "0                   Bologna      Atalanta    1-0   \n",
       "1                     Lazio      Piacenza    1-1   \n",
       "2                     Inter       Perugia    4-1   \n",
       "3                Fiorentina        Chievo    0-2   \n",
       "4                  Juventus       Venezia    4-0   \n",
       "...                     ...           ...    ...   \n",
       "142531        Middlesbrough  Norwich City    3-3   \n",
       "142532  Oldham Athletic AFC   Southampton    4-3   \n",
       "142533     Sheffield United       Chelsea    4-2   \n",
       "142534  Queens Park Rangers   Aston Villa    2-1   \n",
       "142535         Wimbledon FC      Man. Utd    1-2   \n",
       "\n",
       "                                                     Link Season Round  \\\n",
       "0       https://www.besoccer.com/match/bologna/atalant...   2002     1   \n",
       "1       https://www.besoccer.com/match/lazio/piacenza/...   2002     1   \n",
       "2       https://www.besoccer.com/match/internazionale/...   2002     1   \n",
       "3       https://www.besoccer.com/match/fiorentina/chie...   2002     1   \n",
       "4       https://www.besoccer.com/match/juventus-fc/ven...   2002     1   \n",
       "...                                                   ...    ...   ...   \n",
       "142531  https://www.besoccer.com/match/middlesbrough-f...   1993    42   \n",
       "142532  https://www.besoccer.com/match/oldham-athletic...   1993    42   \n",
       "142533  https://www.besoccer.com/match/sheffield-unite...   1993    42   \n",
       "142534  https://www.besoccer.com/match/queens-park-ran...   1993    42   \n",
       "142535  https://www.besoccer.com/match/wimbledon-fc/ma...   1993    42   \n",
       "\n",
       "                League                                           New Link  \\\n",
       "0              serie_a                       /match/bologna/atalanta/2002   \n",
       "1              serie_a                         /match/lazio/piacenza/2002   \n",
       "2              serie_a                 /match/internazionale/perugia/2002   \n",
       "3              serie_a                      /match/fiorentina/chievo/2002   \n",
       "4              serie_a                    /match/juventus-fc/venezia/2002   \n",
       "...                ...                                                ...   \n",
       "142531  premier_league       /match/middlesbrough-fc/norwich-city-fc/1993   \n",
       "142532  premier_league     /match/oldham-athletic-afc/southampton-fc/1993   \n",
       "142533  premier_league            /match/sheffield-united/chelsea-fc/1993   \n",
       "142534  premier_league  /match/queens-park-rangers-fc/aston-villa-fc/1993   \n",
       "142535  premier_league      /match/wimbledon-fc/manchester-united-fc/1993   \n",
       "\n",
       "                                                   Link_y  \\\n",
       "0                            /match/bologna/atalanta/2002   \n",
       "1                              /match/lazio/piacenza/2002   \n",
       "2                      /match/internazionale/perugia/2002   \n",
       "3                           /match/fiorentina/chievo/2002   \n",
       "4                         /match/juventus-fc/venezia/2002   \n",
       "...                                                   ...   \n",
       "142531       /match/middlesbrough-fc/norwich-city-fc/1993   \n",
       "142532     /match/oldham-athletic-afc/southampton-fc/1993   \n",
       "142533            /match/sheffield-united/chelsea-fc/1993   \n",
       "142534  /match/queens-park-rangers-fc/aston-villa-fc/1993   \n",
       "142535      /match/wimbledon-fc/manchester-united-fc/1993   \n",
       "\n",
       "                               Date_New                            Referee  \\\n",
       "0       Saturday, 25 August 2001, 20:30   \\r\\nReferee: Roberto Rosetti\\r\\n   \n",
       "1         Sunday, 26 August 2001, 15:00  \\r\\nReferee: Cosimo Bolognino\\r\\n   \n",
       "2         Sunday, 26 August 2001, 15:00  \\r\\nReferee: Fiorenzo Treossi\\r\\n   \n",
       "3         Sunday, 26 August 2001, 15:00    \\r\\nReferee: Marco Gabriele\\r\\n   \n",
       "4         Sunday, 26 August 2001, 15:00     \\r\\nReferee: Paolo Bertini\\r\\n   \n",
       "...                                 ...                                ...   \n",
       "142531     Saturday, 08 May 1993, 00:00      \\r\\nReferee: Gerald Ashby\\r\\n   \n",
       "142532     Saturday, 08 May 1993, 00:00       \\r\\nReferee: Howard King\\r\\n   \n",
       "142533     Saturday, 08 May 1993, 00:00        \\r\\nReferee: Allan Gunn\\r\\n   \n",
       "142534     Saturday, 08 May 1993, 00:00       \\r\\nReferee: Paul Durkin\\r\\n   \n",
       "142535     Saturday, 08 May 1993, 00:00    \\r\\nReferee: Joseph Worrall\\r\\n   \n",
       "\n",
       "        Home_Yellow  Home_Red  Away_Yellow  Away_Red  \n",
       "0               1.0       0.0          3.0       0.0  \n",
       "1               0.0       0.0          1.0       0.0  \n",
       "2               2.0       0.0          5.0       0.0  \n",
       "3               0.0       0.0          3.0       0.0  \n",
       "4               0.0       0.0          0.0       0.0  \n",
       "...             ...       ...          ...       ...  \n",
       "142531          0.0       0.0          0.0       0.0  \n",
       "142532          0.0       0.0          0.0       0.0  \n",
       "142533          1.0       0.0          2.0       0.0  \n",
       "142534          0.0       0.0          0.0       0.0  \n",
       "142535          0.0       0.0          0.0       0.0  \n",
       "\n",
       "[142536 rows x 15 columns]"
      ]
     },
     "execution_count": 7,
     "metadata": {},
     "output_type": "execute_result"
    }
   ],
   "source": [
    "new_df"
   ]
  },
  {
   "cell_type": "code",
   "execution_count": 8,
   "metadata": {},
   "outputs": [],
   "source": [
    "import pickle\n",
    "\n",
    "elo_dict = pickle.load(open('elo_dict.pkl', 'rb'))"
   ]
  },
  {
   "cell_type": "code",
   "execution_count": 9,
   "metadata": {},
   "outputs": [
    {
     "data": {
      "text/plain": [
       "{'https://www.besoccer.com/match/saarbrucken/stuttgarter-kickers/19903487': {'Elo_home': 56.0,\n",
       "  'Elo_away': 59.0},\n",
       " 'https://www.besoccer.com/match/sc-freiburg/unterhaching/19903488': {'Elo_home': 53.0,\n",
       "  'Elo_away': 55.0},\n",
       " 'https://www.besoccer.com/match/vfl-osnabruck/meppen/19903489': {'Elo_home': 52.0,\n",
       "  'Elo_away': 53.0},\n",
       " 'https://www.besoccer.com/match/rot-weiss-essen/schalke-04/19903490': {'Elo_home': 53.0,\n",
       "  'Elo_away': 62.0},\n",
       " 'https://www.besoccer.com/match/alemannia-aachen/msv-duisburg/19903491': {'Elo_home': 57.0,\n",
       "  'Elo_away': 52.0},\n",
       " 'https://www.besoccer.com/match/hessen-kassel/blau-weiss-1890-berlin/19903492': {'Elo_home': 51.0,\n",
       "  'Elo_away': 56.0},\n",
       " 'https://www.besoccer.com/match/wattenscheid-09/bayreuth-spvgg/19903493': {'Elo_home': 53.0,\n",
       "  'Elo_away': 51.0},\n",
       " 'https://www.besoccer.com/match/fortuna-koln/darmstadt-98/19903494': {'Elo_home': 56.0,\n",
       "  'Elo_away': 55.0},\n",
       " 'https://www.besoccer.com/match/hertha-bsc/preuben-munster/19903495': {'Elo_home': 55.0,\n",
       "  'Elo_away': 58.0},\n",
       " 'https://www.besoccer.com/match/eintracht-brau-hellip/hannover-96/19903496': {'Elo_home': 58.0,\n",
       "  'Elo_away': 60.0},\n",
       " 'https://www.besoccer.com/match/stuttgarter-kickers/wattenscheid-09/19903497': {'Elo_home': 59.0,\n",
       "  'Elo_away': 54.0},\n",
       " 'https://www.besoccer.com/match/preuben-munster/hessen-kassel/19903498': {'Elo_home': 58.0,\n",
       "  'Elo_away': 51.0},\n",
       " 'https://www.besoccer.com/match/darmstadt-98/hertha-bsc/19903499': {'Elo_home': 55.0,\n",
       "  'Elo_away': 55.0},\n",
       " 'https://www.besoccer.com/match/bayreuth-spvgg/fortuna-koln/19903500': {'Elo_home': 50.0,\n",
       "  'Elo_away': 57.0},\n",
       " 'https://www.besoccer.com/match/msv-duisburg/saarbrucken/19903501': {'Elo_home': 52.0,\n",
       "  'Elo_away': 56.0},\n",
       " 'https://www.besoccer.com/match/hannover-96/alemannia-aachen/19903502': {'Elo_home': 60.0,\n",
       "  'Elo_away': 57.0},\n",
       " 'https://www.besoccer.com/match/schalke-04/eintracht-brau-hellip/19903503': {'Elo_home': 62.0,\n",
       "  'Elo_away': 58.0},\n",
       " 'https://www.besoccer.com/match/blau-weiss-1890-berlin/sc-freiburg/19903504': {'Elo_home': 56.0,\n",
       "  'Elo_away': 53.0},\n",
       " 'https://www.besoccer.com/match/meppen/rot-weiss-essen/19903505': {'Elo_home': 53.0,\n",
       "  'Elo_away': 53.0},\n",
       " 'https://www.besoccer.com/match/unterhaching/vfl-osnabruck/19903506': {'Elo_home': 56.0,\n",
       "  'Elo_away': 52.0},\n",
       " 'https://www.besoccer.com/match/saarbrucken/hannover-96/19903507': {'Elo_home': 56.0,\n",
       "  'Elo_away': 60.0},\n",
       " 'https://www.besoccer.com/match/preuben-munster/darmstadt-98/19903508': {'Elo_home': 58.0,\n",
       "  'Elo_away': 55.0},\n",
       " 'https://www.besoccer.com/match/hessen-kassel/sc-freiburg/19903509': {'Elo_home': 51.0,\n",
       "  'Elo_away': 53.0},\n",
       " 'https://www.besoccer.com/match/eintracht-brau-hellip/meppen/19903510': {'Elo_home': 58.0,\n",
       "  'Elo_away': 53.0},\n",
       " 'https://www.besoccer.com/match/alemannia-aachen/schalke-04/19903511': {'Elo_home': 56.0,\n",
       "  'Elo_away': 62.0},\n",
       " 'https://www.besoccer.com/match/fortuna-koln/stuttgarter-kickers/19903512': {'Elo_home': 57.0,\n",
       "  'Elo_away': 59.0},\n",
       " 'https://www.besoccer.com/match/hertha-bsc/bayreuth-spvgg/19903513': {'Elo_home': 55.0,\n",
       "  'Elo_away': 50.0},\n",
       " 'https://www.besoccer.com/match/rot-weiss-essen/unterhaching/19903514': {'Elo_home': 53.0,\n",
       "  'Elo_away': 56.0},\n",
       " 'https://www.besoccer.com/match/vfl-osnabruck/blau-weiss-1890-berlin/19903515': {'Elo_home': 52.0,\n",
       "  'Elo_away': 56.0},\n",
       " 'https://www.besoccer.com/match/wattenscheid-09/msv-duisburg/19903516': {'Elo_home': 54.0,\n",
       "  'Elo_away': 52.0},\n",
       " 'https://www.besoccer.com/match/hannover-96/wattenscheid-09/19903517': {'Elo_home': 60.0,\n",
       "  'Elo_away': 54.0},\n",
       " 'https://www.besoccer.com/match/meppen/alemannia-aachen/19903518': {'Elo_home': 53.0,\n",
       "  'Elo_away': 56.0},\n",
       " 'https://www.besoccer.com/match/sc-freiburg/vfl-osnabruck/19903519': {'Elo_home': 53.0,\n",
       "  'Elo_away': 52.0},\n",
       " 'https://www.besoccer.com/match/darmstadt-98/hessen-kassel/19903520': {'Elo_home': 55.0,\n",
       "  'Elo_away': 51.0},\n",
       " 'https://www.besoccer.com/match/stuttgarter-kickers/hertha-bsc/19903521': {'Elo_home': 59.0,\n",
       "  'Elo_away': 55.0},\n",
       " 'https://www.besoccer.com/match/schalke-04/saarbrucken/19903522': {'Elo_home': 62.0,\n",
       "  'Elo_away': 56.0},\n",
       " 'https://www.besoccer.com/match/unterhaching/eintracht-brau-hellip/19903523': {'Elo_home': 56.0,\n",
       "  'Elo_away': 59.0},\n",
       " 'https://www.besoccer.com/match/msv-duisburg/fortuna-koln/19903524': {'Elo_home': 52.0,\n",
       "  'Elo_away': 56.0},\n",
       " 'https://www.besoccer.com/match/blau-weiss-1890-berlin/rot-weiss-essen/19903525': {'Elo_home': 56.0,\n",
       "  'Elo_away': 53.0},\n",
       " 'https://www.besoccer.com/match/bayreuth-spvgg/preuben-munster/19903526': {'Elo_home': 50.0,\n",
       "  'Elo_away': 58.0},\n",
       " 'https://www.besoccer.com/match/wattenscheid-09/schalke-04/19903527': {'Elo_home': 55.0,\n",
       "  'Elo_away': 61.0},\n",
       " 'https://www.besoccer.com/match/rot-weiss-essen/sc-freiburg/19903528': {'Elo_home': 53.0,\n",
       "  'Elo_away': 54.0},\n",
       " 'https://www.besoccer.com/match/hessen-kassel/vfl-osnabruck/19903529': {'Elo_home': 51.0,\n",
       "  'Elo_away': 52.0},\n",
       " 'https://www.besoccer.com/match/preuben-munster/stuttgarter-kickers/19903530': {'Elo_home': 58.0,\n",
       "  'Elo_away': 60.0},\n",
       " 'https://www.besoccer.com/match/darmstadt-98/bayreuth-spvgg/19903531': {'Elo_home': 55.0,\n",
       "  'Elo_away': 50.0},\n",
       " 'https://www.besoccer.com/match/hertha-bsc/msv-duisburg/19903532': {'Elo_home': 55.0,\n",
       "  'Elo_away': 52.0},\n",
       " 'https://www.besoccer.com/match/saarbrucken/meppen/19903533': {'Elo_home': 57.0,\n",
       "  'Elo_away': 53.0},\n",
       " 'https://www.besoccer.com/match/alemannia-aachen/unterhaching/19903534': {'Elo_home': 56.0,\n",
       "  'Elo_away': 56.0},\n",
       " 'https://www.besoccer.com/match/fortuna-koln/hannover-96/19903535': {'Elo_home': 57.0,\n",
       "  'Elo_away': 59.0},\n",
       " 'https://www.besoccer.com/match/eintracht-brau-hellip/blau-weiss-1890-berlin/19903536': {'Elo_home': 59.0,\n",
       "  'Elo_away': 56.0},\n",
       " 'https://www.besoccer.com/match/stuttgarter-kickers/darmstadt-98/19903537': {'Elo_home': 60.0,\n",
       "  'Elo_away': 55.0},\n",
       " 'https://www.besoccer.com/match/bayreuth-spvgg/hessen-kassel/19903538': {'Elo_home': 50.0,\n",
       "  'Elo_away': 51.0},\n",
       " 'https://www.besoccer.com/match/meppen/wattenscheid-09/19903539': {'Elo_home': 52.0,\n",
       "  'Elo_away': 55.0},\n",
       " 'https://www.besoccer.com/match/vfl-osnabruck/rot-weiss-essen/19903540': {'Elo_home': 52.0,\n",
       "  'Elo_away': 53.0},\n",
       " 'https://www.besoccer.com/match/hannover-96/hertha-bsc/19903541': {'Elo_home': 59.0,\n",
       "  'Elo_away': 55.0},\n",
       " 'https://www.besoccer.com/match/schalke-04/fortuna-koln/19903542': {'Elo_home': 61.0,\n",
       "  'Elo_away': 57.0},\n",
       " 'https://www.besoccer.com/match/unterhaching/saarbrucken/19903543': {'Elo_home': 55.0,\n",
       "  'Elo_away': 57.0},\n",
       " 'https://www.besoccer.com/match/blau-weiss-1890-berlin/alemannia-aachen/19903544': {'Elo_home': 56.0,\n",
       "  'Elo_away': 56.0},\n",
       " 'https://www.besoccer.com/match/sc-freiburg/eintracht-brau-hellip/19903545': {'Elo_home': 54.0,\n",
       "  'Elo_away': 59.0},\n",
       " 'https://www.besoccer.com/match/msv-duisburg/preuben-munster/19903546': {'Elo_home': 52.0,\n",
       "  'Elo_away': 58.0},\n",
       " 'https://www.besoccer.com/match/eintracht-brau-hellip/vfl-osnabruck/19903547': {'Elo_home': 59.0,\n",
       "  'Elo_away': 52.0},\n",
       " 'https://www.besoccer.com/match/hessen-kassel/rot-weiss-essen/19903548': {'Elo_home': 50.0,\n",
       "  'Elo_away': 53.0},\n",
       " 'https://www.besoccer.com/match/preuben-munster/hannover-96/19903549': {'Elo_home': 58.0,\n",
       "  'Elo_away': 59.0},\n",
       " 'https://www.besoccer.com/match/darmstadt-98/msv-duisburg/19903550': {'Elo_home': 55.0,\n",
       "  'Elo_away': 52.0},\n",
       " 'https://www.besoccer.com/match/bayreuth-spvgg/stuttgarter-kickers/19903551': {'Elo_home': 50.0,\n",
       "  'Elo_away': 60.0},\n",
       " 'https://www.besoccer.com/match/alemannia-aachen/sc-freiburg/19903552': {'Elo_home': 56.0,\n",
       "  'Elo_away': 54.0},\n",
       " 'https://www.besoccer.com/match/saarbrucken/blau-weiss-1890-berlin/19903553': {'Elo_home': 57.0,\n",
       "  'Elo_away': 56.0},\n",
       " 'https://www.besoccer.com/match/wattenscheid-09/unterhaching/19903554': {'Elo_home': 55.0,\n",
       "  'Elo_away': 55.0},\n",
       " 'https://www.besoccer.com/match/hertha-bsc/schalke-04/19903555': {'Elo_home': 55.0,\n",
       "  'Elo_away': 61.0},\n",
       " 'https://www.besoccer.com/match/fortuna-koln/meppen/19903556': {'Elo_home': 57.0,\n",
       "  'Elo_away': 52.0},\n",
       " 'https://www.besoccer.com/match/stuttgarter-kickers/hessen-kassel/19903557': {'Elo_home': 60.0,\n",
       "  'Elo_away': 50.0},\n",
       " 'https://www.besoccer.com/match/msv-duisburg/bayreuth-spvgg/19903558': {'Elo_home': 52.0,\n",
       "  'Elo_away': 50.0},\n",
       " 'https://www.besoccer.com/match/meppen/hertha-bsc/19903559': {'Elo_home': 52.0,\n",
       "  'Elo_away': 55.0},\n",
       " 'https://www.besoccer.com/match/sc-freiburg/saarbrucken/19903560': {'Elo_home': 54.0,\n",
       "  'Elo_away': 57.0},\n",
       " 'https://www.besoccer.com/match/vfl-osnabruck/alemannia-aachen/19903561': {'Elo_home': 52.0,\n",
       "  'Elo_away': 56.0},\n",
       " 'https://www.besoccer.com/match/blau-weiss-1890-berlin/wattenscheid-09/19903562': {'Elo_home': 56.0,\n",
       "  'Elo_away': 55.0},\n",
       " 'https://www.besoccer.com/match/hannover-96/darmstadt-98/19903563': {'Elo_home': 59.0,\n",
       "  'Elo_away': 55.0},\n",
       " 'https://www.besoccer.com/match/schalke-04/preuben-munster/19903564': {'Elo_home': 61.0,\n",
       "  'Elo_away': 58.0},\n",
       " 'https://www.besoccer.com/match/unterhaching/fortuna-koln/19903565': {'Elo_home': 55.0,\n",
       "  'Elo_away': 57.0},\n",
       " 'https://www.besoccer.com/match/rot-weiss-essen/eintracht-brau-hellip/19903566': {'Elo_home': 53.0,\n",
       "  'Elo_away': 59.0},\n",
       " 'https://www.besoccer.com/match/wattenscheid-09/sc-freiburg/19903567': {'Elo_home': 55.0,\n",
       "  'Elo_away': 54.0},\n",
       " 'https://www.besoccer.com/match/preuben-munster/meppen/19903568': {'Elo_home': 58.0,\n",
       "  'Elo_away': 52.0},\n",
       " 'https://www.besoccer.com/match/darmstadt-98/schalke-04/19903569': {'Elo_home': 55.0,\n",
       "  'Elo_away': 61.0},\n",
       " 'https://www.besoccer.com/match/bayreuth-spvgg/hannover-96/19903570': {'Elo_home': 49.0,\n",
       "  'Elo_away': 59.0},\n",
       " 'https://www.besoccer.com/match/alemannia-aachen/rot-weiss-essen/19903571': {'Elo_home': 55.0,\n",
       "  'Elo_away': 53.0},\n",
       " 'https://www.besoccer.com/match/hessen-kassel/eintracht-brau-hellip/19903572': {'Elo_home': 50.0,\n",
       "  'Elo_away': 59.0},\n",
       " 'https://www.besoccer.com/match/fortuna-koln/blau-weiss-1890-berlin/19903573': {'Elo_home': 57.0,\n",
       "  'Elo_away': 56.0},\n",
       " 'https://www.besoccer.com/match/hertha-bsc/unterhaching/19903574': {'Elo_home': 55.0,\n",
       "  'Elo_away': 55.0},\n",
       " 'https://www.besoccer.com/match/saarbrucken/vfl-osnabruck/19903575': {'Elo_home': 57.0,\n",
       "  'Elo_away': 52.0},\n",
       " 'https://www.besoccer.com/match/stuttgarter-kickers/msv-duisburg/19903576': {'Elo_home': 60.0,\n",
       "  'Elo_away': 52.0},\n",
       " 'https://www.besoccer.com/match/rot-weiss-essen/saarbrucken/19903577': {'Elo_home': 53.0,\n",
       "  'Elo_away': 57.0},\n",
       " 'https://www.besoccer.com/match/meppen/darmstadt-98/19903578': {'Elo_home': 52.0,\n",
       "  'Elo_away': 55.0},\n",
       " 'https://www.besoccer.com/match/sc-freiburg/fortuna-koln/19903579': {'Elo_home': 54.0,\n",
       "  'Elo_away': 57.0},\n",
       " 'https://www.besoccer.com/match/vfl-osnabruck/wattenscheid-09/19903580': {'Elo_home': 52.0,\n",
       "  'Elo_away': 55.0},\n",
       " 'https://www.besoccer.com/match/eintracht-brau-hellip/alemannia-aachen/19903581': {'Elo_home': 59.0,\n",
       "  'Elo_away': 55.0},\n",
       " 'https://www.besoccer.com/match/msv-duisburg/hessen-kassel/19903582': {'Elo_home': 52.0,\n",
       "  'Elo_away': 50.0},\n",
       " 'https://www.besoccer.com/match/hannover-96/stuttgarter-kickers/19903583': {'Elo_home': 59.0,\n",
       "  'Elo_away': 60.0},\n",
       " 'https://www.besoccer.com/match/unterhaching/preuben-munster/19903584': {'Elo_home': 55.0,\n",
       "  'Elo_away': 58.0},\n",
       " 'https://www.besoccer.com/match/schalke-04/bayreuth-spvgg/19903585': {'Elo_home': 61.0,\n",
       "  'Elo_away': 50.0},\n",
       " 'https://www.besoccer.com/match/blau-weiss-1890-berlin/hertha-bsc/19903586': {'Elo_home': 56.0,\n",
       "  'Elo_away': 55.0},\n",
       " 'https://www.besoccer.com/match/hessen-kassel/alemannia-aachen/19903587': {'Elo_home': 50.0,\n",
       "  'Elo_away': 55.0},\n",
       " 'https://www.besoccer.com/match/stuttgarter-kickers/schalke-04/19903588': {'Elo_home': 60.0,\n",
       "  'Elo_away': 61.0},\n",
       " 'https://www.besoccer.com/match/preuben-munster/blau-weiss-1890-berlin/19903589': {'Elo_home': 58.0,\n",
       "  'Elo_away': 56.0},\n",
       " 'https://www.besoccer.com/match/saarbrucken/eintracht-brau-hellip/19903590': {'Elo_home': 57.0,\n",
       "  'Elo_away': 59.0},\n",
       " 'https://www.besoccer.com/match/hertha-bsc/sc-freiburg/19903591': {'Elo_home': 55.0,\n",
       "  'Elo_away': 54.0},\n",
       " 'https://www.besoccer.com/match/bayreuth-spvgg/meppen/19903592': {'Elo_home': 49.0,\n",
       "  'Elo_away': 52.0},\n",
       " 'https://www.besoccer.com/match/wattenscheid-09/rot-weiss-essen/19903593': {'Elo_home': 55.0,\n",
       "  'Elo_away': 53.0},\n",
       " 'https://www.besoccer.com/match/fortuna-koln/vfl-osnabruck/19903594': {'Elo_home': 57.0,\n",
       "  'Elo_away': 53.0},\n",
       " 'https://www.besoccer.com/match/darmstadt-98/unterhaching/19903595': {'Elo_home': 56.0,\n",
       "  'Elo_away': 55.0},\n",
       " 'https://www.besoccer.com/match/msv-duisburg/hannover-96/19903596': {'Elo_home': 53.0,\n",
       "  'Elo_away': 59.0},\n",
       " 'https://www.besoccer.com/match/hannover-96/hessen-kassel/19903597': {'Elo_home': 59.0,\n",
       "  'Elo_away': 50.0},\n",
       " 'https://www.besoccer.com/match/sc-freiburg/preuben-munster/19903598': {'Elo_home': 54.0,\n",
       "  'Elo_away': 58.0},\n",
       " 'https://www.besoccer.com/match/vfl-osnabruck/hertha-bsc/19903599': {'Elo_home': 53.0,\n",
       "  'Elo_away': 55.0},\n",
       " 'https://www.besoccer.com/match/rot-weiss-essen/fortuna-koln/19903600': {'Elo_home': 53.0,\n",
       "  'Elo_away': 56.0},\n",
       " 'https://www.besoccer.com/match/alemannia-aachen/saarbrucken/19903601': {'Elo_home': 55.0,\n",
       "  'Elo_away': 57.0},\n",
       " 'https://www.besoccer.com/match/meppen/stuttgarter-kickers/19903602': {'Elo_home': 52.0,\n",
       "  'Elo_away': 60.0},\n",
       " 'https://www.besoccer.com/match/schalke-04/msv-duisburg/19903603': {'Elo_home': 61.0,\n",
       "  'Elo_away': 53.0},\n",
       " 'https://www.besoccer.com/match/unterhaching/bayreuth-spvgg/19903604': {'Elo_home': 55.0,\n",
       "  'Elo_away': 49.0},\n",
       " 'https://www.besoccer.com/match/blau-weiss-1890-berlin/darmstadt-98/19903605': {'Elo_home': 55.0,\n",
       "  'Elo_away': 56.0},\n",
       " 'https://www.besoccer.com/match/eintracht-brau-hellip/wattenscheid-09/19903606': {'Elo_home': 59.0,\n",
       "  'Elo_away': 55.0},\n",
       " 'https://www.besoccer.com/match/stuttgarter-kickers/unterhaching/19903607': {'Elo_home': 60.0,\n",
       "  'Elo_away': 55.0},\n",
       " 'https://www.besoccer.com/match/preuben-munster/vfl-osnabruck/19903608': {'Elo_home': 58.0,\n",
       "  'Elo_away': 53.0},\n",
       " 'https://www.besoccer.com/match/darmstadt-98/sc-freiburg/19903609': {'Elo_home': 55.0,\n",
       "  'Elo_away': 54.0},\n",
       " 'https://www.besoccer.com/match/bayreuth-spvgg/blau-weiss-1890-berlin/19903610': {'Elo_home': 49.0,\n",
       "  'Elo_away': 56.0},\n",
       " 'https://www.besoccer.com/match/msv-duisburg/meppen/19903611': {'Elo_home': 53.0,\n",
       "  'Elo_away': 52.0},\n",
       " 'https://www.besoccer.com/match/hannover-96/schalke-04/19903612': {'Elo_home': 59.0,\n",
       "  'Elo_away': 61.0},\n",
       " 'https://www.besoccer.com/match/wattenscheid-09/alemannia-aachen/19903613': {'Elo_home': 55.0,\n",
       "  'Elo_away': 56.0},\n",
       " 'https://www.besoccer.com/match/hertha-bsc/rot-weiss-essen/19903614': {'Elo_home': 55.0,\n",
       "  'Elo_away': 53.0},\n",
       " 'https://www.besoccer.com/match/hessen-kassel/saarbrucken/19903615': {'Elo_home': 50.0,\n",
       "  'Elo_away': 57.0},\n",
       " 'https://www.besoccer.com/match/fortuna-koln/eintracht-brau-hellip/19903616': {'Elo_home': 56.0,\n",
       "  'Elo_away': 59.0},\n",
       " 'https://www.besoccer.com/match/eintracht-brau-hellip/hertha-bsc/19903617': {'Elo_home': 60.0,\n",
       "  'Elo_away': 55.0},\n",
       " 'https://www.besoccer.com/match/sc-freiburg/bayreuth-spvgg/19903618': {'Elo_home': 54.0,\n",
       "  'Elo_away': 50.0},\n",
       " 'https://www.besoccer.com/match/meppen/hannover-96/19903619': {'Elo_home': 52.0,\n",
       "  'Elo_away': 59.0},\n",
       " 'https://www.besoccer.com/match/vfl-osnabruck/darmstadt-98/19903620': {'Elo_home': 53.0,\n",
       "  'Elo_away': 55.0},\n",
       " 'https://www.besoccer.com/match/rot-weiss-essen/preuben-munster/19903621': {'Elo_home': 53.0,\n",
       "  'Elo_away': 58.0},\n",
       " 'https://www.besoccer.com/match/saarbrucken/wattenscheid-09/19903622': {'Elo_home': 57.0,\n",
       "  'Elo_away': 55.0},\n",
       " 'https://www.besoccer.com/match/schalke-04/hessen-kassel/19903623': {'Elo_home': 61.0,\n",
       "  'Elo_away': 50.0},\n",
       " 'https://www.besoccer.com/match/blau-weiss-1890-berlin/stuttgarter-kickers/19903624': {'Elo_home': 55.0,\n",
       "  'Elo_away': 60.0},\n",
       " 'https://www.besoccer.com/match/unterhaching/msv-duisburg/19903625': {'Elo_home': 55.0,\n",
       "  'Elo_away': 53.0},\n",
       " 'https://www.besoccer.com/match/alemannia-aachen/fortuna-koln/19903626': {'Elo_home': 56.0,\n",
       "  'Elo_away': 56.0},\n",
       " 'https://www.besoccer.com/match/msv-duisburg/blau-weiss-1890-berlin/19903627': {'Elo_home': 53.0,\n",
       "  'Elo_away': 55.0},\n",
       " 'https://www.besoccer.com/match/hessen-kassel/wattenscheid-09/19903628': {'Elo_home': 49.0,\n",
       "  'Elo_away': 54.0},\n",
       " 'https://www.besoccer.com/match/preuben-munster/eintracht-brau-hellip/19903629': {'Elo_home': 58.0,\n",
       "  'Elo_away': 59.0},\n",
       " 'https://www.besoccer.com/match/darmstadt-98/rot-weiss-essen/19903630': {'Elo_home': 55.0,\n",
       "  'Elo_away': 53.0},\n",
       " 'https://www.besoccer.com/match/stuttgarter-kickers/sc-freiburg/19903631': {'Elo_home': 60.0,\n",
       "  'Elo_away': 54.0},\n",
       " 'https://www.besoccer.com/match/hannover-96/unterhaching/19903632': {'Elo_home': 59.0,\n",
       "  'Elo_away': 55.0},\n",
       " 'https://www.besoccer.com/match/schalke-04/meppen/19903633': {'Elo_home': 61.0,\n",
       "  'Elo_away': 52.0},\n",
       " 'https://www.besoccer.com/match/fortuna-koln/saarbrucken/19903634': {'Elo_home': 56.0,\n",
       "  'Elo_away': 57.0},\n",
       " 'https://www.besoccer.com/match/hertha-bsc/alemannia-aachen/19903635': {'Elo_home': 55.0,\n",
       "  'Elo_away': 56.0},\n",
       " 'https://www.besoccer.com/match/bayreuth-spvgg/vfl-osnabruck/19903636': {'Elo_home': 50.0,\n",
       "  'Elo_away': 54.0},\n",
       " 'https://www.besoccer.com/match/meppen/hessen-kassel/19903637': {'Elo_home': 52.0,\n",
       "  'Elo_away': 49.0},\n",
       " 'https://www.besoccer.com/match/sc-freiburg/msv-duisburg/19903638': {'Elo_home': 54.0,\n",
       "  'Elo_away': 53.0},\n",
       " 'https://www.besoccer.com/match/eintracht-brau-hellip/darmstadt-98/19903639': {'Elo_home': 60.0,\n",
       "  'Elo_away': 55.0},\n",
       " 'https://www.besoccer.com/match/vfl-osnabruck/stuttgarter-kickers/19903640': {'Elo_home': 53.0,\n",
       "  'Elo_away': 60.0},\n",
       " 'https://www.besoccer.com/match/rot-weiss-essen/bayreuth-spvgg/19903641': {'Elo_home': 53.0,\n",
       "  'Elo_away': 50.0},\n",
       " 'https://www.besoccer.com/match/saarbrucken/hertha-bsc/19903642': {'Elo_home': 57.0,\n",
       "  'Elo_away': 55.0},\n",
       " 'https://www.besoccer.com/match/wattenscheid-09/fortuna-koln/19903643': {'Elo_home': 55.0,\n",
       "  'Elo_away': 56.0},\n",
       " 'https://www.besoccer.com/match/blau-weiss-1890-berlin/hannover-96/19903644': {'Elo_home': 55.0,\n",
       "  'Elo_away': 59.0},\n",
       " 'https://www.besoccer.com/match/unterhaching/schalke-04/19903645': {'Elo_home': 55.0,\n",
       "  'Elo_away': 62.0},\n",
       " 'https://www.besoccer.com/match/alemannia-aachen/preuben-munster/19903646': {'Elo_home': 56.0,\n",
       "  'Elo_away': 58.0},\n",
       " 'https://www.besoccer.com/match/hannover-96/sc-freiburg/19903647': {'Elo_home': 59.0,\n",
       "  'Elo_away': 54.0},\n",
       " 'https://www.besoccer.com/match/preuben-munster/saarbrucken/19903648': {'Elo_home': 58.0,\n",
       "  'Elo_away': 58.0},\n",
       " 'https://www.besoccer.com/match/darmstadt-98/alemannia-aachen/19903649': {'Elo_home': 55.0,\n",
       "  'Elo_away': 56.0},\n",
       " 'https://www.besoccer.com/match/meppen/unterhaching/19903650': {'Elo_home': 52.0,\n",
       "  'Elo_away': 55.0},\n",
       " 'https://www.besoccer.com/match/schalke-04/blau-weiss-1890-berlin/19903651': {'Elo_home': 61.0,\n",
       "  'Elo_away': 55.0},\n",
       " 'https://www.besoccer.com/match/fortuna-koln/hessen-kassel/19903652': {'Elo_home': 56.0,\n",
       "  'Elo_away': 49.0},\n",
       " 'https://www.besoccer.com/match/hertha-bsc/wattenscheid-09/19903653': {'Elo_home': 55.0,\n",
       "  'Elo_away': 55.0},\n",
       " 'https://www.besoccer.com/match/stuttgarter-kickers/rot-weiss-essen/19903654': {'Elo_home': 60.0,\n",
       "  'Elo_away': 53.0},\n",
       " 'https://www.besoccer.com/match/bayreuth-spvgg/eintracht-brau-hellip/19903655': {'Elo_home': 50.0,\n",
       "  'Elo_away': 60.0},\n",
       " 'https://www.besoccer.com/match/msv-duisburg/vfl-osnabruck/19903656': {'Elo_home': 53.0,\n",
       "  'Elo_away': 54.0},\n",
       " 'https://www.besoccer.com/match/eintracht-brau-hellip/stuttgarter-kickers/19903657': {'Elo_home': 60.0,\n",
       "  'Elo_away': 60.0},\n",
       " 'https://www.besoccer.com/match/vfl-osnabruck/hannover-96/19903658': {'Elo_home': 54.0,\n",
       "  'Elo_away': 59.0},\n",
       " 'https://www.besoccer.com/match/rot-weiss-essen/msv-duisburg/19903659': {'Elo_home': 53.0,\n",
       "  'Elo_away': 54.0},\n",
       " 'https://www.besoccer.com/match/alemannia-aachen/bayreuth-spvgg/19903660': {'Elo_home': 56.0,\n",
       "  'Elo_away': 50.0},\n",
       " 'https://www.besoccer.com/match/saarbrucken/darmstadt-98/19903661': {'Elo_home': 58.0,\n",
       "  'Elo_away': 55.0},\n",
       " 'https://www.besoccer.com/match/wattenscheid-09/preuben-munster/19903662': {'Elo_home': 55.0,\n",
       "  'Elo_away': 58.0},\n",
       " 'https://www.besoccer.com/match/blau-weiss-1890-berlin/meppen/19903663': {'Elo_home': 55.0,\n",
       "  'Elo_away': 52.0},\n",
       " 'https://www.besoccer.com/match/fortuna-koln/hertha-bsc/19903664': {'Elo_home': 56.0,\n",
       "  'Elo_away': 55.0},\n",
       " 'https://www.besoccer.com/match/sc-freiburg/schalke-04/19903665': {'Elo_home': 54.0,\n",
       "  'Elo_away': 62.0},\n",
       " 'https://www.besoccer.com/match/hessen-kassel/unterhaching/19903666': {'Elo_home': 49.0,\n",
       "  'Elo_away': 55.0},\n",
       " 'https://www.besoccer.com/match/stuttgarter-kickers/alemannia-aachen/19903667': {'Elo_home': 60.0,\n",
       "  'Elo_away': 56.0},\n",
       " 'https://www.besoccer.com/match/meppen/sc-freiburg/19903668': {'Elo_home': 52.0,\n",
       "  'Elo_away': 54.0},\n",
       " 'https://www.besoccer.com/match/preuben-munster/fortuna-koln/19903669': {'Elo_home': 57.0,\n",
       "  'Elo_away': 56.0},\n",
       " 'https://www.besoccer.com/match/darmstadt-98/wattenscheid-09/19903670': {'Elo_home': 55.0,\n",
       "  'Elo_away': 55.0},\n",
       " 'https://www.besoccer.com/match/bayreuth-spvgg/saarbrucken/19903671': {'Elo_home': 50.0,\n",
       "  'Elo_away': 58.0},\n",
       " 'https://www.besoccer.com/match/hannover-96/rot-weiss-essen/19903672': {'Elo_home': 60.0,\n",
       "  'Elo_away': 53.0},\n",
       " 'https://www.besoccer.com/match/schalke-04/vfl-osnabruck/19903673': {'Elo_home': 62.0,\n",
       "  'Elo_away': 54.0},\n",
       " 'https://www.besoccer.com/match/hertha-bsc/hessen-kassel/19903674': {'Elo_home': 55.0,\n",
       "  'Elo_away': 50.0},\n",
       " 'https://www.besoccer.com/match/unterhaching/blau-weiss-1890-berlin/19903675': {'Elo_home': 55.0,\n",
       "  'Elo_away': 55.0},\n",
       " 'https://www.besoccer.com/match/msv-duisburg/eintracht-brau-hellip/19903676': {'Elo_home': 54.0,\n",
       "  'Elo_away': 60.0},\n",
       " 'https://www.besoccer.com/match/msv-duisburg/alemannia-aachen/19903677': {'Elo_home': 54.0,\n",
       "  'Elo_away': 56.0},\n",
       " 'https://www.besoccer.com/match/unterhaching/sc-freiburg/19903678': {'Elo_home': 55.0,\n",
       "  'Elo_away': 54.0},\n",
       " 'https://www.besoccer.com/match/meppen/vfl-osnabruck/19903679': {'Elo_home': 52.0,\n",
       "  'Elo_away': 53.0},\n",
       " 'https://www.besoccer.com/match/hannover-96/eintracht-brau-hellip/19903680': {'Elo_home': 60.0,\n",
       "  'Elo_away': 60.0},\n",
       " 'https://www.besoccer.com/match/stuttgarter-kickers/saarbrucken/19903681': {'Elo_home': 60.0,\n",
       "  'Elo_away': 58.0},\n",
       " 'https://www.besoccer.com/match/bayreuth-spvgg/wattenscheid-09/19903682': {'Elo_home': 50.0,\n",
       "  'Elo_away': 55.0},\n",
       " 'https://www.besoccer.com/match/darmstadt-98/fortuna-koln/19903683': {'Elo_home': 55.0,\n",
       "  'Elo_away': 56.0},\n",
       " 'https://www.besoccer.com/match/preuben-munster/hertha-bsc/19903684': {'Elo_home': 57.0,\n",
       "  'Elo_away': 55.0},\n",
       " 'https://www.besoccer.com/match/schalke-04/rot-weiss-essen/19903685': {'Elo_home': 62.0,\n",
       "  'Elo_away': 53.0},\n",
       " 'https://www.besoccer.com/match/blau-weiss-1890-berlin/hessen-kassel/19903686': {'Elo_home': 55.0,\n",
       "  'Elo_away': 50.0},\n",
       " 'https://www.besoccer.com/match/saarbrucken/msv-duisburg/19903687': {'Elo_home': 57.0,\n",
       "  'Elo_away': 54.0},\n",
       " 'https://www.besoccer.com/match/hessen-kassel/preuben-munster/19903688': {'Elo_home': 50.0,\n",
       "  'Elo_away': 57.0},\n",
       " 'https://www.besoccer.com/match/rot-weiss-essen/meppen/19903689': {'Elo_home': 52.0,\n",
       "  'Elo_away': 53.0},\n",
       " 'https://www.besoccer.com/match/wattenscheid-09/stuttgarter-kickers/19903690': {'Elo_home': 55.0,\n",
       "  'Elo_away': 60.0},\n",
       " 'https://www.besoccer.com/match/eintracht-brau-hellip/schalke-04/19903691': {'Elo_home': 60.0,\n",
       "  'Elo_away': 62.0},\n",
       " 'https://www.besoccer.com/match/vfl-osnabruck/unterhaching/19903692': {'Elo_home': 53.0,\n",
       "  'Elo_away': 55.0},\n",
       " 'https://www.besoccer.com/match/sc-freiburg/blau-weiss-1890-berlin/19903693': {'Elo_home': 54.0,\n",
       "  'Elo_away': 55.0},\n",
       " 'https://www.besoccer.com/match/fortuna-koln/bayreuth-spvgg/19903694': {'Elo_home': 56.0,\n",
       "  'Elo_away': 50.0},\n",
       " 'https://www.besoccer.com/match/alemannia-aachen/hannover-96/19903695': {'Elo_home': 56.0,\n",
       "  'Elo_away': 60.0},\n",
       " 'https://www.besoccer.com/match/hertha-bsc/darmstadt-98/19903696': {'Elo_home': 55.0,\n",
       "  'Elo_away': 55.0},\n",
       " 'https://www.besoccer.com/match/stuttgarter-kickers/fortuna-koln/19903697': {'Elo_home': 60.0,\n",
       "  'Elo_away': 56.0},\n",
       " 'https://www.besoccer.com/match/darmstadt-98/preuben-munster/19903698': {'Elo_home': 55.0,\n",
       "  'Elo_away': 57.0},\n",
       " 'https://www.besoccer.com/match/meppen/eintracht-brau-hellip/19903699': {'Elo_home': 53.0,\n",
       "  'Elo_away': 60.0},\n",
       " 'https://www.besoccer.com/match/schalke-04/alemannia-aachen/19903700': {'Elo_home': 62.0,\n",
       "  'Elo_away': 56.0},\n",
       " 'https://www.besoccer.com/match/msv-duisburg/wattenscheid-09/19903701': {'Elo_home': 54.0,\n",
       "  'Elo_away': 55.0},\n",
       " 'https://www.besoccer.com/match/bayreuth-spvgg/hertha-bsc/19903702': {'Elo_home': 49.0,\n",
       "  'Elo_away': 55.0},\n",
       " 'https://www.besoccer.com/match/unterhaching/rot-weiss-essen/19903703': {'Elo_home': 55.0,\n",
       "  'Elo_away': 52.0},\n",
       " 'https://www.besoccer.com/match/hannover-96/saarbrucken/19903704': {'Elo_home': 60.0,\n",
       "  'Elo_away': 57.0},\n",
       " 'https://www.besoccer.com/match/sc-freiburg/hessen-kassel/19903705': {'Elo_home': 53.0,\n",
       "  'Elo_away': 50.0},\n",
       " 'https://www.besoccer.com/match/blau-weiss-1890-berlin/vfl-osnabruck/19903706': {'Elo_home': 55.0,\n",
       "  'Elo_away': 54.0},\n",
       " 'https://www.besoccer.com/match/hertha-bsc/stuttgarter-kickers/19903707': {'Elo_home': 55.0,\n",
       "  'Elo_away': 60.0},\n",
       " 'https://www.besoccer.com/match/vfl-osnabruck/sc-freiburg/19903708': {'Elo_home': 53.0,\n",
       "  'Elo_away': 54.0},\n",
       " 'https://www.besoccer.com/match/hessen-kassel/darmstadt-98/19903709': {'Elo_home': 50.0,\n",
       "  'Elo_away': 55.0},\n",
       " 'https://www.besoccer.com/match/preuben-munster/bayreuth-spvgg/19903710': {'Elo_home': 57.0,\n",
       "  'Elo_away': 49.0},\n",
       " 'https://www.besoccer.com/match/wattenscheid-09/hannover-96/19903711': {'Elo_home': 55.0,\n",
       "  'Elo_away': 60.0},\n",
       " 'https://www.besoccer.com/match/eintracht-brau-hellip/unterhaching/19903712': {'Elo_home': 60.0,\n",
       "  'Elo_away': 54.0},\n",
       " 'https://www.besoccer.com/match/rot-weiss-essen/blau-weiss-1890-berlin/19903713': {'Elo_home': 53.0,\n",
       "  'Elo_away': 55.0},\n",
       " 'https://www.besoccer.com/match/alemannia-aachen/meppen/19903714': {'Elo_home': 56.0,\n",
       "  'Elo_away': 53.0},\n",
       " 'https://www.besoccer.com/match/fortuna-koln/msv-duisburg/19903715': {'Elo_home': 56.0,\n",
       "  'Elo_away': 54.0},\n",
       " 'https://www.besoccer.com/match/saarbrucken/schalke-04/19903716': {'Elo_home': 57.0,\n",
       "  'Elo_away': 62.0},\n",
       " 'https://www.besoccer.com/match/blau-weiss-1890-berlin/eintracht-brau-hellip/19903717': {'Elo_home': 55.0,\n",
       "  'Elo_away': 60.0},\n",
       " 'https://www.besoccer.com/match/stuttgarter-kickers/preuben-munster/19903718': {'Elo_home': 60.0,\n",
       "  'Elo_away': 57.0},\n",
       " 'https://www.besoccer.com/match/vfl-osnabruck/hessen-kassel/19903719': {'Elo_home': 53.0,\n",
       "  'Elo_away': 50.0},\n",
       " 'https://www.besoccer.com/match/sc-freiburg/rot-weiss-essen/19903720': {'Elo_home': 53.0,\n",
       "  'Elo_away': 53.0},\n",
       " 'https://www.besoccer.com/match/meppen/saarbrucken/19903721': {'Elo_home': 53.0,\n",
       "  'Elo_away': 57.0},\n",
       " 'https://www.besoccer.com/match/schalke-04/wattenscheid-09/19903722': {'Elo_home': 62.0,\n",
       "  'Elo_away': 55.0},\n",
       " 'https://www.besoccer.com/match/msv-duisburg/hertha-bsc/19903723': {'Elo_home': 55.0,\n",
       "  'Elo_away': 56.0},\n",
       " 'https://www.besoccer.com/match/hannover-96/fortuna-koln/19903724': {'Elo_home': 59.0,\n",
       "  'Elo_away': 56.0},\n",
       " 'https://www.besoccer.com/match/unterhaching/alemannia-aachen/19903725': {'Elo_home': 54.0,\n",
       "  'Elo_away': 55.0},\n",
       " 'https://www.besoccer.com/match/bayreuth-spvgg/darmstadt-98/19903726': {'Elo_home': 49.0,\n",
       "  'Elo_away': 55.0},\n",
       " 'https://www.besoccer.com/match/darmstadt-98/stuttgarter-kickers/19903727': {'Elo_home': 55.0,\n",
       "  'Elo_away': 60.0},\n",
       " 'https://www.besoccer.com/match/preuben-munster/msv-duisburg/19903728': {'Elo_home': 57.0,\n",
       "  'Elo_away': 54.0},\n",
       " 'https://www.besoccer.com/match/hessen-kassel/bayreuth-spvgg/19903729': {'Elo_home': 50.0,\n",
       "  'Elo_away': 49.0},\n",
       " 'https://www.besoccer.com/match/rot-weiss-essen/vfl-osnabruck/19903730': {'Elo_home': 53.0,\n",
       "  'Elo_away': 54.0},\n",
       " 'https://www.besoccer.com/match/hertha-bsc/hannover-96/19903731': {'Elo_home': 56.0,\n",
       "  'Elo_away': 59.0},\n",
       " 'https://www.besoccer.com/match/saarbrucken/unterhaching/19903732': {'Elo_home': 57.0,\n",
       "  'Elo_away': 55.0},\n",
       " 'https://www.besoccer.com/match/eintracht-brau-hellip/sc-freiburg/19903733': {'Elo_home': 60.0,\n",
       "  'Elo_away': 53.0},\n",
       " 'https://www.besoccer.com/match/wattenscheid-09/meppen/19903734': {'Elo_home': 55.0,\n",
       "  'Elo_away': 53.0},\n",
       " 'https://www.besoccer.com/match/fortuna-koln/schalke-04/19903735': {'Elo_home': 56.0,\n",
       "  'Elo_away': 62.0},\n",
       " 'https://www.besoccer.com/match/alemannia-aachen/blau-weiss-1890-berlin/19903736': {'Elo_home': 55.0,\n",
       "  'Elo_away': 55.0},\n",
       " 'https://www.besoccer.com/match/sc-freiburg/alemannia-aachen/19903737': {'Elo_home': 53.0,\n",
       "  'Elo_away': 55.0},\n",
       " 'https://www.besoccer.com/match/hannover-96/preuben-munster/19903738': {'Elo_home': 59.0,\n",
       "  'Elo_away': 57.0},\n",
       " 'https://www.besoccer.com/match/msv-duisburg/darmstadt-98/19903739': {'Elo_home': 54.0,\n",
       "  'Elo_away': 55.0},\n",
       " 'https://www.besoccer.com/match/rot-weiss-essen/hessen-kassel/19903740': {'Elo_home': 53.0,\n",
       "  'Elo_away': 50.0},\n",
       " 'https://www.besoccer.com/match/vfl-osnabruck/eintracht-brau-hellip/19903741': {'Elo_home': 54.0,\n",
       "  'Elo_away': 59.0},\n",
       " 'https://www.besoccer.com/match/unterhaching/wattenscheid-09/19903742': {'Elo_home': 54.0,\n",
       "  'Elo_away': 55.0},\n",
       " 'https://www.besoccer.com/match/meppen/fortuna-koln/19903743': {'Elo_home': 53.0,\n",
       "  'Elo_away': 56.0},\n",
       " 'https://www.besoccer.com/match/schalke-04/hertha-bsc/19903744': {'Elo_home': 62.0,\n",
       "  'Elo_away': 56.0},\n",
       " 'https://www.besoccer.com/match/stuttgarter-kickers/bayreuth-spvgg/19903745': {'Elo_home': 60.0,\n",
       "  'Elo_away': 49.0},\n",
       " 'https://www.besoccer.com/match/blau-weiss-1890-berlin/saarbrucken/19903746': {'Elo_home': 55.0,\n",
       "  'Elo_away': 58.0},\n",
       " 'https://www.besoccer.com/match/bayreuth-spvgg/msv-duisburg/19903747': {'Elo_home': 49.0,\n",
       "  'Elo_away': 54.0},\n",
       " 'https://www.besoccer.com/match/saarbrucken/sc-freiburg/19903748': {'Elo_home': 58.0,\n",
       "  'Elo_away': 53.0},\n",
       " 'https://www.besoccer.com/match/alemannia-aachen/vfl-osnabruck/19903749': {'Elo_home': 55.0,\n",
       "  'Elo_away': 54.0},\n",
       " 'https://www.besoccer.com/match/hessen-kassel/stuttgarter-kickers/19903750': {'Elo_home': 50.0,\n",
       "  'Elo_away': 60.0},\n",
       " 'https://www.besoccer.com/match/hertha-bsc/meppen/19903751': {'Elo_home': 56.0,\n",
       "  'Elo_away': 53.0},\n",
       " 'https://www.besoccer.com/match/darmstadt-98/hannover-96/19903752': {'Elo_home': 55.0,\n",
       "  'Elo_away': 59.0},\n",
       " 'https://www.besoccer.com/match/preuben-munster/schalke-04/19903753': {'Elo_home': 57.0,\n",
       "  'Elo_away': 62.0},\n",
       " 'https://www.besoccer.com/match/fortuna-koln/unterhaching/19903754': {'Elo_home': 56.0,\n",
       "  'Elo_away': 54.0},\n",
       " 'https://www.besoccer.com/match/wattenscheid-09/blau-weiss-1890-berlin/19903755': {'Elo_home': 56.0,\n",
       "  'Elo_away': 55.0},\n",
       " 'https://www.besoccer.com/match/eintracht-brau-hellip/rot-weiss-essen/19903756': {'Elo_home': 60.0,\n",
       "  'Elo_away': 53.0},\n",
       " 'https://www.besoccer.com/match/msv-duisburg/stuttgarter-kickers/19903757': {'Elo_home': 54.0,\n",
       "  'Elo_away': 60.0},\n",
       " 'https://www.besoccer.com/match/eintracht-brau-hellip/hessen-kassel/19903758': {'Elo_home': 60.0,\n",
       "  'Elo_away': 50.0},\n",
       " 'https://www.besoccer.com/match/meppen/preuben-munster/19903759': {'Elo_home': 53.0,\n",
       "  'Elo_away': 57.0},\n",
       " 'https://www.besoccer.com/match/schalke-04/darmstadt-98/19903760': {'Elo_home': 62.0,\n",
       "  'Elo_away': 55.0},\n",
       " 'https://www.besoccer.com/match/hannover-96/bayreuth-spvgg/19903761': {'Elo_home': 59.0,\n",
       "  'Elo_away': 49.0},\n",
       " 'https://www.besoccer.com/match/rot-weiss-essen/alemannia-aachen/19903762': {'Elo_home': 53.0,\n",
       "  'Elo_away': 55.0},\n",
       " 'https://www.besoccer.com/match/sc-freiburg/wattenscheid-09/19903763': {'Elo_home': 53.0,\n",
       "  'Elo_away': 56.0},\n",
       " 'https://www.besoccer.com/match/blau-weiss-1890-berlin/fortuna-koln/19903764': {'Elo_home': 55.0,\n",
       "  'Elo_away': 56.0},\n",
       " 'https://www.besoccer.com/match/vfl-osnabruck/saarbrucken/19903765': {'Elo_home': 54.0,\n",
       "  'Elo_away': 58.0},\n",
       " 'https://www.besoccer.com/match/unterhaching/hertha-bsc/19903766': {'Elo_home': 54.0,\n",
       "  'Elo_away': 56.0},\n",
       " 'https://www.besoccer.com/match/saarbrucken/rot-weiss-essen/19903767': {'Elo_home': 58.0,\n",
       "  'Elo_away': 53.0},\n",
       " 'https://www.besoccer.com/match/alemannia-aachen/eintracht-brau-hellip/19903768': {'Elo_home': 55.0,\n",
       "  'Elo_away': 59.0},\n",
       " 'https://www.besoccer.com/match/hertha-bsc/blau-weiss-1890-berlin/19903769': {'Elo_home': 56.0,\n",
       "  'Elo_away': 55.0},\n",
       " 'https://www.besoccer.com/match/darmstadt-98/meppen/19903770': {'Elo_home': 55.0,\n",
       "  'Elo_away': 53.0},\n",
       " 'https://www.besoccer.com/match/fortuna-koln/sc-freiburg/19903771': {'Elo_home': 56.0,\n",
       "  'Elo_away': 54.0},\n",
       " 'https://www.besoccer.com/match/preuben-munster/unterhaching/19903772': {'Elo_home': 57.0,\n",
       "  'Elo_away': 54.0},\n",
       " 'https://www.besoccer.com/match/hessen-kassel/msv-duisburg/19903773': {'Elo_home': 50.0,\n",
       "  'Elo_away': 54.0},\n",
       " 'https://www.besoccer.com/match/stuttgarter-kickers/hannover-96/19903774': {'Elo_home': 60.0,\n",
       "  'Elo_away': 59.0},\n",
       " 'https://www.besoccer.com/match/bayreuth-spvgg/schalke-04/19903775': {'Elo_home': 49.0,\n",
       "  'Elo_away': 62.0},\n",
       " 'https://www.besoccer.com/match/wattenscheid-09/vfl-osnabruck/19903776': {'Elo_home': 55.0,\n",
       "  'Elo_away': 54.0},\n",
       " 'https://www.besoccer.com/match/meppen/bayreuth-spvgg/19903777': {'Elo_home': 53.0,\n",
       "  'Elo_away': 49.0},\n",
       " 'https://www.besoccer.com/match/blau-weiss-1890-berlin/preuben-munster/19903778': {'Elo_home': 55.0,\n",
       "  'Elo_away': 57.0},\n",
       " 'https://www.besoccer.com/match/eintracht-brau-hellip/saarbrucken/19903779': {'Elo_home': 59.0,\n",
       "  'Elo_away': 57.0},\n",
       " 'https://www.besoccer.com/match/sc-freiburg/hertha-bsc/19903780': {'Elo_home': 54.0,\n",
       "  'Elo_away': 56.0},\n",
       " 'https://www.besoccer.com/match/unterhaching/darmstadt-98/19903781': {'Elo_home': 54.0,\n",
       "  'Elo_away': 54.0},\n",
       " 'https://www.besoccer.com/match/schalke-04/stuttgarter-kickers/19903782': {'Elo_home': 62.0,\n",
       "  'Elo_away': 61.0},\n",
       " 'https://www.besoccer.com/match/hannover-96/msv-duisburg/19903783': {'Elo_home': 59.0,\n",
       "  'Elo_away': 54.0},\n",
       " 'https://www.besoccer.com/match/rot-weiss-essen/wattenscheid-09/19903784': {'Elo_home': 54.0,\n",
       "  'Elo_away': 56.0},\n",
       " 'https://www.besoccer.com/match/vfl-osnabruck/fortuna-koln/19903785': {'Elo_home': 54.0,\n",
       "  'Elo_away': 56.0},\n",
       " 'https://www.besoccer.com/match/alemannia-aachen/hessen-kassel/19903786': {'Elo_home': 55.0,\n",
       "  'Elo_away': 50.0},\n",
       " 'https://www.besoccer.com/match/wattenscheid-09/eintracht-brau-hellip/19903787': {'Elo_home': 56.0,\n",
       "  'Elo_away': 59.0},\n",
       " 'https://www.besoccer.com/match/preuben-munster/sc-freiburg/19903788': {'Elo_home': 57.0,\n",
       "  'Elo_away': 54.0},\n",
       " 'https://www.besoccer.com/match/hertha-bsc/vfl-osnabruck/19903789': {'Elo_home': 57.0,\n",
       "  'Elo_away': 54.0},\n",
       " 'https://www.besoccer.com/match/fortuna-koln/rot-weiss-essen/19903790': {'Elo_home': 56.0,\n",
       "  'Elo_away': 53.0},\n",
       " 'https://www.besoccer.com/match/saarbrucken/alemannia-aachen/19903791': {'Elo_home': 57.0,\n",
       "  'Elo_away': 55.0},\n",
       " 'https://www.besoccer.com/match/hessen-kassel/hannover-96/19903792': {'Elo_home': 50.0,\n",
       "  'Elo_away': 59.0},\n",
       " 'https://www.besoccer.com/match/msv-duisburg/schalke-04/19903793': {'Elo_home': 54.0,\n",
       "  'Elo_away': 62.0},\n",
       " 'https://www.besoccer.com/match/darmstadt-98/blau-weiss-1890-berlin/19903794': {'Elo_home': 54.0,\n",
       "  'Elo_away': 55.0},\n",
       " 'https://www.besoccer.com/match/stuttgarter-kickers/meppen/19903795': {'Elo_home': 60.0,\n",
       "  'Elo_away': 53.0},\n",
       " 'https://www.besoccer.com/match/bayreuth-spvgg/unterhaching/19903796': {'Elo_home': 49.0,\n",
       "  'Elo_away': 54.0},\n",
       " 'https://www.besoccer.com/match/unterhaching/stuttgarter-kickers/19903797': {'Elo_home': 54.0,\n",
       "  'Elo_away': 61.0},\n",
       " 'https://www.besoccer.com/match/saarbrucken/hessen-kassel/19903798': {'Elo_home': 57.0,\n",
       "  'Elo_away': 50.0},\n",
       " 'https://www.besoccer.com/match/vfl-osnabruck/preuben-munster/19903799': {'Elo_home': 53.0,\n",
       "  'Elo_away': 57.0},\n",
       " 'https://www.besoccer.com/match/sc-freiburg/darmstadt-98/19903800': {'Elo_home': 54.0,\n",
       "  'Elo_away': 55.0},\n",
       " 'https://www.besoccer.com/match/blau-weiss-1890-berlin/bayreuth-spvgg/19903801': {'Elo_home': 55.0,\n",
       "  'Elo_away': 49.0},\n",
       " 'https://www.besoccer.com/match/schalke-04/hannover-96/19903802': {'Elo_home': 62.0,\n",
       "  'Elo_away': 59.0},\n",
       " 'https://www.besoccer.com/match/alemannia-aachen/wattenscheid-09/19903803': {'Elo_home': 55.0,\n",
       "  'Elo_away': 56.0},\n",
       " 'https://www.besoccer.com/match/eintracht-brau-hellip/fortuna-koln/19903804': {'Elo_home': 59.0,\n",
       "  'Elo_away': 56.0},\n",
       " 'https://www.besoccer.com/match/rot-weiss-essen/hertha-bsc/19903805': {'Elo_home': 53.0,\n",
       "  'Elo_away': 57.0},\n",
       " 'https://www.besoccer.com/match/meppen/msv-duisburg/19903806': {'Elo_home': 53.0,\n",
       "  'Elo_away': 54.0},\n",
       " 'https://www.besoccer.com/match/wattenscheid-09/saarbrucken/19903807': {'Elo_home': 56.0,\n",
       "  'Elo_away': 57.0},\n",
       " 'https://www.besoccer.com/match/bayreuth-spvgg/sc-freiburg/19903808': {'Elo_home': 49.0,\n",
       "  'Elo_away': 53.0},\n",
       " 'https://www.besoccer.com/match/darmstadt-98/vfl-osnabruck/19903809': {'Elo_home': 55.0,\n",
       "  'Elo_away': 53.0},\n",
       " 'https://www.besoccer.com/match/preuben-munster/rot-weiss-essen/19903810': {'Elo_home': 57.0,\n",
       "  'Elo_away': 53.0},\n",
       " 'https://www.besoccer.com/match/fortuna-koln/alemannia-aachen/19903811': {'Elo_home': 56.0,\n",
       "  'Elo_away': 55.0},\n",
       " 'https://www.besoccer.com/match/hannover-96/meppen/19903812': {'Elo_home': 59.0,\n",
       "  'Elo_away': 53.0},\n",
       " 'https://www.besoccer.com/match/hessen-kassel/schalke-04/19903813': {'Elo_home': 50.0,\n",
       "  'Elo_away': 62.0},\n",
       " 'https://www.besoccer.com/match/msv-duisburg/unterhaching/19903814': {'Elo_home': 54.0,\n",
       "  'Elo_away': 54.0},\n",
       " 'https://www.besoccer.com/match/stuttgarter-kickers/blau-weiss-1890-berlin/19903815': {'Elo_home': 60.0,\n",
       "  'Elo_away': 55.0},\n",
       " 'https://www.besoccer.com/match/hertha-bsc/eintracht-brau-hellip/19903816': {'Elo_home': 57.0,\n",
       "  'Elo_away': 59.0},\n",
       " 'https://www.besoccer.com/match/sc-freiburg/stuttgarter-kickers/19903817': {'Elo_home': 53.0,\n",
       "  'Elo_away': 60.0},\n",
       " 'https://www.besoccer.com/match/eintracht-brau-hellip/preuben-munster/19903818': {'Elo_home': 59.0,\n",
       "  'Elo_away': 57.0},\n",
       " 'https://www.besoccer.com/match/rot-weiss-essen/darmstadt-98/19903819': {'Elo_home': 54.0,\n",
       "  'Elo_away': 55.0},\n",
       " 'https://www.besoccer.com/match/vfl-osnabruck/bayreuth-spvgg/19903820': {'Elo_home': 53.0,\n",
       "  'Elo_away': 50.0},\n",
       " 'https://www.besoccer.com/match/blau-weiss-1890-berlin/msv-duisburg/19903821': {'Elo_home': 55.0,\n",
       "  'Elo_away': 54.0},\n",
       " 'https://www.besoccer.com/match/unterhaching/hannover-96/19903822': {'Elo_home': 54.0,\n",
       "  'Elo_away': 59.0},\n",
       " 'https://www.besoccer.com/match/meppen/schalke-04/19903823': {'Elo_home': 53.0,\n",
       "  'Elo_away': 62.0},\n",
       " 'https://www.besoccer.com/match/alemannia-aachen/hertha-bsc/19903824': {'Elo_home': 55.0,\n",
       "  'Elo_away': 57.0},\n",
       " 'https://www.besoccer.com/match/wattenscheid-09/hessen-kassel/19903825': {'Elo_home': 56.0,\n",
       "  'Elo_away': 50.0},\n",
       " 'https://www.besoccer.com/match/saarbrucken/fortuna-koln/19903826': {'Elo_home': 58.0,\n",
       "  'Elo_away': 56.0},\n",
       " 'https://www.besoccer.com/match/hertha-bsc/saarbrucken/19903827': {'Elo_home': 57.0,\n",
       "  'Elo_away': 57.0},\n",
       " 'https://www.besoccer.com/match/darmstadt-98/eintracht-brau-hellip/19903828': {'Elo_home': 55.0,\n",
       "  'Elo_away': 59.0},\n",
       " 'https://www.besoccer.com/match/msv-duisburg/sc-freiburg/19903829': {'Elo_home': 54.0,\n",
       "  'Elo_away': 53.0},\n",
       " 'https://www.besoccer.com/match/hessen-kassel/meppen/19903830': {'Elo_home': 50.0,\n",
       "  'Elo_away': 53.0},\n",
       " 'https://www.besoccer.com/match/stuttgarter-kickers/vfl-osnabruck/19903831': {'Elo_home': 60.0,\n",
       "  'Elo_away': 53.0},\n",
       " 'https://www.besoccer.com/match/bayreuth-spvgg/rot-weiss-essen/19903832': {'Elo_home': 50.0,\n",
       "  'Elo_away': 54.0},\n",
       " 'https://www.besoccer.com/match/fortuna-koln/wattenscheid-09/19903833': {'Elo_home': 56.0,\n",
       "  'Elo_away': 56.0},\n",
       " 'https://www.besoccer.com/match/hannover-96/blau-weiss-1890-berlin/19903834': {'Elo_home': 59.0,\n",
       "  'Elo_away': 55.0},\n",
       " 'https://www.besoccer.com/match/schalke-04/unterhaching/19903835': {'Elo_home': 62.0,\n",
       "  'Elo_away': 54.0},\n",
       " 'https://www.besoccer.com/match/preuben-munster/alemannia-aachen/19903836': {'Elo_home': 57.0,\n",
       "  'Elo_away': 55.0},\n",
       " 'https://www.besoccer.com/match/vfl-osnabruck/msv-duisburg/19903837': {'Elo_home': 53.0,\n",
       "  'Elo_away': 54.0},\n",
       " 'https://www.besoccer.com/match/unterhaching/meppen/19903838': {'Elo_home': 54.0,\n",
       "  'Elo_away': 53.0},\n",
       " 'https://www.besoccer.com/match/saarbrucken/preuben-munster/19903839': {'Elo_home': 58.0,\n",
       "  'Elo_away': 57.0},\n",
       " 'https://www.besoccer.com/match/alemannia-aachen/darmstadt-98/19903840': {'Elo_home': 55.0,\n",
       "  'Elo_away': 55.0},\n",
       " 'https://www.besoccer.com/match/rot-weiss-essen/stuttgarter-kickers/19903841': {'Elo_home': 54.0,\n",
       "  'Elo_away': 60.0},\n",
       " 'https://www.besoccer.com/match/sc-freiburg/hannover-96/19903842': {'Elo_home': 53.0,\n",
       "  'Elo_away': 60.0},\n",
       " 'https://www.besoccer.com/match/blau-weiss-1890-berlin/schalke-04/19903843': {'Elo_home': 55.0,\n",
       "  'Elo_away': 62.0},\n",
       " 'https://www.besoccer.com/match/hessen-kassel/fortuna-koln/19903844': {'Elo_home': 50.0,\n",
       "  'Elo_away': 56.0},\n",
       " 'https://www.besoccer.com/match/wattenscheid-09/hertha-bsc/19903845': {'Elo_home': 56.0,\n",
       "  'Elo_away': 57.0},\n",
       " 'https://www.besoccer.com/match/eintracht-brau-hellip/bayreuth-spvgg/19903846': {'Elo_home': 59.0,\n",
       "  'Elo_away': 50.0},\n",
       " 'https://www.besoccer.com/match/stuttgarter-kickers/eintracht-brau-hellip/19903847': {'Elo_home': 60.0,\n",
       "  'Elo_away': 59.0},\n",
       " 'https://www.besoccer.com/match/schalke-04/sc-freiburg/19903848': {'Elo_home': 62.0,\n",
       "  'Elo_away': 53.0},\n",
       " 'https://www.besoccer.com/match/unterhaching/hessen-kassel/19903849': {'Elo_home': 54.0,\n",
       "  'Elo_away': 50.0},\n",
       " 'https://www.besoccer.com/match/hannover-96/vfl-osnabruck/19903850': {'Elo_home': 60.0,\n",
       "  'Elo_away': 53.0},\n",
       " 'https://www.besoccer.com/match/msv-duisburg/rot-weiss-essen/19903851': {'Elo_home': 54.0,\n",
       "  'Elo_away': 54.0},\n",
       " 'https://www.besoccer.com/match/darmstadt-98/saarbrucken/19903852': {'Elo_home': 55.0,\n",
       "  'Elo_away': 58.0},\n",
       " 'https://www.besoccer.com/match/preuben-munster/wattenscheid-09/19903853': {'Elo_home': 57.0,\n",
       "  'Elo_away': 56.0},\n",
       " 'https://www.besoccer.com/match/meppen/blau-weiss-1890-berlin/19903854': {'Elo_home': 53.0,\n",
       "  'Elo_away': 55.0},\n",
       " 'https://www.besoccer.com/match/hertha-bsc/fortuna-koln/19903855': {'Elo_home': 57.0,\n",
       "  'Elo_away': 56.0},\n",
       " 'https://www.besoccer.com/match/bayreuth-spvgg/alemannia-aachen/19903856': {'Elo_home': 50.0,\n",
       "  'Elo_away': 55.0},\n",
       " 'https://www.besoccer.com/match/rot-weiss-essen/hannover-96/19903857': {'Elo_home': 54.0,\n",
       "  'Elo_away': 60.0},\n",
       " 'https://www.besoccer.com/match/fortuna-koln/preuben-munster/19903858': {'Elo_home': 56.0,\n",
       "  'Elo_away': 57.0},\n",
       " 'https://www.besoccer.com/match/wattenscheid-09/darmstadt-98/19903859': {'Elo_home': 56.0,\n",
       "  'Elo_away': 55.0},\n",
       " 'https://www.besoccer.com/match/saarbrucken/bayreuth-spvgg/19903860': {'Elo_home': 58.0,\n",
       "  'Elo_away': 50.0},\n",
       " 'https://www.besoccer.com/match/eintracht-brau-hellip/msv-duisburg/19903861': {'Elo_home': 59.0,\n",
       "  'Elo_away': 54.0},\n",
       " 'https://www.besoccer.com/match/sc-freiburg/meppen/19903862': {'Elo_home': 53.0,\n",
       "  'Elo_away': 53.0},\n",
       " 'https://www.besoccer.com/match/vfl-osnabruck/schalke-04/19903863': {'Elo_home': 53.0,\n",
       "  'Elo_away': 62.0},\n",
       " 'https://www.besoccer.com/match/blau-weiss-1890-berlin/unterhaching/19903864': {'Elo_home': 55.0,\n",
       "  'Elo_away': 54.0},\n",
       " 'https://www.besoccer.com/match/hessen-kassel/hertha-bsc/19903865': {'Elo_home': 50.0,\n",
       "  'Elo_away': 57.0},\n",
       " 'https://www.besoccer.com/match/alemannia-aachen/stuttgarter-kickers/19903866': {'Elo_home': 55.0,\n",
       "  'Elo_away': 60.0},\n",
       " 'https://www.besoccer.com/match/schalke-04/saarbrucken/19913769': {'Elo_home': 62.0,\n",
       "  'Elo_away': 58.0},\n",
       " 'https://www.besoccer.com/match/msv-duisburg/eintracht-brau-hellip/19913770': {'Elo_home': 54.0,\n",
       "  'Elo_away': 59.0},\n",
       " 'https://www.besoccer.com/match/hannover-96/sc-freiburg/19913771': {'Elo_home': 60.0,\n",
       "  'Elo_away': 54.0},\n",
       " 'https://www.besoccer.com/match/schweinfurt/vfl-osnabruck/19913772': {'Elo_home': 42.0,\n",
       "  'Elo_away': 54.0},\n",
       " 'https://www.besoccer.com/match/waldhof-mannheim/blau-weiss-1890-berlin/19913773': {'Elo_home': 66.0,\n",
       "  'Elo_away': 55.0},\n",
       " 'https://www.besoccer.com/match/homburg/rot-weiss-essen/19913774': {'Elo_home': 60.0,\n",
       "  'Elo_away': 54.0},\n",
       " 'https://www.besoccer.com/match/vfb-oldenburg/mainz-amat/19913775': {'Elo_home': 44.0,\n",
       "  'Elo_away': 42.0},\n",
       " 'https://www.besoccer.com/match/stuttgarter-kickers/darmstadt-98/19913776': {'Elo_home': 60.0,\n",
       "  'Elo_away': 55.0},\n",
       " 'https://www.besoccer.com/match/preuben-munster/fortuna-koln/19913777': {'Elo_home': 57.0,\n",
       "  'Elo_away': 56.0},\n",
       " 'https://www.besoccer.com/match/meppen/havelse/19913778': {'Elo_home': 53.0,\n",
       "  'Elo_away': 55.0},\n",
       " 'https://www.besoccer.com/match/sc-freiburg/meppen/19913779': {'Elo_home': 54.0,\n",
       "  'Elo_away': 54.0},\n",
       " 'https://www.besoccer.com/match/darmstadt-98/homburg/19913780': {'Elo_home': 55.0,\n",
       "  'Elo_away': 60.0},\n",
       " 'https://www.besoccer.com/match/saarbrucken/stuttgarter-kickers/19913781': {'Elo_home': 58.0,\n",
       "  'Elo_away': 61.0},\n",
       " 'https://www.besoccer.com/match/vfl-osnabruck/msv-duisburg/19913782': {'Elo_home': 54.0,\n",
       "  'Elo_away': 54.0},\n",
       " 'https://www.besoccer.com/match/fortuna-koln/vfb-oldenburg/19913783': {'Elo_home': 55.0,\n",
       "  'Elo_away': 43.0},\n",
       " 'https://www.besoccer.com/match/blau-weiss-1890-berlin/schalke-04/19913784': {'Elo_home': 55.0,\n",
       "  'Elo_away': 62.0},\n",
       " 'https://www.besoccer.com/match/eintracht-brau-hellip/waldhof-mannheim/19913785': {'Elo_home': 60.0,\n",
       "  'Elo_away': 66.0},\n",
       " 'https://www.besoccer.com/match/mainz-amat/hannover-96/19913786': {'Elo_home': 42.0,\n",
       "  'Elo_away': 60.0},\n",
       " 'https://www.besoccer.com/match/havelse/schweinfurt/19913787': {'Elo_home': 55.0,\n",
       "  'Elo_away': 41.0},\n",
       " 'https://www.besoccer.com/match/rot-weiss-essen/preuben-munster/19913788': {'Elo_home': 55.0,\n",
       "  'Elo_away': 58.0},\n",
       " 'https://www.besoccer.com/match/stuttgarter-kickers/blau-weiss-1890-berlin/19913789': {'Elo_home': 61.0,\n",
       "  'Elo_away': 55.0},\n",
       " 'https://www.besoccer.com/match/homburg/saarbrucken/19913790': {'Elo_home': 60.0,\n",
       "  'Elo_away': 58.0},\n",
       " 'https://www.besoccer.com/match/sc-freiburg/mainz-amat/19913791': {'Elo_home': 54.0,\n",
       "  'Elo_away': 42.0},\n",
       " 'https://www.besoccer.com/match/schalke-04/eintracht-brau-hellip/19913792': {'Elo_home': 62.0,\n",
       "  'Elo_away': 60.0},\n",
       " 'https://www.besoccer.com/match/vfb-oldenburg/rot-weiss-essen/19913793': {'Elo_home': 43.0,\n",
       "  'Elo_away': 55.0},\n",
       " 'https://www.besoccer.com/match/waldhof-mannheim/vfl-osnabruck/19913794': {'Elo_home': 66.0,\n",
       "  'Elo_away': 54.0},\n",
       " 'https://www.besoccer.com/match/meppen/schweinfurt/19913795': {'Elo_home': 54.0,\n",
       "  'Elo_away': 41.0},\n",
       " 'https://www.besoccer.com/match/msv-duisburg/havelse/19913796': {'Elo_home': 54.0,\n",
       "  'Elo_away': 55.0},\n",
       " 'https://www.besoccer.com/match/preuben-munster/darmstadt-98/19913797': {'Elo_home': 58.0,\n",
       "  'Elo_away': 55.0},\n",
       " 'https://www.besoccer.com/match/hannover-96/fortuna-koln/19913798': {'Elo_home': 60.0,\n",
       "  'Elo_away': 55.0},\n",
       " 'https://www.besoccer.com/match/blau-weiss-1890-berlin/homburg/19913799': {'Elo_home': 55.0,\n",
       "  'Elo_away': 60.0},\n",
       " 'https://www.besoccer.com/match/eintracht-brau-hellip/stuttgarter-kickers/19913800': {'Elo_home': 59.0,\n",
       "  'Elo_away': 61.0},\n",
       " 'https://www.besoccer.com/match/fortuna-koln/sc-freiburg/19913801': {'Elo_home': 55.0,\n",
       "  'Elo_away': 54.0},\n",
       " 'https://www.besoccer.com/match/rot-weiss-essen/hannover-96/19913802': {'Elo_home': 54.0,\n",
       "  'Elo_away': 60.0},\n",
       " 'https://www.besoccer.com/match/schweinfurt/msv-duisburg/19913803': {'Elo_home': 41.0,\n",
       "  'Elo_away': 55.0},\n",
       " 'https://www.besoccer.com/match/mainz-amat/meppen/19913804': {'Elo_home': 42.0,\n",
       "  'Elo_away': 54.0},\n",
       " 'https://www.besoccer.com/match/darmstadt-98/vfb-oldenburg/19913805': {'Elo_home': 54.0,\n",
       "  'Elo_away': 44.0},\n",
       " 'https://www.besoccer.com/match/saarbrucken/preuben-munster/19913806': {'Elo_home': 58.0,\n",
       "  'Elo_away': 58.0},\n",
       " 'https://www.besoccer.com/match/vfl-osnabruck/schalke-04/19913807': {'Elo_home': 54.0,\n",
       "  'Elo_away': 62.0},\n",
       " 'https://www.besoccer.com/match/havelse/waldhof-mannheim/19913808': {'Elo_home': 55.0,\n",
       "  'Elo_away': 66.0},\n",
       " 'https://www.besoccer.com/match/homburg/eintracht-brau-hellip/19913809': {'Elo_home': 60.0,\n",
       "  'Elo_away': 60.0},\n",
       " 'https://www.besoccer.com/match/sc-freiburg/rot-weiss-essen/19913810': {'Elo_home': 54.0,\n",
       "  'Elo_away': 55.0},\n",
       " 'https://www.besoccer.com/match/mainz-amat/fortuna-koln/19913811': {'Elo_home': 43.0,\n",
       "  'Elo_away': 55.0},\n",
       " 'https://www.besoccer.com/match/waldhof-mannheim/schweinfurt/19913812': {'Elo_home': 66.0,\n",
       "  'Elo_away': 41.0},\n",
       " 'https://www.besoccer.com/match/stuttgarter-kickers/vfl-osnabruck/19913813': {'Elo_home': 61.0,\n",
       "  'Elo_away': 54.0},\n",
       " 'https://www.besoccer.com/match/meppen/msv-duisburg/19913814': {'Elo_home': 54.0,\n",
       "  'Elo_away': 55.0},\n",
       " 'https://www.besoccer.com/match/preuben-munster/blau-weiss-1890-berlin/19913815': {'Elo_home': 58.0,\n",
       "  'Elo_away': 55.0},\n",
       " 'https://www.besoccer.com/match/vfb-oldenburg/saarbrucken/19913816': {'Elo_home': 44.0,\n",
       "  'Elo_away': 58.0},\n",
       " 'https://www.besoccer.com/match/hannover-96/darmstadt-98/19913817': {'Elo_home': 59.0,\n",
       "  'Elo_away': 54.0},\n",
       " 'https://www.besoccer.com/match/schalke-04/havelse/19913818': {'Elo_home': 63.0,\n",
       "  'Elo_away': 55.0},\n",
       " 'https://www.besoccer.com/match/schweinfurt/schalke-04/19913819': {'Elo_home': 41.0,\n",
       "  'Elo_away': 63.0},\n",
       " 'https://www.besoccer.com/match/darmstadt-98/sc-freiburg/19913820': {'Elo_home': 54.0,\n",
       "  'Elo_away': 55.0},\n",
       " 'https://www.besoccer.com/match/saarbrucken/hannover-96/19913821': {'Elo_home': 58.0,\n",
       "  'Elo_away': 59.0},\n",
       " 'https://www.besoccer.com/match/eintracht-brau-hellip/preuben-munster/19913822': {'Elo_home': 59.0,\n",
       "  'Elo_away': 57.0},\n",
       " 'https://www.besoccer.com/match/rot-weiss-essen/mainz-amat/19913823': {'Elo_home': 54.0,\n",
       "  'Elo_away': 42.0},\n",
       " 'https://www.besoccer.com/match/msv-duisburg/waldhof-mannheim/19913824': {'Elo_home': 55.0,\n",
       "  'Elo_away': 66.0},\n",
       " 'https://www.besoccer.com/match/fortuna-koln/meppen/19913825': {'Elo_home': 55.0,\n",
       "  'Elo_away': 54.0},\n",
       " 'https://www.besoccer.com/match/havelse/stuttgarter-kickers/19913826': {'Elo_home': 55.0,\n",
       "  'Elo_away': 61.0},\n",
       " 'https://www.besoccer.com/match/vfl-osnabruck/homburg/19913827': {'Elo_home': 54.0,\n",
       "  'Elo_away': 60.0},\n",
       " 'https://www.besoccer.com/match/blau-weiss-1890-berlin/vfb-oldenburg/19913828': {'Elo_home': 55.0,\n",
       "  'Elo_away': 44.0},\n",
       " 'https://www.besoccer.com/match/meppen/waldhof-mannheim/19913829': {'Elo_home': 54.0,\n",
       "  'Elo_away': 66.0},\n",
       " 'https://www.besoccer.com/match/preuben-munster/vfl-osnabruck/19913830': {'Elo_home': 57.0,\n",
       "  'Elo_away': 54.0},\n",
       " 'https://www.besoccer.com/match/stuttgarter-kickers/schweinfurt/19913831': {'Elo_home': 61.0,\n",
       "  'Elo_away': 41.0},\n",
       " 'https://www.besoccer.com/match/schalke-04/msv-duisburg/19913832': {'Elo_home': 63.0,\n",
       "  'Elo_away': 55.0},\n",
       " 'https://www.besoccer.com/match/sc-freiburg/saarbrucken/19913833': {'Elo_home': 54.0,\n",
       "  'Elo_away': 59.0},\n",
       " 'https://www.besoccer.com/match/fortuna-koln/rot-weiss-essen/19913834': {'Elo_home': 55.0,\n",
       "  'Elo_away': 55.0},\n",
       " 'https://www.besoccer.com/match/homburg/havelse/19913835': {'Elo_home': 60.0,\n",
       "  'Elo_away': 55.0},\n",
       " 'https://www.besoccer.com/match/mainz-amat/darmstadt-98/19913836': {'Elo_home': 42.0,\n",
       "  'Elo_away': 55.0},\n",
       " 'https://www.besoccer.com/match/hannover-96/blau-weiss-1890-berlin/19913837': {'Elo_home': 59.0,\n",
       "  'Elo_away': 55.0},\n",
       " 'https://www.besoccer.com/match/vfb-oldenburg/eintracht-brau-hellip/19913838': {'Elo_home': 44.0,\n",
       "  'Elo_away': 60.0},\n",
       " 'https://www.besoccer.com/match/schweinfurt/homburg/19913839': {'Elo_home': 41.0,\n",
       "  'Elo_away': 60.0},\n",
       " 'https://www.besoccer.com/match/msv-duisburg/stuttgarter-kickers/19913840': {'Elo_home': 55.0,\n",
       "  'Elo_away': 61.0},\n",
       " 'https://www.besoccer.com/match/rot-weiss-essen/meppen/19913841': {'Elo_home': 54.0,\n",
       "  'Elo_away': 54.0},\n",
       " 'https://www.besoccer.com/match/darmstadt-98/fortuna-koln/19913842': {'Elo_home': 55.0,\n",
       "  'Elo_away': 55.0},\n",
       " 'https://www.besoccer.com/match/eintracht-brau-hellip/hannover-96/19913843': {'Elo_home': 60.0,\n",
       "  'Elo_away': 59.0},\n",
       " 'https://www.besoccer.com/match/saarbrucken/mainz-amat/19913844': {'Elo_home': 58.0,\n",
       "  'Elo_away': 42.0},\n",
       " 'https://www.besoccer.com/match/blau-weiss-1890-berlin/sc-freiburg/19913845': {'Elo_home': 55.0,\n",
       "  'Elo_away': 54.0},\n",
       " 'https://www.besoccer.com/match/vfl-osnabruck/vfb-oldenburg/19913846': {'Elo_home': 54.0,\n",
       "  'Elo_away': 44.0},\n",
       " 'https://www.besoccer.com/match/havelse/preuben-munster/19913847': {'Elo_home': 55.0,\n",
       "  'Elo_away': 57.0},\n",
       " 'https://www.besoccer.com/match/waldhof-mannheim/schalke-04/19913848': {'Elo_home': 66.0,\n",
       "  'Elo_away': 63.0},\n",
       " 'https://www.besoccer.com/match/homburg/msv-duisburg/19913849': {'Elo_home': 60.0,\n",
       "  'Elo_away': 55.0},\n",
       " 'https://www.besoccer.com/match/fortuna-koln/saarbrucken/19913850': {'Elo_home': 56.0,\n",
       "  'Elo_away': 58.0},\n",
       " 'https://www.besoccer.com/match/rot-weiss-essen/darmstadt-98/19913851': {'Elo_home': 55.0,\n",
       "  'Elo_away': 54.0},\n",
       " 'https://www.besoccer.com/match/mainz-amat/blau-weiss-1890-berlin/19913852': {'Elo_home': 42.0,\n",
       "  'Elo_away': 55.0},\n",
       " 'https://www.besoccer.com/match/sc-freiburg/eintracht-brau-hellip/19913853': {'Elo_home': 54.0,\n",
       "  'Elo_away': 60.0},\n",
       " 'https://www.besoccer.com/match/hannover-96/vfl-osnabruck/19913854': {'Elo_home': 59.0,\n",
       "  'Elo_away': 54.0},\n",
       " 'https://www.besoccer.com/match/vfb-oldenburg/havelse/19913855': {'Elo_home': 44.0,\n",
       "  'Elo_away': 55.0},\n",
       " 'https://www.besoccer.com/match/preuben-munster/schweinfurt/19913856': {'Elo_home': 57.0,\n",
       "  'Elo_away': 41.0},\n",
       " 'https://www.besoccer.com/match/meppen/schalke-04/19913857': {'Elo_home': 54.0,\n",
       "  'Elo_away': 63.0},\n",
       " 'https://www.besoccer.com/match/stuttgarter-kickers/waldhof-mannheim/19913858': {'Elo_home': 61.0,\n",
       "  'Elo_away': 66.0},\n",
       " 'https://www.besoccer.com/match/msv-duisburg/preuben-munster/19913859': {'Elo_home': 55.0,\n",
       "  'Elo_away': 57.0},\n",
       " 'https://www.besoccer.com/match/vfl-osnabruck/sc-freiburg/19913860': {'Elo_home': 54.0,\n",
       "  'Elo_away': 54.0},\n",
       " 'https://www.besoccer.com/match/havelse/hannover-96/19913861': {'Elo_home': 55.0,\n",
       "  'Elo_away': 59.0},\n",
       " 'https://www.besoccer.com/match/darmstadt-98/meppen/19913862': {'Elo_home': 54.0,\n",
       "  'Elo_away': 54.0},\n",
       " 'https://www.besoccer.com/match/schalke-04/stuttgarter-kickers/19913863': {'Elo_home': 63.0,\n",
       "  'Elo_away': 61.0},\n",
       " 'https://www.besoccer.com/match/eintracht-brau-hellip/mainz-amat/19913864': {'Elo_home': 59.0,\n",
       "  'Elo_away': 42.0},\n",
       " 'https://www.besoccer.com/match/saarbrucken/rot-weiss-essen/19913865': {'Elo_home': 59.0,\n",
       "  'Elo_away': 55.0},\n",
       " 'https://www.besoccer.com/match/waldhof-mannheim/homburg/19913866': {'Elo_home': 66.0,\n",
       "  'Elo_away': 60.0},\n",
       " 'https://www.besoccer.com/match/schweinfurt/vfb-oldenburg/19913867': {'Elo_home': 40.0,\n",
       "  'Elo_away': 44.0},\n",
       " 'https://www.besoccer.com/match/blau-weiss-1890-berlin/fortuna-koln/19913868': {'Elo_home': 55.0,\n",
       "  'Elo_away': 55.0},\n",
       " 'https://www.besoccer.com/match/fortuna-koln/eintracht-brau-hellip/19913869': {'Elo_home': 55.0,\n",
       "  'Elo_away': 60.0},\n",
       " 'https://www.besoccer.com/match/preuben-munster/waldhof-mannheim/19913870': {'Elo_home': 57.0,\n",
       "  'Elo_away': 66.0},\n",
       " 'https://www.besoccer.com/match/hannover-96/schweinfurt/19913871': {'Elo_home': 59.0,\n",
       "  'Elo_away': 40.0},\n",
       " 'https://www.besoccer.com/match/meppen/stuttgarter-kickers/19913872': {'Elo_home': 54.0,\n",
       "  'Elo_away': 61.0},\n",
       " 'https://www.besoccer.com/match/sc-freiburg/havelse/19913873': {'Elo_home': 55.0,\n",
       "  'Elo_away': 55.0},\n",
       " 'https://www.besoccer.com/match/vfb-oldenburg/msv-duisburg/19913874': {'Elo_home': 44.0,\n",
       "  'Elo_away': 55.0},\n",
       " 'https://www.besoccer.com/match/rot-weiss-essen/blau-weiss-1890-berlin/19913875': {'Elo_home': 55.0,\n",
       "  'Elo_away': 55.0},\n",
       " 'https://www.besoccer.com/match/mainz-amat/vfl-osnabruck/19913876': {'Elo_home': 42.0,\n",
       "  'Elo_away': 54.0},\n",
       " 'https://www.besoccer.com/match/darmstadt-98/saarbrucken/19913877': {'Elo_home': 54.0,\n",
       "  'Elo_away': 59.0},\n",
       " 'https://www.besoccer.com/match/homburg/schalke-04/19913878': {'Elo_home': 60.0,\n",
       "  'Elo_away': 63.0},\n",
       " 'https://www.besoccer.com/match/eintracht-brau-hellip/rot-weiss-essen/19913879': {'Elo_home': 60.0,\n",
       "  'Elo_away': 54.0},\n",
       " 'https://www.besoccer.com/match/vfl-osnabruck/fortuna-koln/19913880': {'Elo_home': 53.0,\n",
       "  'Elo_away': 55.0},\n",
       " 'https://www.besoccer.com/match/msv-duisburg/hannover-96/19913881': {'Elo_home': 55.0,\n",
       "  'Elo_away': 59.0},\n",
       " 'https://www.besoccer.com/match/waldhof-mannheim/vfb-oldenburg/19913882': {'Elo_home': 66.0,\n",
       "  'Elo_away': 44.0},\n",
       " 'https://www.besoccer.com/match/schalke-04/preuben-munster/19913883': {'Elo_home': 63.0,\n",
       "  'Elo_away': 57.0},\n",
       " 'https://www.besoccer.com/match/blau-weiss-1890-berlin/darmstadt-98/19913884': {'Elo_home': 56.0,\n",
       "  'Elo_away': 54.0},\n",
       " 'https://www.besoccer.com/match/schweinfurt/sc-freiburg/19913885': {'Elo_home': 40.0,\n",
       "  'Elo_away': 55.0},\n",
       " 'https://www.besoccer.com/match/saarbrucken/meppen/19913886': {'Elo_home': 59.0,\n",
       "  'Elo_away': 54.0},\n",
       " 'https://www.besoccer.com/match/havelse/mainz-amat/19913887': {'Elo_home': 55.0,\n",
       "  'Elo_away': 42.0},\n",
       " 'https://www.besoccer.com/match/stuttgarter-kickers/homburg/19913888': {'Elo_home': 61.0,\n",
       "  'Elo_away': 60.0},\n",
       " 'https://www.besoccer.com/match/saarbrucken/blau-weiss-1890-berlin/19913889': {'Elo_home': 59.0,\n",
       "  'Elo_away': 56.0},\n",
       " 'https://www.besoccer.com/match/preuben-munster/stuttgarter-kickers/19913890': {'Elo_home': 57.0,\n",
       "  'Elo_away': 61.0},\n",
       " 'https://www.besoccer.com/match/hannover-96/waldhof-mannheim/19913891': {'Elo_home': 59.0,\n",
       "  'Elo_away': 66.0},\n",
       " 'https://www.besoccer.com/match/mainz-amat/schweinfurt/19913892': {'Elo_home': 43.0,\n",
       "  'Elo_away': 40.0},\n",
       " 'https://www.besoccer.com/match/darmstadt-98/eintracht-brau-hellip/19913893': {'Elo_home': 54.0,\n",
       "  'Elo_away': 60.0},\n",
       " 'https://www.besoccer.com/match/vfb-oldenburg/schalke-04/19913894': {'Elo_home': 44.0,\n",
       "  'Elo_away': 63.0},\n",
       " 'https://www.besoccer.com/match/rot-weiss-essen/vfl-osnabruck/19913895': {'Elo_home': 54.0,\n",
       "  'Elo_away': 53.0},\n",
       " 'https://www.besoccer.com/match/sc-freiburg/msv-duisburg/19913896': {'Elo_home': 55.0,\n",
       "  'Elo_away': 55.0},\n",
       " 'https://www.besoccer.com/match/fortuna-koln/havelse/19913897': {'Elo_home': 55.0,\n",
       "  'Elo_away': 55.0},\n",
       " 'https://www.besoccer.com/match/meppen/homburg/19913898': {'Elo_home': 53.0,\n",
       "  'Elo_away': 60.0},\n",
       " 'https://www.besoccer.com/match/msv-duisburg/mainz-amat/19913899': {'Elo_home': 56.0,\n",
       "  'Elo_away': 43.0},\n",
       " 'https://www.besoccer.com/match/eintracht-brau-hellip/saarbrucken/19913900': {'Elo_home': 60.0,\n",
       "  'Elo_away': 59.0},\n",
       " 'https://www.besoccer.com/match/vfl-osnabruck/darmstadt-98/19913901': {'Elo_home': 53.0,\n",
       "  'Elo_away': 54.0},\n",
       " 'https://www.besoccer.com/match/schweinfurt/fortuna-koln/19913902': {'Elo_home': 40.0,\n",
       "  'Elo_away': 56.0},\n",
       " 'https://www.besoccer.com/match/waldhof-mannheim/sc-freiburg/19913903': {'Elo_home': 66.0,\n",
       "  'Elo_away': 55.0},\n",
       " 'https://www.besoccer.com/match/stuttgarter-kickers/vfb-oldenburg/19913904': {'Elo_home': 61.0,\n",
       "  'Elo_away': 44.0},\n",
       " 'https://www.besoccer.com/match/blau-weiss-1890-berlin/meppen/19913905': {'Elo_home': 56.0,\n",
       "  'Elo_away': 54.0},\n",
       " 'https://www.besoccer.com/match/schalke-04/hannover-96/19913906': {'Elo_home': 63.0,\n",
       "  'Elo_away': 59.0},\n",
       " 'https://www.besoccer.com/match/homburg/preuben-munster/19913907': {'Elo_home': 60.0,\n",
       "  'Elo_away': 57.0},\n",
       " 'https://www.besoccer.com/match/havelse/rot-weiss-essen/19913908': {'Elo_home': 55.0,\n",
       "  'Elo_away': 54.0},\n",
       " 'https://www.besoccer.com/match/fortuna-koln/msv-duisburg/19913909': {'Elo_home': 56.0,\n",
       "  'Elo_away': 56.0},\n",
       " 'https://www.besoccer.com/match/saarbrucken/vfl-osnabruck/19913910': {'Elo_home': 59.0,\n",
       "  'Elo_away': 53.0},\n",
       " 'https://www.besoccer.com/match/hannover-96/stuttgarter-kickers/19913911': {'Elo_home': 59.0,\n",
       "  'Elo_away': 61.0},\n",
       " 'https://www.besoccer.com/match/rot-weiss-essen/schweinfurt/19913912': {'Elo_home': 55.0,\n",
       "  'Elo_away': 40.0},\n",
       " 'https://www.besoccer.com/match/sc-freiburg/schalke-04/19913913': {'Elo_home': 54.0,\n",
       "  'Elo_away': 63.0},\n",
       " 'https://www.besoccer.com/match/vfb-oldenburg/homburg/19913914': {'Elo_home': 44.0,\n",
       "  'Elo_away': 60.0},\n",
       " 'https://www.besoccer.com/match/darmstadt-98/havelse/19913915': {'Elo_home': 55.0,\n",
       "  'Elo_away': 54.0},\n",
       " 'https://www.besoccer.com/match/meppen/preuben-munster/19913916': {'Elo_home': 54.0,\n",
       "  'Elo_away': 57.0},\n",
       " 'https://www.besoccer.com/match/mainz-amat/waldhof-mannheim/19913917': {'Elo_home': 43.0,\n",
       "  'Elo_away': 66.0},\n",
       " 'https://www.besoccer.com/match/blau-weiss-1890-berlin/eintracht-brau-hellip/19913918': {'Elo_home': 56.0,\n",
       "  'Elo_away': 59.0},\n",
       " 'https://www.besoccer.com/match/msv-duisburg/rot-weiss-essen/19913919': {'Elo_home': 56.0,\n",
       "  'Elo_away': 55.0},\n",
       " 'https://www.besoccer.com/match/preuben-munster/vfb-oldenburg/19913920': {'Elo_home': 57.0,\n",
       "  'Elo_away': 44.0},\n",
       " 'https://www.besoccer.com/match/vfl-osnabruck/blau-weiss-1890-berlin/19913921': {'Elo_home': 53.0,\n",
       "  'Elo_away': 56.0},\n",
       " 'https://www.besoccer.com/match/schweinfurt/darmstadt-98/19913922': {'Elo_home': 40.0,\n",
       "  'Elo_away': 55.0},\n",
       " 'https://www.besoccer.com/match/waldhof-mannheim/fortuna-koln/19913923': {'Elo_home': 66.0,\n",
       "  'Elo_away': 56.0},\n",
       " 'https://www.besoccer.com/match/stuttgarter-kickers/sc-freiburg/19913924': {'Elo_home': 61.0,\n",
       "  'Elo_away': 55.0},\n",
       " 'https://www.besoccer.com/match/eintracht-brau-hellip/meppen/19913925': {'Elo_home': 59.0,\n",
       "  'Elo_away': 54.0},\n",
       " 'https://www.besoccer.com/match/homburg/hannover-96/19913926': {'Elo_home': 59.0,\n",
       "  'Elo_away': 59.0},\n",
       " 'https://www.besoccer.com/match/havelse/saarbrucken/19913927': {'Elo_home': 54.0,\n",
       "  'Elo_away': 59.0},\n",
       " 'https://www.besoccer.com/match/schalke-04/mainz-amat/19913928': {'Elo_home': 63.0,\n",
       "  'Elo_away': 43.0},\n",
       " 'https://www.besoccer.com/match/rot-weiss-essen/waldhof-mannheim/19913929': {'Elo_home': 55.0,\n",
       "  'Elo_away': 65.0},\n",
       " 'https://www.besoccer.com/match/hannover-96/preuben-munster/19913930': {'Elo_home': 59.0,\n",
       "  'Elo_away': 57.0},\n",
       " 'https://www.besoccer.com/match/eintracht-brau-hellip/vfl-osnabruck/19913931': {'Elo_home': 59.0,\n",
       "  'Elo_away': 53.0},\n",
       " 'https://www.besoccer.com/match/sc-freiburg/homburg/19913932': {'Elo_home': 55.0,\n",
       "  'Elo_away': 59.0},\n",
       " 'https://www.besoccer.com/match/mainz-amat/stuttgarter-kickers/19913933': {'Elo_home': 43.0,\n",
       "  'Elo_away': 61.0},\n",
       " 'https://www.besoccer.com/match/darmstadt-98/msv-duisburg/19913934': {'Elo_home': 55.0,\n",
       "  'Elo_away': 56.0},\n",
       " 'https://www.besoccer.com/match/blau-weiss-1890-berlin/havelse/19913935': {'Elo_home': 56.0,\n",
       "  'Elo_away': 54.0},\n",
       " 'https://www.besoccer.com/match/fortuna-koln/schalke-04/19913936': {'Elo_home': 55.0,\n",
       "  'Elo_away': 63.0},\n",
       " 'https://www.besoccer.com/match/saarbrucken/schweinfurt/19913937': {'Elo_home': 59.0,\n",
       "  'Elo_away': 40.0},\n",
       " 'https://www.besoccer.com/match/vfb-oldenburg/meppen/19913938': {'Elo_home': 44.0,\n",
       "  'Elo_away': 54.0},\n",
       " 'https://www.besoccer.com/match/msv-duisburg/saarbrucken/19913939': {'Elo_home': 56.0,\n",
       "  'Elo_away': 59.0},\n",
       " 'https://www.besoccer.com/match/homburg/mainz-amat/19913940': {'Elo_home': 59.0,\n",
       "  'Elo_away': 43.0},\n",
       " 'https://www.besoccer.com/match/havelse/eintracht-brau-hellip/19913941': {'Elo_home': 54.0,\n",
       "  'Elo_away': 59.0},\n",
       " 'https://www.besoccer.com/match/schalke-04/rot-weiss-essen/19913942': {'Elo_home': 63.0,\n",
       "  'Elo_away': 55.0},\n",
       " 'https://www.besoccer.com/match/schweinfurt/blau-weiss-1890-berlin/19913943': {'Elo_home': 39.0,\n",
       "  'Elo_away': 56.0},\n",
       " 'https://www.besoccer.com/match/waldhof-mannheim/darmstadt-98/19913944': {'Elo_home': 65.0,\n",
       "  'Elo_away': 55.0},\n",
       " 'https://www.besoccer.com/match/stuttgarter-kickers/fortuna-koln/19913945': {'Elo_home': 61.0,\n",
       "  'Elo_away': 55.0},\n",
       " 'https://www.besoccer.com/match/vfb-oldenburg/hannover-96/19913946': {'Elo_home': 44.0,\n",
       "  'Elo_away': 59.0},\n",
       " 'https://www.besoccer.com/match/meppen/vfl-osnabruck/19913947': {'Elo_home': 54.0,\n",
       "  'Elo_away': 53.0},\n",
       " 'https://www.besoccer.com/match/preuben-munster/sc-freiburg/19913948': {'Elo_home': 57.0,\n",
       "  'Elo_away': 55.0},\n",
       " 'https://www.besoccer.com/match/eintracht-brau-hellip/schweinfurt/19913949': {'Elo_home': 59.0,\n",
       "  'Elo_away': 40.0},\n",
       " 'https://www.besoccer.com/match/saarbrucken/waldhof-mannheim/19913950': {'Elo_home': 59.0,\n",
       "  'Elo_away': 65.0},\n",
       " 'https://www.besoccer.com/match/fortuna-koln/homburg/19913951': {'Elo_home': 56.0,\n",
       "  'Elo_away': 59.0},\n",
       " 'https://www.besoccer.com/match/sc-freiburg/vfb-oldenburg/19913952': {'Elo_home': 55.0,\n",
       "  'Elo_away': 44.0},\n",
       " 'https://www.besoccer.com/match/mainz-amat/preuben-munster/19913953': {'Elo_home': 43.0,\n",
       "  'Elo_away': 57.0},\n",
       " 'https://www.besoccer.com/match/rot-weiss-essen/stuttgarter-kickers/19913954': {'Elo_home': 55.0,\n",
       "  'Elo_away': 61.0},\n",
       " 'https://www.besoccer.com/match/blau-weiss-1890-berlin/msv-duisburg/19913955': {'Elo_home': 56.0,\n",
       "  'Elo_away': 56.0},\n",
       " 'https://www.besoccer.com/match/darmstadt-98/schalke-04/19913956': {'Elo_home': 55.0,\n",
       "  'Elo_away': 63.0},\n",
       " 'https://www.besoccer.com/match/vfl-osnabruck/havelse/19913957': {'Elo_home': 53.0,\n",
       "  'Elo_away': 54.0},\n",
       " 'https://www.besoccer.com/match/hannover-96/meppen/19913958': {'Elo_home': 59.0,\n",
       "  'Elo_away': 54.0},\n",
       " 'https://www.besoccer.com/match/saarbrucken/schalke-04/19913959': {'Elo_home': 59.0,\n",
       "  'Elo_away': 63.0},\n",
       " 'https://www.besoccer.com/match/eintracht-brau-hellip/msv-duisburg/19913960': {'Elo_home': 59.0,\n",
       "  'Elo_away': 57.0},\n",
       " 'https://www.besoccer.com/match/blau-weiss-1890-berlin/waldhof-mannheim/19913961': {'Elo_home': 56.0,\n",
       "  'Elo_away': 65.0},\n",
       " 'https://www.besoccer.com/match/rot-weiss-essen/homburg/19913962': {'Elo_home': 55.0,\n",
       "  'Elo_away': 59.0},\n",
       " 'https://www.besoccer.com/match/fortuna-koln/preuben-munster/19913963': {'Elo_home': 56.0,\n",
       "  'Elo_away': 57.0},\n",
       " 'https://www.besoccer.com/match/darmstadt-98/stuttgarter-kickers/19913964': {'Elo_home': 55.0,\n",
       "  'Elo_away': 61.0},\n",
       " 'https://www.besoccer.com/match/havelse/meppen/19913965': {'Elo_home': 54.0,\n",
       "  'Elo_away': 54.0},\n",
       " 'https://www.besoccer.com/match/vfl-osnabruck/schweinfurt/19913966': {'Elo_home': 53.0,\n",
       "  'Elo_away': 39.0},\n",
       " 'https://www.besoccer.com/match/mainz-amat/vfb-oldenburg/19913967': {'Elo_home': 43.0,\n",
       "  'Elo_away': 44.0},\n",
       " 'https://www.besoccer.com/match/sc-freiburg/hannover-96/19913968': {'Elo_home': 55.0,\n",
       "  'Elo_away': 59.0},\n",
       " 'https://www.besoccer.com/match/meppen/sc-freiburg/19913969': {'Elo_home': 54.0,\n",
       "  'Elo_away': 55.0},\n",
       " 'https://www.besoccer.com/match/hannover-96/mainz-amat/19913970': {'Elo_home': 59.0,\n",
       "  'Elo_away': 44.0},\n",
       " 'https://www.besoccer.com/match/preuben-munster/rot-weiss-essen/19913971': {'Elo_home': 57.0,\n",
       "  'Elo_away': 55.0},\n",
       " 'https://www.besoccer.com/match/schalke-04/blau-weiss-1890-berlin/19913972': {'Elo_home': 63.0,\n",
       "  'Elo_away': 56.0},\n",
       " 'https://www.besoccer.com/match/msv-duisburg/vfl-osnabruck/19913973': {'Elo_home': 57.0,\n",
       "  'Elo_away': 53.0},\n",
       " 'https://www.besoccer.com/match/schweinfurt/havelse/19913974': {'Elo_home': 39.0,\n",
       "  'Elo_away': 54.0},\n",
       " 'https://www.besoccer.com/match/vfb-oldenburg/fortuna-koln/19913975': {'Elo_home': 44.0,\n",
       "  'Elo_away': 56.0},\n",
       " 'https://www.besoccer.com/match/homburg/darmstadt-98/19913976': {'Elo_home': 60.0,\n",
       "  'Elo_away': 55.0},\n",
       " 'https://www.besoccer.com/match/waldhof-mannheim/eintracht-brau-hellip/19913977': {'Elo_home': 65.0,\n",
       "  'Elo_away': 59.0},\n",
       " 'https://www.besoccer.com/match/stuttgarter-kickers/saarbrucken/19913978': {'Elo_home': 62.0,\n",
       "  'Elo_away': 59.0},\n",
       " 'https://www.besoccer.com/match/eintracht-brau-hellip/schalke-04/19913979': {'Elo_home': 59.0,\n",
       "  'Elo_away': 63.0},\n",
       " 'https://www.besoccer.com/match/mainz-amat/sc-freiburg/19913980': {'Elo_home': 43.0,\n",
       "  'Elo_away': 54.0},\n",
       " 'https://www.besoccer.com/match/havelse/msv-duisburg/19913981': {'Elo_home': 54.0,\n",
       "  'Elo_away': 57.0},\n",
       " 'https://www.besoccer.com/match/fortuna-koln/hannover-96/19913982': {'Elo_home': 55.0,\n",
       "  'Elo_away': 59.0},\n",
       " 'https://www.besoccer.com/match/vfl-osnabruck/waldhof-mannheim/19913983': {'Elo_home': 53.0,\n",
       "  'Elo_away': 65.0},\n",
       " 'https://www.besoccer.com/match/blau-weiss-1890-berlin/stuttgarter-kickers/19913984': {'Elo_home': 56.0,\n",
       "  'Elo_away': 61.0},\n",
       " 'https://www.besoccer.com/match/rot-weiss-essen/vfb-oldenburg/19913985': {'Elo_home': 55.0,\n",
       "  'Elo_away': 45.0},\n",
       " 'https://www.besoccer.com/match/darmstadt-98/preuben-munster/19913986': {'Elo_home': 55.0,\n",
       "  'Elo_away': 57.0},\n",
       " 'https://www.besoccer.com/match/saarbrucken/homburg/19913987': {'Elo_home': 59.0,\n",
       "  'Elo_away': 59.0},\n",
       " 'https://www.besoccer.com/match/schweinfurt/meppen/19913988': {'Elo_home': 39.0,\n",
       "  'Elo_away': 54.0},\n",
       " 'https://www.besoccer.com/match/preuben-munster/saarbrucken/19913989': {'Elo_home': 57.0,\n",
       "  'Elo_away': 59.0},\n",
       " 'https://www.besoccer.com/match/sc-freiburg/fortuna-koln/19913990': {'Elo_home': 54.0,\n",
       "  'Elo_away': 55.0},\n",
       " 'https://www.besoccer.com/match/homburg/blau-weiss-1890-berlin/19913991': {'Elo_home': 59.0,\n",
       "  'Elo_away': 56.0},\n",
       " 'https://www.besoccer.com/match/stuttgarter-kickers/eintracht-brau-hellip/19913992': {'Elo_home': 61.0,\n",
       "  'Elo_away': 59.0},\n",
       " 'https://www.besoccer.com/match/vfb-oldenburg/darmstadt-98/19913993': {'Elo_home': 44.0,\n",
       "  'Elo_away': 55.0},\n",
       " 'https://www.besoccer.com/match/waldhof-mannheim/havelse/19913994': {'Elo_home': 65.0,\n",
       "  'Elo_away': 54.0},\n",
       " 'https://www.besoccer.com/match/schalke-04/vfl-osnabruck/19913995': {'Elo_home': 63.0,\n",
       "  'Elo_away': 53.0},\n",
       " 'https://www.besoccer.com/match/hannover-96/rot-weiss-essen/19913996': {'Elo_home': 59.0,\n",
       "  'Elo_away': 55.0},\n",
       " 'https://www.besoccer.com/match/msv-duisburg/schweinfurt/19913997': {'Elo_home': 57.0,\n",
       "  'Elo_away': 39.0},\n",
       " 'https://www.besoccer.com/match/meppen/mainz-amat/19913998': {'Elo_home': 54.0,\n",
       "  'Elo_away': 43.0},\n",
       " 'https://www.besoccer.com/match/fortuna-koln/mainz-amat/19913999': {'Elo_home': 55.0,\n",
       "  'Elo_away': 43.0},\n",
       " 'https://www.besoccer.com/match/msv-duisburg/meppen/19914000': {'Elo_home': 57.0,\n",
       "  'Elo_away': 54.0},\n",
       " 'https://www.besoccer.com/match/rot-weiss-essen/sc-freiburg/19914001': {'Elo_home': 54.0,\n",
       "  'Elo_away': 55.0},\n",
       " 'https://www.besoccer.com/match/havelse/schalke-04/19914002': {'Elo_home': 54.0,\n",
       "  'Elo_away': 63.0},\n",
       " 'https://www.besoccer.com/match/blau-weiss-1890-berlin/preuben-munster/19914003': {'Elo_home': 56.0,\n",
       "  'Elo_away': 57.0},\n",
       " 'https://www.besoccer.com/match/darmstadt-98/hannover-96/19914004': {'Elo_home': 54.0,\n",
       "  'Elo_away': 59.0},\n",
       " 'https://www.besoccer.com/match/schweinfurt/waldhof-mannheim/19914005': {'Elo_home': 39.0,\n",
       "  'Elo_away': 65.0},\n",
       " 'https://www.besoccer.com/match/vfl-osnabruck/stuttgarter-kickers/19914006': {'Elo_home': 53.0,\n",
       "  'Elo_away': 61.0},\n",
       " 'https://www.besoccer.com/match/eintracht-brau-hellip/homburg/19914007': {'Elo_home': 59.0,\n",
       "  'Elo_away': 60.0},\n",
       " 'https://www.besoccer.com/match/saarbrucken/vfb-oldenburg/19914008': {'Elo_home': 59.0,\n",
       "  'Elo_away': 45.0},\n",
       " 'https://www.besoccer.com/match/preuben-munster/eintracht-brau-hellip/19914009': {'Elo_home': 57.0,\n",
       "  'Elo_away': 59.0},\n",
       " 'https://www.besoccer.com/match/sc-freiburg/darmstadt-98/19914010': {'Elo_home': 54.0,\n",
       "  'Elo_away': 55.0},\n",
       " 'https://www.besoccer.com/match/schalke-04/schweinfurt/19914011': {'Elo_home': 63.0,\n",
       "  'Elo_away': 40.0},\n",
       " 'https://www.besoccer.com/match/waldhof-mannheim/msv-duisburg/19914012': {'Elo_home': 65.0,\n",
       "  'Elo_away': 57.0},\n",
       " 'https://www.besoccer.com/match/vfb-oldenburg/blau-weiss-1890-berlin/19914013': {'Elo_home': 45.0,\n",
       "  'Elo_away': 56.0},\n",
       " 'https://www.besoccer.com/match/homburg/vfl-osnabruck/19914014': {'Elo_home': 60.0,\n",
       "  'Elo_away': 53.0},\n",
       " 'https://www.besoccer.com/match/stuttgarter-kickers/havelse/19914015': {'Elo_home': 61.0,\n",
       "  'Elo_away': 54.0},\n",
       " 'https://www.besoccer.com/match/hannover-96/saarbrucken/19914016': {'Elo_home': 59.0,\n",
       "  'Elo_away': 60.0},\n",
       " 'https://www.besoccer.com/match/mainz-amat/rot-weiss-essen/19914017': {'Elo_home': 43.0,\n",
       "  'Elo_away': 55.0},\n",
       " 'https://www.besoccer.com/match/meppen/fortuna-koln/19914018': {'Elo_home': 54.0,\n",
       "  'Elo_away': 55.0},\n",
       " 'https://www.besoccer.com/match/saarbrucken/sc-freiburg/19914019': {'Elo_home': 60.0,\n",
       "  'Elo_away': 54.0},\n",
       " 'https://www.besoccer.com/match/msv-duisburg/schalke-04/19914020': {'Elo_home': 57.0,\n",
       "  'Elo_away': 64.0},\n",
       " 'https://www.besoccer.com/match/rot-weiss-essen/fortuna-koln/19914021': {'Elo_home': 54.0,\n",
       "  'Elo_away': 55.0},\n",
       " 'https://www.besoccer.com/match/schweinfurt/stuttgarter-kickers/19914022': {'Elo_home': 40.0,\n",
       "  'Elo_away': 62.0},\n",
       " 'https://www.besoccer.com/match/waldhof-mannheim/meppen/19914023': {'Elo_home': 65.0,\n",
       "  'Elo_away': 54.0},\n",
       " 'https://www.besoccer.com/match/eintracht-brau-hellip/vfb-oldenburg/19914024': {'Elo_home': 59.0,\n",
       "  'Elo_away': 45.0},\n",
       " 'https://www.besoccer.com/match/blau-weiss-1890-berlin/hannover-96/19914025': {'Elo_home': 56.0,\n",
       "  'Elo_away': 59.0},\n",
       " 'https://www.besoccer.com/match/havelse/homburg/19914026': {'Elo_home': 54.0,\n",
       "  'Elo_away': 59.0},\n",
       " 'https://www.besoccer.com/match/darmstadt-98/mainz-amat/19914027': {'Elo_home': 55.0,\n",
       "  'Elo_away': 44.0},\n",
       " 'https://www.besoccer.com/match/vfl-osnabruck/preuben-munster/19914028': {'Elo_home': 53.0,\n",
       "  'Elo_away': 57.0},\n",
       " 'https://www.besoccer.com/match/hannover-96/eintracht-brau-hellip/19914029': {'Elo_home': 59.0,\n",
       "  'Elo_away': 59.0},\n",
       " 'https://www.besoccer.com/match/meppen/rot-weiss-essen/19914030': {'Elo_home': 54.0,\n",
       "  'Elo_away': 54.0},\n",
       " 'https://www.besoccer.com/match/sc-freiburg/blau-weiss-1890-berlin/19914031': {'Elo_home': 54.0,\n",
       "  'Elo_away': 56.0},\n",
       " 'https://www.besoccer.com/match/vfb-oldenburg/vfl-osnabruck/19914032': {'Elo_home': 45.0,\n",
       "  'Elo_away': 53.0},\n",
       " 'https://www.besoccer.com/match/homburg/schweinfurt/19914033': {'Elo_home': 59.0,\n",
       "  'Elo_away': 39.0},\n",
       " 'https://www.besoccer.com/match/stuttgarter-kickers/msv-duisburg/19914034': {'Elo_home': 62.0,\n",
       "  'Elo_away': 58.0},\n",
       " 'https://www.besoccer.com/match/fortuna-koln/darmstadt-98/19914035': {'Elo_home': 55.0,\n",
       "  'Elo_away': 55.0},\n",
       " 'https://www.besoccer.com/match/mainz-amat/saarbrucken/19914036': {'Elo_home': 44.0,\n",
       "  'Elo_away': 59.0},\n",
       " 'https://www.besoccer.com/match/preuben-munster/havelse/19914037': {'Elo_home': 57.0,\n",
       "  'Elo_away': 54.0},\n",
       " 'https://www.besoccer.com/match/schalke-04/waldhof-mannheim/19914038': {'Elo_home': 64.0,\n",
       "  'Elo_away': 65.0},\n",
       " 'https://www.besoccer.com/match/vfl-osnabruck/hannover-96/19914039': {'Elo_home': 53.0,\n",
       "  'Elo_away': 59.0},\n",
       " 'https://www.besoccer.com/match/darmstadt-98/rot-weiss-essen/19914040': {'Elo_home': 55.0,\n",
       "  'Elo_away': 54.0},\n",
       " 'https://www.besoccer.com/match/eintracht-brau-hellip/sc-freiburg/19914041': {'Elo_home': 59.0,\n",
       "  'Elo_away': 54.0},\n",
       " 'https://www.besoccer.com/match/blau-weiss-1890-berlin/mainz-amat/19914042': {'Elo_home': 56.0,\n",
       "  'Elo_away': 44.0},\n",
       " 'https://www.besoccer.com/match/saarbrucken/fortuna-koln/19914043': {'Elo_home': 59.0,\n",
       "  'Elo_away': 55.0},\n",
       " 'https://www.besoccer.com/match/msv-duisburg/homburg/19914044': {'Elo_home': 58.0,\n",
       "  'Elo_away': 59.0},\n",
       " 'https://www.besoccer.com/match/schweinfurt/preuben-munster/19914045': {'Elo_home': 39.0,\n",
       "  'Elo_away': 57.0},\n",
       " 'https://www.besoccer.com/match/schalke-04/meppen/19914046': {'Elo_home': 63.0,\n",
       "  'Elo_away': 54.0},\n",
       " 'https://www.besoccer.com/match/havelse/vfb-oldenburg/19914047': {'Elo_home': 53.0,\n",
       "  'Elo_away': 45.0},\n",
       " 'https://www.besoccer.com/match/waldhof-mannheim/stuttgarter-kickers/19914048': {'Elo_home': 65.0,\n",
       "  'Elo_away': 62.0},\n",
       " 'https://www.besoccer.com/match/preuben-munster/msv-duisburg/19914049': {'Elo_home': 57.0,\n",
       "  'Elo_away': 58.0},\n",
       " 'https://www.besoccer.com/match/rot-weiss-essen/saarbrucken/19914050': {'Elo_home': 54.0,\n",
       "  'Elo_away': 59.0},\n",
       " 'https://www.besoccer.com/match/hannover-96/havelse/19914051': {'Elo_home': 59.0,\n",
       "  'Elo_away': 54.0},\n",
       " 'https://www.besoccer.com/match/meppen/darmstadt-98/19914052': {'Elo_home': 54.0,\n",
       "  'Elo_away': 55.0},\n",
       " 'https://www.besoccer.com/match/mainz-amat/eintracht-brau-hellip/19914053': {'Elo_home': 44.0,\n",
       "  'Elo_away': 59.0},\n",
       " 'https://www.besoccer.com/match/vfb-oldenburg/schweinfurt/19914054': {'Elo_home': 45.0,\n",
       "  'Elo_away': 39.0},\n",
       " 'https://www.besoccer.com/match/stuttgarter-kickers/schalke-04/19914055': {'Elo_home': 62.0,\n",
       "  'Elo_away': 63.0},\n",
       " 'https://www.besoccer.com/match/fortuna-koln/blau-weiss-1890-berlin/19914056': {'Elo_home': 55.0,\n",
       "  'Elo_away': 56.0},\n",
       " 'https://www.besoccer.com/match/sc-freiburg/vfl-osnabruck/19914057': {'Elo_home': 54.0,\n",
       "  'Elo_away': 53.0},\n",
       " 'https://www.besoccer.com/match/homburg/waldhof-mannheim/19914058': {'Elo_home': 59.0,\n",
       "  'Elo_away': 65.0},\n",
       " 'https://www.besoccer.com/match/saarbrucken/darmstadt-98/19914059': {'Elo_home': 59.0,\n",
       "  'Elo_away': 55.0},\n",
       " 'https://www.besoccer.com/match/schweinfurt/hannover-96/19914060': {'Elo_home': 39.0,\n",
       "  'Elo_away': 60.0},\n",
       " 'https://www.besoccer.com/match/msv-duisburg/vfb-oldenburg/19914061': {'Elo_home': 58.0,\n",
       "  'Elo_away': 45.0},\n",
       " 'https://www.besoccer.com/match/blau-weiss-1890-berlin/rot-weiss-essen/19914062': {'Elo_home': 56.0,\n",
       "  'Elo_away': 54.0},\n",
       " 'https://www.besoccer.com/match/stuttgarter-kickers/meppen/19914063': {'Elo_home': 62.0,\n",
       "  'Elo_away': 54.0},\n",
       " 'https://www.besoccer.com/match/vfl-osnabruck/mainz-amat/19914064': {'Elo_home': 53.0,\n",
       "  'Elo_away': 44.0},\n",
       " 'https://www.besoccer.com/match/schalke-04/homburg/19914065': {'Elo_home': 63.0,\n",
       "  'Elo_away': 59.0},\n",
       " 'https://www.besoccer.com/match/waldhof-mannheim/preuben-munster/19914066': {'Elo_home': 65.0,\n",
       "  'Elo_away': 57.0},\n",
       " 'https://www.besoccer.com/match/eintracht-brau-hellip/fortuna-koln/19914067': {'Elo_home': 59.0,\n",
       "  'Elo_away': 56.0},\n",
       " 'https://www.besoccer.com/match/havelse/sc-freiburg/19914068': {'Elo_home': 53.0,\n",
       "  'Elo_away': 54.0},\n",
       " 'https://www.besoccer.com/match/darmstadt-98/blau-weiss-1890-berlin/19914069': {'Elo_home': 54.0,\n",
       "  'Elo_away': 56.0},\n",
       " 'https://www.besoccer.com/match/sc-freiburg/schweinfurt/19914070': {'Elo_home': 54.0,\n",
       "  'Elo_away': 39.0},\n",
       " 'https://www.besoccer.com/match/homburg/stuttgarter-kickers/19914071': {'Elo_home': 59.0,\n",
       "  'Elo_away': 62.0},\n",
       " 'https://www.besoccer.com/match/fortuna-koln/vfl-osnabruck/19914072': {'Elo_home': 55.0,\n",
       "  'Elo_away': 53.0},\n",
       " 'https://www.besoccer.com/match/hannover-96/msv-duisburg/19914073': {'Elo_home': 60.0,\n",
       "  'Elo_away': 58.0},\n",
       " 'https://www.besoccer.com/match/preuben-munster/schalke-04/19914074': {'Elo_home': 57.0,\n",
       "  'Elo_away': 64.0},\n",
       " 'https://www.besoccer.com/match/rot-weiss-essen/eintracht-brau-hellip/19914075': {'Elo_home': 54.0,\n",
       "  'Elo_away': 59.0},\n",
       " 'https://www.besoccer.com/match/vfb-oldenburg/waldhof-mannheim/19914076': {'Elo_home': 45.0,\n",
       "  'Elo_away': 65.0},\n",
       " 'https://www.besoccer.com/match/meppen/saarbrucken/19914077': {'Elo_home': 54.0,\n",
       "  'Elo_away': 59.0},\n",
       " 'https://www.besoccer.com/match/mainz-amat/havelse/19914078': {'Elo_home': 44.0,\n",
       "  'Elo_away': 53.0},\n",
       " 'https://www.besoccer.com/match/msv-duisburg/sc-freiburg/19914079': {'Elo_home': 58.0,\n",
       "  'Elo_away': 55.0},\n",
       " 'https://www.besoccer.com/match/vfl-osnabruck/rot-weiss-essen/19914080': {'Elo_home': 53.0,\n",
       "  'Elo_away': 54.0},\n",
       " 'https://www.besoccer.com/match/blau-weiss-1890-berlin/saarbrucken/19914081': {'Elo_home': 56.0,\n",
       "  'Elo_away': 59.0},\n",
       " 'https://www.besoccer.com/match/homburg/meppen/19914082': {'Elo_home': 59.0,\n",
       "  'Elo_away': 54.0},\n",
       " 'https://www.besoccer.com/match/schweinfurt/mainz-amat/19914083': {'Elo_home': 39.0,\n",
       "  'Elo_away': 44.0},\n",
       " 'https://www.besoccer.com/match/havelse/fortuna-koln/19914084': {'Elo_home': 53.0,\n",
       "  'Elo_away': 55.0},\n",
       " 'https://www.besoccer.com/match/waldhof-mannheim/hannover-96/19914085': {'Elo_home': 65.0,\n",
       "  'Elo_away': 60.0},\n",
       " 'https://www.besoccer.com/match/eintracht-brau-hellip/darmstadt-98/19914086': {'Elo_home': 59.0,\n",
       "  'Elo_away': 54.0},\n",
       " 'https://www.besoccer.com/match/stuttgarter-kickers/preuben-munster/19914087': {'Elo_home': 62.0,\n",
       "  'Elo_away': 57.0},\n",
       " 'https://www.besoccer.com/match/schalke-04/vfb-oldenburg/19914088': {'Elo_home': 64.0,\n",
       "  'Elo_away': 45.0},\n",
       " 'https://www.besoccer.com/match/fortuna-koln/schweinfurt/19914089': {'Elo_home': 56.0,\n",
       "  'Elo_away': 39.0},\n",
       " 'https://www.besoccer.com/match/rot-weiss-essen/havelse/19914090': {'Elo_home': 54.0,\n",
       "  'Elo_away': 53.0},\n",
       " 'https://www.besoccer.com/match/saarbrucken/eintracht-brau-hellip/19914091': {'Elo_home': 59.0,\n",
       "  'Elo_away': 59.0},\n",
       " 'https://www.besoccer.com/match/mainz-amat/msv-duisburg/19914092': {'Elo_home': 44.0,\n",
       "  'Elo_away': 58.0},\n",
       " 'https://www.besoccer.com/match/sc-freiburg/waldhof-mannheim/19914093': {'Elo_home': 55.0,\n",
       "  'Elo_away': 65.0},\n",
       " 'https://www.besoccer.com/match/vfb-oldenburg/stuttgarter-kickers/19914094': {'Elo_home': 45.0,\n",
       "  'Elo_away': 62.0},\n",
       " 'https://www.besoccer.com/match/darmstadt-98/vfl-osnabruck/19914095': {'Elo_home': 54.0,\n",
       "  'Elo_away': 53.0},\n",
       " 'https://www.besoccer.com/match/hannover-96/schalke-04/19914096': {'Elo_home': 60.0,\n",
       "  'Elo_away': 64.0},\n",
       " 'https://www.besoccer.com/match/preuben-munster/homburg/19914097': {'Elo_home': 57.0,\n",
       "  'Elo_away': 59.0},\n",
       " 'https://www.besoccer.com/match/meppen/blau-weiss-1890-berlin/19914098': {'Elo_home': 54.0,\n",
       "  'Elo_away': 56.0},\n",
       " 'https://www.besoccer.com/match/vfl-osnabruck/saarbrucken/19914099': {'Elo_home': 53.0,\n",
       "  'Elo_away': 59.0},\n",
       " 'https://www.besoccer.com/match/msv-duisburg/fortuna-koln/19914100': {'Elo_home': 58.0,\n",
       "  'Elo_away': 56.0},\n",
       " 'https://www.besoccer.com/match/eintracht-brau-hellip/blau-weiss-1890-berlin/19914101': {'Elo_home': 59.0,\n",
       "  'Elo_away': 56.0},\n",
       " 'https://www.besoccer.com/match/schalke-04/sc-freiburg/19914102': {'Elo_home': 64.0,\n",
       "  'Elo_away': 54.0},\n",
       " 'https://www.besoccer.com/match/waldhof-mannheim/mainz-amat/19914103': {'Elo_home': 65.0,\n",
       "  'Elo_away': 44.0},\n",
       " 'https://www.besoccer.com/match/stuttgarter-kickers/hannover-96/19914104': {'Elo_home': 62.0,\n",
       "  'Elo_away': 60.0},\n",
       " 'https://www.besoccer.com/match/schweinfurt/rot-weiss-essen/19914105': {'Elo_home': 38.0,\n",
       "  'Elo_away': 54.0},\n",
       " 'https://www.besoccer.com/match/preuben-munster/meppen/19914106': {'Elo_home': 57.0,\n",
       "  'Elo_away': 54.0},\n",
       " 'https://www.besoccer.com/match/havelse/darmstadt-98/19914107': {'Elo_home': 53.0,\n",
       "  'Elo_away': 54.0},\n",
       " 'https://www.besoccer.com/match/homburg/vfb-oldenburg/19914108': {'Elo_home': 59.0,\n",
       "  'Elo_away': 45.0},\n",
       " 'https://www.besoccer.com/match/blau-weiss-1890-berlin/vfl-osnabruck/19914109': {'Elo_home': 56.0,\n",
       "  'Elo_away': 53.0},\n",
       " 'https://www.besoccer.com/match/fortuna-koln/waldhof-mannheim/19914110': {'Elo_home': 56.0,\n",
       "  'Elo_away': 65.0},\n",
       " 'https://www.besoccer.com/match/mainz-amat/schalke-04/19914111': {'Elo_home': 44.0,\n",
       "  'Elo_away': 64.0},\n",
       " 'https://www.besoccer.com/match/meppen/eintracht-brau-hellip/19914112': {'Elo_home': 54.0,\n",
       "  'Elo_away': 59.0},\n",
       " 'https://www.besoccer.com/match/darmstadt-98/schweinfurt/19914113': {'Elo_home': 54.0,\n",
       "  'Elo_away': 38.0},\n",
       " 'https://www.besoccer.com/match/saarbrucken/havelse/19914114': {'Elo_home': 59.0,\n",
       "  'Elo_away': 53.0},\n",
       " 'https://www.besoccer.com/match/hannover-96/homburg/19914115': {'Elo_home': 60.0,\n",
       "  'Elo_away': 59.0},\n",
       " 'https://www.besoccer.com/match/rot-weiss-essen/msv-duisburg/19914116': {'Elo_home': 54.0,\n",
       "  'Elo_away': 58.0},\n",
       " 'https://www.besoccer.com/match/vfb-oldenburg/preuben-munster/19914117': {'Elo_home': 45.0,\n",
       "  'Elo_away': 57.0},\n",
       " 'https://www.besoccer.com/match/sc-freiburg/stuttgarter-kickers/19914118': {'Elo_home': 54.0,\n",
       "  'Elo_away': 62.0},\n",
       " 'https://www.besoccer.com/match/homburg/sc-freiburg/19914119': {'Elo_home': 60.0,\n",
       "  'Elo_away': 54.0},\n",
       " 'https://www.besoccer.com/match/schweinfurt/saarbrucken/19914120': {'Elo_home': 38.0,\n",
       "  'Elo_away': 59.0},\n",
       " 'https://www.besoccer.com/match/msv-duisburg/darmstadt-98/19914121': {'Elo_home': 58.0,\n",
       "  'Elo_away': 54.0},\n",
       " 'https://www.besoccer.com/match/stuttgarter-kickers/mainz-amat/19914122': {'Elo_home': 61.0,\n",
       "  'Elo_away': 44.0},\n",
       " 'https://www.besoccer.com/match/vfl-osnabruck/eintracht-brau-hellip/19914123': {'Elo_home': 53.0,\n",
       "  'Elo_away': 58.0},\n",
       " 'https://www.besoccer.com/match/schalke-04/fortuna-koln/19914124': {'Elo_home': 64.0,\n",
       "  'Elo_away': 56.0},\n",
       " 'https://www.besoccer.com/match/waldhof-mannheim/rot-weiss-essen/19914125': {'Elo_home': 65.0,\n",
       "  'Elo_away': 55.0},\n",
       " 'https://www.besoccer.com/match/havelse/blau-weiss-1890-berlin/19914126': {'Elo_home': 53.0,\n",
       "  'Elo_away': 56.0},\n",
       " 'https://www.besoccer.com/match/preuben-munster/hannover-96/19914127': {'Elo_home': 57.0,\n",
       "  'Elo_away': 60.0},\n",
       " 'https://www.besoccer.com/match/meppen/vfb-oldenburg/19914128': {'Elo_home': 54.0,\n",
       "  'Elo_away': 46.0},\n",
       " 'https://www.besoccer.com/match/fortuna-koln/stuttgarter-kickers/19914129': {'Elo_home': 56.0,\n",
       "  'Elo_away': 61.0},\n",
       " 'https://www.besoccer.com/match/blau-weiss-1890-berlin/schweinfurt/19914130': {'Elo_home': 56.0,\n",
       "  'Elo_away': 39.0},\n",
       " 'https://www.besoccer.com/match/saarbrucken/msv-duisburg/19914131': {'Elo_home': 59.0,\n",
       "  'Elo_away': 59.0},\n",
       " 'https://www.besoccer.com/match/eintracht-brau-hellip/havelse/19914132': {'Elo_home': 58.0,\n",
       "  'Elo_away': 52.0},\n",
       " 'https://www.besoccer.com/match/rot-weiss-essen/schalke-04/19914133': {'Elo_home': 55.0,\n",
       "  'Elo_away': 64.0},\n",
       " 'https://www.besoccer.com/match/mainz-amat/homburg/19914134': {'Elo_home': 44.0,\n",
       "  'Elo_away': 60.0},\n",
       " 'https://www.besoccer.com/match/sc-freiburg/preuben-munster/19914135': {'Elo_home': 54.0,\n",
       "  'Elo_away': 57.0},\n",
       " 'https://www.besoccer.com/match/hannover-96/vfb-oldenburg/19914136': {'Elo_home': 60.0,\n",
       "  'Elo_away': 46.0},\n",
       " 'https://www.besoccer.com/match/vfl-osnabruck/meppen/19914137': {'Elo_home': 53.0,\n",
       "  'Elo_away': 54.0},\n",
       " 'https://www.besoccer.com/match/darmstadt-98/waldhof-mannheim/19914138': {'Elo_home': 54.0,\n",
       "  'Elo_away': 65.0},\n",
       " 'https://www.besoccer.com/match/stuttgarter-kickers/rot-weiss-essen/19914139': {'Elo_home': 62.0,\n",
       "  'Elo_away': 55.0},\n",
       " 'https://www.besoccer.com/match/vfb-oldenburg/sc-freiburg/19914140': {'Elo_home': 46.0,\n",
       "  'Elo_away': 54.0},\n",
       " 'https://www.besoccer.com/match/schweinfurt/eintracht-brau-hellip/19914141': {'Elo_home': 38.0,\n",
       "  'Elo_away': 58.0},\n",
       " 'https://www.besoccer.com/match/preuben-munster/mainz-amat/19914142': {'Elo_home': 56.0,\n",
       "  'Elo_away': 44.0},\n",
       " 'https://www.besoccer.com/match/homburg/fortuna-koln/19914143': {'Elo_home': 60.0,\n",
       "  'Elo_away': 55.0},\n",
       " 'https://www.besoccer.com/match/waldhof-mannheim/saarbrucken/19914144': {'Elo_home': 65.0,\n",
       "  'Elo_away': 59.0},\n",
       " 'https://www.besoccer.com/match/msv-duisburg/blau-weiss-1890-berlin/19914145': {'Elo_home': 59.0,\n",
       "  'Elo_away': 56.0},\n",
       " 'https://www.besoccer.com/match/meppen/hannover-96/19914146': {'Elo_home': 54.0,\n",
       "  'Elo_away': 60.0},\n",
       " 'https://www.besoccer.com/match/havelse/vfl-osnabruck/19914147': {'Elo_home': 52.0,\n",
       "  'Elo_away': 53.0},\n",
       " 'https://www.besoccer.com/match/schalke-04/darmstadt-98/19914148': {'Elo_home': 64.0,\n",
       "  'Elo_away': 54.0},\n",
       " 'https://www.besoccer.com/match/saarbrucken/waldhof-mannheim/19925655': {'Elo_home': 57.0,\n",
       "  'Elo_away': 62.0},\n",
       " 'https://www.besoccer.com/match/rot-weib-erfurt/hallescher-fc/19925656': {'Elo_home': 55.0,\n",
       "  'Elo_away': 55.0},\n",
       " 'https://www.besoccer.com/match/mainz-amat/chemnitzer/19925657': {'Elo_home': 43.0,\n",
       "  'Elo_away': 54.0},\n",
       " 'https://www.besoccer.com/match/sc-freiburg/1860-munchen/19925658': {'Elo_home': 52.0,\n",
       "  'Elo_away': 57.0},\n",
       " 'https://www.besoccer.com/match/darmstadt-98/homburg/19925659': {'Elo_home': 52.0,\n",
       "  'Elo_away': 58.0},\n",
       " 'https://www.besoccer.com/match/lokomotive-leipzig/fc-carl-zeiss-jena/19925660': {'Elo_home': 63.0,\n",
       "  'Elo_away': 64.0},\n",
       " 'https://www.besoccer.com/match/chemnitzer/sc-freiburg/19925661': {'Elo_home': 53.0,\n",
       "  'Elo_away': 53.0},\n",
       " 'https://www.besoccer.com/match/fc-carl-zeiss-jena/saarbrucken/19925662': {'Elo_home': 64.0,\n",
       "  'Elo_away': 58.0},\n",
       " 'https://www.besoccer.com/match/1860-munchen/lokomotive-leipzig/19925663': {'Elo_home': 57.0,\n",
       "  'Elo_away': 63.0},\n",
       " 'https://www.besoccer.com/match/hallescher-fc/mainz-amat/19925664': {'Elo_home': 56.0,\n",
       "  'Elo_away': 43.0},\n",
       " 'https://www.besoccer.com/match/homburg/rot-weib-erfurt/19925665': {'Elo_home': 58.0,\n",
       "  'Elo_away': 56.0},\n",
       " 'https://www.besoccer.com/match/waldhof-mannheim/darmstadt-98/19925666': {'Elo_home': 62.0,\n",
       "  'Elo_away': 52.0},\n",
       " 'https://www.besoccer.com/match/rot-weib-erfurt/darmstadt-98/19925667': {'Elo_home': 55.0,\n",
       "  'Elo_away': 52.0},\n",
       " 'https://www.besoccer.com/match/mainz-amat/homburg/19925668': {'Elo_home': 43.0,\n",
       "  'Elo_away': 58.0},\n",
       " 'https://www.besoccer.com/match/waldhof-mannheim/fc-carl-zeiss-jena/19925669': {'Elo_home': 62.0,\n",
       "  'Elo_away': 64.0},\n",
       " 'https://www.besoccer.com/match/sc-freiburg/hallescher-fc/19925670': {'Elo_home': 53.0,\n",
       "  'Elo_away': 56.0},\n",
       " 'https://www.besoccer.com/match/lokomotive-leipzig/chemnitzer/19925671': {'Elo_home': 63.0,\n",
       "  'Elo_away': 53.0},\n",
       " 'https://www.besoccer.com/match/saarbrucken/1860-munchen/19925672': {'Elo_home': 58.0,\n",
       "  'Elo_away': 57.0},\n",
       " 'https://www.besoccer.com/match/rot-weib-erfurt/mainz-amat/19925673': {'Elo_home': 55.0,\n",
       "  'Elo_away': 43.0},\n",
       " 'https://www.besoccer.com/match/homburg/sc-freiburg/19925674': {'Elo_home': 58.0,\n",
       "  'Elo_away': 53.0},\n",
       " 'https://www.besoccer.com/match/darmstadt-98/fc-carl-zeiss-jena/19925675': {'Elo_home': 52.0,\n",
       "  'Elo_away': 64.0},\n",
       " 'https://www.besoccer.com/match/hallescher-fc/lokomotive-leipzig/19925676': {'Elo_home': 56.0,\n",
       "  'Elo_away': 63.0},\n",
       " 'https://www.besoccer.com/match/1860-munchen/waldhof-mannheim/19925677': {'Elo_home': 57.0,\n",
       "  'Elo_away': 62.0},\n",
       " 'https://www.besoccer.com/match/chemnitzer/saarbrucken/19925678': {'Elo_home': 53.0,\n",
       "  'Elo_away': 58.0},\n",
       " 'https://www.besoccer.com/match/waldhof-mannheim/chemnitzer/19925679': {'Elo_home': 63.0,\n",
       "  'Elo_away': 53.0},\n",
       " 'https://www.besoccer.com/match/saarbrucken/hallescher-fc/19925680': {'Elo_home': 57.0,\n",
       "  'Elo_away': 55.0},\n",
       " 'https://www.besoccer.com/match/fc-carl-zeiss-jena/1860-munchen/19925681': {'Elo_home': 64.0,\n",
       "  'Elo_away': 57.0},\n",
       " 'https://www.besoccer.com/match/mainz-amat/darmstadt-98/19925682': {'Elo_home': 43.0,\n",
       "  'Elo_away': 52.0},\n",
       " 'https://www.besoccer.com/match/sc-freiburg/rot-weib-erfurt/19925683': {'Elo_home': 53.0,\n",
       "  'Elo_away': 55.0},\n",
       " 'https://www.besoccer.com/match/lokomotive-leipzig/homburg/19925684': {'Elo_home': 63.0,\n",
       "  'Elo_away': 59.0},\n",
       " 'https://www.besoccer.com/match/darmstadt-98/1860-munchen/19925685': {'Elo_home': 52.0,\n",
       "  'Elo_away': 57.0},\n",
       " 'https://www.besoccer.com/match/mainz-amat/sc-freiburg/19925686': {'Elo_home': 44.0,\n",
       "  'Elo_away': 53.0},\n",
       " 'https://www.besoccer.com/match/hallescher-fc/waldhof-mannheim/19925687': {'Elo_home': 55.0,\n",
       "  'Elo_away': 63.0},\n",
       " 'https://www.besoccer.com/match/chemnitzer/fc-carl-zeiss-jena/19925688': {'Elo_home': 53.0,\n",
       "  'Elo_away': 64.0},\n",
       " 'https://www.besoccer.com/match/homburg/saarbrucken/19925689': {'Elo_home': 59.0,\n",
       "  'Elo_away': 57.0},\n",
       " 'https://www.besoccer.com/match/rot-weib-erfurt/lokomotive-leipzig/19925690': {'Elo_home': 55.0,\n",
       "  'Elo_away': 63.0},\n",
       " 'https://www.besoccer.com/match/fc-carl-zeiss-jena/hallescher-fc/19925691': {'Elo_home': 64.0,\n",
       "  'Elo_away': 55.0},\n",
       " 'https://www.besoccer.com/match/1860-munchen/chemnitzer/19925692': {'Elo_home': 57.0,\n",
       "  'Elo_away': 53.0},\n",
       " 'https://www.besoccer.com/match/sc-freiburg/darmstadt-98/19925693': {'Elo_home': 53.0,\n",
       "  'Elo_away': 52.0},\n",
       " 'https://www.besoccer.com/match/lokomotive-leipzig/mainz-amat/19925694': {'Elo_home': 63.0,\n",
       "  'Elo_away': 44.0},\n",
       " 'https://www.besoccer.com/match/saarbrucken/rot-weib-erfurt/19925695': {'Elo_home': 57.0,\n",
       "  'Elo_away': 55.0},\n",
       " 'https://www.besoccer.com/match/waldhof-mannheim/homburg/19925696': {'Elo_home': 63.0,\n",
       "  'Elo_away': 59.0},\n",
       " 'https://www.besoccer.com/match/homburg/fc-carl-zeiss-jena/19925697': {'Elo_home': 59.0,\n",
       "  'Elo_away': 64.0},\n",
       " 'https://www.besoccer.com/match/hallescher-fc/1860-munchen/19925698': {'Elo_home': 55.0,\n",
       "  'Elo_away': 57.0},\n",
       " 'https://www.besoccer.com/match/sc-freiburg/lokomotive-leipzig/19925699': {'Elo_home': 53.0,\n",
       "  'Elo_away': 63.0},\n",
       " 'https://www.besoccer.com/match/darmstadt-98/chemnitzer/19925700': {'Elo_home': 52.0,\n",
       "  'Elo_away': 53.0},\n",
       " 'https://www.besoccer.com/match/mainz-amat/saarbrucken/19925701': {'Elo_home': 44.0,\n",
       "  'Elo_away': 57.0},\n",
       " 'https://www.besoccer.com/match/rot-weib-erfurt/waldhof-mannheim/19925702': {'Elo_home': 54.0,\n",
       "  'Elo_away': 63.0},\n",
       " 'https://www.besoccer.com/match/chemnitzer/hallescher-fc/19925703': {'Elo_home': 53.0,\n",
       "  'Elo_away': 55.0},\n",
       " 'https://www.besoccer.com/match/saarbrucken/sc-freiburg/19925704': {'Elo_home': 57.0,\n",
       "  'Elo_away': 53.0},\n",
       " 'https://www.besoccer.com/match/lokomotive-leipzig/darmstadt-98/19925705': {'Elo_home': 63.0,\n",
       "  'Elo_away': 52.0},\n",
       " 'https://www.besoccer.com/match/fc-carl-zeiss-jena/rot-weib-erfurt/19925706': {'Elo_home': 64.0,\n",
       "  'Elo_away': 54.0},\n",
       " 'https://www.besoccer.com/match/waldhof-mannheim/mainz-amat/19925707': {'Elo_home': 63.0,\n",
       "  'Elo_away': 44.0},\n",
       " 'https://www.besoccer.com/match/1860-munchen/homburg/19925708': {'Elo_home': 57.0,\n",
       "  'Elo_away': 59.0},\n",
       " 'https://www.besoccer.com/match/mainz-amat/fc-carl-zeiss-jena/19925709': {'Elo_home': 44.0,\n",
       "  'Elo_away': 64.0},\n",
       " 'https://www.besoccer.com/match/sc-freiburg/waldhof-mannheim/19925710': {'Elo_home': 53.0,\n",
       "  'Elo_away': 62.0},\n",
       " 'https://www.besoccer.com/match/lokomotive-leipzig/saarbrucken/19925711': {'Elo_home': 62.0,\n",
       "  'Elo_away': 57.0},\n",
       " 'https://www.besoccer.com/match/homburg/chemnitzer/19925712': {'Elo_home': 59.0,\n",
       "  'Elo_away': 54.0},\n",
       " 'https://www.besoccer.com/match/darmstadt-98/hallescher-fc/19925713': {'Elo_home': 52.0,\n",
       "  'Elo_away': 55.0},\n",
       " 'https://www.besoccer.com/match/rot-weib-erfurt/1860-munchen/19925714': {'Elo_home': 55.0,\n",
       "  'Elo_away': 57.0},\n",
       " 'https://www.besoccer.com/match/hallescher-fc/homburg/19925715': {'Elo_home': 55.0,\n",
       "  'Elo_away': 59.0},\n",
       " 'https://www.besoccer.com/match/1860-munchen/mainz-amat/19925716': {'Elo_home': 57.0,\n",
       "  'Elo_away': 44.0},\n",
       " 'https://www.besoccer.com/match/waldhof-mannheim/lokomotive-leipzig/19925717': {'Elo_home': 62.0,\n",
       "  'Elo_away': 62.0},\n",
       " 'https://www.besoccer.com/match/chemnitzer/rot-weib-erfurt/19925718': {'Elo_home': 54.0,\n",
       "  'Elo_away': 55.0},\n",
       " 'https://www.besoccer.com/match/fc-carl-zeiss-jena/sc-freiburg/19925719': {'Elo_home': 64.0,\n",
       "  'Elo_away': 53.0},\n",
       " 'https://www.besoccer.com/match/saarbrucken/darmstadt-98/19925720': {'Elo_home': 57.0,\n",
       "  'Elo_away': 52.0},\n",
       " 'https://www.besoccer.com/match/1860-munchen/sc-freiburg/19925721': {'Elo_home': 57.0,\n",
       "  'Elo_away': 53.0},\n",
       " 'https://www.besoccer.com/match/hallescher-fc/rot-weib-erfurt/19925722': {'Elo_home': 55.0,\n",
       "  'Elo_away': 55.0},\n",
       " 'https://www.besoccer.com/match/fc-carl-zeiss-jena/lokomotive-leipzig/19925723': {'Elo_home': 64.0,\n",
       "  'Elo_away': 62.0},\n",
       " 'https://www.besoccer.com/match/homburg/darmstadt-98/19925724': {'Elo_home': 59.0,\n",
       "  'Elo_away': 52.0},\n",
       " 'https://www.besoccer.com/match/chemnitzer/mainz-amat/19925725': {'Elo_home': 54.0,\n",
       "  'Elo_away': 44.0},\n",
       " 'https://www.besoccer.com/match/waldhof-mannheim/saarbrucken/19925726': {'Elo_home': 63.0,\n",
       "  'Elo_away': 57.0},\n",
       " 'https://www.besoccer.com/match/darmstadt-98/waldhof-mannheim/19925727': {'Elo_home': 52.0,\n",
       "  'Elo_away': 63.0},\n",
       " 'https://www.besoccer.com/match/rot-weib-erfurt/homburg/19925728': {'Elo_home': 55.0,\n",
       "  'Elo_away': 59.0},\n",
       " 'https://www.besoccer.com/match/saarbrucken/fc-carl-zeiss-jena/19925729': {'Elo_home': 57.0,\n",
       "  'Elo_away': 64.0},\n",
       " 'https://www.besoccer.com/match/lokomotive-leipzig/1860-munchen/19925730': {'Elo_home': 62.0,\n",
       "  'Elo_away': 57.0},\n",
       " 'https://www.besoccer.com/match/mainz-amat/hallescher-fc/19925731': {'Elo_home': 44.0,\n",
       "  'Elo_away': 55.0},\n",
       " 'https://www.besoccer.com/match/sc-freiburg/chemnitzer/19925732': {'Elo_home': 53.0,\n",
       "  'Elo_away': 54.0},\n",
       " 'https://www.besoccer.com/match/darmstadt-98/rot-weib-erfurt/19925733': {'Elo_home': 52.0,\n",
       "  'Elo_away': 55.0},\n",
       " 'https://www.besoccer.com/match/fc-carl-zeiss-jena/waldhof-mannheim/19925734': {'Elo_home': 64.0,\n",
       "  'Elo_away': 63.0},\n",
       " 'https://www.besoccer.com/match/hallescher-fc/sc-freiburg/19925735': {'Elo_home': 56.0,\n",
       "  'Elo_away': 54.0},\n",
       " 'https://www.besoccer.com/match/1860-munchen/saarbrucken/19925736': {'Elo_home': 57.0,\n",
       "  'Elo_away': 57.0},\n",
       " 'https://www.besoccer.com/match/homburg/mainz-amat/19925737': {'Elo_home': 59.0,\n",
       "  'Elo_away': 44.0},\n",
       " 'https://www.besoccer.com/match/chemnitzer/lokomotive-leipzig/19925738': {'Elo_home': 54.0,\n",
       "  'Elo_away': 62.0},\n",
       " 'https://www.besoccer.com/match/fc-carl-zeiss-jena/darmstadt-98/19925739': {'Elo_home': 64.0,\n",
       "  'Elo_away': 52.0},\n",
       " 'https://www.besoccer.com/match/lokomotive-leipzig/hallescher-fc/19925740': {'Elo_home': 62.0,\n",
       "  'Elo_away': 56.0},\n",
       " 'https://www.besoccer.com/match/sc-freiburg/homburg/19925741': {'Elo_home': 54.0,\n",
       "  'Elo_away': 59.0},\n",
       " 'https://www.besoccer.com/match/saarbrucken/chemnitzer/19925742': {'Elo_home': 57.0,\n",
       "  'Elo_away': 54.0},\n",
       " 'https://www.besoccer.com/match/waldhof-mannheim/1860-munchen/19925743': {'Elo_home': 63.0,\n",
       "  'Elo_away': 57.0},\n",
       " 'https://www.besoccer.com/match/mainz-amat/rot-weib-erfurt/19925744': {'Elo_home': 44.0,\n",
       "  'Elo_away': 55.0},\n",
       " 'https://www.besoccer.com/match/darmstadt-98/mainz-amat/19925745': {'Elo_home': 52.0,\n",
       "  'Elo_away': 44.0},\n",
       " 'https://www.besoccer.com/match/rot-weib-erfurt/sc-freiburg/19925746': {'Elo_home': 55.0,\n",
       "  'Elo_away': 54.0},\n",
       " 'https://www.besoccer.com/match/1860-munchen/fc-carl-zeiss-jena/19925747': {'Elo_home': 57.0,\n",
       "  'Elo_away': 64.0},\n",
       " 'https://www.besoccer.com/match/chemnitzer/waldhof-mannheim/19925748': {'Elo_home': 54.0,\n",
       "  'Elo_away': 63.0},\n",
       " 'https://www.besoccer.com/match/hallescher-fc/saarbrucken/19925749': {'Elo_home': 55.0,\n",
       "  'Elo_away': 57.0},\n",
       " 'https://www.besoccer.com/match/homburg/lokomotive-leipzig/19925750': {'Elo_home': 59.0,\n",
       "  'Elo_away': 62.0},\n",
       " 'https://www.besoccer.com/match/fc-carl-zeiss-jena/chemnitzer/19925751': {'Elo_home': 64.0,\n",
       "  'Elo_away': 54.0},\n",
       " 'https://www.besoccer.com/match/1860-munchen/darmstadt-98/19925752': {'Elo_home': 57.0,\n",
       "  'Elo_away': 52.0},\n",
       " 'https://www.besoccer.com/match/waldhof-mannheim/hallescher-fc/19925753': {'Elo_home': 63.0,\n",
       "  'Elo_away': 56.0},\n",
       " 'https://www.besoccer.com/match/lokomotive-leipzig/rot-weib-erfurt/19925754': {'Elo_home': 62.0,\n",
       "  'Elo_away': 55.0},\n",
       " 'https://www.besoccer.com/match/saarbrucken/homburg/19925755': {'Elo_home': 57.0,\n",
       "  'Elo_away': 59.0},\n",
       " 'https://www.besoccer.com/match/sc-freiburg/mainz-amat/19925756': {'Elo_home': 54.0,\n",
       "  'Elo_away': 44.0},\n",
       " 'https://www.besoccer.com/match/chemnitzer/1860-munchen/19925757': {'Elo_home': 54.0,\n",
       "  'Elo_away': 57.0},\n",
       " 'https://www.besoccer.com/match/rot-weib-erfurt/saarbrucken/19925758': {'Elo_home': 55.0,\n",
       "  'Elo_away': 57.0},\n",
       " 'https://www.besoccer.com/match/homburg/waldhof-mannheim/19925759': {'Elo_home': 59.0,\n",
       "  'Elo_away': 63.0},\n",
       " 'https://www.besoccer.com/match/hallescher-fc/fc-carl-zeiss-jena/19925760': {'Elo_home': 56.0,\n",
       "  'Elo_away': 64.0},\n",
       " 'https://www.besoccer.com/match/darmstadt-98/sc-freiburg/19925761': {'Elo_home': 52.0,\n",
       "  'Elo_away': 54.0},\n",
       " 'https://www.besoccer.com/match/mainz-amat/lokomotive-leipzig/19925762': {'Elo_home': 44.0,\n",
       "  'Elo_away': 62.0},\n",
       " 'https://www.besoccer.com/match/1860-munchen/hallescher-fc/19925763': {'Elo_home': 57.0,\n",
       "  'Elo_away': 56.0},\n",
       " 'https://www.besoccer.com/match/saarbrucken/mainz-amat/19925764': {'Elo_home': 58.0,\n",
       "  'Elo_away': 44.0},\n",
       " 'https://www.besoccer.com/match/chemnitzer/darmstadt-98/19925765': {'Elo_home': 54.0,\n",
       "  'Elo_away': 52.0},\n",
       " 'https://www.besoccer.com/match/lokomotive-leipzig/sc-freiburg/19925766': {'Elo_home': 62.0,\n",
       "  'Elo_away': 54.0},\n",
       " 'https://www.besoccer.com/match/fc-carl-zeiss-jena/homburg/19925767': {'Elo_home': 64.0,\n",
       "  'Elo_away': 59.0},\n",
       " 'https://www.besoccer.com/match/waldhof-mannheim/rot-weib-erfurt/19925768': {'Elo_home': 63.0,\n",
       "  'Elo_away': 55.0},\n",
       " 'https://www.besoccer.com/match/darmstadt-98/lokomotive-leipzig/19925769': {'Elo_home': 52.0,\n",
       "  'Elo_away': 62.0},\n",
       " 'https://www.besoccer.com/match/rot-weib-erfurt/fc-carl-zeiss-jena/19925770': {'Elo_home': 55.0,\n",
       "  'Elo_away': 64.0},\n",
       " 'https://www.besoccer.com/match/hallescher-fc/chemnitzer/19925771': {'Elo_home': 56.0,\n",
       "  'Elo_away': 54.0},\n",
       " 'https://www.besoccer.com/match/mainz-amat/waldhof-mannheim/19925772': {'Elo_home': 44.0,\n",
       "  'Elo_away': 63.0},\n",
       " 'https://www.besoccer.com/match/homburg/1860-munchen/19925773': {'Elo_home': 59.0,\n",
       "  'Elo_away': 57.0},\n",
       " 'https://www.besoccer.com/match/sc-freiburg/saarbrucken/19925774': {'Elo_home': 54.0,\n",
       "  'Elo_away': 58.0},\n",
       " 'https://www.besoccer.com/match/waldhof-mannheim/sc-freiburg/19925775': {'Elo_home': 62.0,\n",
       "  'Elo_away': 54.0},\n",
       " 'https://www.besoccer.com/match/saarbrucken/lokomotive-leipzig/19925776': {'Elo_home': 57.0,\n",
       "  'Elo_away': 62.0},\n",
       " 'https://www.besoccer.com/match/fc-carl-zeiss-jena/mainz-amat/19925777': {'Elo_home': 64.0,\n",
       "  'Elo_away': 44.0},\n",
       " 'https://www.besoccer.com/match/1860-munchen/rot-weib-erfurt/19925778': {'Elo_home': 57.0,\n",
       "  'Elo_away': 54.0},\n",
       " 'https://www.besoccer.com/match/hallescher-fc/darmstadt-98/19925779': {'Elo_home': 56.0,\n",
       "  'Elo_away': 52.0},\n",
       " 'https://www.besoccer.com/match/chemnitzer/homburg/19925780': {'Elo_home': 54.0,\n",
       "  'Elo_away': 59.0},\n",
       " 'https://www.besoccer.com/match/sc-freiburg/fc-carl-zeiss-jena/19925781': {'Elo_home': 54.0,\n",
       "  'Elo_away': 64.0},\n",
       " 'https://www.besoccer.com/match/mainz-amat/1860-munchen/19925782': {'Elo_home': 44.0,\n",
       "  'Elo_away': 57.0},\n",
       " 'https://www.besoccer.com/match/rot-weib-erfurt/chemnitzer/19925783': {'Elo_home': 54.0,\n",
       "  'Elo_away': 54.0},\n",
       " 'https://www.besoccer.com/match/homburg/hallescher-fc/19925784': {'Elo_home': 59.0,\n",
       "  'Elo_away': 56.0},\n",
       " 'https://www.besoccer.com/match/darmstadt-98/saarbrucken/19925785': {'Elo_home': 52.0,\n",
       "  'Elo_away': 57.0},\n",
       " 'https://www.besoccer.com/match/lokomotive-leipzig/waldhof-mannheim/19925786': {'Elo_home': 62.0,\n",
       "  'Elo_away': 63.0},\n",
       " 'https://www.besoccer.com/match/unterhaching/fc-carl-zeiss-jena/19935355': {'Elo_home': 53.0,\n",
       "  'Elo_away': 63.0},\n",
       " 'https://www.besoccer.com/match/fortuna-koln/waldhof-mannheim/19935356': {'Elo_home': 53.0,\n",
       "  'Elo_away': 62.0},\n",
       " 'https://www.besoccer.com/match/vfl-osnabruck/wolfsburg/19935357': {'Elo_home': 51.0,\n",
       "  'Elo_away': 40.0},\n",
       " 'https://www.besoccer.com/match/wuppertaler-sv/mainz-amat/19935358': {'Elo_home': 55.0,\n",
       "  'Elo_away': 44.0},\n",
       " 'https://www.besoccer.com/match/hertha-bsc/st-pauli/19935359': {'Elo_home': 53.0,\n",
       "  'Elo_away': 59.0},\n",
       " 'https://www.besoccer.com/match/lokomotive-leipzig/msv-duisburg/19935360': {'Elo_home': 61.0,\n",
       "  'Elo_away': 60.0},\n",
       " 'https://www.besoccer.com/match/fortuna-dusseldorf/chemnitzer/19935361': {'Elo_home': 63.0,\n",
       "  'Elo_away': 54.0},\n",
       " 'https://www.besoccer.com/match/vfb-oldenburg/sc-freiburg/19935362': {'Elo_home': 48.0,\n",
       "  'Elo_away': 54.0},\n",
       " 'https://www.besoccer.com/match/eintracht-brau-hellip/meppen/19935363': {'Elo_home': 55.0,\n",
       "  'Elo_away': 51.0},\n",
       " 'https://www.besoccer.com/match/darmstadt-98/homburg/19935364': {'Elo_home': 52.0,\n",
       "  'Elo_away': 58.0},\n",
       " 'https://www.besoccer.com/match/hansa-rostock/fc-remscheid/19935365': {'Elo_home': 59.0,\n",
       "  'Elo_away': 52.0},\n",
       " 'https://www.besoccer.com/match/stuttgarter-kickers/hannover-96/19935366': {'Elo_home': 63.0,\n",
       "  'Elo_away': 59.0},\n",
       " 'https://www.besoccer.com/match/wolfsburg/vfb-oldenburg/19935367': {'Elo_home': 40.0,\n",
       "  'Elo_away': 48.0},\n",
       " 'https://www.besoccer.com/match/waldhof-mannheim/unterhaching/19935368': {'Elo_home': 62.0,\n",
       "  'Elo_away': 53.0},\n",
       " 'https://www.besoccer.com/match/mainz-amat/fortuna-koln/19935369': {'Elo_home': 44.0,\n",
       "  'Elo_away': 53.0},\n",
       " 'https://www.besoccer.com/match/msv-duisburg/wuppertaler-sv/19935370': {'Elo_home': 60.0,\n",
       "  'Elo_away': 56.0},\n",
       " 'https://www.besoccer.com/match/meppen/lokomotive-leipzig/19935371': {'Elo_home': 51.0,\n",
       "  'Elo_away': 61.0},\n",
       " 'https://www.besoccer.com/match/sc-freiburg/stuttgarter-kickers/19935372': {'Elo_home': 54.0,\n",
       "  'Elo_away': 63.0},\n",
       " 'https://www.besoccer.com/match/fc-carl-zeiss-jena/hansa-rostock/19935373': {'Elo_home': 63.0,\n",
       "  'Elo_away': 59.0},\n",
       " 'https://www.besoccer.com/match/fc-remscheid/fortuna-dusseldorf/19935374': {'Elo_home': 52.0,\n",
       "  'Elo_away': 63.0},\n",
       " 'https://www.besoccer.com/match/st-pauli/darmstadt-98/19935375': {'Elo_home': 59.0,\n",
       "  'Elo_away': 52.0},\n",
       " 'https://www.besoccer.com/match/chemnitzer/vfl-osnabruck/19935376': {'Elo_home': 54.0,\n",
       "  'Elo_away': 51.0},\n",
       " 'https://www.besoccer.com/match/homburg/eintracht-brau-hellip/19935377': {'Elo_home': 58.0,\n",
       "  'Elo_away': 55.0},\n",
       " 'https://www.besoccer.com/match/hannover-96/hertha-bsc/19935378': {'Elo_home': 60.0,\n",
       "  'Elo_away': 53.0},\n",
       " 'https://www.besoccer.com/match/unterhaching/mainz-amat/19935379': {'Elo_home': 53.0,\n",
       "  'Elo_away': 44.0},\n",
       " 'https://www.besoccer.com/match/fortuna-koln/msv-duisburg/19935380': {'Elo_home': 53.0,\n",
       "  'Elo_away': 60.0},\n",
       " 'https://www.besoccer.com/match/fortuna-dusseldorf/fc-carl-zeiss-jena/19935381': {'Elo_home': 63.0,\n",
       "  'Elo_away': 63.0},\n",
       " 'https://www.besoccer.com/match/eintracht-brau-hellip/st-pauli/19935382': {'Elo_home': 55.0,\n",
       "  'Elo_away': 59.0},\n",
       " 'https://www.besoccer.com/match/lokomotive-leipzig/homburg/19935383': {'Elo_home': 61.0,\n",
       "  'Elo_away': 58.0},\n",
       " 'https://www.besoccer.com/match/hansa-rostock/waldhof-mannheim/19935384': {'Elo_home': 59.0,\n",
       "  'Elo_away': 62.0},\n",
       " 'https://www.besoccer.com/match/vfb-oldenburg/chemnitzer/19935385': {'Elo_home': 47.0,\n",
       "  'Elo_away': 54.0},\n",
       " 'https://www.besoccer.com/match/stuttgarter-kickers/wolfsburg/19935386': {'Elo_home': 62.0,\n",
       "  'Elo_away': 40.0},\n",
       " 'https://www.besoccer.com/match/wuppertaler-sv/meppen/19935387': {'Elo_home': 55.0,\n",
       "  'Elo_away': 51.0},\n",
       " 'https://www.besoccer.com/match/sc-freiburg/hannover-96/19935388': {'Elo_home': 54.0,\n",
       "  'Elo_away': 59.0},\n",
       " 'https://www.besoccer.com/match/darmstadt-98/hertha-bsc/19935389': {'Elo_home': 52.0,\n",
       "  'Elo_away': 53.0},\n",
       " 'https://www.besoccer.com/match/vfl-osnabruck/fc-remscheid/19935390': {'Elo_home': 51.0,\n",
       "  'Elo_away': 52.0},\n",
       " 'https://www.besoccer.com/match/st-pauli/lokomotive-leipzig/19935391': {'Elo_home': 59.0,\n",
       "  'Elo_away': 62.0},\n",
       " 'https://www.besoccer.com/match/mainz-amat/hansa-rostock/19935392': {'Elo_home': 44.0,\n",
       "  'Elo_away': 59.0},\n",
       " 'https://www.besoccer.com/match/msv-duisburg/unterhaching/19935393': {'Elo_home': 60.0,\n",
       "  'Elo_away': 53.0},\n",
       " 'https://www.besoccer.com/match/meppen/fortuna-koln/19935394': {'Elo_home': 51.0,\n",
       "  'Elo_away': 53.0},\n",
       " 'https://www.besoccer.com/match/fc-carl-zeiss-jena/vfl-osnabruck/19935395': {'Elo_home': 63.0,\n",
       "  'Elo_away': 51.0},\n",
       " 'https://www.besoccer.com/match/hertha-bsc/eintracht-brau-hellip/19935396': {'Elo_home': 53.0,\n",
       "  'Elo_away': 55.0},\n",
       " 'https://www.besoccer.com/match/hannover-96/darmstadt-98/19935397': {'Elo_home': 59.0,\n",
       "  'Elo_away': 52.0},\n",
       " 'https://www.besoccer.com/match/wolfsburg/sc-freiburg/19935398': {'Elo_home': 40.0,\n",
       "  'Elo_away': 54.0},\n",
       " 'https://www.besoccer.com/match/chemnitzer/stuttgarter-kickers/19935399': {'Elo_home': 54.0,\n",
       "  'Elo_away': 62.0},\n",
       " 'https://www.besoccer.com/match/fc-remscheid/vfb-oldenburg/19935400': {'Elo_home': 52.0,\n",
       "  'Elo_away': 48.0},\n",
       " 'https://www.besoccer.com/match/homburg/wuppertaler-sv/19935401': {'Elo_home': 58.0,\n",
       "  'Elo_away': 55.0},\n",
       " 'https://www.besoccer.com/match/waldhof-mannheim/fortuna-dusseldorf/19935402': {'Elo_home': 62.0,\n",
       "  'Elo_away': 63.0},\n",
       " 'https://www.besoccer.com/match/unterhaching/meppen/19935403': {'Elo_home': 53.0,\n",
       "  'Elo_away': 51.0},\n",
       " 'https://www.besoccer.com/match/lokomotive-leipzig/hertha-bsc/19935404': {'Elo_home': 62.0,\n",
       "  'Elo_away': 53.0},\n",
       " 'https://www.besoccer.com/match/hannover-96/wolfsburg/19935405': {'Elo_home': 59.0,\n",
       "  'Elo_away': 40.0},\n",
       " 'https://www.besoccer.com/match/eintracht-brau-hellip/darmstadt-98/19935406': {'Elo_home': 55.0,\n",
       "  'Elo_away': 52.0},\n",
       " 'https://www.besoccer.com/match/wuppertaler-sv/st-pauli/19935407': {'Elo_home': 55.0,\n",
       "  'Elo_away': 59.0},\n",
       " 'https://www.besoccer.com/match/fortuna-koln/homburg/19935408': {'Elo_home': 53.0,\n",
       "  'Elo_away': 58.0},\n",
       " 'https://www.besoccer.com/match/hansa-rostock/msv-duisburg/19935409': {'Elo_home': 59.0,\n",
       "  'Elo_away': 60.0},\n",
       " 'https://www.besoccer.com/match/stuttgarter-kickers/fc-remscheid/19935410': {'Elo_home': 62.0,\n",
       "  'Elo_away': 52.0},\n",
       " 'https://www.besoccer.com/match/sc-freiburg/chemnitzer/19935411': {'Elo_home': 54.0,\n",
       "  'Elo_away': 54.0},\n",
       " 'https://www.besoccer.com/match/fortuna-dusseldorf/mainz-amat/19935412': {'Elo_home': 63.0,\n",
       "  'Elo_away': 45.0},\n",
       " 'https://www.besoccer.com/match/vfl-osnabruck/waldhof-mannheim/19935413': {'Elo_home': 51.0,\n",
       "  'Elo_away': 62.0},\n",
       " 'https://www.besoccer.com/match/vfb-oldenburg/fc-carl-zeiss-jena/19935414': {'Elo_home': 48.0,\n",
       "  'Elo_away': 63.0},\n",
       " 'https://www.besoccer.com/match/msv-duisburg/fortuna-dusseldorf/19935415': {'Elo_home': 60.0,\n",
       "  'Elo_away': 63.0},\n",
       " 'https://www.besoccer.com/match/darmstadt-98/lokomotive-leipzig/19935416': {'Elo_home': 52.0,\n",
       "  'Elo_away': 62.0},\n",
       " 'https://www.besoccer.com/match/fc-carl-zeiss-jena/stuttgarter-kickers/19935417': {'Elo_home': 63.0,\n",
       "  'Elo_away': 62.0},\n",
       " 'https://www.besoccer.com/match/st-pauli/fortuna-koln/19935418': {'Elo_home': 59.0,\n",
       "  'Elo_away': 53.0},\n",
       " 'https://www.besoccer.com/match/mainz-amat/vfl-osnabruck/19935419': {'Elo_home': 45.0,\n",
       "  'Elo_away': 51.0},\n",
       " 'https://www.besoccer.com/match/chemnitzer/wolfsburg/19935420': {'Elo_home': 54.0,\n",
       "  'Elo_away': 40.0},\n",
       " 'https://www.besoccer.com/match/eintracht-brau-hellip/hannover-96/19935421': {'Elo_home': 55.0,\n",
       "  'Elo_away': 59.0},\n",
       " 'https://www.besoccer.com/match/homburg/unterhaching/19935422': {'Elo_home': 58.0,\n",
       "  'Elo_away': 53.0},\n",
       " 'https://www.besoccer.com/match/fc-remscheid/sc-freiburg/19935423': {'Elo_home': 52.0,\n",
       "  'Elo_away': 54.0},\n",
       " 'https://www.besoccer.com/match/meppen/hansa-rostock/19935424': {'Elo_home': 52.0,\n",
       "  'Elo_away': 59.0},\n",
       " 'https://www.besoccer.com/match/waldhof-mannheim/vfb-oldenburg/19935425': {'Elo_home': 62.0,\n",
       "  'Elo_away': 48.0},\n",
       " 'https://www.besoccer.com/match/hertha-bsc/wuppertaler-sv/19935426': {'Elo_home': 53.0,\n",
       "  'Elo_away': 55.0},\n",
       " 'https://www.besoccer.com/match/vfb-oldenburg/mainz-amat/19935427': {'Elo_home': 47.0,\n",
       "  'Elo_away': 45.0},\n",
       " 'https://www.besoccer.com/match/wuppertaler-sv/darmstadt-98/19935428': {'Elo_home': 55.0,\n",
       "  'Elo_away': 52.0},\n",
       " 'https://www.besoccer.com/match/vfl-osnabruck/msv-duisburg/19935429': {'Elo_home': 52.0,\n",
       "  'Elo_away': 60.0},\n",
       " 'https://www.besoccer.com/match/hansa-rostock/homburg/19935430': {'Elo_home': 59.0,\n",
       "  'Elo_away': 58.0},\n",
       " 'https://www.besoccer.com/match/hannover-96/chemnitzer/19935431': {'Elo_home': 59.0,\n",
       "  'Elo_away': 54.0},\n",
       " 'https://www.besoccer.com/match/lokomotive-leipzig/eintracht-brau-hellip/19935432': {'Elo_home': 62.0,\n",
       "  'Elo_away': 55.0},\n",
       " 'https://www.besoccer.com/match/fortuna-dusseldorf/meppen/19935433': {'Elo_home': 63.0,\n",
       "  'Elo_away': 52.0},\n",
       " 'https://www.besoccer.com/match/stuttgarter-kickers/waldhof-mannheim/19935434': {'Elo_home': 62.0,\n",
       "  'Elo_away': 62.0},\n",
       " 'https://www.besoccer.com/match/sc-freiburg/fc-carl-zeiss-jena/19935435': {'Elo_home': 55.0,\n",
       "  'Elo_away': 63.0},\n",
       " 'https://www.besoccer.com/match/wolfsburg/fc-remscheid/19935436': {'Elo_home': 40.0,\n",
       "  'Elo_away': 52.0},\n",
       " 'https://www.besoccer.com/match/fortuna-koln/hertha-bsc/19935437': {'Elo_home': 53.0,\n",
       "  'Elo_away': 53.0},\n",
       " 'https://www.besoccer.com/match/unterhaching/st-pauli/19935438': {'Elo_home': 52.0,\n",
       "  'Elo_away': 59.0},\n",
       " 'https://www.besoccer.com/match/msv-duisburg/vfb-oldenburg/19935439': {'Elo_home': 60.0,\n",
       "  'Elo_away': 47.0},\n",
       " 'https://www.besoccer.com/match/meppen/vfl-osnabruck/19935440': {'Elo_home': 52.0,\n",
       "  'Elo_away': 52.0},\n",
       " 'https://www.besoccer.com/match/waldhof-mannheim/sc-freiburg/19935441': {'Elo_home': 62.0,\n",
       "  'Elo_away': 55.0},\n",
       " 'https://www.besoccer.com/match/fc-remscheid/chemnitzer/19935442': {'Elo_home': 51.0,\n",
       "  'Elo_away': 54.0},\n",
       " 'https://www.besoccer.com/match/mainz-amat/stuttgarter-kickers/19935443': {'Elo_home': 45.0,\n",
       "  'Elo_away': 62.0},\n",
       " 'https://www.besoccer.com/match/darmstadt-98/fortuna-koln/19935444': {'Elo_home': 51.0,\n",
       "  'Elo_away': 53.0},\n",
       " 'https://www.besoccer.com/match/fc-carl-zeiss-jena/wolfsburg/19935445': {'Elo_home': 63.0,\n",
       "  'Elo_away': 41.0},\n",
       " 'https://www.besoccer.com/match/homburg/fortuna-dusseldorf/19935446': {'Elo_home': 58.0,\n",
       "  'Elo_away': 63.0},\n",
       " 'https://www.besoccer.com/match/st-pauli/hansa-rostock/19935447': {'Elo_home': 59.0,\n",
       "  'Elo_away': 59.0},\n",
       " 'https://www.besoccer.com/match/eintracht-brau-hellip/wuppertaler-sv/19935448': {'Elo_home': 55.0,\n",
       "  'Elo_away': 55.0},\n",
       " 'https://www.besoccer.com/match/lokomotive-leipzig/hannover-96/19935449': {'Elo_home': 61.0,\n",
       "  'Elo_away': 59.0},\n",
       " 'https://www.besoccer.com/match/hertha-bsc/unterhaching/19935450': {'Elo_home': 53.0,\n",
       "  'Elo_away': 53.0},\n",
       " 'https://www.besoccer.com/match/fortuna-koln/eintracht-brau-hellip/19935451': {'Elo_home': 53.0,\n",
       "  'Elo_away': 55.0},\n",
       " 'https://www.besoccer.com/match/stuttgarter-kickers/msv-duisburg/19935452': {'Elo_home': 62.0,\n",
       "  'Elo_away': 60.0},\n",
       " 'https://www.besoccer.com/match/wolfsburg/waldhof-mannheim/19935453': {'Elo_home': 41.0,\n",
       "  'Elo_away': 62.0},\n",
       " 'https://www.besoccer.com/match/hannover-96/fc-remscheid/19935454': {'Elo_home': 59.0,\n",
       "  'Elo_away': 51.0},\n",
       " 'https://www.besoccer.com/match/sc-freiburg/mainz-amat/19935455': {'Elo_home': 55.0,\n",
       "  'Elo_away': 45.0},\n",
       " 'https://www.besoccer.com/match/wuppertaler-sv/lokomotive-leipzig/19935456': {'Elo_home': 55.0,\n",
       "  'Elo_away': 62.0},\n",
       " 'https://www.besoccer.com/match/hansa-rostock/hertha-bsc/19935457': {'Elo_home': 59.0,\n",
       "  'Elo_away': 53.0},\n",
       " 'https://www.besoccer.com/match/vfb-oldenburg/meppen/19935458': {'Elo_home': 47.0,\n",
       "  'Elo_away': 52.0},\n",
       " 'https://www.besoccer.com/match/chemnitzer/fc-carl-zeiss-jena/19935459': {'Elo_home': 54.0,\n",
       "  'Elo_away': 63.0},\n",
       " 'https://www.besoccer.com/match/unterhaching/darmstadt-98/19935460': {'Elo_home': 52.0,\n",
       "  'Elo_away': 51.0},\n",
       " 'https://www.besoccer.com/match/fortuna-dusseldorf/st-pauli/19935461': {'Elo_home': 62.0,\n",
       "  'Elo_away': 59.0},\n",
       " 'https://www.besoccer.com/match/vfl-osnabruck/homburg/19935462': {'Elo_home': 51.0,\n",
       "  'Elo_away': 58.0},\n",
       " ...}"
      ]
     },
     "execution_count": 9,
     "metadata": {},
     "output_type": "execute_result"
    }
   ],
   "source": [
    "elo_dict"
   ]
  },
  {
   "cell_type": "code",
   "execution_count": 10,
   "metadata": {},
   "outputs": [],
   "source": [
    "elo_df = pd.DataFrame.from_dict(elo_dict)"
   ]
  },
  {
   "cell_type": "code",
   "execution_count": 11,
   "metadata": {},
   "outputs": [
    {
     "data": {
      "text/html": [
       "<div>\n",
       "<style scoped>\n",
       "    .dataframe tbody tr th:only-of-type {\n",
       "        vertical-align: middle;\n",
       "    }\n",
       "\n",
       "    .dataframe tbody tr th {\n",
       "        vertical-align: top;\n",
       "    }\n",
       "\n",
       "    .dataframe thead th {\n",
       "        text-align: right;\n",
       "    }\n",
       "</style>\n",
       "<table border=\"1\" class=\"dataframe\">\n",
       "  <thead>\n",
       "    <tr style=\"text-align: right;\">\n",
       "      <th></th>\n",
       "      <th>https://www.besoccer.com/match/saarbrucken/stuttgarter-kickers/19903487</th>\n",
       "      <th>https://www.besoccer.com/match/sc-freiburg/unterhaching/19903488</th>\n",
       "      <th>https://www.besoccer.com/match/vfl-osnabruck/meppen/19903489</th>\n",
       "      <th>https://www.besoccer.com/match/rot-weiss-essen/schalke-04/19903490</th>\n",
       "      <th>https://www.besoccer.com/match/alemannia-aachen/msv-duisburg/19903491</th>\n",
       "      <th>https://www.besoccer.com/match/hessen-kassel/blau-weiss-1890-berlin/19903492</th>\n",
       "      <th>https://www.besoccer.com/match/wattenscheid-09/bayreuth-spvgg/19903493</th>\n",
       "      <th>https://www.besoccer.com/match/fortuna-koln/darmstadt-98/19903494</th>\n",
       "      <th>https://www.besoccer.com/match/hertha-bsc/preuben-munster/19903495</th>\n",
       "      <th>https://www.besoccer.com/match/eintracht-brau-hellip/hannover-96/19903496</th>\n",
       "      <th>...</th>\n",
       "      <th>https://www.besoccer.com/match/ac-reggiana-1919/empoli-fc/2021103061</th>\n",
       "      <th>https://www.besoccer.com/match/ascoli/ac-monza-brianza-1912/2021103063</th>\n",
       "      <th>https://www.besoccer.com/match/brescia/pescara-calcio/2021103064</th>\n",
       "      <th>https://www.besoccer.com/match/us-cremonese/pordenone/2021103066</th>\n",
       "      <th>https://www.besoccer.com/match/virtus-entella/salernitana-calcio-1919/2021103067</th>\n",
       "      <th>https://www.besoccer.com/match/lecce/spal-1907/2021103068</th>\n",
       "      <th>https://www.besoccer.com/match/frosinone-calcio/as-cittadella/2021103059</th>\n",
       "      <th>https://www.besoccer.com/match/reggina/vicenza-calcio/2021103062</th>\n",
       "      <th>https://www.besoccer.com/match/venezia/nuova-cosenza/2021103060</th>\n",
       "      <th>https://www.besoccer.com/match/chievo/pisa-calcio/2021103065</th>\n",
       "    </tr>\n",
       "  </thead>\n",
       "  <tbody>\n",
       "    <tr>\n",
       "      <th>Elo_home</th>\n",
       "      <td>56.0</td>\n",
       "      <td>53.0</td>\n",
       "      <td>52.0</td>\n",
       "      <td>53.0</td>\n",
       "      <td>57.0</td>\n",
       "      <td>51.0</td>\n",
       "      <td>53.0</td>\n",
       "      <td>56.0</td>\n",
       "      <td>55.0</td>\n",
       "      <td>58.0</td>\n",
       "      <td>...</td>\n",
       "      <td>39.0</td>\n",
       "      <td>50.0</td>\n",
       "      <td>61.0</td>\n",
       "      <td>54.0</td>\n",
       "      <td>50.0</td>\n",
       "      <td>59.0</td>\n",
       "      <td>58.0</td>\n",
       "      <td>40.0</td>\n",
       "      <td>54.0</td>\n",
       "      <td>64.0</td>\n",
       "    </tr>\n",
       "    <tr>\n",
       "      <th>Elo_away</th>\n",
       "      <td>59.0</td>\n",
       "      <td>55.0</td>\n",
       "      <td>53.0</td>\n",
       "      <td>62.0</td>\n",
       "      <td>52.0</td>\n",
       "      <td>56.0</td>\n",
       "      <td>51.0</td>\n",
       "      <td>55.0</td>\n",
       "      <td>58.0</td>\n",
       "      <td>60.0</td>\n",
       "      <td>...</td>\n",
       "      <td>68.0</td>\n",
       "      <td>52.0</td>\n",
       "      <td>57.0</td>\n",
       "      <td>47.0</td>\n",
       "      <td>54.0</td>\n",
       "      <td>59.0</td>\n",
       "      <td>57.0</td>\n",
       "      <td>49.0</td>\n",
       "      <td>47.0</td>\n",
       "      <td>56.0</td>\n",
       "    </tr>\n",
       "  </tbody>\n",
       "</table>\n",
       "<p>2 rows × 132111 columns</p>\n",
       "</div>"
      ],
      "text/plain": [
       "          https://www.besoccer.com/match/saarbrucken/stuttgarter-kickers/19903487  \\\n",
       "Elo_home                                               56.0                         \n",
       "Elo_away                                               59.0                         \n",
       "\n",
       "          https://www.besoccer.com/match/sc-freiburg/unterhaching/19903488  \\\n",
       "Elo_home                                               53.0                  \n",
       "Elo_away                                               55.0                  \n",
       "\n",
       "          https://www.besoccer.com/match/vfl-osnabruck/meppen/19903489  \\\n",
       "Elo_home                                               52.0              \n",
       "Elo_away                                               53.0              \n",
       "\n",
       "          https://www.besoccer.com/match/rot-weiss-essen/schalke-04/19903490  \\\n",
       "Elo_home                                               53.0                    \n",
       "Elo_away                                               62.0                    \n",
       "\n",
       "          https://www.besoccer.com/match/alemannia-aachen/msv-duisburg/19903491  \\\n",
       "Elo_home                                               57.0                       \n",
       "Elo_away                                               52.0                       \n",
       "\n",
       "          https://www.besoccer.com/match/hessen-kassel/blau-weiss-1890-berlin/19903492  \\\n",
       "Elo_home                                               51.0                              \n",
       "Elo_away                                               56.0                              \n",
       "\n",
       "          https://www.besoccer.com/match/wattenscheid-09/bayreuth-spvgg/19903493  \\\n",
       "Elo_home                                               53.0                        \n",
       "Elo_away                                               51.0                        \n",
       "\n",
       "          https://www.besoccer.com/match/fortuna-koln/darmstadt-98/19903494  \\\n",
       "Elo_home                                               56.0                   \n",
       "Elo_away                                               55.0                   \n",
       "\n",
       "          https://www.besoccer.com/match/hertha-bsc/preuben-munster/19903495  \\\n",
       "Elo_home                                               55.0                    \n",
       "Elo_away                                               58.0                    \n",
       "\n",
       "          https://www.besoccer.com/match/eintracht-brau-hellip/hannover-96/19903496  \\\n",
       "Elo_home                                               58.0                           \n",
       "Elo_away                                               60.0                           \n",
       "\n",
       "          ...  \\\n",
       "Elo_home  ...   \n",
       "Elo_away  ...   \n",
       "\n",
       "          https://www.besoccer.com/match/ac-reggiana-1919/empoli-fc/2021103061  \\\n",
       "Elo_home                                               39.0                      \n",
       "Elo_away                                               68.0                      \n",
       "\n",
       "          https://www.besoccer.com/match/ascoli/ac-monza-brianza-1912/2021103063  \\\n",
       "Elo_home                                               50.0                        \n",
       "Elo_away                                               52.0                        \n",
       "\n",
       "          https://www.besoccer.com/match/brescia/pescara-calcio/2021103064  \\\n",
       "Elo_home                                               61.0                  \n",
       "Elo_away                                               57.0                  \n",
       "\n",
       "          https://www.besoccer.com/match/us-cremonese/pordenone/2021103066  \\\n",
       "Elo_home                                               54.0                  \n",
       "Elo_away                                               47.0                  \n",
       "\n",
       "          https://www.besoccer.com/match/virtus-entella/salernitana-calcio-1919/2021103067  \\\n",
       "Elo_home                                               50.0                                  \n",
       "Elo_away                                               54.0                                  \n",
       "\n",
       "          https://www.besoccer.com/match/lecce/spal-1907/2021103068  \\\n",
       "Elo_home                                               59.0           \n",
       "Elo_away                                               59.0           \n",
       "\n",
       "          https://www.besoccer.com/match/frosinone-calcio/as-cittadella/2021103059  \\\n",
       "Elo_home                                               58.0                          \n",
       "Elo_away                                               57.0                          \n",
       "\n",
       "          https://www.besoccer.com/match/reggina/vicenza-calcio/2021103062  \\\n",
       "Elo_home                                               40.0                  \n",
       "Elo_away                                               49.0                  \n",
       "\n",
       "          https://www.besoccer.com/match/venezia/nuova-cosenza/2021103060  \\\n",
       "Elo_home                                               54.0                 \n",
       "Elo_away                                               47.0                 \n",
       "\n",
       "          https://www.besoccer.com/match/chievo/pisa-calcio/2021103065  \n",
       "Elo_home                                               64.0             \n",
       "Elo_away                                               56.0             \n",
       "\n",
       "[2 rows x 132111 columns]"
      ]
     },
     "execution_count": 11,
     "metadata": {},
     "output_type": "execute_result"
    }
   ],
   "source": [
    "elo_df"
   ]
  },
  {
   "cell_type": "code",
   "execution_count": 12,
   "metadata": {},
   "outputs": [],
   "source": [
    "elo_df = elo_df.transpose().reset_index().rename(columns={'index': 'Link'})"
   ]
  },
  {
   "cell_type": "code",
   "execution_count": 13,
   "metadata": {},
   "outputs": [
    {
     "data": {
      "text/html": [
       "<div>\n",
       "<style scoped>\n",
       "    .dataframe tbody tr th:only-of-type {\n",
       "        vertical-align: middle;\n",
       "    }\n",
       "\n",
       "    .dataframe tbody tr th {\n",
       "        vertical-align: top;\n",
       "    }\n",
       "\n",
       "    .dataframe thead th {\n",
       "        text-align: right;\n",
       "    }\n",
       "</style>\n",
       "<table border=\"1\" class=\"dataframe\">\n",
       "  <thead>\n",
       "    <tr style=\"text-align: right;\">\n",
       "      <th></th>\n",
       "      <th>Link</th>\n",
       "      <th>Elo_home</th>\n",
       "      <th>Elo_away</th>\n",
       "    </tr>\n",
       "  </thead>\n",
       "  <tbody>\n",
       "    <tr>\n",
       "      <th>0</th>\n",
       "      <td>https://www.besoccer.com/match/saarbrucken/stu...</td>\n",
       "      <td>56.0</td>\n",
       "      <td>59.0</td>\n",
       "    </tr>\n",
       "    <tr>\n",
       "      <th>1</th>\n",
       "      <td>https://www.besoccer.com/match/sc-freiburg/unt...</td>\n",
       "      <td>53.0</td>\n",
       "      <td>55.0</td>\n",
       "    </tr>\n",
       "    <tr>\n",
       "      <th>2</th>\n",
       "      <td>https://www.besoccer.com/match/vfl-osnabruck/m...</td>\n",
       "      <td>52.0</td>\n",
       "      <td>53.0</td>\n",
       "    </tr>\n",
       "    <tr>\n",
       "      <th>3</th>\n",
       "      <td>https://www.besoccer.com/match/rot-weiss-essen...</td>\n",
       "      <td>53.0</td>\n",
       "      <td>62.0</td>\n",
       "    </tr>\n",
       "    <tr>\n",
       "      <th>4</th>\n",
       "      <td>https://www.besoccer.com/match/alemannia-aache...</td>\n",
       "      <td>57.0</td>\n",
       "      <td>52.0</td>\n",
       "    </tr>\n",
       "    <tr>\n",
       "      <th>...</th>\n",
       "      <td>...</td>\n",
       "      <td>...</td>\n",
       "      <td>...</td>\n",
       "    </tr>\n",
       "    <tr>\n",
       "      <th>132106</th>\n",
       "      <td>https://www.besoccer.com/match/lecce/spal-1907...</td>\n",
       "      <td>59.0</td>\n",
       "      <td>59.0</td>\n",
       "    </tr>\n",
       "    <tr>\n",
       "      <th>132107</th>\n",
       "      <td>https://www.besoccer.com/match/frosinone-calci...</td>\n",
       "      <td>58.0</td>\n",
       "      <td>57.0</td>\n",
       "    </tr>\n",
       "    <tr>\n",
       "      <th>132108</th>\n",
       "      <td>https://www.besoccer.com/match/reggina/vicenza...</td>\n",
       "      <td>40.0</td>\n",
       "      <td>49.0</td>\n",
       "    </tr>\n",
       "    <tr>\n",
       "      <th>132109</th>\n",
       "      <td>https://www.besoccer.com/match/venezia/nuova-c...</td>\n",
       "      <td>54.0</td>\n",
       "      <td>47.0</td>\n",
       "    </tr>\n",
       "    <tr>\n",
       "      <th>132110</th>\n",
       "      <td>https://www.besoccer.com/match/chievo/pisa-cal...</td>\n",
       "      <td>64.0</td>\n",
       "      <td>56.0</td>\n",
       "    </tr>\n",
       "  </tbody>\n",
       "</table>\n",
       "<p>132111 rows × 3 columns</p>\n",
       "</div>"
      ],
      "text/plain": [
       "                                                     Link  Elo_home  Elo_away\n",
       "0       https://www.besoccer.com/match/saarbrucken/stu...      56.0      59.0\n",
       "1       https://www.besoccer.com/match/sc-freiburg/unt...      53.0      55.0\n",
       "2       https://www.besoccer.com/match/vfl-osnabruck/m...      52.0      53.0\n",
       "3       https://www.besoccer.com/match/rot-weiss-essen...      53.0      62.0\n",
       "4       https://www.besoccer.com/match/alemannia-aache...      57.0      52.0\n",
       "...                                                   ...       ...       ...\n",
       "132106  https://www.besoccer.com/match/lecce/spal-1907...      59.0      59.0\n",
       "132107  https://www.besoccer.com/match/frosinone-calci...      58.0      57.0\n",
       "132108  https://www.besoccer.com/match/reggina/vicenza...      40.0      49.0\n",
       "132109  https://www.besoccer.com/match/venezia/nuova-c...      54.0      47.0\n",
       "132110  https://www.besoccer.com/match/chievo/pisa-cal...      64.0      56.0\n",
       "\n",
       "[132111 rows x 3 columns]"
      ]
     },
     "execution_count": 13,
     "metadata": {},
     "output_type": "execute_result"
    }
   ],
   "source": [
    "elo_df"
   ]
  },
  {
   "cell_type": "code",
   "execution_count": 14,
   "metadata": {},
   "outputs": [],
   "source": [
    "final_df = elo_df.merge(new_df, on='Link').dropna(subset=['Elo_home']).drop_duplicates(subset=['Link'], keep='first')"
   ]
  },
  {
   "cell_type": "code",
   "execution_count": 15,
   "metadata": {},
   "outputs": [
    {
     "data": {
      "text/plain": [
       "Index(['Link', 'Elo_home', 'Elo_away', 'Home_Team', 'Away_Team', 'Result',\n",
       "       'Season', 'Round', 'League', 'New Link', 'Link_y', 'Date_New',\n",
       "       'Referee', 'Home_Yellow', 'Home_Red', 'Away_Yellow', 'Away_Red'],\n",
       "      dtype='object')"
      ]
     },
     "execution_count": 15,
     "metadata": {},
     "output_type": "execute_result"
    }
   ],
   "source": [
    "final_df.columns"
   ]
  },
  {
   "cell_type": "code",
   "execution_count": 16,
   "metadata": {},
   "outputs": [
    {
     "name": "stdout",
     "output_type": "stream",
     "text": [
      "<class 'pandas.core.frame.DataFrame'>\n",
      "Int64Index: 120947 entries, 0 to 142534\n",
      "Data columns (total 17 columns):\n",
      " #   Column       Non-Null Count   Dtype  \n",
      "---  ------       --------------   -----  \n",
      " 0   Link         120947 non-null  object \n",
      " 1   Elo_home     120947 non-null  float64\n",
      " 2   Elo_away     120947 non-null  float64\n",
      " 3   Home_Team    120947 non-null  object \n",
      " 4   Away_Team    120947 non-null  object \n",
      " 5   Result       120947 non-null  object \n",
      " 6   Season       120947 non-null  object \n",
      " 7   Round        120947 non-null  object \n",
      " 8   League       120947 non-null  object \n",
      " 9   New Link     120947 non-null  object \n",
      " 10  Link_y       120947 non-null  object \n",
      " 11  Date_New     120947 non-null  object \n",
      " 12  Referee      120947 non-null  object \n",
      " 13  Home_Yellow  105382 non-null  float64\n",
      " 14  Home_Red     105382 non-null  float64\n",
      " 15  Away_Yellow  105382 non-null  float64\n",
      " 16  Away_Red     105382 non-null  float64\n",
      "dtypes: float64(6), object(11)\n",
      "memory usage: 16.6+ MB\n"
     ]
    }
   ],
   "source": [
    "final_df.info()"
   ]
  },
  {
   "cell_type": "code",
   "execution_count": 17,
   "metadata": {},
   "outputs": [
    {
     "data": {
      "text/html": [
       "<div>\n",
       "<style scoped>\n",
       "    .dataframe tbody tr th:only-of-type {\n",
       "        vertical-align: middle;\n",
       "    }\n",
       "\n",
       "    .dataframe tbody tr th {\n",
       "        vertical-align: top;\n",
       "    }\n",
       "\n",
       "    .dataframe thead th {\n",
       "        text-align: right;\n",
       "    }\n",
       "</style>\n",
       "<table border=\"1\" class=\"dataframe\">\n",
       "  <thead>\n",
       "    <tr style=\"text-align: right;\">\n",
       "      <th></th>\n",
       "      <th>Elo_home</th>\n",
       "      <th>Elo_away</th>\n",
       "      <th>Home_Yellow</th>\n",
       "      <th>Home_Red</th>\n",
       "      <th>Away_Yellow</th>\n",
       "      <th>Away_Red</th>\n",
       "    </tr>\n",
       "    <tr>\n",
       "      <th>Season</th>\n",
       "      <th></th>\n",
       "      <th></th>\n",
       "      <th></th>\n",
       "      <th></th>\n",
       "      <th></th>\n",
       "      <th></th>\n",
       "    </tr>\n",
       "  </thead>\n",
       "  <tbody>\n",
       "    <tr>\n",
       "      <th>1990</th>\n",
       "      <td>69.016031</td>\n",
       "      <td>69.077737</td>\n",
       "      <td>0.965396</td>\n",
       "      <td>0.024574</td>\n",
       "      <td>1.352558</td>\n",
       "      <td>0.057673</td>\n",
       "    </tr>\n",
       "    <tr>\n",
       "      <th>1991</th>\n",
       "      <td>69.773333</td>\n",
       "      <td>69.817333</td>\n",
       "      <td>1.050389</td>\n",
       "      <td>0.034822</td>\n",
       "      <td>1.429332</td>\n",
       "      <td>0.069644</td>\n",
       "    </tr>\n",
       "    <tr>\n",
       "      <th>1992</th>\n",
       "      <td>71.356215</td>\n",
       "      <td>71.376836</td>\n",
       "      <td>0.929987</td>\n",
       "      <td>0.040951</td>\n",
       "      <td>1.259797</td>\n",
       "      <td>0.069133</td>\n",
       "    </tr>\n",
       "    <tr>\n",
       "      <th>1993</th>\n",
       "      <td>69.499743</td>\n",
       "      <td>69.539589</td>\n",
       "      <td>1.308689</td>\n",
       "      <td>0.041540</td>\n",
       "      <td>1.758384</td>\n",
       "      <td>0.075457</td>\n",
       "    </tr>\n",
       "    <tr>\n",
       "      <th>1994</th>\n",
       "      <td>70.105645</td>\n",
       "      <td>70.145968</td>\n",
       "      <td>1.263866</td>\n",
       "      <td>0.036297</td>\n",
       "      <td>1.729608</td>\n",
       "      <td>0.072186</td>\n",
       "    </tr>\n",
       "    <tr>\n",
       "      <th>1995</th>\n",
       "      <td>71.234024</td>\n",
       "      <td>71.272309</td>\n",
       "      <td>1.291968</td>\n",
       "      <td>0.066208</td>\n",
       "      <td>1.687771</td>\n",
       "      <td>0.116136</td>\n",
       "    </tr>\n",
       "    <tr>\n",
       "      <th>1996</th>\n",
       "      <td>69.484463</td>\n",
       "      <td>69.516811</td>\n",
       "      <td>1.191299</td>\n",
       "      <td>0.077735</td>\n",
       "      <td>1.531350</td>\n",
       "      <td>0.117083</td>\n",
       "    </tr>\n",
       "    <tr>\n",
       "      <th>1997</th>\n",
       "      <td>70.630535</td>\n",
       "      <td>70.672513</td>\n",
       "      <td>1.426383</td>\n",
       "      <td>0.072496</td>\n",
       "      <td>1.880045</td>\n",
       "      <td>0.110613</td>\n",
       "    </tr>\n",
       "    <tr>\n",
       "      <th>1998</th>\n",
       "      <td>71.657670</td>\n",
       "      <td>71.690915</td>\n",
       "      <td>1.713448</td>\n",
       "      <td>0.055512</td>\n",
       "      <td>2.245113</td>\n",
       "      <td>0.076622</td>\n",
       "    </tr>\n",
       "    <tr>\n",
       "      <th>1999</th>\n",
       "      <td>69.114230</td>\n",
       "      <td>69.158116</td>\n",
       "      <td>1.805847</td>\n",
       "      <td>0.053223</td>\n",
       "      <td>2.260870</td>\n",
       "      <td>0.077586</td>\n",
       "    </tr>\n",
       "    <tr>\n",
       "      <th>2000</th>\n",
       "      <td>67.302657</td>\n",
       "      <td>67.332786</td>\n",
       "      <td>1.694600</td>\n",
       "      <td>0.048417</td>\n",
       "      <td>2.135940</td>\n",
       "      <td>0.070453</td>\n",
       "    </tr>\n",
       "    <tr>\n",
       "      <th>2001</th>\n",
       "      <td>67.288787</td>\n",
       "      <td>67.334385</td>\n",
       "      <td>1.828646</td>\n",
       "      <td>0.051014</td>\n",
       "      <td>2.252453</td>\n",
       "      <td>0.076194</td>\n",
       "    </tr>\n",
       "    <tr>\n",
       "      <th>2002</th>\n",
       "      <td>66.709236</td>\n",
       "      <td>66.745724</td>\n",
       "      <td>1.728155</td>\n",
       "      <td>0.055442</td>\n",
       "      <td>2.204139</td>\n",
       "      <td>0.079203</td>\n",
       "    </tr>\n",
       "    <tr>\n",
       "      <th>2003</th>\n",
       "      <td>65.697479</td>\n",
       "      <td>65.731618</td>\n",
       "      <td>1.656398</td>\n",
       "      <td>0.051244</td>\n",
       "      <td>2.109597</td>\n",
       "      <td>0.083827</td>\n",
       "    </tr>\n",
       "    <tr>\n",
       "      <th>2004</th>\n",
       "      <td>66.368535</td>\n",
       "      <td>66.392221</td>\n",
       "      <td>1.730266</td>\n",
       "      <td>0.053511</td>\n",
       "      <td>2.118886</td>\n",
       "      <td>0.084988</td>\n",
       "    </tr>\n",
       "    <tr>\n",
       "      <th>2005</th>\n",
       "      <td>67.894290</td>\n",
       "      <td>67.937357</td>\n",
       "      <td>1.845472</td>\n",
       "      <td>0.055106</td>\n",
       "      <td>2.293642</td>\n",
       "      <td>0.076301</td>\n",
       "    </tr>\n",
       "    <tr>\n",
       "      <th>2006</th>\n",
       "      <td>68.200347</td>\n",
       "      <td>68.231303</td>\n",
       "      <td>1.847595</td>\n",
       "      <td>0.060962</td>\n",
       "      <td>2.265101</td>\n",
       "      <td>0.079978</td>\n",
       "    </tr>\n",
       "    <tr>\n",
       "      <th>2007</th>\n",
       "      <td>68.102204</td>\n",
       "      <td>68.125501</td>\n",
       "      <td>1.890935</td>\n",
       "      <td>0.063456</td>\n",
       "      <td>2.304533</td>\n",
       "      <td>0.082153</td>\n",
       "    </tr>\n",
       "    <tr>\n",
       "      <th>2008</th>\n",
       "      <td>68.137750</td>\n",
       "      <td>68.183500</td>\n",
       "      <td>1.783517</td>\n",
       "      <td>0.052780</td>\n",
       "      <td>2.214507</td>\n",
       "      <td>0.072820</td>\n",
       "    </tr>\n",
       "    <tr>\n",
       "      <th>2009</th>\n",
       "      <td>68.155750</td>\n",
       "      <td>68.184000</td>\n",
       "      <td>1.835242</td>\n",
       "      <td>0.059760</td>\n",
       "      <td>2.198269</td>\n",
       "      <td>0.062552</td>\n",
       "    </tr>\n",
       "    <tr>\n",
       "      <th>2010</th>\n",
       "      <td>68.125500</td>\n",
       "      <td>68.163500</td>\n",
       "      <td>1.821590</td>\n",
       "      <td>0.054115</td>\n",
       "      <td>2.228861</td>\n",
       "      <td>0.071590</td>\n",
       "    </tr>\n",
       "    <tr>\n",
       "      <th>2011</th>\n",
       "      <td>68.137784</td>\n",
       "      <td>68.175544</td>\n",
       "      <td>1.813756</td>\n",
       "      <td>0.056609</td>\n",
       "      <td>2.181432</td>\n",
       "      <td>0.070761</td>\n",
       "    </tr>\n",
       "    <tr>\n",
       "      <th>2012</th>\n",
       "      <td>67.988142</td>\n",
       "      <td>68.010540</td>\n",
       "      <td>1.818563</td>\n",
       "      <td>0.057784</td>\n",
       "      <td>2.159581</td>\n",
       "      <td>0.084431</td>\n",
       "    </tr>\n",
       "    <tr>\n",
       "      <th>2013</th>\n",
       "      <td>68.094642</td>\n",
       "      <td>68.130446</td>\n",
       "      <td>1.929877</td>\n",
       "      <td>0.068119</td>\n",
       "      <td>2.265465</td>\n",
       "      <td>0.080140</td>\n",
       "    </tr>\n",
       "    <tr>\n",
       "      <th>2014</th>\n",
       "      <td>68.083855</td>\n",
       "      <td>68.105632</td>\n",
       "      <td>1.927086</td>\n",
       "      <td>0.083438</td>\n",
       "      <td>2.253571</td>\n",
       "      <td>0.107742</td>\n",
       "    </tr>\n",
       "    <tr>\n",
       "      <th>2015</th>\n",
       "      <td>68.214815</td>\n",
       "      <td>68.224198</td>\n",
       "      <td>2.078765</td>\n",
       "      <td>0.111358</td>\n",
       "      <td>2.452840</td>\n",
       "      <td>0.154815</td>\n",
       "    </tr>\n",
       "    <tr>\n",
       "      <th>2016</th>\n",
       "      <td>68.305001</td>\n",
       "      <td>68.314363</td>\n",
       "      <td>2.110865</td>\n",
       "      <td>0.113821</td>\n",
       "      <td>2.473762</td>\n",
       "      <td>0.158660</td>\n",
       "    </tr>\n",
       "    <tr>\n",
       "      <th>2017</th>\n",
       "      <td>68.218581</td>\n",
       "      <td>68.245441</td>\n",
       "      <td>1.971061</td>\n",
       "      <td>0.094979</td>\n",
       "      <td>2.335147</td>\n",
       "      <td>0.133070</td>\n",
       "    </tr>\n",
       "    <tr>\n",
       "      <th>2018</th>\n",
       "      <td>67.858058</td>\n",
       "      <td>67.885412</td>\n",
       "      <td>1.870626</td>\n",
       "      <td>0.088960</td>\n",
       "      <td>2.191227</td>\n",
       "      <td>0.110646</td>\n",
       "    </tr>\n",
       "    <tr>\n",
       "      <th>2019</th>\n",
       "      <td>67.809705</td>\n",
       "      <td>67.828252</td>\n",
       "      <td>1.981354</td>\n",
       "      <td>0.089144</td>\n",
       "      <td>2.279949</td>\n",
       "      <td>0.126692</td>\n",
       "    </tr>\n",
       "    <tr>\n",
       "      <th>2020</th>\n",
       "      <td>67.836256</td>\n",
       "      <td>67.857297</td>\n",
       "      <td>2.162665</td>\n",
       "      <td>0.109792</td>\n",
       "      <td>2.351767</td>\n",
       "      <td>0.127327</td>\n",
       "    </tr>\n",
       "    <tr>\n",
       "      <th>2021</th>\n",
       "      <td>66.326551</td>\n",
       "      <td>66.347227</td>\n",
       "      <td>1.959291</td>\n",
       "      <td>0.097177</td>\n",
       "      <td>2.022653</td>\n",
       "      <td>0.118188</td>\n",
       "    </tr>\n",
       "  </tbody>\n",
       "</table>\n",
       "</div>"
      ],
      "text/plain": [
       "         Elo_home   Elo_away  Home_Yellow  Home_Red  Away_Yellow  Away_Red\n",
       "Season                                                                    \n",
       "1990    69.016031  69.077737     0.965396  0.024574     1.352558  0.057673\n",
       "1991    69.773333  69.817333     1.050389  0.034822     1.429332  0.069644\n",
       "1992    71.356215  71.376836     0.929987  0.040951     1.259797  0.069133\n",
       "1993    69.499743  69.539589     1.308689  0.041540     1.758384  0.075457\n",
       "1994    70.105645  70.145968     1.263866  0.036297     1.729608  0.072186\n",
       "1995    71.234024  71.272309     1.291968  0.066208     1.687771  0.116136\n",
       "1996    69.484463  69.516811     1.191299  0.077735     1.531350  0.117083\n",
       "1997    70.630535  70.672513     1.426383  0.072496     1.880045  0.110613\n",
       "1998    71.657670  71.690915     1.713448  0.055512     2.245113  0.076622\n",
       "1999    69.114230  69.158116     1.805847  0.053223     2.260870  0.077586\n",
       "2000    67.302657  67.332786     1.694600  0.048417     2.135940  0.070453\n",
       "2001    67.288787  67.334385     1.828646  0.051014     2.252453  0.076194\n",
       "2002    66.709236  66.745724     1.728155  0.055442     2.204139  0.079203\n",
       "2003    65.697479  65.731618     1.656398  0.051244     2.109597  0.083827\n",
       "2004    66.368535  66.392221     1.730266  0.053511     2.118886  0.084988\n",
       "2005    67.894290  67.937357     1.845472  0.055106     2.293642  0.076301\n",
       "2006    68.200347  68.231303     1.847595  0.060962     2.265101  0.079978\n",
       "2007    68.102204  68.125501     1.890935  0.063456     2.304533  0.082153\n",
       "2008    68.137750  68.183500     1.783517  0.052780     2.214507  0.072820\n",
       "2009    68.155750  68.184000     1.835242  0.059760     2.198269  0.062552\n",
       "2010    68.125500  68.163500     1.821590  0.054115     2.228861  0.071590\n",
       "2011    68.137784  68.175544     1.813756  0.056609     2.181432  0.070761\n",
       "2012    67.988142  68.010540     1.818563  0.057784     2.159581  0.084431\n",
       "2013    68.094642  68.130446     1.929877  0.068119     2.265465  0.080140\n",
       "2014    68.083855  68.105632     1.927086  0.083438     2.253571  0.107742\n",
       "2015    68.214815  68.224198     2.078765  0.111358     2.452840  0.154815\n",
       "2016    68.305001  68.314363     2.110865  0.113821     2.473762  0.158660\n",
       "2017    68.218581  68.245441     1.971061  0.094979     2.335147  0.133070\n",
       "2018    67.858058  67.885412     1.870626  0.088960     2.191227  0.110646\n",
       "2019    67.809705  67.828252     1.981354  0.089144     2.279949  0.126692\n",
       "2020    67.836256  67.857297     2.162665  0.109792     2.351767  0.127327\n",
       "2021    66.326551  66.347227     1.959291  0.097177     2.022653  0.118188"
      ]
     },
     "execution_count": 17,
     "metadata": {},
     "output_type": "execute_result"
    }
   ],
   "source": [
    "final_df.groupby('Season').mean()"
   ]
  },
  {
   "cell_type": "code",
   "execution_count": 18,
   "metadata": {},
   "outputs": [],
   "source": [
    "def get_home_result(x):\n",
    "    home = x.split('-')[0]\n",
    "    return home\n",
    "\n",
    "def get_away_result(x):\n",
    "    away = x.split('-')[1]\n",
    "    return away"
   ]
  },
  {
   "cell_type": "code",
   "execution_count": 19,
   "metadata": {},
   "outputs": [],
   "source": [
    "new_df = final_df[['League', 'Round', 'Season', 'Home_Team', 'Away_Team', 'Result', 'Home_Yellow', 'Home_Red', 'Away_Yellow', 'Away_Red']]"
   ]
  },
  {
   "cell_type": "code",
   "execution_count": 20,
   "metadata": {},
   "outputs": [
    {
     "data": {
      "text/plain": [
       "League          0.000000\n",
       "Round           0.000000\n",
       "Season          0.000000\n",
       "Home_Team       0.000000\n",
       "Away_Team       0.000000\n",
       "Result          0.000000\n",
       "Home_Yellow    12.869273\n",
       "Home_Red       12.869273\n",
       "Away_Yellow    12.869273\n",
       "Away_Red       12.869273\n",
       "dtype: float64"
      ]
     },
     "execution_count": 20,
     "metadata": {},
     "output_type": "execute_result"
    }
   ],
   "source": [
    "new_df.isna().sum(axis = 0) / len(new_df) * 100"
   ]
  },
  {
   "cell_type": "code",
   "execution_count": 21,
   "metadata": {},
   "outputs": [],
   "source": [
    "import seaborn as sns"
   ]
  },
  {
   "cell_type": "code",
   "execution_count": 22,
   "metadata": {},
   "outputs": [
    {
     "data": {
      "text/plain": [
       "<AxesSubplot:>"
      ]
     },
     "execution_count": 22,
     "metadata": {},
     "output_type": "execute_result"
    },
    {
     "data": {
      "image/png": "[encoded data removed]",
      "text/plain": [
       "<Figure size 432x288 with 1 Axes>"
      ]
     },
     "metadata": {
      "needs_background": "light"
     },
     "output_type": "display_data"
    }
   ],
   "source": [
    "sns.heatmap(new_df.isna(),       \n",
    "            cbar = False,    \n",
    "            cmap = \"binary\")"
   ]
  },
  {
   "cell_type": "code",
   "execution_count": 23,
   "metadata": {},
   "outputs": [
    {
     "data": {
      "text/html": [
       "<div>\n",
       "<style scoped>\n",
       "    .dataframe tbody tr th:only-of-type {\n",
       "        vertical-align: middle;\n",
       "    }\n",
       "\n",
       "    .dataframe tbody tr th {\n",
       "        vertical-align: top;\n",
       "    }\n",
       "\n",
       "    .dataframe thead th {\n",
       "        text-align: right;\n",
       "    }\n",
       "</style>\n",
       "<table border=\"1\" class=\"dataframe\">\n",
       "  <thead>\n",
       "    <tr style=\"text-align: right;\">\n",
       "      <th></th>\n",
       "      <th>League</th>\n",
       "      <th>Round</th>\n",
       "      <th>Season</th>\n",
       "      <th>Home_Team</th>\n",
       "      <th>Away_Team</th>\n",
       "      <th>Result</th>\n",
       "      <th>Home_Yellow</th>\n",
       "      <th>Home_Red</th>\n",
       "      <th>Away_Yellow</th>\n",
       "      <th>Away_Red</th>\n",
       "    </tr>\n",
       "  </thead>\n",
       "  <tbody>\n",
       "    <tr>\n",
       "      <th>0</th>\n",
       "      <td>2_liga</td>\n",
       "      <td>1</td>\n",
       "      <td>1990</td>\n",
       "      <td>Saarbrücken</td>\n",
       "      <td>Stuttgarter Kickers</td>\n",
       "      <td>1-0</td>\n",
       "      <td>0.0</td>\n",
       "      <td>0.0</td>\n",
       "      <td>3.0</td>\n",
       "      <td>0.0</td>\n",
       "    </tr>\n",
       "    <tr>\n",
       "      <th>1</th>\n",
       "      <td>2_liga</td>\n",
       "      <td>1</td>\n",
       "      <td>1990</td>\n",
       "      <td>SC Freiburg</td>\n",
       "      <td>Unterhaching</td>\n",
       "      <td>2-3</td>\n",
       "      <td>1.0</td>\n",
       "      <td>0.0</td>\n",
       "      <td>0.0</td>\n",
       "      <td>0.0</td>\n",
       "    </tr>\n",
       "    <tr>\n",
       "      <th>2</th>\n",
       "      <td>2_liga</td>\n",
       "      <td>1</td>\n",
       "      <td>1990</td>\n",
       "      <td>VfL Osnabrück</td>\n",
       "      <td>Meppen</td>\n",
       "      <td>1-1</td>\n",
       "      <td>3.0</td>\n",
       "      <td>0.0</td>\n",
       "      <td>2.0</td>\n",
       "      <td>0.0</td>\n",
       "    </tr>\n",
       "    <tr>\n",
       "      <th>3</th>\n",
       "      <td>2_liga</td>\n",
       "      <td>1</td>\n",
       "      <td>1990</td>\n",
       "      <td>RW Essen</td>\n",
       "      <td>Schalke 04</td>\n",
       "      <td>0-0</td>\n",
       "      <td>2.0</td>\n",
       "      <td>0.0</td>\n",
       "      <td>2.0</td>\n",
       "      <td>0.0</td>\n",
       "    </tr>\n",
       "    <tr>\n",
       "      <th>4</th>\n",
       "      <td>2_liga</td>\n",
       "      <td>1</td>\n",
       "      <td>1990</td>\n",
       "      <td>Alemannia Aachen</td>\n",
       "      <td>MSV Duisburg</td>\n",
       "      <td>1-2</td>\n",
       "      <td>1.0</td>\n",
       "      <td>0.0</td>\n",
       "      <td>1.0</td>\n",
       "      <td>0.0</td>\n",
       "    </tr>\n",
       "  </tbody>\n",
       "</table>\n",
       "</div>"
      ],
      "text/plain": [
       "   League Round Season         Home_Team            Away_Team Result  \\\n",
       "0  2_liga     1   1990       Saarbrücken  Stuttgarter Kickers    1-0   \n",
       "1  2_liga     1   1990       SC Freiburg         Unterhaching    2-3   \n",
       "2  2_liga     1   1990     VfL Osnabrück               Meppen    1-1   \n",
       "3  2_liga     1   1990          RW Essen           Schalke 04    0-0   \n",
       "4  2_liga     1   1990  Alemannia Aachen         MSV Duisburg    1-2   \n",
       "\n",
       "   Home_Yellow  Home_Red  Away_Yellow  Away_Red  \n",
       "0          0.0       0.0          3.0       0.0  \n",
       "1          1.0       0.0          0.0       0.0  \n",
       "2          3.0       0.0          2.0       0.0  \n",
       "3          2.0       0.0          2.0       0.0  \n",
       "4          1.0       0.0          1.0       0.0  "
      ]
     },
     "execution_count": 23,
     "metadata": {},
     "output_type": "execute_result"
    }
   ],
   "source": [
    "new_df.head()"
   ]
  },
  {
   "cell_type": "code",
   "execution_count": 24,
   "metadata": {},
   "outputs": [
    {
     "name": "stderr",
     "output_type": "stream",
     "text": [
      "/tmp/ipykernel_397516/2345876381.py:1: SettingWithCopyWarning: \n",
      "A value is trying to be set on a copy of a slice from a DataFrame.\n",
      "Try using .loc[row_indexer,col_indexer] = value instead\n",
      "\n",
      "See the caveats in the documentation: https://pandas.pydata.org/pandas-docs/stable/user_guide/indexing.html#returning-a-view-versus-a-copy\n",
      "  new_df['Home_Score'] = new_df['Result'].apply(get_home_result)\n",
      "/tmp/ipykernel_397516/2345876381.py:2: SettingWithCopyWarning: \n",
      "A value is trying to be set on a copy of a slice from a DataFrame.\n",
      "Try using .loc[row_indexer,col_indexer] = value instead\n",
      "\n",
      "See the caveats in the documentation: https://pandas.pydata.org/pandas-docs/stable/user_guide/indexing.html#returning-a-view-versus-a-copy\n",
      "  new_df['Away_Score'] = new_df['Result'].apply(get_away_result)\n"
     ]
    }
   ],
   "source": [
    "new_df['Home_Score'] = new_df['Result'].apply(get_home_result)\n",
    "new_df['Away_Score'] = new_df['Result'].apply(get_away_result)"
   ]
  },
  {
   "cell_type": "code",
   "execution_count": 25,
   "metadata": {},
   "outputs": [
    {
     "data": {
      "text/html": [
       "<div>\n",
       "<style scoped>\n",
       "    .dataframe tbody tr th:only-of-type {\n",
       "        vertical-align: middle;\n",
       "    }\n",
       "\n",
       "    .dataframe tbody tr th {\n",
       "        vertical-align: top;\n",
       "    }\n",
       "\n",
       "    .dataframe thead th {\n",
       "        text-align: right;\n",
       "    }\n",
       "</style>\n",
       "<table border=\"1\" class=\"dataframe\">\n",
       "  <thead>\n",
       "    <tr style=\"text-align: right;\">\n",
       "      <th></th>\n",
       "      <th>League</th>\n",
       "      <th>Round</th>\n",
       "      <th>Season</th>\n",
       "      <th>Home_Team</th>\n",
       "      <th>Away_Team</th>\n",
       "      <th>Result</th>\n",
       "      <th>Home_Yellow</th>\n",
       "      <th>Home_Red</th>\n",
       "      <th>Away_Yellow</th>\n",
       "      <th>Away_Red</th>\n",
       "      <th>Home_Score</th>\n",
       "      <th>Away_Score</th>\n",
       "    </tr>\n",
       "  </thead>\n",
       "  <tbody>\n",
       "    <tr>\n",
       "      <th>0</th>\n",
       "      <td>2_liga</td>\n",
       "      <td>1</td>\n",
       "      <td>1990</td>\n",
       "      <td>Saarbrücken</td>\n",
       "      <td>Stuttgarter Kickers</td>\n",
       "      <td>1-0</td>\n",
       "      <td>0.0</td>\n",
       "      <td>0.0</td>\n",
       "      <td>3.0</td>\n",
       "      <td>0.0</td>\n",
       "      <td>1</td>\n",
       "      <td>0</td>\n",
       "    </tr>\n",
       "    <tr>\n",
       "      <th>1</th>\n",
       "      <td>2_liga</td>\n",
       "      <td>1</td>\n",
       "      <td>1990</td>\n",
       "      <td>SC Freiburg</td>\n",
       "      <td>Unterhaching</td>\n",
       "      <td>2-3</td>\n",
       "      <td>1.0</td>\n",
       "      <td>0.0</td>\n",
       "      <td>0.0</td>\n",
       "      <td>0.0</td>\n",
       "      <td>2</td>\n",
       "      <td>3</td>\n",
       "    </tr>\n",
       "    <tr>\n",
       "      <th>2</th>\n",
       "      <td>2_liga</td>\n",
       "      <td>1</td>\n",
       "      <td>1990</td>\n",
       "      <td>VfL Osnabrück</td>\n",
       "      <td>Meppen</td>\n",
       "      <td>1-1</td>\n",
       "      <td>3.0</td>\n",
       "      <td>0.0</td>\n",
       "      <td>2.0</td>\n",
       "      <td>0.0</td>\n",
       "      <td>1</td>\n",
       "      <td>1</td>\n",
       "    </tr>\n",
       "    <tr>\n",
       "      <th>3</th>\n",
       "      <td>2_liga</td>\n",
       "      <td>1</td>\n",
       "      <td>1990</td>\n",
       "      <td>RW Essen</td>\n",
       "      <td>Schalke 04</td>\n",
       "      <td>0-0</td>\n",
       "      <td>2.0</td>\n",
       "      <td>0.0</td>\n",
       "      <td>2.0</td>\n",
       "      <td>0.0</td>\n",
       "      <td>0</td>\n",
       "      <td>0</td>\n",
       "    </tr>\n",
       "    <tr>\n",
       "      <th>4</th>\n",
       "      <td>2_liga</td>\n",
       "      <td>1</td>\n",
       "      <td>1990</td>\n",
       "      <td>Alemannia Aachen</td>\n",
       "      <td>MSV Duisburg</td>\n",
       "      <td>1-2</td>\n",
       "      <td>1.0</td>\n",
       "      <td>0.0</td>\n",
       "      <td>1.0</td>\n",
       "      <td>0.0</td>\n",
       "      <td>1</td>\n",
       "      <td>2</td>\n",
       "    </tr>\n",
       "    <tr>\n",
       "      <th>...</th>\n",
       "      <td>...</td>\n",
       "      <td>...</td>\n",
       "      <td>...</td>\n",
       "      <td>...</td>\n",
       "      <td>...</td>\n",
       "      <td>...</td>\n",
       "      <td>...</td>\n",
       "      <td>...</td>\n",
       "      <td>...</td>\n",
       "      <td>...</td>\n",
       "      <td>...</td>\n",
       "      <td>...</td>\n",
       "    </tr>\n",
       "    <tr>\n",
       "      <th>142530</th>\n",
       "      <td>serie_b</td>\n",
       "      <td>25</td>\n",
       "      <td>2021</td>\n",
       "      <td>Pisa</td>\n",
       "      <td>Vicenza</td>\n",
       "      <td>2-2</td>\n",
       "      <td>5.0</td>\n",
       "      <td>0.0</td>\n",
       "      <td>1.0</td>\n",
       "      <td>0.0</td>\n",
       "      <td>2</td>\n",
       "      <td>2</td>\n",
       "    </tr>\n",
       "    <tr>\n",
       "      <th>142531</th>\n",
       "      <td>serie_b</td>\n",
       "      <td>25</td>\n",
       "      <td>2021</td>\n",
       "      <td>Pescara</td>\n",
       "      <td>Lecce</td>\n",
       "      <td>1-1</td>\n",
       "      <td>1.0</td>\n",
       "      <td>0.0</td>\n",
       "      <td>1.0</td>\n",
       "      <td>0.0</td>\n",
       "      <td>1</td>\n",
       "      <td>1</td>\n",
       "    </tr>\n",
       "    <tr>\n",
       "      <th>142532</th>\n",
       "      <td>serie_b</td>\n",
       "      <td>25</td>\n",
       "      <td>2021</td>\n",
       "      <td>SPAL</td>\n",
       "      <td>Reggina</td>\n",
       "      <td>1-4</td>\n",
       "      <td>3.0</td>\n",
       "      <td>1.0</td>\n",
       "      <td>4.0</td>\n",
       "      <td>0.0</td>\n",
       "      <td>1</td>\n",
       "      <td>4</td>\n",
       "    </tr>\n",
       "    <tr>\n",
       "      <th>142533</th>\n",
       "      <td>serie_b</td>\n",
       "      <td>25</td>\n",
       "      <td>2021</td>\n",
       "      <td>AC Monza</td>\n",
       "      <td>Cittadella</td>\n",
       "      <td>0-0</td>\n",
       "      <td>2.0</td>\n",
       "      <td>0.0</td>\n",
       "      <td>4.0</td>\n",
       "      <td>0.0</td>\n",
       "      <td>0</td>\n",
       "      <td>0</td>\n",
       "    </tr>\n",
       "    <tr>\n",
       "      <th>142534</th>\n",
       "      <td>serie_b</td>\n",
       "      <td>25</td>\n",
       "      <td>2021</td>\n",
       "      <td>Virtus Entella</td>\n",
       "      <td>Brescia</td>\n",
       "      <td>1-1</td>\n",
       "      <td>1.0</td>\n",
       "      <td>0.0</td>\n",
       "      <td>1.0</td>\n",
       "      <td>0.0</td>\n",
       "      <td>1</td>\n",
       "      <td>1</td>\n",
       "    </tr>\n",
       "  </tbody>\n",
       "</table>\n",
       "<p>120947 rows × 12 columns</p>\n",
       "</div>"
      ],
      "text/plain": [
       "         League Round Season         Home_Team            Away_Team Result  \\\n",
       "0        2_liga     1   1990       Saarbrücken  Stuttgarter Kickers    1-0   \n",
       "1        2_liga     1   1990       SC Freiburg         Unterhaching    2-3   \n",
       "2        2_liga     1   1990     VfL Osnabrück               Meppen    1-1   \n",
       "3        2_liga     1   1990          RW Essen           Schalke 04    0-0   \n",
       "4        2_liga     1   1990  Alemannia Aachen         MSV Duisburg    1-2   \n",
       "...         ...   ...    ...               ...                  ...    ...   \n",
       "142530  serie_b    25   2021              Pisa             Vicenza     2-2   \n",
       "142531  serie_b    25   2021           Pescara                Lecce    1-1   \n",
       "142532  serie_b    25   2021              SPAL              Reggina    1-4   \n",
       "142533  serie_b    25   2021          AC Monza           Cittadella    0-0   \n",
       "142534  serie_b    25   2021    Virtus Entella              Brescia    1-1   \n",
       "\n",
       "        Home_Yellow  Home_Red  Away_Yellow  Away_Red Home_Score Away_Score  \n",
       "0               0.0       0.0          3.0       0.0          1          0  \n",
       "1               1.0       0.0          0.0       0.0          2          3  \n",
       "2               3.0       0.0          2.0       0.0          1          1  \n",
       "3               2.0       0.0          2.0       0.0          0          0  \n",
       "4               1.0       0.0          1.0       0.0          1          2  \n",
       "...             ...       ...          ...       ...        ...        ...  \n",
       "142530          5.0       0.0          1.0       0.0          2          2  \n",
       "142531          1.0       0.0          1.0       0.0          1          1  \n",
       "142532          3.0       1.0          4.0       0.0          1          4  \n",
       "142533          2.0       0.0          4.0       0.0          0          0  \n",
       "142534          1.0       0.0          1.0       0.0          1          1  \n",
       "\n",
       "[120947 rows x 12 columns]"
      ]
     },
     "execution_count": 25,
     "metadata": {},
     "output_type": "execute_result"
    }
   ],
   "source": [
    "new_df"
   ]
  },
  {
   "cell_type": "code",
   "execution_count": 26,
   "metadata": {},
   "outputs": [
    {
     "name": "stderr",
     "output_type": "stream",
     "text": [
      "/tmp/ipykernel_397516/3832214150.py:8: SettingWithCopyWarning: \n",
      "A value is trying to be set on a copy of a slice from a DataFrame.\n",
      "Try using .loc[row_indexer,col_indexer] = value instead\n",
      "\n",
      "See the caveats in the documentation: https://pandas.pydata.org/pandas-docs/stable/user_guide/indexing.html#returning-a-view-versus-a-copy\n",
      "  new_df.loc[ idx, 'Result_Num'] = res\n"
     ]
    }
   ],
   "source": [
    "for idx, match in new_df.iterrows():\n",
    "    if match['Home_Score'] > match['Away_Score']:\n",
    "        res = 1\n",
    "    elif match['Home_Score'] < match['Away_Score']:\n",
    "        res = -1\n",
    "    else:\n",
    "        res = 0\n",
    "    new_df.loc[ idx, 'Result_Num'] = res"
   ]
  },
  {
   "cell_type": "code",
   "execution_count": 27,
   "metadata": {},
   "outputs": [
    {
     "data": {
      "text/html": [
       "<div>\n",
       "<style scoped>\n",
       "    .dataframe tbody tr th:only-of-type {\n",
       "        vertical-align: middle;\n",
       "    }\n",
       "\n",
       "    .dataframe tbody tr th {\n",
       "        vertical-align: top;\n",
       "    }\n",
       "\n",
       "    .dataframe thead th {\n",
       "        text-align: right;\n",
       "    }\n",
       "</style>\n",
       "<table border=\"1\" class=\"dataframe\">\n",
       "  <thead>\n",
       "    <tr style=\"text-align: right;\">\n",
       "      <th></th>\n",
       "      <th>League</th>\n",
       "      <th>Round</th>\n",
       "      <th>Season</th>\n",
       "      <th>Home_Team</th>\n",
       "      <th>Away_Team</th>\n",
       "      <th>Result</th>\n",
       "      <th>Home_Yellow</th>\n",
       "      <th>Home_Red</th>\n",
       "      <th>Away_Yellow</th>\n",
       "      <th>Away_Red</th>\n",
       "      <th>Home_Score</th>\n",
       "      <th>Away_Score</th>\n",
       "      <th>Result_Num</th>\n",
       "    </tr>\n",
       "  </thead>\n",
       "  <tbody>\n",
       "    <tr>\n",
       "      <th>0</th>\n",
       "      <td>2_liga</td>\n",
       "      <td>1</td>\n",
       "      <td>1990</td>\n",
       "      <td>Saarbrücken</td>\n",
       "      <td>Stuttgarter Kickers</td>\n",
       "      <td>1-0</td>\n",
       "      <td>0.0</td>\n",
       "      <td>0.0</td>\n",
       "      <td>3.0</td>\n",
       "      <td>0.0</td>\n",
       "      <td>1</td>\n",
       "      <td>0</td>\n",
       "      <td>1.0</td>\n",
       "    </tr>\n",
       "    <tr>\n",
       "      <th>1</th>\n",
       "      <td>2_liga</td>\n",
       "      <td>1</td>\n",
       "      <td>1990</td>\n",
       "      <td>SC Freiburg</td>\n",
       "      <td>Unterhaching</td>\n",
       "      <td>2-3</td>\n",
       "      <td>1.0</td>\n",
       "      <td>0.0</td>\n",
       "      <td>0.0</td>\n",
       "      <td>0.0</td>\n",
       "      <td>2</td>\n",
       "      <td>3</td>\n",
       "      <td>-1.0</td>\n",
       "    </tr>\n",
       "    <tr>\n",
       "      <th>2</th>\n",
       "      <td>2_liga</td>\n",
       "      <td>1</td>\n",
       "      <td>1990</td>\n",
       "      <td>VfL Osnabrück</td>\n",
       "      <td>Meppen</td>\n",
       "      <td>1-1</td>\n",
       "      <td>3.0</td>\n",
       "      <td>0.0</td>\n",
       "      <td>2.0</td>\n",
       "      <td>0.0</td>\n",
       "      <td>1</td>\n",
       "      <td>1</td>\n",
       "      <td>0.0</td>\n",
       "    </tr>\n",
       "    <tr>\n",
       "      <th>3</th>\n",
       "      <td>2_liga</td>\n",
       "      <td>1</td>\n",
       "      <td>1990</td>\n",
       "      <td>RW Essen</td>\n",
       "      <td>Schalke 04</td>\n",
       "      <td>0-0</td>\n",
       "      <td>2.0</td>\n",
       "      <td>0.0</td>\n",
       "      <td>2.0</td>\n",
       "      <td>0.0</td>\n",
       "      <td>0</td>\n",
       "      <td>0</td>\n",
       "      <td>0.0</td>\n",
       "    </tr>\n",
       "    <tr>\n",
       "      <th>4</th>\n",
       "      <td>2_liga</td>\n",
       "      <td>1</td>\n",
       "      <td>1990</td>\n",
       "      <td>Alemannia Aachen</td>\n",
       "      <td>MSV Duisburg</td>\n",
       "      <td>1-2</td>\n",
       "      <td>1.0</td>\n",
       "      <td>0.0</td>\n",
       "      <td>1.0</td>\n",
       "      <td>0.0</td>\n",
       "      <td>1</td>\n",
       "      <td>2</td>\n",
       "      <td>-1.0</td>\n",
       "    </tr>\n",
       "  </tbody>\n",
       "</table>\n",
       "</div>"
      ],
      "text/plain": [
       "   League Round Season         Home_Team            Away_Team Result  \\\n",
       "0  2_liga     1   1990       Saarbrücken  Stuttgarter Kickers    1-0   \n",
       "1  2_liga     1   1990       SC Freiburg         Unterhaching    2-3   \n",
       "2  2_liga     1   1990     VfL Osnabrück               Meppen    1-1   \n",
       "3  2_liga     1   1990          RW Essen           Schalke 04    0-0   \n",
       "4  2_liga     1   1990  Alemannia Aachen         MSV Duisburg    1-2   \n",
       "\n",
       "   Home_Yellow  Home_Red  Away_Yellow  Away_Red Home_Score Away_Score  \\\n",
       "0          0.0       0.0          3.0       0.0          1          0   \n",
       "1          1.0       0.0          0.0       0.0          2          3   \n",
       "2          3.0       0.0          2.0       0.0          1          1   \n",
       "3          2.0       0.0          2.0       0.0          0          0   \n",
       "4          1.0       0.0          1.0       0.0          1          2   \n",
       "\n",
       "   Result_Num  \n",
       "0         1.0  \n",
       "1        -1.0  \n",
       "2         0.0  \n",
       "3         0.0  \n",
       "4        -1.0  "
      ]
     },
     "execution_count": 27,
     "metadata": {},
     "output_type": "execute_result"
    }
   ],
   "source": [
    "new_df.head()"
   ]
  },
  {
   "cell_type": "code",
   "execution_count": 28,
   "metadata": {},
   "outputs": [
    {
     "name": "stdout",
     "output_type": "stream",
     "text": [
      "<class 'pandas.core.frame.DataFrame'>\n",
      "Int64Index: 120947 entries, 0 to 142534\n",
      "Data columns (total 13 columns):\n",
      " #   Column       Non-Null Count   Dtype  \n",
      "---  ------       --------------   -----  \n",
      " 0   League       120947 non-null  object \n",
      " 1   Round        120947 non-null  object \n",
      " 2   Season       120947 non-null  object \n",
      " 3   Home_Team    120947 non-null  object \n",
      " 4   Away_Team    120947 non-null  object \n",
      " 5   Result       120947 non-null  object \n",
      " 6   Home_Yellow  105382 non-null  float64\n",
      " 7   Home_Red     105382 non-null  float64\n",
      " 8   Away_Yellow  105382 non-null  float64\n",
      " 9   Away_Red     105382 non-null  float64\n",
      " 10  Home_Score   120947 non-null  object \n",
      " 11  Away_Score   120947 non-null  object \n",
      " 12  Result_Num   120947 non-null  float64\n",
      "dtypes: float64(5), object(8)\n",
      "memory usage: 16.9+ MB\n"
     ]
    }
   ],
   "source": [
    "new_df.info()"
   ]
  },
  {
   "cell_type": "code",
   "execution_count": 29,
   "metadata": {},
   "outputs": [
    {
     "name": "stderr",
     "output_type": "stream",
     "text": [
      "/tmp/ipykernel_397516/2849268293.py:1: SettingWithCopyWarning: \n",
      "A value is trying to be set on a copy of a slice from a DataFrame\n",
      "\n",
      "See the caveats in the documentation: https://pandas.pydata.org/pandas-docs/stable/user_guide/indexing.html#returning-a-view-versus-a-copy\n",
      "  new_df.drop(new_df[new_df['League'] == 'eerste_divisie'].index, inplace=True)\n",
      "/tmp/ipykernel_397516/2849268293.py:2: SettingWithCopyWarning: \n",
      "A value is trying to be set on a copy of a slice from a DataFrame\n",
      "\n",
      "See the caveats in the documentation: https://pandas.pydata.org/pandas-docs/stable/user_guide/indexing.html#returning-a-view-versus-a-copy\n",
      "  new_df.drop(new_df[new_df['League'] == 'segunda_liga'].index, inplace=True)\n"
     ]
    }
   ],
   "source": [
    "new_df.drop(new_df[new_df['League'] == 'eerste_divisie'].index, inplace=True)\n",
    "new_df.drop(new_df[new_df['League'] == 'segunda_liga'].index, inplace=True)"
   ]
  },
  {
   "cell_type": "code",
   "execution_count": 30,
   "metadata": {},
   "outputs": [
    {
     "data": {
      "text/html": [
       "<div>\n",
       "<style scoped>\n",
       "    .dataframe tbody tr th:only-of-type {\n",
       "        vertical-align: middle;\n",
       "    }\n",
       "\n",
       "    .dataframe tbody tr th {\n",
       "        vertical-align: top;\n",
       "    }\n",
       "\n",
       "    .dataframe thead th {\n",
       "        text-align: right;\n",
       "    }\n",
       "</style>\n",
       "<table border=\"1\" class=\"dataframe\">\n",
       "  <thead>\n",
       "    <tr style=\"text-align: right;\">\n",
       "      <th></th>\n",
       "      <th>League</th>\n",
       "      <th>Round</th>\n",
       "      <th>Season</th>\n",
       "      <th>Home_Team</th>\n",
       "      <th>Away_Team</th>\n",
       "      <th>Result</th>\n",
       "      <th>Home_Yellow</th>\n",
       "      <th>Home_Red</th>\n",
       "      <th>Away_Yellow</th>\n",
       "      <th>Away_Red</th>\n",
       "      <th>Home_Score</th>\n",
       "      <th>Away_Score</th>\n",
       "      <th>Result_Num</th>\n",
       "    </tr>\n",
       "  </thead>\n",
       "  <tbody>\n",
       "    <tr>\n",
       "      <th>0</th>\n",
       "      <td>2_liga</td>\n",
       "      <td>1</td>\n",
       "      <td>1990</td>\n",
       "      <td>Saarbrücken</td>\n",
       "      <td>Stuttgarter Kickers</td>\n",
       "      <td>1-0</td>\n",
       "      <td>0.0</td>\n",
       "      <td>0.0</td>\n",
       "      <td>3.0</td>\n",
       "      <td>0.0</td>\n",
       "      <td>1</td>\n",
       "      <td>0</td>\n",
       "      <td>1.0</td>\n",
       "    </tr>\n",
       "    <tr>\n",
       "      <th>1</th>\n",
       "      <td>2_liga</td>\n",
       "      <td>1</td>\n",
       "      <td>1990</td>\n",
       "      <td>SC Freiburg</td>\n",
       "      <td>Unterhaching</td>\n",
       "      <td>2-3</td>\n",
       "      <td>1.0</td>\n",
       "      <td>0.0</td>\n",
       "      <td>0.0</td>\n",
       "      <td>0.0</td>\n",
       "      <td>2</td>\n",
       "      <td>3</td>\n",
       "      <td>-1.0</td>\n",
       "    </tr>\n",
       "    <tr>\n",
       "      <th>2</th>\n",
       "      <td>2_liga</td>\n",
       "      <td>1</td>\n",
       "      <td>1990</td>\n",
       "      <td>VfL Osnabrück</td>\n",
       "      <td>Meppen</td>\n",
       "      <td>1-1</td>\n",
       "      <td>3.0</td>\n",
       "      <td>0.0</td>\n",
       "      <td>2.0</td>\n",
       "      <td>0.0</td>\n",
       "      <td>1</td>\n",
       "      <td>1</td>\n",
       "      <td>0.0</td>\n",
       "    </tr>\n",
       "    <tr>\n",
       "      <th>3</th>\n",
       "      <td>2_liga</td>\n",
       "      <td>1</td>\n",
       "      <td>1990</td>\n",
       "      <td>RW Essen</td>\n",
       "      <td>Schalke 04</td>\n",
       "      <td>0-0</td>\n",
       "      <td>2.0</td>\n",
       "      <td>0.0</td>\n",
       "      <td>2.0</td>\n",
       "      <td>0.0</td>\n",
       "      <td>0</td>\n",
       "      <td>0</td>\n",
       "      <td>0.0</td>\n",
       "    </tr>\n",
       "    <tr>\n",
       "      <th>4</th>\n",
       "      <td>2_liga</td>\n",
       "      <td>1</td>\n",
       "      <td>1990</td>\n",
       "      <td>Alemannia Aachen</td>\n",
       "      <td>MSV Duisburg</td>\n",
       "      <td>1-2</td>\n",
       "      <td>1.0</td>\n",
       "      <td>0.0</td>\n",
       "      <td>1.0</td>\n",
       "      <td>0.0</td>\n",
       "      <td>1</td>\n",
       "      <td>2</td>\n",
       "      <td>-1.0</td>\n",
       "    </tr>\n",
       "  </tbody>\n",
       "</table>\n",
       "</div>"
      ],
      "text/plain": [
       "   League Round Season         Home_Team            Away_Team Result  \\\n",
       "0  2_liga     1   1990       Saarbrücken  Stuttgarter Kickers    1-0   \n",
       "1  2_liga     1   1990       SC Freiburg         Unterhaching    2-3   \n",
       "2  2_liga     1   1990     VfL Osnabrück               Meppen    1-1   \n",
       "3  2_liga     1   1990          RW Essen           Schalke 04    0-0   \n",
       "4  2_liga     1   1990  Alemannia Aachen         MSV Duisburg    1-2   \n",
       "\n",
       "   Home_Yellow  Home_Red  Away_Yellow  Away_Red Home_Score Away_Score  \\\n",
       "0          0.0       0.0          3.0       0.0          1          0   \n",
       "1          1.0       0.0          0.0       0.0          2          3   \n",
       "2          3.0       0.0          2.0       0.0          1          1   \n",
       "3          2.0       0.0          2.0       0.0          0          0   \n",
       "4          1.0       0.0          1.0       0.0          1          2   \n",
       "\n",
       "   Result_Num  \n",
       "0         1.0  \n",
       "1        -1.0  \n",
       "2         0.0  \n",
       "3         0.0  \n",
       "4        -1.0  "
      ]
     },
     "execution_count": 30,
     "metadata": {},
     "output_type": "execute_result"
    }
   ],
   "source": [
    "new_df.head()"
   ]
  },
  {
   "cell_type": "code",
   "execution_count": 31,
   "metadata": {},
   "outputs": [],
   "source": [
    "import plotly.express as px"
   ]
  },
  {
   "cell_type": "code",
   "execution_count": 32,
   "metadata": {},
   "outputs": [
    {
     "name": "stderr",
     "output_type": "stream",
     "text": [
      "/tmp/ipykernel_397516/3962763301.py:1: SettingWithCopyWarning: \n",
      "A value is trying to be set on a copy of a slice from a DataFrame.\n",
      "Try using .loc[row_indexer,col_indexer] = value instead\n",
      "\n",
      "See the caveats in the documentation: https://pandas.pydata.org/pandas-docs/stable/user_guide/indexing.html#returning-a-view-versus-a-copy\n",
      "  new_df['Home_Score'] = pd.to_numeric(new_df['Home_Score'], errors='coerce')\n"
     ]
    }
   ],
   "source": [
    "new_df['Home_Score'] = pd.to_numeric(new_df['Home_Score'], errors='coerce')"
   ]
  },
  {
   "cell_type": "code",
   "execution_count": 33,
   "metadata": {},
   "outputs": [
    {
     "name": "stderr",
     "output_type": "stream",
     "text": [
      "/tmp/ipykernel_397516/2056007778.py:1: SettingWithCopyWarning: \n",
      "A value is trying to be set on a copy of a slice from a DataFrame.\n",
      "Try using .loc[row_indexer,col_indexer] = value instead\n",
      "\n",
      "See the caveats in the documentation: https://pandas.pydata.org/pandas-docs/stable/user_guide/indexing.html#returning-a-view-versus-a-copy\n",
      "  new_df['Away_Score'] = pd.to_numeric(new_df['Away_Score'], errors='coerce')\n"
     ]
    }
   ],
   "source": [
    "new_df['Away_Score'] = pd.to_numeric(new_df['Away_Score'], errors='coerce')"
   ]
  },
  {
   "cell_type": "code",
   "execution_count": 34,
   "metadata": {},
   "outputs": [
    {
     "name": "stdout",
     "output_type": "stream",
     "text": [
      "<class 'pandas.core.frame.DataFrame'>\n",
      "Int64Index: 120600 entries, 0 to 142534\n",
      "Data columns (total 13 columns):\n",
      " #   Column       Non-Null Count   Dtype  \n",
      "---  ------       --------------   -----  \n",
      " 0   League       120600 non-null  object \n",
      " 1   Round        120600 non-null  object \n",
      " 2   Season       120600 non-null  object \n",
      " 3   Home_Team    120600 non-null  object \n",
      " 4   Away_Team    120600 non-null  object \n",
      " 5   Result       120600 non-null  object \n",
      " 6   Home_Yellow  105126 non-null  float64\n",
      " 7   Home_Red     105126 non-null  float64\n",
      " 8   Away_Yellow  105126 non-null  float64\n",
      " 9   Away_Red     105126 non-null  float64\n",
      " 10  Home_Score   120596 non-null  float64\n",
      " 11  Away_Score   120596 non-null  float64\n",
      " 12  Result_Num   120600 non-null  float64\n",
      "dtypes: float64(7), object(6)\n",
      "memory usage: 12.9+ MB\n"
     ]
    }
   ],
   "source": [
    "new_df.info()"
   ]
  },
  {
   "cell_type": "code",
   "execution_count": 35,
   "metadata": {},
   "outputs": [
    {
     "name": "stderr",
     "output_type": "stream",
     "text": [
      "/tmp/ipykernel_397516/2032559289.py:1: SettingWithCopyWarning: \n",
      "A value is trying to be set on a copy of a slice from a DataFrame.\n",
      "Try using .loc[row_indexer,col_indexer] = value instead\n",
      "\n",
      "See the caveats in the documentation: https://pandas.pydata.org/pandas-docs/stable/user_guide/indexing.html#returning-a-view-versus-a-copy\n",
      "  new_df['total_goals'] = new_df['Home_Score'] + new_df['Away_Score']\n"
     ]
    }
   ],
   "source": [
    "new_df['total_goals'] = new_df['Home_Score'] + new_df['Away_Score']"
   ]
  },
  {
   "cell_type": "code",
   "execution_count": 36,
   "metadata": {},
   "outputs": [
    {
     "data": {
      "text/html": [
       "<div>\n",
       "<style scoped>\n",
       "    .dataframe tbody tr th:only-of-type {\n",
       "        vertical-align: middle;\n",
       "    }\n",
       "\n",
       "    .dataframe tbody tr th {\n",
       "        vertical-align: top;\n",
       "    }\n",
       "\n",
       "    .dataframe thead th {\n",
       "        text-align: right;\n",
       "    }\n",
       "</style>\n",
       "<table border=\"1\" class=\"dataframe\">\n",
       "  <thead>\n",
       "    <tr style=\"text-align: right;\">\n",
       "      <th></th>\n",
       "      <th>League</th>\n",
       "      <th>Round</th>\n",
       "      <th>Season</th>\n",
       "      <th>Home_Team</th>\n",
       "      <th>Away_Team</th>\n",
       "      <th>Result</th>\n",
       "      <th>Home_Yellow</th>\n",
       "      <th>Home_Red</th>\n",
       "      <th>Away_Yellow</th>\n",
       "      <th>Away_Red</th>\n",
       "      <th>Home_Score</th>\n",
       "      <th>Away_Score</th>\n",
       "      <th>Result_Num</th>\n",
       "      <th>total_goals</th>\n",
       "    </tr>\n",
       "  </thead>\n",
       "  <tbody>\n",
       "    <tr>\n",
       "      <th>0</th>\n",
       "      <td>2_liga</td>\n",
       "      <td>1</td>\n",
       "      <td>1990</td>\n",
       "      <td>Saarbrücken</td>\n",
       "      <td>Stuttgarter Kickers</td>\n",
       "      <td>1-0</td>\n",
       "      <td>0.0</td>\n",
       "      <td>0.0</td>\n",
       "      <td>3.0</td>\n",
       "      <td>0.0</td>\n",
       "      <td>1.0</td>\n",
       "      <td>0.0</td>\n",
       "      <td>1.0</td>\n",
       "      <td>1.0</td>\n",
       "    </tr>\n",
       "    <tr>\n",
       "      <th>1</th>\n",
       "      <td>2_liga</td>\n",
       "      <td>1</td>\n",
       "      <td>1990</td>\n",
       "      <td>SC Freiburg</td>\n",
       "      <td>Unterhaching</td>\n",
       "      <td>2-3</td>\n",
       "      <td>1.0</td>\n",
       "      <td>0.0</td>\n",
       "      <td>0.0</td>\n",
       "      <td>0.0</td>\n",
       "      <td>2.0</td>\n",
       "      <td>3.0</td>\n",
       "      <td>-1.0</td>\n",
       "      <td>5.0</td>\n",
       "    </tr>\n",
       "    <tr>\n",
       "      <th>2</th>\n",
       "      <td>2_liga</td>\n",
       "      <td>1</td>\n",
       "      <td>1990</td>\n",
       "      <td>VfL Osnabrück</td>\n",
       "      <td>Meppen</td>\n",
       "      <td>1-1</td>\n",
       "      <td>3.0</td>\n",
       "      <td>0.0</td>\n",
       "      <td>2.0</td>\n",
       "      <td>0.0</td>\n",
       "      <td>1.0</td>\n",
       "      <td>1.0</td>\n",
       "      <td>0.0</td>\n",
       "      <td>2.0</td>\n",
       "    </tr>\n",
       "    <tr>\n",
       "      <th>3</th>\n",
       "      <td>2_liga</td>\n",
       "      <td>1</td>\n",
       "      <td>1990</td>\n",
       "      <td>RW Essen</td>\n",
       "      <td>Schalke 04</td>\n",
       "      <td>0-0</td>\n",
       "      <td>2.0</td>\n",
       "      <td>0.0</td>\n",
       "      <td>2.0</td>\n",
       "      <td>0.0</td>\n",
       "      <td>0.0</td>\n",
       "      <td>0.0</td>\n",
       "      <td>0.0</td>\n",
       "      <td>0.0</td>\n",
       "    </tr>\n",
       "    <tr>\n",
       "      <th>4</th>\n",
       "      <td>2_liga</td>\n",
       "      <td>1</td>\n",
       "      <td>1990</td>\n",
       "      <td>Alemannia Aachen</td>\n",
       "      <td>MSV Duisburg</td>\n",
       "      <td>1-2</td>\n",
       "      <td>1.0</td>\n",
       "      <td>0.0</td>\n",
       "      <td>1.0</td>\n",
       "      <td>0.0</td>\n",
       "      <td>1.0</td>\n",
       "      <td>2.0</td>\n",
       "      <td>-1.0</td>\n",
       "      <td>3.0</td>\n",
       "    </tr>\n",
       "  </tbody>\n",
       "</table>\n",
       "</div>"
      ],
      "text/plain": [
       "   League Round Season         Home_Team            Away_Team Result  \\\n",
       "0  2_liga     1   1990       Saarbrücken  Stuttgarter Kickers    1-0   \n",
       "1  2_liga     1   1990       SC Freiburg         Unterhaching    2-3   \n",
       "2  2_liga     1   1990     VfL Osnabrück               Meppen    1-1   \n",
       "3  2_liga     1   1990          RW Essen           Schalke 04    0-0   \n",
       "4  2_liga     1   1990  Alemannia Aachen         MSV Duisburg    1-2   \n",
       "\n",
       "   Home_Yellow  Home_Red  Away_Yellow  Away_Red  Home_Score  Away_Score  \\\n",
       "0          0.0       0.0          3.0       0.0         1.0         0.0   \n",
       "1          1.0       0.0          0.0       0.0         2.0         3.0   \n",
       "2          3.0       0.0          2.0       0.0         1.0         1.0   \n",
       "3          2.0       0.0          2.0       0.0         0.0         0.0   \n",
       "4          1.0       0.0          1.0       0.0         1.0         2.0   \n",
       "\n",
       "   Result_Num  total_goals  \n",
       "0         1.0          1.0  \n",
       "1        -1.0          5.0  \n",
       "2         0.0          2.0  \n",
       "3         0.0          0.0  \n",
       "4        -1.0          3.0  "
      ]
     },
     "execution_count": 36,
     "metadata": {},
     "output_type": "execute_result"
    }
   ],
   "source": [
    "new_df.head()"
   ]
  },
  {
   "cell_type": "code",
   "execution_count": 37,
   "metadata": {},
   "outputs": [
    {
     "data": {
      "text/plain": [
       "<AxesSubplot:xlabel='Season'>"
      ]
     },
     "execution_count": 37,
     "metadata": {},
     "output_type": "execute_result"
    },
    {
     "data": {
      "image/png": "[encoded data removed]",
      "text/plain": [
       "<Figure size 432x288 with 1 Axes>"
      ]
     },
     "metadata": {
      "needs_background": "light"
     },
     "output_type": "display_data"
    }
   ],
   "source": [
    "new_df[new_df['League'] == 'premier_league'].groupby('Season').mean().plot()"
   ]
  },
  {
   "cell_type": "code",
   "execution_count": 38,
   "metadata": {},
   "outputs": [],
   "source": [
    "fig1 = px.bar(new_df.groupby('League')['total_goals'].mean(), title='Average number of goals per game by League', template= 'plotly_dark')\n",
    "fig1.update_traces(marker_color='orange')\n",
    "fig1.write_image('images/average_goals_by_season.png')\n",
    "fig1.show()"
   ]
  },
  {
   "cell_type": "code",
   "execution_count": 39,
   "metadata": {},
   "outputs": [
    {
     "data": {
      "application/vnd.plotly.v1+json": {
       "config": {
        "plotlyServerURL": "https://plot.ly"
       },
       "data": [
        {
         "alignmentgroup": "True",
         "hovertemplate": "variable=total_goals<br>League=%{x}<br>value=%{y}<extra></extra>",
         "legendgroup": "total_goals",
         "marker": {
          "color": "orange",
          "pattern": {
           "shape": ""
          }
         },
         "name": "total_goals",
         "offsetgroup": "total_goals",
         "orientation": "v",
         "showlegend": true,
         "textposition": "auto",
         "type": "bar",
         "x": [
          "2_liga",
          "bundesliga",
          "championship",
          "eredivisie",
          "ligue_1",
          "ligue_2",
          "premier_league",
          "primeira_liga",
          "primera_division",
          "segunda_division",
          "serie_a",
          "serie_b"
         ],
         "xaxis": "x",
         "y": [
          2.708780991735537,
          2.881310803891449,
          2.6173945502053004,
          3.029834728482507,
          2.384100642398287,
          2.2958263772954925,
          2.6524345783034917,
          2.458223495702006,
          2.636446810280296,
          2.3157702158799855,
          2.627231662723166,
          2.396754008603833
         ],
         "yaxis": "y"
        }
       ],
       "layout": {
        "barmode": "relative",
        "legend": {
         "title": {
          "text": "variable"
         },
         "tracegroupgap": 0
        },
        "template": {
         "data": {
          "bar": [
           {
            "error_x": {
             "color": "#f2f5fa"
            },
            "error_y": {
             "color": "#f2f5fa"
            },
            "marker": {
             "line": {
              "color": "rgb(17,17,17)",
              "width": 0.5
             },
             "pattern": {
              "fillmode": "overlay",
              "size": 10,
              "solidity": 0.2
             }
            },
            "type": "bar"
           }
          ],
          "barpolar": [
           {
            "marker": {
             "line": {
              "color": "rgb(17,17,17)",
              "width": 0.5
             },
             "pattern": {
              "fillmode": "overlay",
              "size": 10,
              "solidity": 0.2
             }
            },
            "type": "barpolar"
           }
          ],
          "carpet": [
           {
            "aaxis": {
             "endlinecolor": "#A2B1C6",
             "gridcolor": "#506784",
             "linecolor": "#506784",
             "minorgridcolor": "#506784",
             "startlinecolor": "#A2B1C6"
            },
            "baxis": {
             "endlinecolor": "#A2B1C6",
             "gridcolor": "#506784",
             "linecolor": "#506784",
             "minorgridcolor": "#506784",
             "startlinecolor": "#A2B1C6"
            },
            "type": "carpet"
           }
          ],
          "choropleth": [
           {
            "colorbar": {
             "outlinewidth": 0,
             "ticks": ""
            },
            "type": "choropleth"
           }
          ],
          "contour": [
           {
            "colorbar": {
             "outlinewidth": 0,
             "ticks": ""
            },
            "colorscale": [
             [
              0,
              "#0d0887"
             ],
             [
              0.1111111111111111,
              "#46039f"
             ],
             [
              0.2222222222222222,
              "#7201a8"
             ],
             [
              0.3333333333333333,
              "#9c179e"
             ],
             [
              0.4444444444444444,
              "#bd3786"
             ],
             [
              0.5555555555555556,
              "#d8576b"
             ],
             [
              0.6666666666666666,
              "#ed7953"
             ],
             [
              0.7777777777777778,
              "#fb9f3a"
             ],
             [
              0.8888888888888888,
              "#fdca26"
             ],
             [
              1,
              "#f0f921"
             ]
            ],
            "type": "contour"
           }
          ],
          "contourcarpet": [
           {
            "colorbar": {
             "outlinewidth": 0,
             "ticks": ""
            },
            "type": "contourcarpet"
           }
          ],
          "heatmap": [
           {
            "colorbar": {
             "outlinewidth": 0,
             "ticks": ""
            },
            "colorscale": [
             [
              0,
              "#0d0887"
             ],
             [
              0.1111111111111111,
              "#46039f"
             ],
             [
              0.2222222222222222,
              "#7201a8"
             ],
             [
              0.3333333333333333,
              "#9c179e"
             ],
             [
              0.4444444444444444,
              "#bd3786"
             ],
             [
              0.5555555555555556,
              "#d8576b"
             ],
             [
              0.6666666666666666,
              "#ed7953"
             ],
             [
              0.7777777777777778,
              "#fb9f3a"
             ],
             [
              0.8888888888888888,
              "#fdca26"
             ],
             [
              1,
              "#f0f921"
             ]
            ],
            "type": "heatmap"
           }
          ],
          "heatmapgl": [
           {
            "colorbar": {
             "outlinewidth": 0,
             "ticks": ""
            },
            "colorscale": [
             [
              0,
              "#0d0887"
             ],
             [
              0.1111111111111111,
              "#46039f"
             ],
             [
              0.2222222222222222,
              "#7201a8"
             ],
             [
              0.3333333333333333,
              "#9c179e"
             ],
             [
              0.4444444444444444,
              "#bd3786"
             ],
             [
              0.5555555555555556,
              "#d8576b"
             ],
             [
              0.6666666666666666,
              "#ed7953"
             ],
             [
              0.7777777777777778,
              "#fb9f3a"
             ],
             [
              0.8888888888888888,
              "#fdca26"
             ],
             [
              1,
              "#f0f921"
             ]
            ],
            "type": "heatmapgl"
           }
          ],
          "histogram": [
           {
            "marker": {
             "pattern": {
              "fillmode": "overlay",
              "size": 10,
              "solidity": 0.2
             }
            },
            "type": "histogram"
           }
          ],
          "histogram2d": [
           {
            "colorbar": {
             "outlinewidth": 0,
             "ticks": ""
            },
            "colorscale": [
             [
              0,
              "#0d0887"
             ],
             [
              0.1111111111111111,
              "#46039f"
             ],
             [
              0.2222222222222222,
              "#7201a8"
             ],
             [
              0.3333333333333333,
              "#9c179e"
             ],
             [
              0.4444444444444444,
              "#bd3786"
             ],
             [
              0.5555555555555556,
              "#d8576b"
             ],
             [
              0.6666666666666666,
              "#ed7953"
             ],
             [
              0.7777777777777778,
              "#fb9f3a"
             ],
             [
              0.8888888888888888,
              "#fdca26"
             ],
             [
              1,
              "#f0f921"
             ]
            ],
            "type": "histogram2d"
           }
          ],
          "histogram2dcontour": [
           {
            "colorbar": {
             "outlinewidth": 0,
             "ticks": ""
            },
            "colorscale": [
             [
              0,
              "#0d0887"
             ],
             [
              0.1111111111111111,
              "#46039f"
             ],
             [
              0.2222222222222222,
              "#7201a8"
             ],
             [
              0.3333333333333333,
              "#9c179e"
             ],
             [
              0.4444444444444444,
              "#bd3786"
             ],
             [
              0.5555555555555556,
              "#d8576b"
             ],
             [
              0.6666666666666666,
              "#ed7953"
             ],
             [
              0.7777777777777778,
              "#fb9f3a"
             ],
             [
              0.8888888888888888,
              "#fdca26"
             ],
             [
              1,
              "#f0f921"
             ]
            ],
            "type": "histogram2dcontour"
           }
          ],
          "mesh3d": [
           {
            "colorbar": {
             "outlinewidth": 0,
             "ticks": ""
            },
            "type": "mesh3d"
           }
          ],
          "parcoords": [
           {
            "line": {
             "colorbar": {
              "outlinewidth": 0,
              "ticks": ""
             }
            },
            "type": "parcoords"
           }
          ],
          "pie": [
           {
            "automargin": true,
            "type": "pie"
           }
          ],
          "scatter": [
           {
            "marker": {
             "line": {
              "color": "#283442"
             }
            },
            "type": "scatter"
           }
          ],
          "scatter3d": [
           {
            "line": {
             "colorbar": {
              "outlinewidth": 0,
              "ticks": ""
             }
            },
            "marker": {
             "colorbar": {
              "outlinewidth": 0,
              "ticks": ""
             }
            },
            "type": "scatter3d"
           }
          ],
          "scattercarpet": [
           {
            "marker": {
             "colorbar": {
              "outlinewidth": 0,
              "ticks": ""
             }
            },
            "type": "scattercarpet"
           }
          ],
          "scattergeo": [
           {
            "marker": {
             "colorbar": {
              "outlinewidth": 0,
              "ticks": ""
             }
            },
            "type": "scattergeo"
           }
          ],
          "scattergl": [
           {
            "marker": {
             "line": {
              "color": "#283442"
             }
            },
            "type": "scattergl"
           }
          ],
          "scattermapbox": [
           {
            "marker": {
             "colorbar": {
              "outlinewidth": 0,
              "ticks": ""
             }
            },
            "type": "scattermapbox"
           }
          ],
          "scatterpolar": [
           {
            "marker": {
             "colorbar": {
              "outlinewidth": 0,
              "ticks": ""
             }
            },
            "type": "scatterpolar"
           }
          ],
          "scatterpolargl": [
           {
            "marker": {
             "colorbar": {
              "outlinewidth": 0,
              "ticks": ""
             }
            },
            "type": "scatterpolargl"
           }
          ],
          "scatterternary": [
           {
            "marker": {
             "colorbar": {
              "outlinewidth": 0,
              "ticks": ""
             }
            },
            "type": "scatterternary"
           }
          ],
          "surface": [
           {
            "colorbar": {
             "outlinewidth": 0,
             "ticks": ""
            },
            "colorscale": [
             [
              0,
              "#0d0887"
             ],
             [
              0.1111111111111111,
              "#46039f"
             ],
             [
              0.2222222222222222,
              "#7201a8"
             ],
             [
              0.3333333333333333,
              "#9c179e"
             ],
             [
              0.4444444444444444,
              "#bd3786"
             ],
             [
              0.5555555555555556,
              "#d8576b"
             ],
             [
              0.6666666666666666,
              "#ed7953"
             ],
             [
              0.7777777777777778,
              "#fb9f3a"
             ],
             [
              0.8888888888888888,
              "#fdca26"
             ],
             [
              1,
              "#f0f921"
             ]
            ],
            "type": "surface"
           }
          ],
          "table": [
           {
            "cells": {
             "fill": {
              "color": "#506784"
             },
             "line": {
              "color": "rgb(17,17,17)"
             }
            },
            "header": {
             "fill": {
              "color": "#2a3f5f"
             },
             "line": {
              "color": "rgb(17,17,17)"
             }
            },
            "type": "table"
           }
          ]
         },
         "layout": {
          "annotationdefaults": {
           "arrowcolor": "#f2f5fa",
           "arrowhead": 0,
           "arrowwidth": 1
          },
          "autotypenumbers": "strict",
          "coloraxis": {
           "colorbar": {
            "outlinewidth": 0,
            "ticks": ""
           }
          },
          "colorscale": {
           "diverging": [
            [
             0,
             "#8e0152"
            ],
            [
             0.1,
             "#c51b7d"
            ],
            [
             0.2,
             "#de77ae"
            ],
            [
             0.3,
             "#f1b6da"
            ],
            [
             0.4,
             "#fde0ef"
            ],
            [
             0.5,
             "#f7f7f7"
            ],
            [
             0.6,
             "#e6f5d0"
            ],
            [
             0.7,
             "#b8e186"
            ],
            [
             0.8,
             "#7fbc41"
            ],
            [
             0.9,
             "#4d9221"
            ],
            [
             1,
             "#276419"
            ]
           ],
           "sequential": [
            [
             0,
             "#0d0887"
            ],
            [
             0.1111111111111111,
             "#46039f"
            ],
            [
             0.2222222222222222,
             "#7201a8"
            ],
            [
             0.3333333333333333,
             "#9c179e"
            ],
            [
             0.4444444444444444,
             "#bd3786"
            ],
            [
             0.5555555555555556,
             "#d8576b"
            ],
            [
             0.6666666666666666,
             "#ed7953"
            ],
            [
             0.7777777777777778,
             "#fb9f3a"
            ],
            [
             0.8888888888888888,
             "#fdca26"
            ],
            [
             1,
             "#f0f921"
            ]
           ],
           "sequentialminus": [
            [
             0,
             "#0d0887"
            ],
            [
             0.1111111111111111,
             "#46039f"
            ],
            [
             0.2222222222222222,
             "#7201a8"
            ],
            [
             0.3333333333333333,
             "#9c179e"
            ],
            [
             0.4444444444444444,
             "#bd3786"
            ],
            [
             0.5555555555555556,
             "#d8576b"
            ],
            [
             0.6666666666666666,
             "#ed7953"
            ],
            [
             0.7777777777777778,
             "#fb9f3a"
            ],
            [
             0.8888888888888888,
             "#fdca26"
            ],
            [
             1,
             "#f0f921"
            ]
           ]
          },
          "colorway": [
           "#636efa",
           "#EF553B",
           "#00cc96",
           "#ab63fa",
           "#FFA15A",
           "#19d3f3",
           "#FF6692",
           "#B6E880",
           "#FF97FF",
           "#FECB52"
          ],
          "font": {
           "color": "#f2f5fa"
          },
          "geo": {
           "bgcolor": "rgb(17,17,17)",
           "lakecolor": "rgb(17,17,17)",
           "landcolor": "rgb(17,17,17)",
           "showlakes": true,
           "showland": true,
           "subunitcolor": "#506784"
          },
          "hoverlabel": {
           "align": "left"
          },
          "hovermode": "closest",
          "mapbox": {
           "style": "dark"
          },
          "paper_bgcolor": "rgb(17,17,17)",
          "plot_bgcolor": "rgb(17,17,17)",
          "polar": {
           "angularaxis": {
            "gridcolor": "#506784",
            "linecolor": "#506784",
            "ticks": ""
           },
           "bgcolor": "rgb(17,17,17)",
           "radialaxis": {
            "gridcolor": "#506784",
            "linecolor": "#506784",
            "ticks": ""
           }
          },
          "scene": {
           "xaxis": {
            "backgroundcolor": "rgb(17,17,17)",
            "gridcolor": "#506784",
            "gridwidth": 2,
            "linecolor": "#506784",
            "showbackground": true,
            "ticks": "",
            "zerolinecolor": "#C8D4E3"
           },
           "yaxis": {
            "backgroundcolor": "rgb(17,17,17)",
            "gridcolor": "#506784",
            "gridwidth": 2,
            "linecolor": "#506784",
            "showbackground": true,
            "ticks": "",
            "zerolinecolor": "#C8D4E3"
           },
           "zaxis": {
            "backgroundcolor": "rgb(17,17,17)",
            "gridcolor": "#506784",
            "gridwidth": 2,
            "linecolor": "#506784",
            "showbackground": true,
            "ticks": "",
            "zerolinecolor": "#C8D4E3"
           }
          },
          "shapedefaults": {
           "line": {
            "color": "#f2f5fa"
           }
          },
          "sliderdefaults": {
           "bgcolor": "#C8D4E3",
           "bordercolor": "rgb(17,17,17)",
           "borderwidth": 1,
           "tickwidth": 0
          },
          "ternary": {
           "aaxis": {
            "gridcolor": "#506784",
            "linecolor": "#506784",
            "ticks": ""
           },
           "baxis": {
            "gridcolor": "#506784",
            "linecolor": "#506784",
            "ticks": ""
           },
           "bgcolor": "rgb(17,17,17)",
           "caxis": {
            "gridcolor": "#506784",
            "linecolor": "#506784",
            "ticks": ""
           }
          },
          "title": {
           "x": 0.05
          },
          "updatemenudefaults": {
           "bgcolor": "#506784",
           "borderwidth": 0
          },
          "xaxis": {
           "automargin": true,
           "gridcolor": "#283442",
           "linecolor": "#506784",
           "ticks": "",
           "title": {
            "standoff": 15
           },
           "zerolinecolor": "#283442",
           "zerolinewidth": 2
          },
          "yaxis": {
           "automargin": true,
           "gridcolor": "#283442",
           "linecolor": "#506784",
           "ticks": "",
           "title": {
            "standoff": 15
           },
           "zerolinecolor": "#283442",
           "zerolinewidth": 2
          }
         }
        },
        "title": {
         "text": "Average number of goals per game by Season"
        },
        "xaxis": {
         "anchor": "y",
         "domain": [
          0,
          1
         ],
         "title": {
          "text": "League"
         }
        },
        "yaxis": {
         "anchor": "x",
         "domain": [
          0,
          1
         ],
         "title": {
          "text": "value"
         }
        }
       }
      }
     },
     "metadata": {},
     "output_type": "display_data"
    }
   ],
   "source": [
    "fig1.update_traces(marker_color='orange')"
   ]
  },
  {
   "cell_type": "code",
   "execution_count": 40,
   "metadata": {},
   "outputs": [
    {
     "data": {
      "application/vnd.plotly.v1+json": {
       "config": {
        "plotlyServerURL": "https://plot.ly"
       },
       "data": [
        {
         "alignmentgroup": "True",
         "hovertemplate": "variable=total_goals<br>League=%{x}<br>value=%{y}<extra></extra>",
         "legendgroup": "total_goals",
         "marker": {
          "color": "orange",
          "pattern": {
           "shape": ""
          }
         },
         "name": "total_goals",
         "offsetgroup": "total_goals",
         "orientation": "v",
         "showlegend": true,
         "textposition": "auto",
         "type": "bar",
         "x": [
          "2_liga",
          "bundesliga",
          "championship",
          "eredivisie",
          "ligue_1",
          "ligue_2",
          "premier_league",
          "primeira_liga",
          "primera_division",
          "segunda_division",
          "serie_a",
          "serie_b"
         ],
         "xaxis": "x",
         "y": [
          2.708780991735537,
          2.881310803891449,
          2.6173945502053004,
          3.029834728482507,
          2.384100642398287,
          2.2958263772954925,
          2.6524345783034917,
          2.458223495702006,
          2.636446810280296,
          2.3157702158799855,
          2.627231662723166,
          2.396754008603833
         ],
         "yaxis": "y"
        }
       ],
       "layout": {
        "barmode": "relative",
        "legend": {
         "title": {
          "text": "variable"
         },
         "tracegroupgap": 0
        },
        "template": {
         "data": {
          "bar": [
           {
            "error_x": {
             "color": "#f2f5fa"
            },
            "error_y": {
             "color": "#f2f5fa"
            },
            "marker": {
             "line": {
              "color": "rgb(17,17,17)",
              "width": 0.5
             },
             "pattern": {
              "fillmode": "overlay",
              "size": 10,
              "solidity": 0.2
             }
            },
            "type": "bar"
           }
          ],
          "barpolar": [
           {
            "marker": {
             "line": {
              "color": "rgb(17,17,17)",
              "width": 0.5
             },
             "pattern": {
              "fillmode": "overlay",
              "size": 10,
              "solidity": 0.2
             }
            },
            "type": "barpolar"
           }
          ],
          "carpet": [
           {
            "aaxis": {
             "endlinecolor": "#A2B1C6",
             "gridcolor": "#506784",
             "linecolor": "#506784",
             "minorgridcolor": "#506784",
             "startlinecolor": "#A2B1C6"
            },
            "baxis": {
             "endlinecolor": "#A2B1C6",
             "gridcolor": "#506784",
             "linecolor": "#506784",
             "minorgridcolor": "#506784",
             "startlinecolor": "#A2B1C6"
            },
            "type": "carpet"
           }
          ],
          "choropleth": [
           {
            "colorbar": {
             "outlinewidth": 0,
             "ticks": ""
            },
            "type": "choropleth"
           }
          ],
          "contour": [
           {
            "colorbar": {
             "outlinewidth": 0,
             "ticks": ""
            },
            "colorscale": [
             [
              0,
              "#0d0887"
             ],
             [
              0.1111111111111111,
              "#46039f"
             ],
             [
              0.2222222222222222,
              "#7201a8"
             ],
             [
              0.3333333333333333,
              "#9c179e"
             ],
             [
              0.4444444444444444,
              "#bd3786"
             ],
             [
              0.5555555555555556,
              "#d8576b"
             ],
             [
              0.6666666666666666,
              "#ed7953"
             ],
             [
              0.7777777777777778,
              "#fb9f3a"
             ],
             [
              0.8888888888888888,
              "#fdca26"
             ],
             [
              1,
              "#f0f921"
             ]
            ],
            "type": "contour"
           }
          ],
          "contourcarpet": [
           {
            "colorbar": {
             "outlinewidth": 0,
             "ticks": ""
            },
            "type": "contourcarpet"
           }
          ],
          "heatmap": [
           {
            "colorbar": {
             "outlinewidth": 0,
             "ticks": ""
            },
            "colorscale": [
             [
              0,
              "#0d0887"
             ],
             [
              0.1111111111111111,
              "#46039f"
             ],
             [
              0.2222222222222222,
              "#7201a8"
             ],
             [
              0.3333333333333333,
              "#9c179e"
             ],
             [
              0.4444444444444444,
              "#bd3786"
             ],
             [
              0.5555555555555556,
              "#d8576b"
             ],
             [
              0.6666666666666666,
              "#ed7953"
             ],
             [
              0.7777777777777778,
              "#fb9f3a"
             ],
             [
              0.8888888888888888,
              "#fdca26"
             ],
             [
              1,
              "#f0f921"
             ]
            ],
            "type": "heatmap"
           }
          ],
          "heatmapgl": [
           {
            "colorbar": {
             "outlinewidth": 0,
             "ticks": ""
            },
            "colorscale": [
             [
              0,
              "#0d0887"
             ],
             [
              0.1111111111111111,
              "#46039f"
             ],
             [
              0.2222222222222222,
              "#7201a8"
             ],
             [
              0.3333333333333333,
              "#9c179e"
             ],
             [
              0.4444444444444444,
              "#bd3786"
             ],
             [
              0.5555555555555556,
              "#d8576b"
             ],
             [
              0.6666666666666666,
              "#ed7953"
             ],
             [
              0.7777777777777778,
              "#fb9f3a"
             ],
             [
              0.8888888888888888,
              "#fdca26"
             ],
             [
              1,
              "#f0f921"
             ]
            ],
            "type": "heatmapgl"
           }
          ],
          "histogram": [
           {
            "marker": {
             "pattern": {
              "fillmode": "overlay",
              "size": 10,
              "solidity": 0.2
             }
            },
            "type": "histogram"
           }
          ],
          "histogram2d": [
           {
            "colorbar": {
             "outlinewidth": 0,
             "ticks": ""
            },
            "colorscale": [
             [
              0,
              "#0d0887"
             ],
             [
              0.1111111111111111,
              "#46039f"
             ],
             [
              0.2222222222222222,
              "#7201a8"
             ],
             [
              0.3333333333333333,
              "#9c179e"
             ],
             [
              0.4444444444444444,
              "#bd3786"
             ],
             [
              0.5555555555555556,
              "#d8576b"
             ],
             [
              0.6666666666666666,
              "#ed7953"
             ],
             [
              0.7777777777777778,
              "#fb9f3a"
             ],
             [
              0.8888888888888888,
              "#fdca26"
             ],
             [
              1,
              "#f0f921"
             ]
            ],
            "type": "histogram2d"
           }
          ],
          "histogram2dcontour": [
           {
            "colorbar": {
             "outlinewidth": 0,
             "ticks": ""
            },
            "colorscale": [
             [
              0,
              "#0d0887"
             ],
             [
              0.1111111111111111,
              "#46039f"
             ],
             [
              0.2222222222222222,
              "#7201a8"
             ],
             [
              0.3333333333333333,
              "#9c179e"
             ],
             [
              0.4444444444444444,
              "#bd3786"
             ],
             [
              0.5555555555555556,
              "#d8576b"
             ],
             [
              0.6666666666666666,
              "#ed7953"
             ],
             [
              0.7777777777777778,
              "#fb9f3a"
             ],
             [
              0.8888888888888888,
              "#fdca26"
             ],
             [
              1,
              "#f0f921"
             ]
            ],
            "type": "histogram2dcontour"
           }
          ],
          "mesh3d": [
           {
            "colorbar": {
             "outlinewidth": 0,
             "ticks": ""
            },
            "type": "mesh3d"
           }
          ],
          "parcoords": [
           {
            "line": {
             "colorbar": {
              "outlinewidth": 0,
              "ticks": ""
             }
            },
            "type": "parcoords"
           }
          ],
          "pie": [
           {
            "automargin": true,
            "type": "pie"
           }
          ],
          "scatter": [
           {
            "marker": {
             "line": {
              "color": "#283442"
             }
            },
            "type": "scatter"
           }
          ],
          "scatter3d": [
           {
            "line": {
             "colorbar": {
              "outlinewidth": 0,
              "ticks": ""
             }
            },
            "marker": {
             "colorbar": {
              "outlinewidth": 0,
              "ticks": ""
             }
            },
            "type": "scatter3d"
           }
          ],
          "scattercarpet": [
           {
            "marker": {
             "colorbar": {
              "outlinewidth": 0,
              "ticks": ""
             }
            },
            "type": "scattercarpet"
           }
          ],
          "scattergeo": [
           {
            "marker": {
             "colorbar": {
              "outlinewidth": 0,
              "ticks": ""
             }
            },
            "type": "scattergeo"
           }
          ],
          "scattergl": [
           {
            "marker": {
             "line": {
              "color": "#283442"
             }
            },
            "type": "scattergl"
           }
          ],
          "scattermapbox": [
           {
            "marker": {
             "colorbar": {
              "outlinewidth": 0,
              "ticks": ""
             }
            },
            "type": "scattermapbox"
           }
          ],
          "scatterpolar": [
           {
            "marker": {
             "colorbar": {
              "outlinewidth": 0,
              "ticks": ""
             }
            },
            "type": "scatterpolar"
           }
          ],
          "scatterpolargl": [
           {
            "marker": {
             "colorbar": {
              "outlinewidth": 0,
              "ticks": ""
             }
            },
            "type": "scatterpolargl"
           }
          ],
          "scatterternary": [
           {
            "marker": {
             "colorbar": {
              "outlinewidth": 0,
              "ticks": ""
             }
            },
            "type": "scatterternary"
           }
          ],
          "surface": [
           {
            "colorbar": {
             "outlinewidth": 0,
             "ticks": ""
            },
            "colorscale": [
             [
              0,
              "#0d0887"
             ],
             [
              0.1111111111111111,
              "#46039f"
             ],
             [
              0.2222222222222222,
              "#7201a8"
             ],
             [
              0.3333333333333333,
              "#9c179e"
             ],
             [
              0.4444444444444444,
              "#bd3786"
             ],
             [
              0.5555555555555556,
              "#d8576b"
             ],
             [
              0.6666666666666666,
              "#ed7953"
             ],
             [
              0.7777777777777778,
              "#fb9f3a"
             ],
             [
              0.8888888888888888,
              "#fdca26"
             ],
             [
              1,
              "#f0f921"
             ]
            ],
            "type": "surface"
           }
          ],
          "table": [
           {
            "cells": {
             "fill": {
              "color": "#506784"
             },
             "line": {
              "color": "rgb(17,17,17)"
             }
            },
            "header": {
             "fill": {
              "color": "#2a3f5f"
             },
             "line": {
              "color": "rgb(17,17,17)"
             }
            },
            "type": "table"
           }
          ]
         },
         "layout": {
          "annotationdefaults": {
           "arrowcolor": "#f2f5fa",
           "arrowhead": 0,
           "arrowwidth": 1
          },
          "autotypenumbers": "strict",
          "coloraxis": {
           "colorbar": {
            "outlinewidth": 0,
            "ticks": ""
           }
          },
          "colorscale": {
           "diverging": [
            [
             0,
             "#8e0152"
            ],
            [
             0.1,
             "#c51b7d"
            ],
            [
             0.2,
             "#de77ae"
            ],
            [
             0.3,
             "#f1b6da"
            ],
            [
             0.4,
             "#fde0ef"
            ],
            [
             0.5,
             "#f7f7f7"
            ],
            [
             0.6,
             "#e6f5d0"
            ],
            [
             0.7,
             "#b8e186"
            ],
            [
             0.8,
             "#7fbc41"
            ],
            [
             0.9,
             "#4d9221"
            ],
            [
             1,
             "#276419"
            ]
           ],
           "sequential": [
            [
             0,
             "#0d0887"
            ],
            [
             0.1111111111111111,
             "#46039f"
            ],
            [
             0.2222222222222222,
             "#7201a8"
            ],
            [
             0.3333333333333333,
             "#9c179e"
            ],
            [
             0.4444444444444444,
             "#bd3786"
            ],
            [
             0.5555555555555556,
             "#d8576b"
            ],
            [
             0.6666666666666666,
             "#ed7953"
            ],
            [
             0.7777777777777778,
             "#fb9f3a"
            ],
            [
             0.8888888888888888,
             "#fdca26"
            ],
            [
             1,
             "#f0f921"
            ]
           ],
           "sequentialminus": [
            [
             0,
             "#0d0887"
            ],
            [
             0.1111111111111111,
             "#46039f"
            ],
            [
             0.2222222222222222,
             "#7201a8"
            ],
            [
             0.3333333333333333,
             "#9c179e"
            ],
            [
             0.4444444444444444,
             "#bd3786"
            ],
            [
             0.5555555555555556,
             "#d8576b"
            ],
            [
             0.6666666666666666,
             "#ed7953"
            ],
            [
             0.7777777777777778,
             "#fb9f3a"
            ],
            [
             0.8888888888888888,
             "#fdca26"
            ],
            [
             1,
             "#f0f921"
            ]
           ]
          },
          "colorway": [
           "#636efa",
           "#EF553B",
           "#00cc96",
           "#ab63fa",
           "#FFA15A",
           "#19d3f3",
           "#FF6692",
           "#B6E880",
           "#FF97FF",
           "#FECB52"
          ],
          "font": {
           "color": "#f2f5fa"
          },
          "geo": {
           "bgcolor": "rgb(17,17,17)",
           "lakecolor": "rgb(17,17,17)",
           "landcolor": "rgb(17,17,17)",
           "showlakes": true,
           "showland": true,
           "subunitcolor": "#506784"
          },
          "hoverlabel": {
           "align": "left"
          },
          "hovermode": "closest",
          "mapbox": {
           "style": "dark"
          },
          "paper_bgcolor": "rgb(17,17,17)",
          "plot_bgcolor": "rgb(17,17,17)",
          "polar": {
           "angularaxis": {
            "gridcolor": "#506784",
            "linecolor": "#506784",
            "ticks": ""
           },
           "bgcolor": "rgb(17,17,17)",
           "radialaxis": {
            "gridcolor": "#506784",
            "linecolor": "#506784",
            "ticks": ""
           }
          },
          "scene": {
           "xaxis": {
            "backgroundcolor": "rgb(17,17,17)",
            "gridcolor": "#506784",
            "gridwidth": 2,
            "linecolor": "#506784",
            "showbackground": true,
            "ticks": "",
            "zerolinecolor": "#C8D4E3"
           },
           "yaxis": {
            "backgroundcolor": "rgb(17,17,17)",
            "gridcolor": "#506784",
            "gridwidth": 2,
            "linecolor": "#506784",
            "showbackground": true,
            "ticks": "",
            "zerolinecolor": "#C8D4E3"
           },
           "zaxis": {
            "backgroundcolor": "rgb(17,17,17)",
            "gridcolor": "#506784",
            "gridwidth": 2,
            "linecolor": "#506784",
            "showbackground": true,
            "ticks": "",
            "zerolinecolor": "#C8D4E3"
           }
          },
          "shapedefaults": {
           "line": {
            "color": "#f2f5fa"
           }
          },
          "sliderdefaults": {
           "bgcolor": "#C8D4E3",
           "bordercolor": "rgb(17,17,17)",
           "borderwidth": 1,
           "tickwidth": 0
          },
          "ternary": {
           "aaxis": {
            "gridcolor": "#506784",
            "linecolor": "#506784",
            "ticks": ""
           },
           "baxis": {
            "gridcolor": "#506784",
            "linecolor": "#506784",
            "ticks": ""
           },
           "bgcolor": "rgb(17,17,17)",
           "caxis": {
            "gridcolor": "#506784",
            "linecolor": "#506784",
            "ticks": ""
           }
          },
          "title": {
           "x": 0.05
          },
          "updatemenudefaults": {
           "bgcolor": "#506784",
           "borderwidth": 0
          },
          "xaxis": {
           "automargin": true,
           "gridcolor": "#283442",
           "linecolor": "#506784",
           "ticks": "",
           "title": {
            "standoff": 15
           },
           "zerolinecolor": "#283442",
           "zerolinewidth": 2
          },
          "yaxis": {
           "automargin": true,
           "gridcolor": "#283442",
           "linecolor": "#506784",
           "ticks": "",
           "title": {
            "standoff": 15
           },
           "zerolinecolor": "#283442",
           "zerolinewidth": 2
          }
         }
        },
        "title": {
         "text": "Average number of goals per game by Season"
        },
        "xaxis": {
         "anchor": "y",
         "domain": [
          0,
          1
         ],
         "title": {
          "text": "League"
         }
        },
        "yaxis": {
         "anchor": "x",
         "domain": [
          0,
          1
         ],
         "title": {
          "text": "value"
         }
        }
       }
      }
     },
     "metadata": {},
     "output_type": "display_data"
    }
   ],
   "source": [
    "fig1.show()"
   ]
  },
  {
   "cell_type": "code",
   "execution_count": 41,
   "metadata": {},
   "outputs": [],
   "source": [
    "fig1.write_image('images/average_goals_by_season.png')"
   ]
  },
  {
   "cell_type": "code",
   "execution_count": 42,
   "metadata": {},
   "outputs": [
    {
     "data": {
      "text/html": [
       "<div>\n",
       "<style scoped>\n",
       "    .dataframe tbody tr th:only-of-type {\n",
       "        vertical-align: middle;\n",
       "    }\n",
       "\n",
       "    .dataframe tbody tr th {\n",
       "        vertical-align: top;\n",
       "    }\n",
       "\n",
       "    .dataframe thead th {\n",
       "        text-align: right;\n",
       "    }\n",
       "</style>\n",
       "<table border=\"1\" class=\"dataframe\">\n",
       "  <thead>\n",
       "    <tr style=\"text-align: right;\">\n",
       "      <th></th>\n",
       "      <th>League</th>\n",
       "      <th>Round</th>\n",
       "      <th>Season</th>\n",
       "      <th>Home_Team</th>\n",
       "      <th>Away_Team</th>\n",
       "      <th>Result</th>\n",
       "      <th>Home_Yellow</th>\n",
       "      <th>Home_Red</th>\n",
       "      <th>Away_Yellow</th>\n",
       "      <th>Away_Red</th>\n",
       "      <th>Home_Score</th>\n",
       "      <th>Away_Score</th>\n",
       "      <th>Result_Num</th>\n",
       "      <th>total_goals</th>\n",
       "    </tr>\n",
       "  </thead>\n",
       "  <tbody>\n",
       "    <tr>\n",
       "      <th>0</th>\n",
       "      <td>2_liga</td>\n",
       "      <td>1</td>\n",
       "      <td>1990</td>\n",
       "      <td>Saarbrücken</td>\n",
       "      <td>Stuttgarter Kickers</td>\n",
       "      <td>1-0</td>\n",
       "      <td>0.0</td>\n",
       "      <td>0.0</td>\n",
       "      <td>3.0</td>\n",
       "      <td>0.0</td>\n",
       "      <td>1.0</td>\n",
       "      <td>0.0</td>\n",
       "      <td>1.0</td>\n",
       "      <td>1.0</td>\n",
       "    </tr>\n",
       "    <tr>\n",
       "      <th>1</th>\n",
       "      <td>2_liga</td>\n",
       "      <td>1</td>\n",
       "      <td>1990</td>\n",
       "      <td>SC Freiburg</td>\n",
       "      <td>Unterhaching</td>\n",
       "      <td>2-3</td>\n",
       "      <td>1.0</td>\n",
       "      <td>0.0</td>\n",
       "      <td>0.0</td>\n",
       "      <td>0.0</td>\n",
       "      <td>2.0</td>\n",
       "      <td>3.0</td>\n",
       "      <td>-1.0</td>\n",
       "      <td>5.0</td>\n",
       "    </tr>\n",
       "    <tr>\n",
       "      <th>2</th>\n",
       "      <td>2_liga</td>\n",
       "      <td>1</td>\n",
       "      <td>1990</td>\n",
       "      <td>VfL Osnabrück</td>\n",
       "      <td>Meppen</td>\n",
       "      <td>1-1</td>\n",
       "      <td>3.0</td>\n",
       "      <td>0.0</td>\n",
       "      <td>2.0</td>\n",
       "      <td>0.0</td>\n",
       "      <td>1.0</td>\n",
       "      <td>1.0</td>\n",
       "      <td>0.0</td>\n",
       "      <td>2.0</td>\n",
       "    </tr>\n",
       "    <tr>\n",
       "      <th>3</th>\n",
       "      <td>2_liga</td>\n",
       "      <td>1</td>\n",
       "      <td>1990</td>\n",
       "      <td>RW Essen</td>\n",
       "      <td>Schalke 04</td>\n",
       "      <td>0-0</td>\n",
       "      <td>2.0</td>\n",
       "      <td>0.0</td>\n",
       "      <td>2.0</td>\n",
       "      <td>0.0</td>\n",
       "      <td>0.0</td>\n",
       "      <td>0.0</td>\n",
       "      <td>0.0</td>\n",
       "      <td>0.0</td>\n",
       "    </tr>\n",
       "    <tr>\n",
       "      <th>4</th>\n",
       "      <td>2_liga</td>\n",
       "      <td>1</td>\n",
       "      <td>1990</td>\n",
       "      <td>Alemannia Aachen</td>\n",
       "      <td>MSV Duisburg</td>\n",
       "      <td>1-2</td>\n",
       "      <td>1.0</td>\n",
       "      <td>0.0</td>\n",
       "      <td>1.0</td>\n",
       "      <td>0.0</td>\n",
       "      <td>1.0</td>\n",
       "      <td>2.0</td>\n",
       "      <td>-1.0</td>\n",
       "      <td>3.0</td>\n",
       "    </tr>\n",
       "  </tbody>\n",
       "</table>\n",
       "</div>"
      ],
      "text/plain": [
       "   League Round Season         Home_Team            Away_Team Result  \\\n",
       "0  2_liga     1   1990       Saarbrücken  Stuttgarter Kickers    1-0   \n",
       "1  2_liga     1   1990       SC Freiburg         Unterhaching    2-3   \n",
       "2  2_liga     1   1990     VfL Osnabrück               Meppen    1-1   \n",
       "3  2_liga     1   1990          RW Essen           Schalke 04    0-0   \n",
       "4  2_liga     1   1990  Alemannia Aachen         MSV Duisburg    1-2   \n",
       "\n",
       "   Home_Yellow  Home_Red  Away_Yellow  Away_Red  Home_Score  Away_Score  \\\n",
       "0          0.0       0.0          3.0       0.0         1.0         0.0   \n",
       "1          1.0       0.0          0.0       0.0         2.0         3.0   \n",
       "2          3.0       0.0          2.0       0.0         1.0         1.0   \n",
       "3          2.0       0.0          2.0       0.0         0.0         0.0   \n",
       "4          1.0       0.0          1.0       0.0         1.0         2.0   \n",
       "\n",
       "   Result_Num  total_goals  \n",
       "0         1.0          1.0  \n",
       "1        -1.0          5.0  \n",
       "2         0.0          2.0  \n",
       "3         0.0          0.0  \n",
       "4        -1.0          3.0  "
      ]
     },
     "execution_count": 42,
     "metadata": {},
     "output_type": "execute_result"
    }
   ],
   "source": [
    "new_df.head()"
   ]
  },
  {
   "cell_type": "code",
   "execution_count": 43,
   "metadata": {},
   "outputs": [
    {
     "name": "stderr",
     "output_type": "stream",
     "text": [
      "/tmp/ipykernel_397516/313380051.py:1: SettingWithCopyWarning:\n",
      "\n",
      "\n",
      "A value is trying to be set on a copy of a slice from a DataFrame.\n",
      "Try using .loc[row_indexer,col_indexer] = value instead\n",
      "\n",
      "See the caveats in the documentation: https://pandas.pydata.org/pandas-docs/stable/user_guide/indexing.html#returning-a-view-versus-a-copy\n",
      "\n"
     ]
    }
   ],
   "source": [
    "new_df['total_fouls'] = new_df['Home_Yellow'] + new_df['Home_Red'] + new_df['Away_Yellow'] + new_df['Away_Red']"
   ]
  },
  {
   "cell_type": "code",
   "execution_count": 44,
   "metadata": {},
   "outputs": [
    {
     "data": {
      "text/html": [
       "<div>\n",
       "<style scoped>\n",
       "    .dataframe tbody tr th:only-of-type {\n",
       "        vertical-align: middle;\n",
       "    }\n",
       "\n",
       "    .dataframe tbody tr th {\n",
       "        vertical-align: top;\n",
       "    }\n",
       "\n",
       "    .dataframe thead th {\n",
       "        text-align: right;\n",
       "    }\n",
       "</style>\n",
       "<table border=\"1\" class=\"dataframe\">\n",
       "  <thead>\n",
       "    <tr style=\"text-align: right;\">\n",
       "      <th></th>\n",
       "      <th>League</th>\n",
       "      <th>Round</th>\n",
       "      <th>Season</th>\n",
       "      <th>Home_Team</th>\n",
       "      <th>Away_Team</th>\n",
       "      <th>Result</th>\n",
       "      <th>Home_Yellow</th>\n",
       "      <th>Home_Red</th>\n",
       "      <th>Away_Yellow</th>\n",
       "      <th>Away_Red</th>\n",
       "      <th>Home_Score</th>\n",
       "      <th>Away_Score</th>\n",
       "      <th>Result_Num</th>\n",
       "      <th>total_goals</th>\n",
       "      <th>total_fouls</th>\n",
       "    </tr>\n",
       "  </thead>\n",
       "  <tbody>\n",
       "    <tr>\n",
       "      <th>0</th>\n",
       "      <td>2_liga</td>\n",
       "      <td>1</td>\n",
       "      <td>1990</td>\n",
       "      <td>Saarbrücken</td>\n",
       "      <td>Stuttgarter Kickers</td>\n",
       "      <td>1-0</td>\n",
       "      <td>0.0</td>\n",
       "      <td>0.0</td>\n",
       "      <td>3.0</td>\n",
       "      <td>0.0</td>\n",
       "      <td>1.0</td>\n",
       "      <td>0.0</td>\n",
       "      <td>1.0</td>\n",
       "      <td>1.0</td>\n",
       "      <td>3.0</td>\n",
       "    </tr>\n",
       "    <tr>\n",
       "      <th>1</th>\n",
       "      <td>2_liga</td>\n",
       "      <td>1</td>\n",
       "      <td>1990</td>\n",
       "      <td>SC Freiburg</td>\n",
       "      <td>Unterhaching</td>\n",
       "      <td>2-3</td>\n",
       "      <td>1.0</td>\n",
       "      <td>0.0</td>\n",
       "      <td>0.0</td>\n",
       "      <td>0.0</td>\n",
       "      <td>2.0</td>\n",
       "      <td>3.0</td>\n",
       "      <td>-1.0</td>\n",
       "      <td>5.0</td>\n",
       "      <td>1.0</td>\n",
       "    </tr>\n",
       "    <tr>\n",
       "      <th>2</th>\n",
       "      <td>2_liga</td>\n",
       "      <td>1</td>\n",
       "      <td>1990</td>\n",
       "      <td>VfL Osnabrück</td>\n",
       "      <td>Meppen</td>\n",
       "      <td>1-1</td>\n",
       "      <td>3.0</td>\n",
       "      <td>0.0</td>\n",
       "      <td>2.0</td>\n",
       "      <td>0.0</td>\n",
       "      <td>1.0</td>\n",
       "      <td>1.0</td>\n",
       "      <td>0.0</td>\n",
       "      <td>2.0</td>\n",
       "      <td>5.0</td>\n",
       "    </tr>\n",
       "    <tr>\n",
       "      <th>3</th>\n",
       "      <td>2_liga</td>\n",
       "      <td>1</td>\n",
       "      <td>1990</td>\n",
       "      <td>RW Essen</td>\n",
       "      <td>Schalke 04</td>\n",
       "      <td>0-0</td>\n",
       "      <td>2.0</td>\n",
       "      <td>0.0</td>\n",
       "      <td>2.0</td>\n",
       "      <td>0.0</td>\n",
       "      <td>0.0</td>\n",
       "      <td>0.0</td>\n",
       "      <td>0.0</td>\n",
       "      <td>0.0</td>\n",
       "      <td>4.0</td>\n",
       "    </tr>\n",
       "    <tr>\n",
       "      <th>4</th>\n",
       "      <td>2_liga</td>\n",
       "      <td>1</td>\n",
       "      <td>1990</td>\n",
       "      <td>Alemannia Aachen</td>\n",
       "      <td>MSV Duisburg</td>\n",
       "      <td>1-2</td>\n",
       "      <td>1.0</td>\n",
       "      <td>0.0</td>\n",
       "      <td>1.0</td>\n",
       "      <td>0.0</td>\n",
       "      <td>1.0</td>\n",
       "      <td>2.0</td>\n",
       "      <td>-1.0</td>\n",
       "      <td>3.0</td>\n",
       "      <td>2.0</td>\n",
       "    </tr>\n",
       "  </tbody>\n",
       "</table>\n",
       "</div>"
      ],
      "text/plain": [
       "   League Round Season         Home_Team            Away_Team Result  \\\n",
       "0  2_liga     1   1990       Saarbrücken  Stuttgarter Kickers    1-0   \n",
       "1  2_liga     1   1990       SC Freiburg         Unterhaching    2-3   \n",
       "2  2_liga     1   1990     VfL Osnabrück               Meppen    1-1   \n",
       "3  2_liga     1   1990          RW Essen           Schalke 04    0-0   \n",
       "4  2_liga     1   1990  Alemannia Aachen         MSV Duisburg    1-2   \n",
       "\n",
       "   Home_Yellow  Home_Red  Away_Yellow  Away_Red  Home_Score  Away_Score  \\\n",
       "0          0.0       0.0          3.0       0.0         1.0         0.0   \n",
       "1          1.0       0.0          0.0       0.0         2.0         3.0   \n",
       "2          3.0       0.0          2.0       0.0         1.0         1.0   \n",
       "3          2.0       0.0          2.0       0.0         0.0         0.0   \n",
       "4          1.0       0.0          1.0       0.0         1.0         2.0   \n",
       "\n",
       "   Result_Num  total_goals  total_fouls  \n",
       "0         1.0          1.0          3.0  \n",
       "1        -1.0          5.0          1.0  \n",
       "2         0.0          2.0          5.0  \n",
       "3         0.0          0.0          4.0  \n",
       "4        -1.0          3.0          2.0  "
      ]
     },
     "execution_count": 44,
     "metadata": {},
     "output_type": "execute_result"
    }
   ],
   "source": [
    "new_df.head()"
   ]
  },
  {
   "cell_type": "code",
   "execution_count": 45,
   "metadata": {},
   "outputs": [
    {
     "data": {
      "application/vnd.plotly.v1+json": {
       "config": {
        "plotlyServerURL": "https://plot.ly"
       },
       "data": [
        {
         "alignmentgroup": "True",
         "hovertemplate": "variable=total_fouls<br>League=%{x}<br>value=%{y}<extra></extra>",
         "legendgroup": "total_fouls",
         "marker": {
          "color": "orange",
          "pattern": {
           "shape": ""
          }
         },
         "name": "total_fouls",
         "offsetgroup": "total_fouls",
         "orientation": "v",
         "showlegend": true,
         "textposition": "auto",
         "type": "bar",
         "x": [
          "2_liga",
          "bundesliga",
          "championship",
          "eredivisie",
          "ligue_1",
          "ligue_2",
          "premier_league",
          "primeira_liga",
          "primera_division",
          "segunda_division",
          "serie_a",
          "serie_b"
         ],
         "xaxis": "x",
         "y": [
          4.230888429752066,
          3.7542260014342794,
          2.977290223248653,
          2.960296169116858,
          3.5324768022840827,
          3.6852243625431464,
          2.7862583049748824,
          5.112577461556117,
          5.422002004231155,
          5.662360248447205,
          4.412157073695536,
          4.4980434357268635
         ],
         "yaxis": "y"
        }
       ],
       "layout": {
        "barmode": "relative",
        "legend": {
         "title": {
          "text": "variable"
         },
         "tracegroupgap": 0
        },
        "template": {
         "data": {
          "bar": [
           {
            "error_x": {
             "color": "#f2f5fa"
            },
            "error_y": {
             "color": "#f2f5fa"
            },
            "marker": {
             "line": {
              "color": "rgb(17,17,17)",
              "width": 0.5
             },
             "pattern": {
              "fillmode": "overlay",
              "size": 10,
              "solidity": 0.2
             }
            },
            "type": "bar"
           }
          ],
          "barpolar": [
           {
            "marker": {
             "line": {
              "color": "rgb(17,17,17)",
              "width": 0.5
             },
             "pattern": {
              "fillmode": "overlay",
              "size": 10,
              "solidity": 0.2
             }
            },
            "type": "barpolar"
           }
          ],
          "carpet": [
           {
            "aaxis": {
             "endlinecolor": "#A2B1C6",
             "gridcolor": "#506784",
             "linecolor": "#506784",
             "minorgridcolor": "#506784",
             "startlinecolor": "#A2B1C6"
            },
            "baxis": {
             "endlinecolor": "#A2B1C6",
             "gridcolor": "#506784",
             "linecolor": "#506784",
             "minorgridcolor": "#506784",
             "startlinecolor": "#A2B1C6"
            },
            "type": "carpet"
           }
          ],
          "choropleth": [
           {
            "colorbar": {
             "outlinewidth": 0,
             "ticks": ""
            },
            "type": "choropleth"
           }
          ],
          "contour": [
           {
            "colorbar": {
             "outlinewidth": 0,
             "ticks": ""
            },
            "colorscale": [
             [
              0,
              "#0d0887"
             ],
             [
              0.1111111111111111,
              "#46039f"
             ],
             [
              0.2222222222222222,
              "#7201a8"
             ],
             [
              0.3333333333333333,
              "#9c179e"
             ],
             [
              0.4444444444444444,
              "#bd3786"
             ],
             [
              0.5555555555555556,
              "#d8576b"
             ],
             [
              0.6666666666666666,
              "#ed7953"
             ],
             [
              0.7777777777777778,
              "#fb9f3a"
             ],
             [
              0.8888888888888888,
              "#fdca26"
             ],
             [
              1,
              "#f0f921"
             ]
            ],
            "type": "contour"
           }
          ],
          "contourcarpet": [
           {
            "colorbar": {
             "outlinewidth": 0,
             "ticks": ""
            },
            "type": "contourcarpet"
           }
          ],
          "heatmap": [
           {
            "colorbar": {
             "outlinewidth": 0,
             "ticks": ""
            },
            "colorscale": [
             [
              0,
              "#0d0887"
             ],
             [
              0.1111111111111111,
              "#46039f"
             ],
             [
              0.2222222222222222,
              "#7201a8"
             ],
             [
              0.3333333333333333,
              "#9c179e"
             ],
             [
              0.4444444444444444,
              "#bd3786"
             ],
             [
              0.5555555555555556,
              "#d8576b"
             ],
             [
              0.6666666666666666,
              "#ed7953"
             ],
             [
              0.7777777777777778,
              "#fb9f3a"
             ],
             [
              0.8888888888888888,
              "#fdca26"
             ],
             [
              1,
              "#f0f921"
             ]
            ],
            "type": "heatmap"
           }
          ],
          "heatmapgl": [
           {
            "colorbar": {
             "outlinewidth": 0,
             "ticks": ""
            },
            "colorscale": [
             [
              0,
              "#0d0887"
             ],
             [
              0.1111111111111111,
              "#46039f"
             ],
             [
              0.2222222222222222,
              "#7201a8"
             ],
             [
              0.3333333333333333,
              "#9c179e"
             ],
             [
              0.4444444444444444,
              "#bd3786"
             ],
             [
              0.5555555555555556,
              "#d8576b"
             ],
             [
              0.6666666666666666,
              "#ed7953"
             ],
             [
              0.7777777777777778,
              "#fb9f3a"
             ],
             [
              0.8888888888888888,
              "#fdca26"
             ],
             [
              1,
              "#f0f921"
             ]
            ],
            "type": "heatmapgl"
           }
          ],
          "histogram": [
           {
            "marker": {
             "pattern": {
              "fillmode": "overlay",
              "size": 10,
              "solidity": 0.2
             }
            },
            "type": "histogram"
           }
          ],
          "histogram2d": [
           {
            "colorbar": {
             "outlinewidth": 0,
             "ticks": ""
            },
            "colorscale": [
             [
              0,
              "#0d0887"
             ],
             [
              0.1111111111111111,
              "#46039f"
             ],
             [
              0.2222222222222222,
              "#7201a8"
             ],
             [
              0.3333333333333333,
              "#9c179e"
             ],
             [
              0.4444444444444444,
              "#bd3786"
             ],
             [
              0.5555555555555556,
              "#d8576b"
             ],
             [
              0.6666666666666666,
              "#ed7953"
             ],
             [
              0.7777777777777778,
              "#fb9f3a"
             ],
             [
              0.8888888888888888,
              "#fdca26"
             ],
             [
              1,
              "#f0f921"
             ]
            ],
            "type": "histogram2d"
           }
          ],
          "histogram2dcontour": [
           {
            "colorbar": {
             "outlinewidth": 0,
             "ticks": ""
            },
            "colorscale": [
             [
              0,
              "#0d0887"
             ],
             [
              0.1111111111111111,
              "#46039f"
             ],
             [
              0.2222222222222222,
              "#7201a8"
             ],
             [
              0.3333333333333333,
              "#9c179e"
             ],
             [
              0.4444444444444444,
              "#bd3786"
             ],
             [
              0.5555555555555556,
              "#d8576b"
             ],
             [
              0.6666666666666666,
              "#ed7953"
             ],
             [
              0.7777777777777778,
              "#fb9f3a"
             ],
             [
              0.8888888888888888,
              "#fdca26"
             ],
             [
              1,
              "#f0f921"
             ]
            ],
            "type": "histogram2dcontour"
           }
          ],
          "mesh3d": [
           {
            "colorbar": {
             "outlinewidth": 0,
             "ticks": ""
            },
            "type": "mesh3d"
           }
          ],
          "parcoords": [
           {
            "line": {
             "colorbar": {
              "outlinewidth": 0,
              "ticks": ""
             }
            },
            "type": "parcoords"
           }
          ],
          "pie": [
           {
            "automargin": true,
            "type": "pie"
           }
          ],
          "scatter": [
           {
            "marker": {
             "line": {
              "color": "#283442"
             }
            },
            "type": "scatter"
           }
          ],
          "scatter3d": [
           {
            "line": {
             "colorbar": {
              "outlinewidth": 0,
              "ticks": ""
             }
            },
            "marker": {
             "colorbar": {
              "outlinewidth": 0,
              "ticks": ""
             }
            },
            "type": "scatter3d"
           }
          ],
          "scattercarpet": [
           {
            "marker": {
             "colorbar": {
              "outlinewidth": 0,
              "ticks": ""
             }
            },
            "type": "scattercarpet"
           }
          ],
          "scattergeo": [
           {
            "marker": {
             "colorbar": {
              "outlinewidth": 0,
              "ticks": ""
             }
            },
            "type": "scattergeo"
           }
          ],
          "scattergl": [
           {
            "marker": {
             "line": {
              "color": "#283442"
             }
            },
            "type": "scattergl"
           }
          ],
          "scattermapbox": [
           {
            "marker": {
             "colorbar": {
              "outlinewidth": 0,
              "ticks": ""
             }
            },
            "type": "scattermapbox"
           }
          ],
          "scatterpolar": [
           {
            "marker": {
             "colorbar": {
              "outlinewidth": 0,
              "ticks": ""
             }
            },
            "type": "scatterpolar"
           }
          ],
          "scatterpolargl": [
           {
            "marker": {
             "colorbar": {
              "outlinewidth": 0,
              "ticks": ""
             }
            },
            "type": "scatterpolargl"
           }
          ],
          "scatterternary": [
           {
            "marker": {
             "colorbar": {
              "outlinewidth": 0,
              "ticks": ""
             }
            },
            "type": "scatterternary"
           }
          ],
          "surface": [
           {
            "colorbar": {
             "outlinewidth": 0,
             "ticks": ""
            },
            "colorscale": [
             [
              0,
              "#0d0887"
             ],
             [
              0.1111111111111111,
              "#46039f"
             ],
             [
              0.2222222222222222,
              "#7201a8"
             ],
             [
              0.3333333333333333,
              "#9c179e"
             ],
             [
              0.4444444444444444,
              "#bd3786"
             ],
             [
              0.5555555555555556,
              "#d8576b"
             ],
             [
              0.6666666666666666,
              "#ed7953"
             ],
             [
              0.7777777777777778,
              "#fb9f3a"
             ],
             [
              0.8888888888888888,
              "#fdca26"
             ],
             [
              1,
              "#f0f921"
             ]
            ],
            "type": "surface"
           }
          ],
          "table": [
           {
            "cells": {
             "fill": {
              "color": "#506784"
             },
             "line": {
              "color": "rgb(17,17,17)"
             }
            },
            "header": {
             "fill": {
              "color": "#2a3f5f"
             },
             "line": {
              "color": "rgb(17,17,17)"
             }
            },
            "type": "table"
           }
          ]
         },
         "layout": {
          "annotationdefaults": {
           "arrowcolor": "#f2f5fa",
           "arrowhead": 0,
           "arrowwidth": 1
          },
          "autotypenumbers": "strict",
          "coloraxis": {
           "colorbar": {
            "outlinewidth": 0,
            "ticks": ""
           }
          },
          "colorscale": {
           "diverging": [
            [
             0,
             "#8e0152"
            ],
            [
             0.1,
             "#c51b7d"
            ],
            [
             0.2,
             "#de77ae"
            ],
            [
             0.3,
             "#f1b6da"
            ],
            [
             0.4,
             "#fde0ef"
            ],
            [
             0.5,
             "#f7f7f7"
            ],
            [
             0.6,
             "#e6f5d0"
            ],
            [
             0.7,
             "#b8e186"
            ],
            [
             0.8,
             "#7fbc41"
            ],
            [
             0.9,
             "#4d9221"
            ],
            [
             1,
             "#276419"
            ]
           ],
           "sequential": [
            [
             0,
             "#0d0887"
            ],
            [
             0.1111111111111111,
             "#46039f"
            ],
            [
             0.2222222222222222,
             "#7201a8"
            ],
            [
             0.3333333333333333,
             "#9c179e"
            ],
            [
             0.4444444444444444,
             "#bd3786"
            ],
            [
             0.5555555555555556,
             "#d8576b"
            ],
            [
             0.6666666666666666,
             "#ed7953"
            ],
            [
             0.7777777777777778,
             "#fb9f3a"
            ],
            [
             0.8888888888888888,
             "#fdca26"
            ],
            [
             1,
             "#f0f921"
            ]
           ],
           "sequentialminus": [
            [
             0,
             "#0d0887"
            ],
            [
             0.1111111111111111,
             "#46039f"
            ],
            [
             0.2222222222222222,
             "#7201a8"
            ],
            [
             0.3333333333333333,
             "#9c179e"
            ],
            [
             0.4444444444444444,
             "#bd3786"
            ],
            [
             0.5555555555555556,
             "#d8576b"
            ],
            [
             0.6666666666666666,
             "#ed7953"
            ],
            [
             0.7777777777777778,
             "#fb9f3a"
            ],
            [
             0.8888888888888888,
             "#fdca26"
            ],
            [
             1,
             "#f0f921"
            ]
           ]
          },
          "colorway": [
           "#636efa",
           "#EF553B",
           "#00cc96",
           "#ab63fa",
           "#FFA15A",
           "#19d3f3",
           "#FF6692",
           "#B6E880",
           "#FF97FF",
           "#FECB52"
          ],
          "font": {
           "color": "#f2f5fa"
          },
          "geo": {
           "bgcolor": "rgb(17,17,17)",
           "lakecolor": "rgb(17,17,17)",
           "landcolor": "rgb(17,17,17)",
           "showlakes": true,
           "showland": true,
           "subunitcolor": "#506784"
          },
          "hoverlabel": {
           "align": "left"
          },
          "hovermode": "closest",
          "mapbox": {
           "style": "dark"
          },
          "paper_bgcolor": "rgb(17,17,17)",
          "plot_bgcolor": "rgb(17,17,17)",
          "polar": {
           "angularaxis": {
            "gridcolor": "#506784",
            "linecolor": "#506784",
            "ticks": ""
           },
           "bgcolor": "rgb(17,17,17)",
           "radialaxis": {
            "gridcolor": "#506784",
            "linecolor": "#506784",
            "ticks": ""
           }
          },
          "scene": {
           "xaxis": {
            "backgroundcolor": "rgb(17,17,17)",
            "gridcolor": "#506784",
            "gridwidth": 2,
            "linecolor": "#506784",
            "showbackground": true,
            "ticks": "",
            "zerolinecolor": "#C8D4E3"
           },
           "yaxis": {
            "backgroundcolor": "rgb(17,17,17)",
            "gridcolor": "#506784",
            "gridwidth": 2,
            "linecolor": "#506784",
            "showbackground": true,
            "ticks": "",
            "zerolinecolor": "#C8D4E3"
           },
           "zaxis": {
            "backgroundcolor": "rgb(17,17,17)",
            "gridcolor": "#506784",
            "gridwidth": 2,
            "linecolor": "#506784",
            "showbackground": true,
            "ticks": "",
            "zerolinecolor": "#C8D4E3"
           }
          },
          "shapedefaults": {
           "line": {
            "color": "#f2f5fa"
           }
          },
          "sliderdefaults": {
           "bgcolor": "#C8D4E3",
           "bordercolor": "rgb(17,17,17)",
           "borderwidth": 1,
           "tickwidth": 0
          },
          "ternary": {
           "aaxis": {
            "gridcolor": "#506784",
            "linecolor": "#506784",
            "ticks": ""
           },
           "baxis": {
            "gridcolor": "#506784",
            "linecolor": "#506784",
            "ticks": ""
           },
           "bgcolor": "rgb(17,17,17)",
           "caxis": {
            "gridcolor": "#506784",
            "linecolor": "#506784",
            "ticks": ""
           }
          },
          "title": {
           "x": 0.05
          },
          "updatemenudefaults": {
           "bgcolor": "#506784",
           "borderwidth": 0
          },
          "xaxis": {
           "automargin": true,
           "gridcolor": "#283442",
           "linecolor": "#506784",
           "ticks": "",
           "title": {
            "standoff": 15
           },
           "zerolinecolor": "#283442",
           "zerolinewidth": 2
          },
          "yaxis": {
           "automargin": true,
           "gridcolor": "#283442",
           "linecolor": "#506784",
           "ticks": "",
           "title": {
            "standoff": 15
           },
           "zerolinecolor": "#283442",
           "zerolinewidth": 2
          }
         }
        },
        "title": {
         "text": "Average Number of Fouls by League"
        },
        "xaxis": {
         "anchor": "y",
         "domain": [
          0,
          1
         ],
         "title": {
          "text": "League"
         }
        },
        "yaxis": {
         "anchor": "x",
         "domain": [
          0,
          1
         ],
         "title": {
          "text": "value"
         }
        }
       }
      }
     },
     "metadata": {},
     "output_type": "display_data"
    }
   ],
   "source": [
    "fig2 = px.bar(new_df.groupby('League')['total_fouls'].mean(), title='Average Number of Fouls by League', template= 'plotly_dark')\n",
    "fig2.update_traces(marker_color='orange')\n",
    "fig2.write_image('images/average_fouls_by_league.png')\n",
    "fig2.show()"
   ]
  },
  {
   "cell_type": "code",
   "execution_count": 46,
   "metadata": {},
   "outputs": [
    {
     "data": {
      "application/vnd.plotly.v1+json": {
       "config": {
        "plotlyServerURL": "https://plot.ly"
       },
       "data": [
        {
         "alignmentgroup": "True",
         "hovertemplate": "variable=total_fouls<br>Season=%{x}<br>value=%{y}<extra></extra>",
         "legendgroup": "total_fouls",
         "marker": {
          "color": "orange",
          "pattern": {
           "shape": ""
          }
         },
         "name": "total_fouls",
         "offsetgroup": "total_fouls",
         "orientation": "v",
         "showlegend": true,
         "textposition": "auto",
         "type": "bar",
         "x": [
          1990,
          1991,
          1992,
          1993,
          1994,
          1995,
          1996,
          1997,
          1998,
          1999,
          2000,
          2001,
          2002,
          2003,
          2004,
          2005,
          2006,
          2007,
          2008,
          2009,
          2010,
          2011,
          2012,
          2013,
          2014,
          2015,
          2016,
          2017,
          2018,
          2019,
          2020,
          2021
         ],
         "xaxis": "x",
         "y": [
          2.400200601805416,
          2.584186808684965,
          2.299867899603699,
          3.1840701219512195,
          3.1019575856443717,
          3.162083936324168,
          2.9174664107485606,
          3.4895366218236172,
          4.090695856137607,
          4.19752623688156,
          3.9494103041589077,
          4.212200721548048,
          4.07168458781362,
          3.9061479061479063,
          3.989080320310604,
          4.270520231213873,
          4.253635346756152,
          4.34375,
          4.122553191489362,
          4.156328936289643,
          4.176770538243626,
          4.123720136518771,
          4.120984689282498,
          4.342893081761006,
          4.375062972292191,
          4.795195641406637,
          4.8589078329626885,
          4.536954365079365,
          4.262598814229249,
          4.478750640040962,
          4.750813449023862,
          4.198216055500495
         ],
         "yaxis": "y"
        }
       ],
       "layout": {
        "barmode": "relative",
        "legend": {
         "title": {
          "text": "variable"
         },
         "tracegroupgap": 0
        },
        "template": {
         "data": {
          "bar": [
           {
            "error_x": {
             "color": "#f2f5fa"
            },
            "error_y": {
             "color": "#f2f5fa"
            },
            "marker": {
             "line": {
              "color": "rgb(17,17,17)",
              "width": 0.5
             },
             "pattern": {
              "fillmode": "overlay",
              "size": 10,
              "solidity": 0.2
             }
            },
            "type": "bar"
           }
          ],
          "barpolar": [
           {
            "marker": {
             "line": {
              "color": "rgb(17,17,17)",
              "width": 0.5
             },
             "pattern": {
              "fillmode": "overlay",
              "size": 10,
              "solidity": 0.2
             }
            },
            "type": "barpolar"
           }
          ],
          "carpet": [
           {
            "aaxis": {
             "endlinecolor": "#A2B1C6",
             "gridcolor": "#506784",
             "linecolor": "#506784",
             "minorgridcolor": "#506784",
             "startlinecolor": "#A2B1C6"
            },
            "baxis": {
             "endlinecolor": "#A2B1C6",
             "gridcolor": "#506784",
             "linecolor": "#506784",
             "minorgridcolor": "#506784",
             "startlinecolor": "#A2B1C6"
            },
            "type": "carpet"
           }
          ],
          "choropleth": [
           {
            "colorbar": {
             "outlinewidth": 0,
             "ticks": ""
            },
            "type": "choropleth"
           }
          ],
          "contour": [
           {
            "colorbar": {
             "outlinewidth": 0,
             "ticks": ""
            },
            "colorscale": [
             [
              0,
              "#0d0887"
             ],
             [
              0.1111111111111111,
              "#46039f"
             ],
             [
              0.2222222222222222,
              "#7201a8"
             ],
             [
              0.3333333333333333,
              "#9c179e"
             ],
             [
              0.4444444444444444,
              "#bd3786"
             ],
             [
              0.5555555555555556,
              "#d8576b"
             ],
             [
              0.6666666666666666,
              "#ed7953"
             ],
             [
              0.7777777777777778,
              "#fb9f3a"
             ],
             [
              0.8888888888888888,
              "#fdca26"
             ],
             [
              1,
              "#f0f921"
             ]
            ],
            "type": "contour"
           }
          ],
          "contourcarpet": [
           {
            "colorbar": {
             "outlinewidth": 0,
             "ticks": ""
            },
            "type": "contourcarpet"
           }
          ],
          "heatmap": [
           {
            "colorbar": {
             "outlinewidth": 0,
             "ticks": ""
            },
            "colorscale": [
             [
              0,
              "#0d0887"
             ],
             [
              0.1111111111111111,
              "#46039f"
             ],
             [
              0.2222222222222222,
              "#7201a8"
             ],
             [
              0.3333333333333333,
              "#9c179e"
             ],
             [
              0.4444444444444444,
              "#bd3786"
             ],
             [
              0.5555555555555556,
              "#d8576b"
             ],
             [
              0.6666666666666666,
              "#ed7953"
             ],
             [
              0.7777777777777778,
              "#fb9f3a"
             ],
             [
              0.8888888888888888,
              "#fdca26"
             ],
             [
              1,
              "#f0f921"
             ]
            ],
            "type": "heatmap"
           }
          ],
          "heatmapgl": [
           {
            "colorbar": {
             "outlinewidth": 0,
             "ticks": ""
            },
            "colorscale": [
             [
              0,
              "#0d0887"
             ],
             [
              0.1111111111111111,
              "#46039f"
             ],
             [
              0.2222222222222222,
              "#7201a8"
             ],
             [
              0.3333333333333333,
              "#9c179e"
             ],
             [
              0.4444444444444444,
              "#bd3786"
             ],
             [
              0.5555555555555556,
              "#d8576b"
             ],
             [
              0.6666666666666666,
              "#ed7953"
             ],
             [
              0.7777777777777778,
              "#fb9f3a"
             ],
             [
              0.8888888888888888,
              "#fdca26"
             ],
             [
              1,
              "#f0f921"
             ]
            ],
            "type": "heatmapgl"
           }
          ],
          "histogram": [
           {
            "marker": {
             "pattern": {
              "fillmode": "overlay",
              "size": 10,
              "solidity": 0.2
             }
            },
            "type": "histogram"
           }
          ],
          "histogram2d": [
           {
            "colorbar": {
             "outlinewidth": 0,
             "ticks": ""
            },
            "colorscale": [
             [
              0,
              "#0d0887"
             ],
             [
              0.1111111111111111,
              "#46039f"
             ],
             [
              0.2222222222222222,
              "#7201a8"
             ],
             [
              0.3333333333333333,
              "#9c179e"
             ],
             [
              0.4444444444444444,
              "#bd3786"
             ],
             [
              0.5555555555555556,
              "#d8576b"
             ],
             [
              0.6666666666666666,
              "#ed7953"
             ],
             [
              0.7777777777777778,
              "#fb9f3a"
             ],
             [
              0.8888888888888888,
              "#fdca26"
             ],
             [
              1,
              "#f0f921"
             ]
            ],
            "type": "histogram2d"
           }
          ],
          "histogram2dcontour": [
           {
            "colorbar": {
             "outlinewidth": 0,
             "ticks": ""
            },
            "colorscale": [
             [
              0,
              "#0d0887"
             ],
             [
              0.1111111111111111,
              "#46039f"
             ],
             [
              0.2222222222222222,
              "#7201a8"
             ],
             [
              0.3333333333333333,
              "#9c179e"
             ],
             [
              0.4444444444444444,
              "#bd3786"
             ],
             [
              0.5555555555555556,
              "#d8576b"
             ],
             [
              0.6666666666666666,
              "#ed7953"
             ],
             [
              0.7777777777777778,
              "#fb9f3a"
             ],
             [
              0.8888888888888888,
              "#fdca26"
             ],
             [
              1,
              "#f0f921"
             ]
            ],
            "type": "histogram2dcontour"
           }
          ],
          "mesh3d": [
           {
            "colorbar": {
             "outlinewidth": 0,
             "ticks": ""
            },
            "type": "mesh3d"
           }
          ],
          "parcoords": [
           {
            "line": {
             "colorbar": {
              "outlinewidth": 0,
              "ticks": ""
             }
            },
            "type": "parcoords"
           }
          ],
          "pie": [
           {
            "automargin": true,
            "type": "pie"
           }
          ],
          "scatter": [
           {
            "marker": {
             "line": {
              "color": "#283442"
             }
            },
            "type": "scatter"
           }
          ],
          "scatter3d": [
           {
            "line": {
             "colorbar": {
              "outlinewidth": 0,
              "ticks": ""
             }
            },
            "marker": {
             "colorbar": {
              "outlinewidth": 0,
              "ticks": ""
             }
            },
            "type": "scatter3d"
           }
          ],
          "scattercarpet": [
           {
            "marker": {
             "colorbar": {
              "outlinewidth": 0,
              "ticks": ""
             }
            },
            "type": "scattercarpet"
           }
          ],
          "scattergeo": [
           {
            "marker": {
             "colorbar": {
              "outlinewidth": 0,
              "ticks": ""
             }
            },
            "type": "scattergeo"
           }
          ],
          "scattergl": [
           {
            "marker": {
             "line": {
              "color": "#283442"
             }
            },
            "type": "scattergl"
           }
          ],
          "scattermapbox": [
           {
            "marker": {
             "colorbar": {
              "outlinewidth": 0,
              "ticks": ""
             }
            },
            "type": "scattermapbox"
           }
          ],
          "scatterpolar": [
           {
            "marker": {
             "colorbar": {
              "outlinewidth": 0,
              "ticks": ""
             }
            },
            "type": "scatterpolar"
           }
          ],
          "scatterpolargl": [
           {
            "marker": {
             "colorbar": {
              "outlinewidth": 0,
              "ticks": ""
             }
            },
            "type": "scatterpolargl"
           }
          ],
          "scatterternary": [
           {
            "marker": {
             "colorbar": {
              "outlinewidth": 0,
              "ticks": ""
             }
            },
            "type": "scatterternary"
           }
          ],
          "surface": [
           {
            "colorbar": {
             "outlinewidth": 0,
             "ticks": ""
            },
            "colorscale": [
             [
              0,
              "#0d0887"
             ],
             [
              0.1111111111111111,
              "#46039f"
             ],
             [
              0.2222222222222222,
              "#7201a8"
             ],
             [
              0.3333333333333333,
              "#9c179e"
             ],
             [
              0.4444444444444444,
              "#bd3786"
             ],
             [
              0.5555555555555556,
              "#d8576b"
             ],
             [
              0.6666666666666666,
              "#ed7953"
             ],
             [
              0.7777777777777778,
              "#fb9f3a"
             ],
             [
              0.8888888888888888,
              "#fdca26"
             ],
             [
              1,
              "#f0f921"
             ]
            ],
            "type": "surface"
           }
          ],
          "table": [
           {
            "cells": {
             "fill": {
              "color": "#506784"
             },
             "line": {
              "color": "rgb(17,17,17)"
             }
            },
            "header": {
             "fill": {
              "color": "#2a3f5f"
             },
             "line": {
              "color": "rgb(17,17,17)"
             }
            },
            "type": "table"
           }
          ]
         },
         "layout": {
          "annotationdefaults": {
           "arrowcolor": "#f2f5fa",
           "arrowhead": 0,
           "arrowwidth": 1
          },
          "autotypenumbers": "strict",
          "coloraxis": {
           "colorbar": {
            "outlinewidth": 0,
            "ticks": ""
           }
          },
          "colorscale": {
           "diverging": [
            [
             0,
             "#8e0152"
            ],
            [
             0.1,
             "#c51b7d"
            ],
            [
             0.2,
             "#de77ae"
            ],
            [
             0.3,
             "#f1b6da"
            ],
            [
             0.4,
             "#fde0ef"
            ],
            [
             0.5,
             "#f7f7f7"
            ],
            [
             0.6,
             "#e6f5d0"
            ],
            [
             0.7,
             "#b8e186"
            ],
            [
             0.8,
             "#7fbc41"
            ],
            [
             0.9,
             "#4d9221"
            ],
            [
             1,
             "#276419"
            ]
           ],
           "sequential": [
            [
             0,
             "#0d0887"
            ],
            [
             0.1111111111111111,
             "#46039f"
            ],
            [
             0.2222222222222222,
             "#7201a8"
            ],
            [
             0.3333333333333333,
             "#9c179e"
            ],
            [
             0.4444444444444444,
             "#bd3786"
            ],
            [
             0.5555555555555556,
             "#d8576b"
            ],
            [
             0.6666666666666666,
             "#ed7953"
            ],
            [
             0.7777777777777778,
             "#fb9f3a"
            ],
            [
             0.8888888888888888,
             "#fdca26"
            ],
            [
             1,
             "#f0f921"
            ]
           ],
           "sequentialminus": [
            [
             0,
             "#0d0887"
            ],
            [
             0.1111111111111111,
             "#46039f"
            ],
            [
             0.2222222222222222,
             "#7201a8"
            ],
            [
             0.3333333333333333,
             "#9c179e"
            ],
            [
             0.4444444444444444,
             "#bd3786"
            ],
            [
             0.5555555555555556,
             "#d8576b"
            ],
            [
             0.6666666666666666,
             "#ed7953"
            ],
            [
             0.7777777777777778,
             "#fb9f3a"
            ],
            [
             0.8888888888888888,
             "#fdca26"
            ],
            [
             1,
             "#f0f921"
            ]
           ]
          },
          "colorway": [
           "#636efa",
           "#EF553B",
           "#00cc96",
           "#ab63fa",
           "#FFA15A",
           "#19d3f3",
           "#FF6692",
           "#B6E880",
           "#FF97FF",
           "#FECB52"
          ],
          "font": {
           "color": "#f2f5fa"
          },
          "geo": {
           "bgcolor": "rgb(17,17,17)",
           "lakecolor": "rgb(17,17,17)",
           "landcolor": "rgb(17,17,17)",
           "showlakes": true,
           "showland": true,
           "subunitcolor": "#506784"
          },
          "hoverlabel": {
           "align": "left"
          },
          "hovermode": "closest",
          "mapbox": {
           "style": "dark"
          },
          "paper_bgcolor": "rgb(17,17,17)",
          "plot_bgcolor": "rgb(17,17,17)",
          "polar": {
           "angularaxis": {
            "gridcolor": "#506784",
            "linecolor": "#506784",
            "ticks": ""
           },
           "bgcolor": "rgb(17,17,17)",
           "radialaxis": {
            "gridcolor": "#506784",
            "linecolor": "#506784",
            "ticks": ""
           }
          },
          "scene": {
           "xaxis": {
            "backgroundcolor": "rgb(17,17,17)",
            "gridcolor": "#506784",
            "gridwidth": 2,
            "linecolor": "#506784",
            "showbackground": true,
            "ticks": "",
            "zerolinecolor": "#C8D4E3"
           },
           "yaxis": {
            "backgroundcolor": "rgb(17,17,17)",
            "gridcolor": "#506784",
            "gridwidth": 2,
            "linecolor": "#506784",
            "showbackground": true,
            "ticks": "",
            "zerolinecolor": "#C8D4E3"
           },
           "zaxis": {
            "backgroundcolor": "rgb(17,17,17)",
            "gridcolor": "#506784",
            "gridwidth": 2,
            "linecolor": "#506784",
            "showbackground": true,
            "ticks": "",
            "zerolinecolor": "#C8D4E3"
           }
          },
          "shapedefaults": {
           "line": {
            "color": "#f2f5fa"
           }
          },
          "sliderdefaults": {
           "bgcolor": "#C8D4E3",
           "bordercolor": "rgb(17,17,17)",
           "borderwidth": 1,
           "tickwidth": 0
          },
          "ternary": {
           "aaxis": {
            "gridcolor": "#506784",
            "linecolor": "#506784",
            "ticks": ""
           },
           "baxis": {
            "gridcolor": "#506784",
            "linecolor": "#506784",
            "ticks": ""
           },
           "bgcolor": "rgb(17,17,17)",
           "caxis": {
            "gridcolor": "#506784",
            "linecolor": "#506784",
            "ticks": ""
           }
          },
          "title": {
           "x": 0.05
          },
          "updatemenudefaults": {
           "bgcolor": "#506784",
           "borderwidth": 0
          },
          "xaxis": {
           "automargin": true,
           "gridcolor": "#283442",
           "linecolor": "#506784",
           "ticks": "",
           "title": {
            "standoff": 15
           },
           "zerolinecolor": "#283442",
           "zerolinewidth": 2
          },
          "yaxis": {
           "automargin": true,
           "gridcolor": "#283442",
           "linecolor": "#506784",
           "ticks": "",
           "title": {
            "standoff": 15
           },
           "zerolinecolor": "#283442",
           "zerolinewidth": 2
          }
         }
        },
        "title": {
         "text": "Average Number of Fouls by Season"
        },
        "xaxis": {
         "anchor": "y",
         "domain": [
          0,
          1
         ],
         "title": {
          "text": "Season"
         }
        },
        "yaxis": {
         "anchor": "x",
         "domain": [
          0,
          1
         ],
         "title": {
          "text": "value"
         }
        }
       }
      }
     },
     "metadata": {},
     "output_type": "display_data"
    }
   ],
   "source": [
    "fig3 = px.bar(new_df.groupby('Season')['total_fouls'].mean(), title='Average Number of Fouls by Season', template= 'plotly_dark')\n",
    "fig3.update_traces(marker_color='orange')\n",
    "fig3.write_image('images/average_fouls_season.png')\n",
    "fig3.show()"
   ]
  },
  {
   "cell_type": "code",
   "execution_count": 54,
   "metadata": {},
   "outputs": [
    {
     "data": {
      "application/vnd.plotly.v1+json": {
       "config": {
        "plotlyServerURL": "https://plot.ly"
       },
       "data": [
        {
         "alignmentgroup": "True",
         "hovertemplate": "variable=total_goals<br>Season=%{x}<br>value=%{y}<extra></extra>",
         "legendgroup": "total_goals",
         "marker": {
          "color": "orange",
          "pattern": {
           "shape": ""
          }
         },
         "name": "total_goals",
         "offsetgroup": "total_goals",
         "orientation": "v",
         "showlegend": true,
         "textposition": "auto",
         "type": "bar",
         "x": [
          1990,
          1991,
          1992,
          1993,
          1994,
          1995,
          1996,
          1997,
          1998,
          1999,
          2000,
          2001,
          2002,
          2003,
          2004,
          2005,
          2006,
          2007,
          2008,
          2009,
          2010,
          2011,
          2012,
          2013,
          2014,
          2015,
          2016,
          2017,
          2018,
          2019,
          2020,
          2021
         ],
         "xaxis": "x",
         "y": [
          2.502419842710224,
          2.4685333333333332,
          2.4279661016949152,
          2.590745501285347,
          2.566666666666667,
          2.5958549222797926,
          2.5089149261334693,
          2.5748054194292305,
          2.616887417218543,
          2.595145631067961,
          2.614772103239978,
          2.621504756413952,
          2.585985802610488,
          2.5145118733509233,
          2.537739965095986,
          2.4152486910994764,
          2.4358593363051013,
          2.4871923656454045,
          2.569060773480663,
          2.561275740833752,
          2.5881466599698646,
          2.6212958312405825,
          2.680929741151611,
          2.6958710976837863,
          2.631102164066432,
          2.5522535908865773,
          2.5861131702495674,
          2.606622189276007,
          2.6825592885375493,
          2.6827094474153297,
          2.6572668112798263,
          2.5643989431968297
         ],
         "yaxis": "y"
        }
       ],
       "layout": {
        "barmode": "relative",
        "legend": {
         "title": {
          "text": "variable"
         },
         "tracegroupgap": 0
        },
        "template": {
         "data": {
          "bar": [
           {
            "error_x": {
             "color": "#f2f5fa"
            },
            "error_y": {
             "color": "#f2f5fa"
            },
            "marker": {
             "line": {
              "color": "rgb(17,17,17)",
              "width": 0.5
             },
             "pattern": {
              "fillmode": "overlay",
              "size": 10,
              "solidity": 0.2
             }
            },
            "type": "bar"
           }
          ],
          "barpolar": [
           {
            "marker": {
             "line": {
              "color": "rgb(17,17,17)",
              "width": 0.5
             },
             "pattern": {
              "fillmode": "overlay",
              "size": 10,
              "solidity": 0.2
             }
            },
            "type": "barpolar"
           }
          ],
          "carpet": [
           {
            "aaxis": {
             "endlinecolor": "#A2B1C6",
             "gridcolor": "#506784",
             "linecolor": "#506784",
             "minorgridcolor": "#506784",
             "startlinecolor": "#A2B1C6"
            },
            "baxis": {
             "endlinecolor": "#A2B1C6",
             "gridcolor": "#506784",
             "linecolor": "#506784",
             "minorgridcolor": "#506784",
             "startlinecolor": "#A2B1C6"
            },
            "type": "carpet"
           }
          ],
          "choropleth": [
           {
            "colorbar": {
             "outlinewidth": 0,
             "ticks": ""
            },
            "type": "choropleth"
           }
          ],
          "contour": [
           {
            "colorbar": {
             "outlinewidth": 0,
             "ticks": ""
            },
            "colorscale": [
             [
              0,
              "#0d0887"
             ],
             [
              0.1111111111111111,
              "#46039f"
             ],
             [
              0.2222222222222222,
              "#7201a8"
             ],
             [
              0.3333333333333333,
              "#9c179e"
             ],
             [
              0.4444444444444444,
              "#bd3786"
             ],
             [
              0.5555555555555556,
              "#d8576b"
             ],
             [
              0.6666666666666666,
              "#ed7953"
             ],
             [
              0.7777777777777778,
              "#fb9f3a"
             ],
             [
              0.8888888888888888,
              "#fdca26"
             ],
             [
              1,
              "#f0f921"
             ]
            ],
            "type": "contour"
           }
          ],
          "contourcarpet": [
           {
            "colorbar": {
             "outlinewidth": 0,
             "ticks": ""
            },
            "type": "contourcarpet"
           }
          ],
          "heatmap": [
           {
            "colorbar": {
             "outlinewidth": 0,
             "ticks": ""
            },
            "colorscale": [
             [
              0,
              "#0d0887"
             ],
             [
              0.1111111111111111,
              "#46039f"
             ],
             [
              0.2222222222222222,
              "#7201a8"
             ],
             [
              0.3333333333333333,
              "#9c179e"
             ],
             [
              0.4444444444444444,
              "#bd3786"
             ],
             [
              0.5555555555555556,
              "#d8576b"
             ],
             [
              0.6666666666666666,
              "#ed7953"
             ],
             [
              0.7777777777777778,
              "#fb9f3a"
             ],
             [
              0.8888888888888888,
              "#fdca26"
             ],
             [
              1,
              "#f0f921"
             ]
            ],
            "type": "heatmap"
           }
          ],
          "heatmapgl": [
           {
            "colorbar": {
             "outlinewidth": 0,
             "ticks": ""
            },
            "colorscale": [
             [
              0,
              "#0d0887"
             ],
             [
              0.1111111111111111,
              "#46039f"
             ],
             [
              0.2222222222222222,
              "#7201a8"
             ],
             [
              0.3333333333333333,
              "#9c179e"
             ],
             [
              0.4444444444444444,
              "#bd3786"
             ],
             [
              0.5555555555555556,
              "#d8576b"
             ],
             [
              0.6666666666666666,
              "#ed7953"
             ],
             [
              0.7777777777777778,
              "#fb9f3a"
             ],
             [
              0.8888888888888888,
              "#fdca26"
             ],
             [
              1,
              "#f0f921"
             ]
            ],
            "type": "heatmapgl"
           }
          ],
          "histogram": [
           {
            "marker": {
             "pattern": {
              "fillmode": "overlay",
              "size": 10,
              "solidity": 0.2
             }
            },
            "type": "histogram"
           }
          ],
          "histogram2d": [
           {
            "colorbar": {
             "outlinewidth": 0,
             "ticks": ""
            },
            "colorscale": [
             [
              0,
              "#0d0887"
             ],
             [
              0.1111111111111111,
              "#46039f"
             ],
             [
              0.2222222222222222,
              "#7201a8"
             ],
             [
              0.3333333333333333,
              "#9c179e"
             ],
             [
              0.4444444444444444,
              "#bd3786"
             ],
             [
              0.5555555555555556,
              "#d8576b"
             ],
             [
              0.6666666666666666,
              "#ed7953"
             ],
             [
              0.7777777777777778,
              "#fb9f3a"
             ],
             [
              0.8888888888888888,
              "#fdca26"
             ],
             [
              1,
              "#f0f921"
             ]
            ],
            "type": "histogram2d"
           }
          ],
          "histogram2dcontour": [
           {
            "colorbar": {
             "outlinewidth": 0,
             "ticks": ""
            },
            "colorscale": [
             [
              0,
              "#0d0887"
             ],
             [
              0.1111111111111111,
              "#46039f"
             ],
             [
              0.2222222222222222,
              "#7201a8"
             ],
             [
              0.3333333333333333,
              "#9c179e"
             ],
             [
              0.4444444444444444,
              "#bd3786"
             ],
             [
              0.5555555555555556,
              "#d8576b"
             ],
             [
              0.6666666666666666,
              "#ed7953"
             ],
             [
              0.7777777777777778,
              "#fb9f3a"
             ],
             [
              0.8888888888888888,
              "#fdca26"
             ],
             [
              1,
              "#f0f921"
             ]
            ],
            "type": "histogram2dcontour"
           }
          ],
          "mesh3d": [
           {
            "colorbar": {
             "outlinewidth": 0,
             "ticks": ""
            },
            "type": "mesh3d"
           }
          ],
          "parcoords": [
           {
            "line": {
             "colorbar": {
              "outlinewidth": 0,
              "ticks": ""
             }
            },
            "type": "parcoords"
           }
          ],
          "pie": [
           {
            "automargin": true,
            "type": "pie"
           }
          ],
          "scatter": [
           {
            "marker": {
             "line": {
              "color": "#283442"
             }
            },
            "type": "scatter"
           }
          ],
          "scatter3d": [
           {
            "line": {
             "colorbar": {
              "outlinewidth": 0,
              "ticks": ""
             }
            },
            "marker": {
             "colorbar": {
              "outlinewidth": 0,
              "ticks": ""
             }
            },
            "type": "scatter3d"
           }
          ],
          "scattercarpet": [
           {
            "marker": {
             "colorbar": {
              "outlinewidth": 0,
              "ticks": ""
             }
            },
            "type": "scattercarpet"
           }
          ],
          "scattergeo": [
           {
            "marker": {
             "colorbar": {
              "outlinewidth": 0,
              "ticks": ""
             }
            },
            "type": "scattergeo"
           }
          ],
          "scattergl": [
           {
            "marker": {
             "line": {
              "color": "#283442"
             }
            },
            "type": "scattergl"
           }
          ],
          "scattermapbox": [
           {
            "marker": {
             "colorbar": {
              "outlinewidth": 0,
              "ticks": ""
             }
            },
            "type": "scattermapbox"
           }
          ],
          "scatterpolar": [
           {
            "marker": {
             "colorbar": {
              "outlinewidth": 0,
              "ticks": ""
             }
            },
            "type": "scatterpolar"
           }
          ],
          "scatterpolargl": [
           {
            "marker": {
             "colorbar": {
              "outlinewidth": 0,
              "ticks": ""
             }
            },
            "type": "scatterpolargl"
           }
          ],
          "scatterternary": [
           {
            "marker": {
             "colorbar": {
              "outlinewidth": 0,
              "ticks": ""
             }
            },
            "type": "scatterternary"
           }
          ],
          "surface": [
           {
            "colorbar": {
             "outlinewidth": 0,
             "ticks": ""
            },
            "colorscale": [
             [
              0,
              "#0d0887"
             ],
             [
              0.1111111111111111,
              "#46039f"
             ],
             [
              0.2222222222222222,
              "#7201a8"
             ],
             [
              0.3333333333333333,
              "#9c179e"
             ],
             [
              0.4444444444444444,
              "#bd3786"
             ],
             [
              0.5555555555555556,
              "#d8576b"
             ],
             [
              0.6666666666666666,
              "#ed7953"
             ],
             [
              0.7777777777777778,
              "#fb9f3a"
             ],
             [
              0.8888888888888888,
              "#fdca26"
             ],
             [
              1,
              "#f0f921"
             ]
            ],
            "type": "surface"
           }
          ],
          "table": [
           {
            "cells": {
             "fill": {
              "color": "#506784"
             },
             "line": {
              "color": "rgb(17,17,17)"
             }
            },
            "header": {
             "fill": {
              "color": "#2a3f5f"
             },
             "line": {
              "color": "rgb(17,17,17)"
             }
            },
            "type": "table"
           }
          ]
         },
         "layout": {
          "annotationdefaults": {
           "arrowcolor": "#f2f5fa",
           "arrowhead": 0,
           "arrowwidth": 1
          },
          "autotypenumbers": "strict",
          "coloraxis": {
           "colorbar": {
            "outlinewidth": 0,
            "ticks": ""
           }
          },
          "colorscale": {
           "diverging": [
            [
             0,
             "#8e0152"
            ],
            [
             0.1,
             "#c51b7d"
            ],
            [
             0.2,
             "#de77ae"
            ],
            [
             0.3,
             "#f1b6da"
            ],
            [
             0.4,
             "#fde0ef"
            ],
            [
             0.5,
             "#f7f7f7"
            ],
            [
             0.6,
             "#e6f5d0"
            ],
            [
             0.7,
             "#b8e186"
            ],
            [
             0.8,
             "#7fbc41"
            ],
            [
             0.9,
             "#4d9221"
            ],
            [
             1,
             "#276419"
            ]
           ],
           "sequential": [
            [
             0,
             "#0d0887"
            ],
            [
             0.1111111111111111,
             "#46039f"
            ],
            [
             0.2222222222222222,
             "#7201a8"
            ],
            [
             0.3333333333333333,
             "#9c179e"
            ],
            [
             0.4444444444444444,
             "#bd3786"
            ],
            [
             0.5555555555555556,
             "#d8576b"
            ],
            [
             0.6666666666666666,
             "#ed7953"
            ],
            [
             0.7777777777777778,
             "#fb9f3a"
            ],
            [
             0.8888888888888888,
             "#fdca26"
            ],
            [
             1,
             "#f0f921"
            ]
           ],
           "sequentialminus": [
            [
             0,
             "#0d0887"
            ],
            [
             0.1111111111111111,
             "#46039f"
            ],
            [
             0.2222222222222222,
             "#7201a8"
            ],
            [
             0.3333333333333333,
             "#9c179e"
            ],
            [
             0.4444444444444444,
             "#bd3786"
            ],
            [
             0.5555555555555556,
             "#d8576b"
            ],
            [
             0.6666666666666666,
             "#ed7953"
            ],
            [
             0.7777777777777778,
             "#fb9f3a"
            ],
            [
             0.8888888888888888,
             "#fdca26"
            ],
            [
             1,
             "#f0f921"
            ]
           ]
          },
          "colorway": [
           "#636efa",
           "#EF553B",
           "#00cc96",
           "#ab63fa",
           "#FFA15A",
           "#19d3f3",
           "#FF6692",
           "#B6E880",
           "#FF97FF",
           "#FECB52"
          ],
          "font": {
           "color": "#f2f5fa"
          },
          "geo": {
           "bgcolor": "rgb(17,17,17)",
           "lakecolor": "rgb(17,17,17)",
           "landcolor": "rgb(17,17,17)",
           "showlakes": true,
           "showland": true,
           "subunitcolor": "#506784"
          },
          "hoverlabel": {
           "align": "left"
          },
          "hovermode": "closest",
          "mapbox": {
           "style": "dark"
          },
          "paper_bgcolor": "rgb(17,17,17)",
          "plot_bgcolor": "rgb(17,17,17)",
          "polar": {
           "angularaxis": {
            "gridcolor": "#506784",
            "linecolor": "#506784",
            "ticks": ""
           },
           "bgcolor": "rgb(17,17,17)",
           "radialaxis": {
            "gridcolor": "#506784",
            "linecolor": "#506784",
            "ticks": ""
           }
          },
          "scene": {
           "xaxis": {
            "backgroundcolor": "rgb(17,17,17)",
            "gridcolor": "#506784",
            "gridwidth": 2,
            "linecolor": "#506784",
            "showbackground": true,
            "ticks": "",
            "zerolinecolor": "#C8D4E3"
           },
           "yaxis": {
            "backgroundcolor": "rgb(17,17,17)",
            "gridcolor": "#506784",
            "gridwidth": 2,
            "linecolor": "#506784",
            "showbackground": true,
            "ticks": "",
            "zerolinecolor": "#C8D4E3"
           },
           "zaxis": {
            "backgroundcolor": "rgb(17,17,17)",
            "gridcolor": "#506784",
            "gridwidth": 2,
            "linecolor": "#506784",
            "showbackground": true,
            "ticks": "",
            "zerolinecolor": "#C8D4E3"
           }
          },
          "shapedefaults": {
           "line": {
            "color": "#f2f5fa"
           }
          },
          "sliderdefaults": {
           "bgcolor": "#C8D4E3",
           "bordercolor": "rgb(17,17,17)",
           "borderwidth": 1,
           "tickwidth": 0
          },
          "ternary": {
           "aaxis": {
            "gridcolor": "#506784",
            "linecolor": "#506784",
            "ticks": ""
           },
           "baxis": {
            "gridcolor": "#506784",
            "linecolor": "#506784",
            "ticks": ""
           },
           "bgcolor": "rgb(17,17,17)",
           "caxis": {
            "gridcolor": "#506784",
            "linecolor": "#506784",
            "ticks": ""
           }
          },
          "title": {
           "x": 0.05
          },
          "updatemenudefaults": {
           "bgcolor": "#506784",
           "borderwidth": 0
          },
          "xaxis": {
           "automargin": true,
           "gridcolor": "#283442",
           "linecolor": "#506784",
           "ticks": "",
           "title": {
            "standoff": 15
           },
           "zerolinecolor": "#283442",
           "zerolinewidth": 2
          },
          "yaxis": {
           "automargin": true,
           "gridcolor": "#283442",
           "linecolor": "#506784",
           "ticks": "",
           "title": {
            "standoff": 15
           },
           "zerolinecolor": "#283442",
           "zerolinewidth": 2
          }
         }
        },
        "title": {
         "text": "Average Number of Goals by Year"
        },
        "xaxis": {
         "anchor": "y",
         "domain": [
          0,
          1
         ],
         "title": {
          "text": "Season"
         }
        },
        "yaxis": {
         "anchor": "x",
         "domain": [
          0,
          1
         ],
         "title": {
          "text": "value"
         }
        }
       }
      }
     },
     "metadata": {},
     "output_type": "display_data"
    }
   ],
   "source": [
    "fig4 = px.bar(new_df.groupby('Season')['total_goals'].mean(), title='Average Number of Goals by Year', template= 'plotly_dark')\n",
    "fig4.update_traces(marker_color='orange')\n",
    "fig4.write_image('images/average_goals_season.png')\n",
    "fig4.show()"
   ]
  },
  {
   "cell_type": "code",
   "execution_count": 55,
   "metadata": {},
   "outputs": [
    {
     "ename": "ModuleNotFoundError",
     "evalue": "No module named 'statsmodels'",
     "output_type": "error",
     "traceback": [
      "\u001b[0;31m---------------------------------------------------------------------------\u001b[0m",
      "\u001b[0;31mModuleNotFoundError\u001b[0m                       Traceback (most recent call last)",
      "\u001b[1;32m/home/zain/Documents/UNI/AI/Projects/Football_Prediction/analysis.ipynb Cell 48\u001b[0m in \u001b[0;36m<cell line: 1>\u001b[0;34m()\u001b[0m\n\u001b[0;32m----> <a href='vscode-notebook-cell:/home/zain/Documents/UNI/AI/Projects/Football_Prediction/analysis.ipynb#X65sZmlsZQ%3D%3D?line=0'>1</a>\u001b[0m goals_scatter \u001b[39m=\u001b[39m px\u001b[39m.\u001b[39;49mscatter(new_df\u001b[39m.\u001b[39;49mgroupby(\u001b[39m'\u001b[39;49m\u001b[39mSeason\u001b[39;49m\u001b[39m'\u001b[39;49m)[\u001b[39m'\u001b[39;49m\u001b[39mtotal_fouls\u001b[39;49m\u001b[39m'\u001b[39;49m]\u001b[39m.\u001b[39;49mmean(), title\u001b[39m=\u001b[39;49m\u001b[39m'\u001b[39;49m\u001b[39mAverage Number of fouls per Season\u001b[39;49m\u001b[39m'\u001b[39;49m, template\u001b[39m=\u001b[39;49m \u001b[39m'\u001b[39;49m\u001b[39mplotly_dark\u001b[39;49m\u001b[39m'\u001b[39;49m, trendline \u001b[39m=\u001b[39;49m \u001b[39m'\u001b[39;49m\u001b[39mols\u001b[39;49m\u001b[39m'\u001b[39;49m)\n\u001b[1;32m      <a href='vscode-notebook-cell:/home/zain/Documents/UNI/AI/Projects/Football_Prediction/analysis.ipynb#X65sZmlsZQ%3D%3D?line=1'>2</a>\u001b[0m goals_scatter\u001b[39m.\u001b[39mupdate_traces(marker_color\u001b[39m=\u001b[39m\u001b[39m'\u001b[39m\u001b[39morange\u001b[39m\u001b[39m'\u001b[39m)\n\u001b[1;32m      <a href='vscode-notebook-cell:/home/zain/Documents/UNI/AI/Projects/Football_Prediction/analysis.ipynb#X65sZmlsZQ%3D%3D?line=2'>3</a>\u001b[0m goals_scatter\u001b[39m.\u001b[39mwrite_image(\u001b[39m'\u001b[39m\u001b[39mimages/average_fouls_season_scatter.png\u001b[39m\u001b[39m'\u001b[39m)\n",
      "File \u001b[0;32m~/miniconda3/lib/python3.9/site-packages/plotly/express/_chart_types.py:66\u001b[0m, in \u001b[0;36mscatter\u001b[0;34m(data_frame, x, y, color, symbol, size, hover_name, hover_data, custom_data, text, facet_row, facet_col, facet_col_wrap, facet_row_spacing, facet_col_spacing, error_x, error_x_minus, error_y, error_y_minus, animation_frame, animation_group, category_orders, labels, orientation, color_discrete_sequence, color_discrete_map, color_continuous_scale, range_color, color_continuous_midpoint, symbol_sequence, symbol_map, opacity, size_max, marginal_x, marginal_y, trendline, trendline_options, trendline_color_override, trendline_scope, log_x, log_y, range_x, range_y, render_mode, title, template, width, height)\u001b[0m\n\u001b[1;32m     12\u001b[0m \u001b[39mdef\u001b[39;00m \u001b[39mscatter\u001b[39m(\n\u001b[1;32m     13\u001b[0m     data_frame\u001b[39m=\u001b[39m\u001b[39mNone\u001b[39;00m,\n\u001b[1;32m     14\u001b[0m     x\u001b[39m=\u001b[39m\u001b[39mNone\u001b[39;00m,\n\u001b[0;32m   (...)\u001b[0m\n\u001b[1;32m     60\u001b[0m     height\u001b[39m=\u001b[39m\u001b[39mNone\u001b[39;00m,\n\u001b[1;32m     61\u001b[0m ) \u001b[39m-\u001b[39m\u001b[39m>\u001b[39m go\u001b[39m.\u001b[39mFigure:\n\u001b[1;32m     62\u001b[0m     \u001b[39m\"\"\"\u001b[39;00m\n\u001b[1;32m     63\u001b[0m \u001b[39m    In a scatter plot, each row of `data_frame` is represented by a symbol\u001b[39;00m\n\u001b[1;32m     64\u001b[0m \u001b[39m    mark in 2D space.\u001b[39;00m\n\u001b[1;32m     65\u001b[0m \u001b[39m    \"\"\"\u001b[39;00m\n\u001b[0;32m---> 66\u001b[0m     \u001b[39mreturn\u001b[39;00m make_figure(args\u001b[39m=\u001b[39;49m\u001b[39mlocals\u001b[39;49m(), constructor\u001b[39m=\u001b[39;49mgo\u001b[39m.\u001b[39;49mScatter)\n",
      "File \u001b[0;32m~/miniconda3/lib/python3.9/site-packages/plotly/express/_core.py:2167\u001b[0m, in \u001b[0;36mmake_figure\u001b[0;34m(args, constructor, trace_patch, layout_patch)\u001b[0m\n\u001b[1;32m   2164\u001b[0m     \u001b[39melif\u001b[39;00m args[\u001b[39m\"\u001b[39m\u001b[39mecdfnorm\u001b[39m\u001b[39m\"\u001b[39m] \u001b[39m==\u001b[39m \u001b[39m\"\u001b[39m\u001b[39mpercent\u001b[39m\u001b[39m\"\u001b[39m:\n\u001b[1;32m   2165\u001b[0m         group[var] \u001b[39m=\u001b[39m \u001b[39m100.0\u001b[39m \u001b[39m*\u001b[39m group[var] \u001b[39m/\u001b[39m group_sum\n\u001b[0;32m-> 2167\u001b[0m patch, fit_results \u001b[39m=\u001b[39m make_trace_kwargs(\n\u001b[1;32m   2168\u001b[0m     args, trace_spec, group, mapping_labels\u001b[39m.\u001b[39;49mcopy(), sizeref\n\u001b[1;32m   2169\u001b[0m )\n\u001b[1;32m   2170\u001b[0m trace\u001b[39m.\u001b[39mupdate(patch)\n\u001b[1;32m   2171\u001b[0m \u001b[39mif\u001b[39;00m fit_results \u001b[39mis\u001b[39;00m \u001b[39mnot\u001b[39;00m \u001b[39mNone\u001b[39;00m:\n",
      "File \u001b[0;32m~/miniconda3/lib/python3.9/site-packages/plotly/express/_core.py:358\u001b[0m, in \u001b[0;36mmake_trace_kwargs\u001b[0;34m(args, trace_spec, trace_data, mapping_labels, sizeref)\u001b[0m\n\u001b[1;32m    356\u001b[0m trace_patch[\u001b[39m\"\u001b[39m\u001b[39mx\u001b[39m\u001b[39m\"\u001b[39m] \u001b[39m=\u001b[39m sorted_trace_data[args[\u001b[39m\"\u001b[39m\u001b[39mx\u001b[39m\u001b[39m\"\u001b[39m]][non_missing]\n\u001b[1;32m    357\u001b[0m trendline_function \u001b[39m=\u001b[39m trendline_functions[attr_value]\n\u001b[0;32m--> 358\u001b[0m y_out, hover_header, fit_results \u001b[39m=\u001b[39m trendline_function(\n\u001b[1;32m    359\u001b[0m     args[\u001b[39m\"\u001b[39;49m\u001b[39mtrendline_options\u001b[39;49m\u001b[39m\"\u001b[39;49m],\n\u001b[1;32m    360\u001b[0m     sorted_trace_data[args[\u001b[39m\"\u001b[39;49m\u001b[39mx\u001b[39;49m\u001b[39m\"\u001b[39;49m]],\n\u001b[1;32m    361\u001b[0m     x,\n\u001b[1;32m    362\u001b[0m     y,\n\u001b[1;32m    363\u001b[0m     args[\u001b[39m\"\u001b[39;49m\u001b[39mx\u001b[39;49m\u001b[39m\"\u001b[39;49m],\n\u001b[1;32m    364\u001b[0m     args[\u001b[39m\"\u001b[39;49m\u001b[39my\u001b[39;49m\u001b[39m\"\u001b[39;49m],\n\u001b[1;32m    365\u001b[0m     non_missing,\n\u001b[1;32m    366\u001b[0m )\n\u001b[1;32m    367\u001b[0m \u001b[39massert\u001b[39;00m \u001b[39mlen\u001b[39m(y_out) \u001b[39m==\u001b[39m \u001b[39mlen\u001b[39m(\n\u001b[1;32m    368\u001b[0m     trace_patch[\u001b[39m\"\u001b[39m\u001b[39mx\u001b[39m\u001b[39m\"\u001b[39m]\n\u001b[1;32m    369\u001b[0m ), \u001b[39m\"\u001b[39m\u001b[39mmissing-data-handling failure in trendline code\u001b[39m\u001b[39m\"\u001b[39m\n\u001b[1;32m    370\u001b[0m trace_patch[\u001b[39m\"\u001b[39m\u001b[39my\u001b[39m\u001b[39m\"\u001b[39m] \u001b[39m=\u001b[39m y_out\n",
      "File \u001b[0;32m~/miniconda3/lib/python3.9/site-packages/plotly/express/trendline_functions/__init__.py:43\u001b[0m, in \u001b[0;36mols\u001b[0;34m(trendline_options, x_raw, x, y, x_label, y_label, non_missing)\u001b[0m\n\u001b[1;32m     37\u001b[0m     \u001b[39mif\u001b[39;00m k \u001b[39mnot\u001b[39;00m \u001b[39min\u001b[39;00m valid_options:\n\u001b[1;32m     38\u001b[0m         \u001b[39mraise\u001b[39;00m \u001b[39mValueError\u001b[39;00m(\n\u001b[1;32m     39\u001b[0m             \u001b[39m\"\u001b[39m\u001b[39mOLS trendline_options keys must be one of [\u001b[39m\u001b[39m%s\u001b[39;00m\u001b[39m] but got \u001b[39m\u001b[39m'\u001b[39m\u001b[39m%s\u001b[39;00m\u001b[39m'\u001b[39m\u001b[39m\"\u001b[39m\n\u001b[1;32m     40\u001b[0m             \u001b[39m%\u001b[39m (\u001b[39m\"\u001b[39m\u001b[39m, \u001b[39m\u001b[39m\"\u001b[39m\u001b[39m.\u001b[39mjoin(valid_options), k)\n\u001b[1;32m     41\u001b[0m         )\n\u001b[0;32m---> 43\u001b[0m \u001b[39mimport\u001b[39;00m \u001b[39mstatsmodels\u001b[39;00m\u001b[39m.\u001b[39;00m\u001b[39mapi\u001b[39;00m \u001b[39mas\u001b[39;00m \u001b[39msm\u001b[39;00m\n\u001b[1;32m     45\u001b[0m add_constant \u001b[39m=\u001b[39m trendline_options\u001b[39m.\u001b[39mget(\u001b[39m\"\u001b[39m\u001b[39madd_constant\u001b[39m\u001b[39m\"\u001b[39m, \u001b[39mTrue\u001b[39;00m)\n\u001b[1;32m     46\u001b[0m log_x \u001b[39m=\u001b[39m trendline_options\u001b[39m.\u001b[39mget(\u001b[39m\"\u001b[39m\u001b[39mlog_x\u001b[39m\u001b[39m\"\u001b[39m, \u001b[39mFalse\u001b[39;00m)\n",
      "\u001b[0;31mModuleNotFoundError\u001b[0m: No module named 'statsmodels'"
     ]
    }
   ],
   "source": [
    "goals_scatter = px.scatter(new_df.groupby('Season')['total_fouls'].mean(), title='Average Number of fouls per Season', template= 'plotly_dark')\n",
    "goals_scatter.update_traces(marker_color='orange')\n",
    "goals_scatter.write_image('images/average_fouls_season_scatter.png')\n",
    "goals_scatter.show()"
   ]
  },
  {
   "cell_type": "code",
   "execution_count": 49,
   "metadata": {},
   "outputs": [
    {
     "data": {
      "application/vnd.plotly.v1+json": {
       "config": {
        "plotlyServerURL": "https://plot.ly"
       },
       "data": [
        {
         "hovertemplate": "variable=total_goals<br>Season=%{x}<br>value=%{y}<extra></extra>",
         "legendgroup": "total_goals",
         "marker": {
          "color": "orange",
          "symbol": "circle"
         },
         "mode": "markers",
         "name": "total_goals",
         "orientation": "v",
         "showlegend": true,
         "type": "scatter",
         "x": [
          1990,
          1991,
          1992,
          1993,
          1994,
          1995,
          1996,
          1997,
          1998,
          1999,
          2000,
          2001,
          2002,
          2003,
          2004,
          2005,
          2006,
          2007,
          2008,
          2009,
          2010,
          2011,
          2012,
          2013,
          2014,
          2015,
          2016,
          2017,
          2018,
          2019,
          2020,
          2021
         ],
         "xaxis": "x",
         "y": [
          2.502419842710224,
          2.4685333333333332,
          2.4279661016949152,
          2.590745501285347,
          2.566666666666667,
          2.5958549222797926,
          2.5089149261334693,
          2.5748054194292305,
          2.616887417218543,
          2.595145631067961,
          2.614772103239978,
          2.621504756413952,
          2.585985802610488,
          2.5145118733509233,
          2.537739965095986,
          2.4152486910994764,
          2.4358593363051013,
          2.4871923656454045,
          2.569060773480663,
          2.561275740833752,
          2.5881466599698646,
          2.6212958312405825,
          2.680929741151611,
          2.6958710976837863,
          2.631102164066432,
          2.5522535908865773,
          2.5861131702495674,
          2.606622189276007,
          2.6825592885375493,
          2.6827094474153297,
          2.6572668112798263,
          2.5643989431968297
         ],
         "yaxis": "y"
        }
       ],
       "layout": {
        "legend": {
         "title": {
          "text": "variable"
         },
         "tracegroupgap": 0
        },
        "template": {
         "data": {
          "bar": [
           {
            "error_x": {
             "color": "#f2f5fa"
            },
            "error_y": {
             "color": "#f2f5fa"
            },
            "marker": {
             "line": {
              "color": "rgb(17,17,17)",
              "width": 0.5
             },
             "pattern": {
              "fillmode": "overlay",
              "size": 10,
              "solidity": 0.2
             }
            },
            "type": "bar"
           }
          ],
          "barpolar": [
           {
            "marker": {
             "line": {
              "color": "rgb(17,17,17)",
              "width": 0.5
             },
             "pattern": {
              "fillmode": "overlay",
              "size": 10,
              "solidity": 0.2
             }
            },
            "type": "barpolar"
           }
          ],
          "carpet": [
           {
            "aaxis": {
             "endlinecolor": "#A2B1C6",
             "gridcolor": "#506784",
             "linecolor": "#506784",
             "minorgridcolor": "#506784",
             "startlinecolor": "#A2B1C6"
            },
            "baxis": {
             "endlinecolor": "#A2B1C6",
             "gridcolor": "#506784",
             "linecolor": "#506784",
             "minorgridcolor": "#506784",
             "startlinecolor": "#A2B1C6"
            },
            "type": "carpet"
           }
          ],
          "choropleth": [
           {
            "colorbar": {
             "outlinewidth": 0,
             "ticks": ""
            },
            "type": "choropleth"
           }
          ],
          "contour": [
           {
            "colorbar": {
             "outlinewidth": 0,
             "ticks": ""
            },
            "colorscale": [
             [
              0,
              "#0d0887"
             ],
             [
              0.1111111111111111,
              "#46039f"
             ],
             [
              0.2222222222222222,
              "#7201a8"
             ],
             [
              0.3333333333333333,
              "#9c179e"
             ],
             [
              0.4444444444444444,
              "#bd3786"
             ],
             [
              0.5555555555555556,
              "#d8576b"
             ],
             [
              0.6666666666666666,
              "#ed7953"
             ],
             [
              0.7777777777777778,
              "#fb9f3a"
             ],
             [
              0.8888888888888888,
              "#fdca26"
             ],
             [
              1,
              "#f0f921"
             ]
            ],
            "type": "contour"
           }
          ],
          "contourcarpet": [
           {
            "colorbar": {
             "outlinewidth": 0,
             "ticks": ""
            },
            "type": "contourcarpet"
           }
          ],
          "heatmap": [
           {
            "colorbar": {
             "outlinewidth": 0,
             "ticks": ""
            },
            "colorscale": [
             [
              0,
              "#0d0887"
             ],
             [
              0.1111111111111111,
              "#46039f"
             ],
             [
              0.2222222222222222,
              "#7201a8"
             ],
             [
              0.3333333333333333,
              "#9c179e"
             ],
             [
              0.4444444444444444,
              "#bd3786"
             ],
             [
              0.5555555555555556,
              "#d8576b"
             ],
             [
              0.6666666666666666,
              "#ed7953"
             ],
             [
              0.7777777777777778,
              "#fb9f3a"
             ],
             [
              0.8888888888888888,
              "#fdca26"
             ],
             [
              1,
              "#f0f921"
             ]
            ],
            "type": "heatmap"
           }
          ],
          "heatmapgl": [
           {
            "colorbar": {
             "outlinewidth": 0,
             "ticks": ""
            },
            "colorscale": [
             [
              0,
              "#0d0887"
             ],
             [
              0.1111111111111111,
              "#46039f"
             ],
             [
              0.2222222222222222,
              "#7201a8"
             ],
             [
              0.3333333333333333,
              "#9c179e"
             ],
             [
              0.4444444444444444,
              "#bd3786"
             ],
             [
              0.5555555555555556,
              "#d8576b"
             ],
             [
              0.6666666666666666,
              "#ed7953"
             ],
             [
              0.7777777777777778,
              "#fb9f3a"
             ],
             [
              0.8888888888888888,
              "#fdca26"
             ],
             [
              1,
              "#f0f921"
             ]
            ],
            "type": "heatmapgl"
           }
          ],
          "histogram": [
           {
            "marker": {
             "pattern": {
              "fillmode": "overlay",
              "size": 10,
              "solidity": 0.2
             }
            },
            "type": "histogram"
           }
          ],
          "histogram2d": [
           {
            "colorbar": {
             "outlinewidth": 0,
             "ticks": ""
            },
            "colorscale": [
             [
              0,
              "#0d0887"
             ],
             [
              0.1111111111111111,
              "#46039f"
             ],
             [
              0.2222222222222222,
              "#7201a8"
             ],
             [
              0.3333333333333333,
              "#9c179e"
             ],
             [
              0.4444444444444444,
              "#bd3786"
             ],
             [
              0.5555555555555556,
              "#d8576b"
             ],
             [
              0.6666666666666666,
              "#ed7953"
             ],
             [
              0.7777777777777778,
              "#fb9f3a"
             ],
             [
              0.8888888888888888,
              "#fdca26"
             ],
             [
              1,
              "#f0f921"
             ]
            ],
            "type": "histogram2d"
           }
          ],
          "histogram2dcontour": [
           {
            "colorbar": {
             "outlinewidth": 0,
             "ticks": ""
            },
            "colorscale": [
             [
              0,
              "#0d0887"
             ],
             [
              0.1111111111111111,
              "#46039f"
             ],
             [
              0.2222222222222222,
              "#7201a8"
             ],
             [
              0.3333333333333333,
              "#9c179e"
             ],
             [
              0.4444444444444444,
              "#bd3786"
             ],
             [
              0.5555555555555556,
              "#d8576b"
             ],
             [
              0.6666666666666666,
              "#ed7953"
             ],
             [
              0.7777777777777778,
              "#fb9f3a"
             ],
             [
              0.8888888888888888,
              "#fdca26"
             ],
             [
              1,
              "#f0f921"
             ]
            ],
            "type": "histogram2dcontour"
           }
          ],
          "mesh3d": [
           {
            "colorbar": {
             "outlinewidth": 0,
             "ticks": ""
            },
            "type": "mesh3d"
           }
          ],
          "parcoords": [
           {
            "line": {
             "colorbar": {
              "outlinewidth": 0,
              "ticks": ""
             }
            },
            "type": "parcoords"
           }
          ],
          "pie": [
           {
            "automargin": true,
            "type": "pie"
           }
          ],
          "scatter": [
           {
            "marker": {
             "line": {
              "color": "#283442"
             }
            },
            "type": "scatter"
           }
          ],
          "scatter3d": [
           {
            "line": {
             "colorbar": {
              "outlinewidth": 0,
              "ticks": ""
             }
            },
            "marker": {
             "colorbar": {
              "outlinewidth": 0,
              "ticks": ""
             }
            },
            "type": "scatter3d"
           }
          ],
          "scattercarpet": [
           {
            "marker": {
             "colorbar": {
              "outlinewidth": 0,
              "ticks": ""
             }
            },
            "type": "scattercarpet"
           }
          ],
          "scattergeo": [
           {
            "marker": {
             "colorbar": {
              "outlinewidth": 0,
              "ticks": ""
             }
            },
            "type": "scattergeo"
           }
          ],
          "scattergl": [
           {
            "marker": {
             "line": {
              "color": "#283442"
             }
            },
            "type": "scattergl"
           }
          ],
          "scattermapbox": [
           {
            "marker": {
             "colorbar": {
              "outlinewidth": 0,
              "ticks": ""
             }
            },
            "type": "scattermapbox"
           }
          ],
          "scatterpolar": [
           {
            "marker": {
             "colorbar": {
              "outlinewidth": 0,
              "ticks": ""
             }
            },
            "type": "scatterpolar"
           }
          ],
          "scatterpolargl": [
           {
            "marker": {
             "colorbar": {
              "outlinewidth": 0,
              "ticks": ""
             }
            },
            "type": "scatterpolargl"
           }
          ],
          "scatterternary": [
           {
            "marker": {
             "colorbar": {
              "outlinewidth": 0,
              "ticks": ""
             }
            },
            "type": "scatterternary"
           }
          ],
          "surface": [
           {
            "colorbar": {
             "outlinewidth": 0,
             "ticks": ""
            },
            "colorscale": [
             [
              0,
              "#0d0887"
             ],
             [
              0.1111111111111111,
              "#46039f"
             ],
             [
              0.2222222222222222,
              "#7201a8"
             ],
             [
              0.3333333333333333,
              "#9c179e"
             ],
             [
              0.4444444444444444,
              "#bd3786"
             ],
             [
              0.5555555555555556,
              "#d8576b"
             ],
             [
              0.6666666666666666,
              "#ed7953"
             ],
             [
              0.7777777777777778,
              "#fb9f3a"
             ],
             [
              0.8888888888888888,
              "#fdca26"
             ],
             [
              1,
              "#f0f921"
             ]
            ],
            "type": "surface"
           }
          ],
          "table": [
           {
            "cells": {
             "fill": {
              "color": "#506784"
             },
             "line": {
              "color": "rgb(17,17,17)"
             }
            },
            "header": {
             "fill": {
              "color": "#2a3f5f"
             },
             "line": {
              "color": "rgb(17,17,17)"
             }
            },
            "type": "table"
           }
          ]
         },
         "layout": {
          "annotationdefaults": {
           "arrowcolor": "#f2f5fa",
           "arrowhead": 0,
           "arrowwidth": 1
          },
          "autotypenumbers": "strict",
          "coloraxis": {
           "colorbar": {
            "outlinewidth": 0,
            "ticks": ""
           }
          },
          "colorscale": {
           "diverging": [
            [
             0,
             "#8e0152"
            ],
            [
             0.1,
             "#c51b7d"
            ],
            [
             0.2,
             "#de77ae"
            ],
            [
             0.3,
             "#f1b6da"
            ],
            [
             0.4,
             "#fde0ef"
            ],
            [
             0.5,
             "#f7f7f7"
            ],
            [
             0.6,
             "#e6f5d0"
            ],
            [
             0.7,
             "#b8e186"
            ],
            [
             0.8,
             "#7fbc41"
            ],
            [
             0.9,
             "#4d9221"
            ],
            [
             1,
             "#276419"
            ]
           ],
           "sequential": [
            [
             0,
             "#0d0887"
            ],
            [
             0.1111111111111111,
             "#46039f"
            ],
            [
             0.2222222222222222,
             "#7201a8"
            ],
            [
             0.3333333333333333,
             "#9c179e"
            ],
            [
             0.4444444444444444,
             "#bd3786"
            ],
            [
             0.5555555555555556,
             "#d8576b"
            ],
            [
             0.6666666666666666,
             "#ed7953"
            ],
            [
             0.7777777777777778,
             "#fb9f3a"
            ],
            [
             0.8888888888888888,
             "#fdca26"
            ],
            [
             1,
             "#f0f921"
            ]
           ],
           "sequentialminus": [
            [
             0,
             "#0d0887"
            ],
            [
             0.1111111111111111,
             "#46039f"
            ],
            [
             0.2222222222222222,
             "#7201a8"
            ],
            [
             0.3333333333333333,
             "#9c179e"
            ],
            [
             0.4444444444444444,
             "#bd3786"
            ],
            [
             0.5555555555555556,
             "#d8576b"
            ],
            [
             0.6666666666666666,
             "#ed7953"
            ],
            [
             0.7777777777777778,
             "#fb9f3a"
            ],
            [
             0.8888888888888888,
             "#fdca26"
            ],
            [
             1,
             "#f0f921"
            ]
           ]
          },
          "colorway": [
           "#636efa",
           "#EF553B",
           "#00cc96",
           "#ab63fa",
           "#FFA15A",
           "#19d3f3",
           "#FF6692",
           "#B6E880",
           "#FF97FF",
           "#FECB52"
          ],
          "font": {
           "color": "#f2f5fa"
          },
          "geo": {
           "bgcolor": "rgb(17,17,17)",
           "lakecolor": "rgb(17,17,17)",
           "landcolor": "rgb(17,17,17)",
           "showlakes": true,
           "showland": true,
           "subunitcolor": "#506784"
          },
          "hoverlabel": {
           "align": "left"
          },
          "hovermode": "closest",
          "mapbox": {
           "style": "dark"
          },
          "paper_bgcolor": "rgb(17,17,17)",
          "plot_bgcolor": "rgb(17,17,17)",
          "polar": {
           "angularaxis": {
            "gridcolor": "#506784",
            "linecolor": "#506784",
            "ticks": ""
           },
           "bgcolor": "rgb(17,17,17)",
           "radialaxis": {
            "gridcolor": "#506784",
            "linecolor": "#506784",
            "ticks": ""
           }
          },
          "scene": {
           "xaxis": {
            "backgroundcolor": "rgb(17,17,17)",
            "gridcolor": "#506784",
            "gridwidth": 2,
            "linecolor": "#506784",
            "showbackground": true,
            "ticks": "",
            "zerolinecolor": "#C8D4E3"
           },
           "yaxis": {
            "backgroundcolor": "rgb(17,17,17)",
            "gridcolor": "#506784",
            "gridwidth": 2,
            "linecolor": "#506784",
            "showbackground": true,
            "ticks": "",
            "zerolinecolor": "#C8D4E3"
           },
           "zaxis": {
            "backgroundcolor": "rgb(17,17,17)",
            "gridcolor": "#506784",
            "gridwidth": 2,
            "linecolor": "#506784",
            "showbackground": true,
            "ticks": "",
            "zerolinecolor": "#C8D4E3"
           }
          },
          "shapedefaults": {
           "line": {
            "color": "#f2f5fa"
           }
          },
          "sliderdefaults": {
           "bgcolor": "#C8D4E3",
           "bordercolor": "rgb(17,17,17)",
           "borderwidth": 1,
           "tickwidth": 0
          },
          "ternary": {
           "aaxis": {
            "gridcolor": "#506784",
            "linecolor": "#506784",
            "ticks": ""
           },
           "baxis": {
            "gridcolor": "#506784",
            "linecolor": "#506784",
            "ticks": ""
           },
           "bgcolor": "rgb(17,17,17)",
           "caxis": {
            "gridcolor": "#506784",
            "linecolor": "#506784",
            "ticks": ""
           }
          },
          "title": {
           "x": 0.05
          },
          "updatemenudefaults": {
           "bgcolor": "#506784",
           "borderwidth": 0
          },
          "xaxis": {
           "automargin": true,
           "gridcolor": "#283442",
           "linecolor": "#506784",
           "ticks": "",
           "title": {
            "standoff": 15
           },
           "zerolinecolor": "#283442",
           "zerolinewidth": 2
          },
          "yaxis": {
           "automargin": true,
           "gridcolor": "#283442",
           "linecolor": "#506784",
           "ticks": "",
           "title": {
            "standoff": 15
           },
           "zerolinecolor": "#283442",
           "zerolinewidth": 2
          }
         }
        },
        "title": {
         "text": "Average Number of Goals by Season"
        },
        "xaxis": {
         "anchor": "y",
         "domain": [
          0,
          1
         ],
         "title": {
          "text": "Season"
         }
        },
        "yaxis": {
         "anchor": "x",
         "domain": [
          0,
          1
         ],
         "title": {
          "text": "value"
         }
        }
       }
      }
     },
     "metadata": {},
     "output_type": "display_data"
    }
   ],
   "source": [
    "goals_season_scatter = px.scatter(new_df.groupby('Season')['total_goals'].mean(), title='Average Number of Goals by Season', template= 'plotly_dark')\n",
    "goals_season_scatter .update_traces(marker_color='orange')\n",
    "goals_season_scatter .write_image('images/average_goals_season_scatter.png')\n",
    "goals_season_scatter .show()"
   ]
  },
  {
   "cell_type": "code",
   "execution_count": 50,
   "metadata": {},
   "outputs": [
    {
     "data": {
      "text/html": [
       "<div>\n",
       "<style scoped>\n",
       "    .dataframe tbody tr th:only-of-type {\n",
       "        vertical-align: middle;\n",
       "    }\n",
       "\n",
       "    .dataframe tbody tr th {\n",
       "        vertical-align: top;\n",
       "    }\n",
       "\n",
       "    .dataframe thead th {\n",
       "        text-align: right;\n",
       "    }\n",
       "</style>\n",
       "<table border=\"1\" class=\"dataframe\">\n",
       "  <thead>\n",
       "    <tr style=\"text-align: right;\">\n",
       "      <th></th>\n",
       "      <th>Home_Yellow</th>\n",
       "      <th>Home_Red</th>\n",
       "      <th>Away_Yellow</th>\n",
       "      <th>Away_Red</th>\n",
       "      <th>Home_Score</th>\n",
       "      <th>Away_Score</th>\n",
       "      <th>Result_Num</th>\n",
       "      <th>total_goals</th>\n",
       "      <th>total_fouls</th>\n",
       "    </tr>\n",
       "    <tr>\n",
       "      <th>Season</th>\n",
       "      <th></th>\n",
       "      <th></th>\n",
       "      <th></th>\n",
       "      <th></th>\n",
       "      <th></th>\n",
       "      <th></th>\n",
       "      <th></th>\n",
       "      <th></th>\n",
       "      <th></th>\n",
       "    </tr>\n",
       "  </thead>\n",
       "  <tbody>\n",
       "    <tr>\n",
       "      <th>1990</th>\n",
       "      <td>1925.0</td>\n",
       "      <td>49.0</td>\n",
       "      <td>2697.0</td>\n",
       "      <td>115.0</td>\n",
       "      <td>5106.0</td>\n",
       "      <td>3167.0</td>\n",
       "      <td>911.0</td>\n",
       "      <td>8273.0</td>\n",
       "      <td>4786.0</td>\n",
       "    </tr>\n",
       "    <tr>\n",
       "      <th>1991</th>\n",
       "      <td>2564.0</td>\n",
       "      <td>85.0</td>\n",
       "      <td>3489.0</td>\n",
       "      <td>170.0</td>\n",
       "      <td>5725.0</td>\n",
       "      <td>3532.0</td>\n",
       "      <td>1058.0</td>\n",
       "      <td>9257.0</td>\n",
       "      <td>6308.0</td>\n",
       "    </tr>\n",
       "    <tr>\n",
       "      <th>1992</th>\n",
       "      <td>2112.0</td>\n",
       "      <td>93.0</td>\n",
       "      <td>2861.0</td>\n",
       "      <td>157.0</td>\n",
       "      <td>5228.0</td>\n",
       "      <td>3367.0</td>\n",
       "      <td>911.0</td>\n",
       "      <td>8595.0</td>\n",
       "      <td>5223.0</td>\n",
       "    </tr>\n",
       "    <tr>\n",
       "      <th>1993</th>\n",
       "      <td>3434.0</td>\n",
       "      <td>109.0</td>\n",
       "      <td>4614.0</td>\n",
       "      <td>198.0</td>\n",
       "      <td>6122.0</td>\n",
       "      <td>3956.0</td>\n",
       "      <td>967.0</td>\n",
       "      <td>10078.0</td>\n",
       "      <td>8355.0</td>\n",
       "    </tr>\n",
       "    <tr>\n",
       "      <th>1994</th>\n",
       "      <td>3099.0</td>\n",
       "      <td>89.0</td>\n",
       "      <td>4241.0</td>\n",
       "      <td>177.0</td>\n",
       "      <td>5768.0</td>\n",
       "      <td>3780.0</td>\n",
       "      <td>962.0</td>\n",
       "      <td>9548.0</td>\n",
       "      <td>7606.0</td>\n",
       "    </tr>\n",
       "    <tr>\n",
       "      <th>1995</th>\n",
       "      <td>3571.0</td>\n",
       "      <td>183.0</td>\n",
       "      <td>4665.0</td>\n",
       "      <td>321.0</td>\n",
       "      <td>5465.0</td>\n",
       "      <td>3553.0</td>\n",
       "      <td>847.0</td>\n",
       "      <td>9018.0</td>\n",
       "      <td>8740.0</td>\n",
       "    </tr>\n",
       "    <tr>\n",
       "      <th>1996</th>\n",
       "      <td>3724.0</td>\n",
       "      <td>243.0</td>\n",
       "      <td>4787.0</td>\n",
       "      <td>366.0</td>\n",
       "      <td>5959.0</td>\n",
       "      <td>3891.0</td>\n",
       "      <td>981.0</td>\n",
       "      <td>9850.0</td>\n",
       "      <td>9120.0</td>\n",
       "    </tr>\n",
       "    <tr>\n",
       "      <th>1997</th>\n",
       "      <td>3817.0</td>\n",
       "      <td>194.0</td>\n",
       "      <td>5031.0</td>\n",
       "      <td>296.0</td>\n",
       "      <td>5345.0</td>\n",
       "      <td>3587.0</td>\n",
       "      <td>779.0</td>\n",
       "      <td>8932.0</td>\n",
       "      <td>9338.0</td>\n",
       "    </tr>\n",
       "    <tr>\n",
       "      <th>1998</th>\n",
       "      <td>4383.0</td>\n",
       "      <td>142.0</td>\n",
       "      <td>5743.0</td>\n",
       "      <td>196.0</td>\n",
       "      <td>4684.0</td>\n",
       "      <td>3219.0</td>\n",
       "      <td>691.0</td>\n",
       "      <td>7903.0</td>\n",
       "      <td>10464.0</td>\n",
       "    </tr>\n",
       "    <tr>\n",
       "      <th>1999</th>\n",
       "      <td>4818.0</td>\n",
       "      <td>142.0</td>\n",
       "      <td>6032.0</td>\n",
       "      <td>207.0</td>\n",
       "      <td>4748.0</td>\n",
       "      <td>3271.0</td>\n",
       "      <td>707.0</td>\n",
       "      <td>8019.0</td>\n",
       "      <td>11199.0</td>\n",
       "    </tr>\n",
       "    <tr>\n",
       "      <th>2000</th>\n",
       "      <td>5460.0</td>\n",
       "      <td>156.0</td>\n",
       "      <td>6882.0</td>\n",
       "      <td>227.0</td>\n",
       "      <td>5659.0</td>\n",
       "      <td>3864.0</td>\n",
       "      <td>852.0</td>\n",
       "      <td>9523.0</td>\n",
       "      <td>12725.0</td>\n",
       "    </tr>\n",
       "    <tr>\n",
       "      <th>2001</th>\n",
       "      <td>5583.0</td>\n",
       "      <td>156.0</td>\n",
       "      <td>6873.0</td>\n",
       "      <td>231.0</td>\n",
       "      <td>5426.0</td>\n",
       "      <td>3668.0</td>\n",
       "      <td>851.0</td>\n",
       "      <td>9094.0</td>\n",
       "      <td>12843.0</td>\n",
       "    </tr>\n",
       "    <tr>\n",
       "      <th>2002</th>\n",
       "      <td>6760.0</td>\n",
       "      <td>216.0</td>\n",
       "      <td>8620.0</td>\n",
       "      <td>308.0</td>\n",
       "      <td>6655.0</td>\n",
       "      <td>4638.0</td>\n",
       "      <td>959.0</td>\n",
       "      <td>11293.0</td>\n",
       "      <td>15904.0</td>\n",
       "    </tr>\n",
       "    <tr>\n",
       "      <th>2003</th>\n",
       "      <td>5584.0</td>\n",
       "      <td>173.0</td>\n",
       "      <td>7112.0</td>\n",
       "      <td>283.0</td>\n",
       "      <td>5551.0</td>\n",
       "      <td>3979.0</td>\n",
       "      <td>807.0</td>\n",
       "      <td>9530.0</td>\n",
       "      <td>13152.0</td>\n",
       "    </tr>\n",
       "    <tr>\n",
       "      <th>2004</th>\n",
       "      <td>7130.0</td>\n",
       "      <td>221.0</td>\n",
       "      <td>8737.0</td>\n",
       "      <td>351.0</td>\n",
       "      <td>6775.0</td>\n",
       "      <td>4858.0</td>\n",
       "      <td>944.0</td>\n",
       "      <td>11633.0</td>\n",
       "      <td>16439.0</td>\n",
       "    </tr>\n",
       "    <tr>\n",
       "      <th>2005</th>\n",
       "      <td>4789.0</td>\n",
       "      <td>143.0</td>\n",
       "      <td>5952.0</td>\n",
       "      <td>198.0</td>\n",
       "      <td>4317.0</td>\n",
       "      <td>3064.0</td>\n",
       "      <td>661.0</td>\n",
       "      <td>7381.0</td>\n",
       "      <td>11082.0</td>\n",
       "    </tr>\n",
       "    <tr>\n",
       "      <th>2006</th>\n",
       "      <td>6607.0</td>\n",
       "      <td>218.0</td>\n",
       "      <td>8100.0</td>\n",
       "      <td>286.0</td>\n",
       "      <td>5702.0</td>\n",
       "      <td>4134.0</td>\n",
       "      <td>797.0</td>\n",
       "      <td>9836.0</td>\n",
       "      <td>15211.0</td>\n",
       "    </tr>\n",
       "    <tr>\n",
       "      <th>2007</th>\n",
       "      <td>6662.0</td>\n",
       "      <td>224.0</td>\n",
       "      <td>8115.0</td>\n",
       "      <td>289.0</td>\n",
       "      <td>5735.0</td>\n",
       "      <td>4169.0</td>\n",
       "      <td>822.0</td>\n",
       "      <td>9904.0</td>\n",
       "      <td>15290.0</td>\n",
       "    </tr>\n",
       "    <tr>\n",
       "      <th>2008</th>\n",
       "      <td>6286.0</td>\n",
       "      <td>187.0</td>\n",
       "      <td>7803.0</td>\n",
       "      <td>256.0</td>\n",
       "      <td>5975.0</td>\n",
       "      <td>4255.0</td>\n",
       "      <td>798.0</td>\n",
       "      <td>10230.0</td>\n",
       "      <td>14532.0</td>\n",
       "    </tr>\n",
       "    <tr>\n",
       "      <th>2009</th>\n",
       "      <td>6539.0</td>\n",
       "      <td>214.0</td>\n",
       "      <td>7832.0</td>\n",
       "      <td>224.0</td>\n",
       "      <td>5918.0</td>\n",
       "      <td>4281.0</td>\n",
       "      <td>806.0</td>\n",
       "      <td>10199.0</td>\n",
       "      <td>14809.0</td>\n",
       "    </tr>\n",
       "    <tr>\n",
       "      <th>2010</th>\n",
       "      <td>6431.0</td>\n",
       "      <td>190.0</td>\n",
       "      <td>7871.0</td>\n",
       "      <td>252.0</td>\n",
       "      <td>5953.0</td>\n",
       "      <td>4353.0</td>\n",
       "      <td>815.0</td>\n",
       "      <td>10306.0</td>\n",
       "      <td>14744.0</td>\n",
       "    </tr>\n",
       "    <tr>\n",
       "      <th>2011</th>\n",
       "      <td>6376.0</td>\n",
       "      <td>199.0</td>\n",
       "      <td>7675.0</td>\n",
       "      <td>249.0</td>\n",
       "      <td>6094.0</td>\n",
       "      <td>4344.0</td>\n",
       "      <td>842.0</td>\n",
       "      <td>10438.0</td>\n",
       "      <td>14499.0</td>\n",
       "    </tr>\n",
       "    <tr>\n",
       "      <th>2012</th>\n",
       "      <td>6061.0</td>\n",
       "      <td>191.0</td>\n",
       "      <td>7195.0</td>\n",
       "      <td>280.0</td>\n",
       "      <td>5850.0</td>\n",
       "      <td>4300.0</td>\n",
       "      <td>720.0</td>\n",
       "      <td>10150.0</td>\n",
       "      <td>13727.0</td>\n",
       "    </tr>\n",
       "    <tr>\n",
       "      <th>2013</th>\n",
       "      <td>7663.0</td>\n",
       "      <td>270.0</td>\n",
       "      <td>9011.0</td>\n",
       "      <td>319.0</td>\n",
       "      <td>6057.0</td>\n",
       "      <td>4651.0</td>\n",
       "      <td>673.0</td>\n",
       "      <td>10708.0</td>\n",
       "      <td>17263.0</td>\n",
       "    </tr>\n",
       "    <tr>\n",
       "      <th>2014</th>\n",
       "      <td>7651.0</td>\n",
       "      <td>332.0</td>\n",
       "      <td>8956.0</td>\n",
       "      <td>430.0</td>\n",
       "      <td>5959.0</td>\n",
       "      <td>4497.0</td>\n",
       "      <td>664.0</td>\n",
       "      <td>10456.0</td>\n",
       "      <td>17369.0</td>\n",
       "    </tr>\n",
       "    <tr>\n",
       "      <th>2015</th>\n",
       "      <td>8394.0</td>\n",
       "      <td>449.0</td>\n",
       "      <td>9894.0</td>\n",
       "      <td>626.0</td>\n",
       "      <td>5894.0</td>\n",
       "      <td>4412.0</td>\n",
       "      <td>708.0</td>\n",
       "      <td>10306.0</td>\n",
       "      <td>19363.0</td>\n",
       "    </tr>\n",
       "    <tr>\n",
       "      <th>2016</th>\n",
       "      <td>8544.0</td>\n",
       "      <td>460.0</td>\n",
       "      <td>10016.0</td>\n",
       "      <td>644.0</td>\n",
       "      <td>5942.0</td>\n",
       "      <td>4524.0</td>\n",
       "      <td>638.0</td>\n",
       "      <td>10466.0</td>\n",
       "      <td>19664.0</td>\n",
       "    </tr>\n",
       "    <tr>\n",
       "      <th>2017</th>\n",
       "      <td>7950.0</td>\n",
       "      <td>384.0</td>\n",
       "      <td>9421.0</td>\n",
       "      <td>538.0</td>\n",
       "      <td>6057.0</td>\n",
       "      <td>4492.0</td>\n",
       "      <td>790.0</td>\n",
       "      <td>10549.0</td>\n",
       "      <td>18293.0</td>\n",
       "    </tr>\n",
       "    <tr>\n",
       "      <th>2018</th>\n",
       "      <td>7575.0</td>\n",
       "      <td>361.0</td>\n",
       "      <td>8871.0</td>\n",
       "      <td>448.0</td>\n",
       "      <td>6142.0</td>\n",
       "      <td>4717.0</td>\n",
       "      <td>678.0</td>\n",
       "      <td>10859.0</td>\n",
       "      <td>17255.0</td>\n",
       "    </tr>\n",
       "    <tr>\n",
       "      <th>2019</th>\n",
       "      <td>7740.0</td>\n",
       "      <td>349.0</td>\n",
       "      <td>8910.0</td>\n",
       "      <td>495.0</td>\n",
       "      <td>5946.0</td>\n",
       "      <td>4589.0</td>\n",
       "      <td>632.0</td>\n",
       "      <td>10535.0</td>\n",
       "      <td>17494.0</td>\n",
       "    </tr>\n",
       "    <tr>\n",
       "      <th>2020</th>\n",
       "      <td>7976.0</td>\n",
       "      <td>402.0</td>\n",
       "      <td>8674.0</td>\n",
       "      <td>469.0</td>\n",
       "      <td>5437.0</td>\n",
       "      <td>4363.0</td>\n",
       "      <td>496.0</td>\n",
       "      <td>9800.0</td>\n",
       "      <td>17521.0</td>\n",
       "    </tr>\n",
       "    <tr>\n",
       "      <th>2021</th>\n",
       "      <td>5936.0</td>\n",
       "      <td>296.0</td>\n",
       "      <td>6118.0</td>\n",
       "      <td>358.0</td>\n",
       "      <td>4167.0</td>\n",
       "      <td>3598.0</td>\n",
       "      <td>251.0</td>\n",
       "      <td>7765.0</td>\n",
       "      <td>12708.0</td>\n",
       "    </tr>\n",
       "  </tbody>\n",
       "</table>\n",
       "</div>"
      ],
      "text/plain": [
       "        Home_Yellow  Home_Red  Away_Yellow  Away_Red  Home_Score  Away_Score  \\\n",
       "Season                                                                         \n",
       "1990         1925.0      49.0       2697.0     115.0      5106.0      3167.0   \n",
       "1991         2564.0      85.0       3489.0     170.0      5725.0      3532.0   \n",
       "1992         2112.0      93.0       2861.0     157.0      5228.0      3367.0   \n",
       "1993         3434.0     109.0       4614.0     198.0      6122.0      3956.0   \n",
       "1994         3099.0      89.0       4241.0     177.0      5768.0      3780.0   \n",
       "1995         3571.0     183.0       4665.0     321.0      5465.0      3553.0   \n",
       "1996         3724.0     243.0       4787.0     366.0      5959.0      3891.0   \n",
       "1997         3817.0     194.0       5031.0     296.0      5345.0      3587.0   \n",
       "1998         4383.0     142.0       5743.0     196.0      4684.0      3219.0   \n",
       "1999         4818.0     142.0       6032.0     207.0      4748.0      3271.0   \n",
       "2000         5460.0     156.0       6882.0     227.0      5659.0      3864.0   \n",
       "2001         5583.0     156.0       6873.0     231.0      5426.0      3668.0   \n",
       "2002         6760.0     216.0       8620.0     308.0      6655.0      4638.0   \n",
       "2003         5584.0     173.0       7112.0     283.0      5551.0      3979.0   \n",
       "2004         7130.0     221.0       8737.0     351.0      6775.0      4858.0   \n",
       "2005         4789.0     143.0       5952.0     198.0      4317.0      3064.0   \n",
       "2006         6607.0     218.0       8100.0     286.0      5702.0      4134.0   \n",
       "2007         6662.0     224.0       8115.0     289.0      5735.0      4169.0   \n",
       "2008         6286.0     187.0       7803.0     256.0      5975.0      4255.0   \n",
       "2009         6539.0     214.0       7832.0     224.0      5918.0      4281.0   \n",
       "2010         6431.0     190.0       7871.0     252.0      5953.0      4353.0   \n",
       "2011         6376.0     199.0       7675.0     249.0      6094.0      4344.0   \n",
       "2012         6061.0     191.0       7195.0     280.0      5850.0      4300.0   \n",
       "2013         7663.0     270.0       9011.0     319.0      6057.0      4651.0   \n",
       "2014         7651.0     332.0       8956.0     430.0      5959.0      4497.0   \n",
       "2015         8394.0     449.0       9894.0     626.0      5894.0      4412.0   \n",
       "2016         8544.0     460.0      10016.0     644.0      5942.0      4524.0   \n",
       "2017         7950.0     384.0       9421.0     538.0      6057.0      4492.0   \n",
       "2018         7575.0     361.0       8871.0     448.0      6142.0      4717.0   \n",
       "2019         7740.0     349.0       8910.0     495.0      5946.0      4589.0   \n",
       "2020         7976.0     402.0       8674.0     469.0      5437.0      4363.0   \n",
       "2021         5936.0     296.0       6118.0     358.0      4167.0      3598.0   \n",
       "\n",
       "        Result_Num  total_goals  total_fouls  \n",
       "Season                                        \n",
       "1990         911.0       8273.0       4786.0  \n",
       "1991        1058.0       9257.0       6308.0  \n",
       "1992         911.0       8595.0       5223.0  \n",
       "1993         967.0      10078.0       8355.0  \n",
       "1994         962.0       9548.0       7606.0  \n",
       "1995         847.0       9018.0       8740.0  \n",
       "1996         981.0       9850.0       9120.0  \n",
       "1997         779.0       8932.0       9338.0  \n",
       "1998         691.0       7903.0      10464.0  \n",
       "1999         707.0       8019.0      11199.0  \n",
       "2000         852.0       9523.0      12725.0  \n",
       "2001         851.0       9094.0      12843.0  \n",
       "2002         959.0      11293.0      15904.0  \n",
       "2003         807.0       9530.0      13152.0  \n",
       "2004         944.0      11633.0      16439.0  \n",
       "2005         661.0       7381.0      11082.0  \n",
       "2006         797.0       9836.0      15211.0  \n",
       "2007         822.0       9904.0      15290.0  \n",
       "2008         798.0      10230.0      14532.0  \n",
       "2009         806.0      10199.0      14809.0  \n",
       "2010         815.0      10306.0      14744.0  \n",
       "2011         842.0      10438.0      14499.0  \n",
       "2012         720.0      10150.0      13727.0  \n",
       "2013         673.0      10708.0      17263.0  \n",
       "2014         664.0      10456.0      17369.0  \n",
       "2015         708.0      10306.0      19363.0  \n",
       "2016         638.0      10466.0      19664.0  \n",
       "2017         790.0      10549.0      18293.0  \n",
       "2018         678.0      10859.0      17255.0  \n",
       "2019         632.0      10535.0      17494.0  \n",
       "2020         496.0       9800.0      17521.0  \n",
       "2021         251.0       7765.0      12708.0  "
      ]
     },
     "execution_count": 50,
     "metadata": {},
     "output_type": "execute_result"
    }
   ],
   "source": [
    "new_df.groupby(['Season']).sum()"
   ]
  },
  {
   "cell_type": "code",
   "execution_count": 51,
   "metadata": {},
   "outputs": [
    {
     "data": {
      "application/vnd.plotly.v1+json": {
       "config": {
        "plotlyServerURL": "https://plot.ly"
       },
       "data": [
        {
         "hovertemplate": "variable=Result_Num<br>Season=%{x}<br>value=%{y}<extra></extra>",
         "legendgroup": "Result_Num",
         "line": {
          "color": "#636efa",
          "dash": "solid"
         },
         "marker": {
          "color": "orange",
          "symbol": "circle"
         },
         "mode": "lines",
         "name": "Result_Num",
         "orientation": "v",
         "showlegend": true,
         "type": "scatter",
         "x": [
          1990,
          1991,
          1992,
          1993,
          1994,
          1995,
          1996,
          1997,
          1998,
          1999,
          2000,
          2001,
          2002,
          2003,
          2004,
          2005,
          2006,
          2007,
          2008,
          2009,
          2010,
          2011,
          2012,
          2013,
          2014,
          2015,
          2016,
          2017,
          2018,
          2019,
          2020,
          2021
         ],
         "xaxis": "x",
         "y": [
          911,
          1058,
          911,
          967,
          962,
          847,
          981,
          779,
          691,
          707,
          852,
          851,
          959,
          807,
          944,
          661,
          797,
          822,
          798,
          806,
          815,
          842,
          720,
          673,
          664,
          708,
          638,
          790,
          678,
          632,
          496,
          251
         ],
         "yaxis": "y"
        }
       ],
       "layout": {
        "legend": {
         "title": {
          "text": "variable"
         },
         "tracegroupgap": 0
        },
        "template": {
         "data": {
          "bar": [
           {
            "error_x": {
             "color": "#f2f5fa"
            },
            "error_y": {
             "color": "#f2f5fa"
            },
            "marker": {
             "line": {
              "color": "rgb(17,17,17)",
              "width": 0.5
             },
             "pattern": {
              "fillmode": "overlay",
              "size": 10,
              "solidity": 0.2
             }
            },
            "type": "bar"
           }
          ],
          "barpolar": [
           {
            "marker": {
             "line": {
              "color": "rgb(17,17,17)",
              "width": 0.5
             },
             "pattern": {
              "fillmode": "overlay",
              "size": 10,
              "solidity": 0.2
             }
            },
            "type": "barpolar"
           }
          ],
          "carpet": [
           {
            "aaxis": {
             "endlinecolor": "#A2B1C6",
             "gridcolor": "#506784",
             "linecolor": "#506784",
             "minorgridcolor": "#506784",
             "startlinecolor": "#A2B1C6"
            },
            "baxis": {
             "endlinecolor": "#A2B1C6",
             "gridcolor": "#506784",
             "linecolor": "#506784",
             "minorgridcolor": "#506784",
             "startlinecolor": "#A2B1C6"
            },
            "type": "carpet"
           }
          ],
          "choropleth": [
           {
            "colorbar": {
             "outlinewidth": 0,
             "ticks": ""
            },
            "type": "choropleth"
           }
          ],
          "contour": [
           {
            "colorbar": {
             "outlinewidth": 0,
             "ticks": ""
            },
            "colorscale": [
             [
              0,
              "#0d0887"
             ],
             [
              0.1111111111111111,
              "#46039f"
             ],
             [
              0.2222222222222222,
              "#7201a8"
             ],
             [
              0.3333333333333333,
              "#9c179e"
             ],
             [
              0.4444444444444444,
              "#bd3786"
             ],
             [
              0.5555555555555556,
              "#d8576b"
             ],
             [
              0.6666666666666666,
              "#ed7953"
             ],
             [
              0.7777777777777778,
              "#fb9f3a"
             ],
             [
              0.8888888888888888,
              "#fdca26"
             ],
             [
              1,
              "#f0f921"
             ]
            ],
            "type": "contour"
           }
          ],
          "contourcarpet": [
           {
            "colorbar": {
             "outlinewidth": 0,
             "ticks": ""
            },
            "type": "contourcarpet"
           }
          ],
          "heatmap": [
           {
            "colorbar": {
             "outlinewidth": 0,
             "ticks": ""
            },
            "colorscale": [
             [
              0,
              "#0d0887"
             ],
             [
              0.1111111111111111,
              "#46039f"
             ],
             [
              0.2222222222222222,
              "#7201a8"
             ],
             [
              0.3333333333333333,
              "#9c179e"
             ],
             [
              0.4444444444444444,
              "#bd3786"
             ],
             [
              0.5555555555555556,
              "#d8576b"
             ],
             [
              0.6666666666666666,
              "#ed7953"
             ],
             [
              0.7777777777777778,
              "#fb9f3a"
             ],
             [
              0.8888888888888888,
              "#fdca26"
             ],
             [
              1,
              "#f0f921"
             ]
            ],
            "type": "heatmap"
           }
          ],
          "heatmapgl": [
           {
            "colorbar": {
             "outlinewidth": 0,
             "ticks": ""
            },
            "colorscale": [
             [
              0,
              "#0d0887"
             ],
             [
              0.1111111111111111,
              "#46039f"
             ],
             [
              0.2222222222222222,
              "#7201a8"
             ],
             [
              0.3333333333333333,
              "#9c179e"
             ],
             [
              0.4444444444444444,
              "#bd3786"
             ],
             [
              0.5555555555555556,
              "#d8576b"
             ],
             [
              0.6666666666666666,
              "#ed7953"
             ],
             [
              0.7777777777777778,
              "#fb9f3a"
             ],
             [
              0.8888888888888888,
              "#fdca26"
             ],
             [
              1,
              "#f0f921"
             ]
            ],
            "type": "heatmapgl"
           }
          ],
          "histogram": [
           {
            "marker": {
             "pattern": {
              "fillmode": "overlay",
              "size": 10,
              "solidity": 0.2
             }
            },
            "type": "histogram"
           }
          ],
          "histogram2d": [
           {
            "colorbar": {
             "outlinewidth": 0,
             "ticks": ""
            },
            "colorscale": [
             [
              0,
              "#0d0887"
             ],
             [
              0.1111111111111111,
              "#46039f"
             ],
             [
              0.2222222222222222,
              "#7201a8"
             ],
             [
              0.3333333333333333,
              "#9c179e"
             ],
             [
              0.4444444444444444,
              "#bd3786"
             ],
             [
              0.5555555555555556,
              "#d8576b"
             ],
             [
              0.6666666666666666,
              "#ed7953"
             ],
             [
              0.7777777777777778,
              "#fb9f3a"
             ],
             [
              0.8888888888888888,
              "#fdca26"
             ],
             [
              1,
              "#f0f921"
             ]
            ],
            "type": "histogram2d"
           }
          ],
          "histogram2dcontour": [
           {
            "colorbar": {
             "outlinewidth": 0,
             "ticks": ""
            },
            "colorscale": [
             [
              0,
              "#0d0887"
             ],
             [
              0.1111111111111111,
              "#46039f"
             ],
             [
              0.2222222222222222,
              "#7201a8"
             ],
             [
              0.3333333333333333,
              "#9c179e"
             ],
             [
              0.4444444444444444,
              "#bd3786"
             ],
             [
              0.5555555555555556,
              "#d8576b"
             ],
             [
              0.6666666666666666,
              "#ed7953"
             ],
             [
              0.7777777777777778,
              "#fb9f3a"
             ],
             [
              0.8888888888888888,
              "#fdca26"
             ],
             [
              1,
              "#f0f921"
             ]
            ],
            "type": "histogram2dcontour"
           }
          ],
          "mesh3d": [
           {
            "colorbar": {
             "outlinewidth": 0,
             "ticks": ""
            },
            "type": "mesh3d"
           }
          ],
          "parcoords": [
           {
            "line": {
             "colorbar": {
              "outlinewidth": 0,
              "ticks": ""
             }
            },
            "type": "parcoords"
           }
          ],
          "pie": [
           {
            "automargin": true,
            "type": "pie"
           }
          ],
          "scatter": [
           {
            "marker": {
             "line": {
              "color": "#283442"
             }
            },
            "type": "scatter"
           }
          ],
          "scatter3d": [
           {
            "line": {
             "colorbar": {
              "outlinewidth": 0,
              "ticks": ""
             }
            },
            "marker": {
             "colorbar": {
              "outlinewidth": 0,
              "ticks": ""
             }
            },
            "type": "scatter3d"
           }
          ],
          "scattercarpet": [
           {
            "marker": {
             "colorbar": {
              "outlinewidth": 0,
              "ticks": ""
             }
            },
            "type": "scattercarpet"
           }
          ],
          "scattergeo": [
           {
            "marker": {
             "colorbar": {
              "outlinewidth": 0,
              "ticks": ""
             }
            },
            "type": "scattergeo"
           }
          ],
          "scattergl": [
           {
            "marker": {
             "line": {
              "color": "#283442"
             }
            },
            "type": "scattergl"
           }
          ],
          "scattermapbox": [
           {
            "marker": {
             "colorbar": {
              "outlinewidth": 0,
              "ticks": ""
             }
            },
            "type": "scattermapbox"
           }
          ],
          "scatterpolar": [
           {
            "marker": {
             "colorbar": {
              "outlinewidth": 0,
              "ticks": ""
             }
            },
            "type": "scatterpolar"
           }
          ],
          "scatterpolargl": [
           {
            "marker": {
             "colorbar": {
              "outlinewidth": 0,
              "ticks": ""
             }
            },
            "type": "scatterpolargl"
           }
          ],
          "scatterternary": [
           {
            "marker": {
             "colorbar": {
              "outlinewidth": 0,
              "ticks": ""
             }
            },
            "type": "scatterternary"
           }
          ],
          "surface": [
           {
            "colorbar": {
             "outlinewidth": 0,
             "ticks": ""
            },
            "colorscale": [
             [
              0,
              "#0d0887"
             ],
             [
              0.1111111111111111,
              "#46039f"
             ],
             [
              0.2222222222222222,
              "#7201a8"
             ],
             [
              0.3333333333333333,
              "#9c179e"
             ],
             [
              0.4444444444444444,
              "#bd3786"
             ],
             [
              0.5555555555555556,
              "#d8576b"
             ],
             [
              0.6666666666666666,
              "#ed7953"
             ],
             [
              0.7777777777777778,
              "#fb9f3a"
             ],
             [
              0.8888888888888888,
              "#fdca26"
             ],
             [
              1,
              "#f0f921"
             ]
            ],
            "type": "surface"
           }
          ],
          "table": [
           {
            "cells": {
             "fill": {
              "color": "#506784"
             },
             "line": {
              "color": "rgb(17,17,17)"
             }
            },
            "header": {
             "fill": {
              "color": "#2a3f5f"
             },
             "line": {
              "color": "rgb(17,17,17)"
             }
            },
            "type": "table"
           }
          ]
         },
         "layout": {
          "annotationdefaults": {
           "arrowcolor": "#f2f5fa",
           "arrowhead": 0,
           "arrowwidth": 1
          },
          "autotypenumbers": "strict",
          "coloraxis": {
           "colorbar": {
            "outlinewidth": 0,
            "ticks": ""
           }
          },
          "colorscale": {
           "diverging": [
            [
             0,
             "#8e0152"
            ],
            [
             0.1,
             "#c51b7d"
            ],
            [
             0.2,
             "#de77ae"
            ],
            [
             0.3,
             "#f1b6da"
            ],
            [
             0.4,
             "#fde0ef"
            ],
            [
             0.5,
             "#f7f7f7"
            ],
            [
             0.6,
             "#e6f5d0"
            ],
            [
             0.7,
             "#b8e186"
            ],
            [
             0.8,
             "#7fbc41"
            ],
            [
             0.9,
             "#4d9221"
            ],
            [
             1,
             "#276419"
            ]
           ],
           "sequential": [
            [
             0,
             "#0d0887"
            ],
            [
             0.1111111111111111,
             "#46039f"
            ],
            [
             0.2222222222222222,
             "#7201a8"
            ],
            [
             0.3333333333333333,
             "#9c179e"
            ],
            [
             0.4444444444444444,
             "#bd3786"
            ],
            [
             0.5555555555555556,
             "#d8576b"
            ],
            [
             0.6666666666666666,
             "#ed7953"
            ],
            [
             0.7777777777777778,
             "#fb9f3a"
            ],
            [
             0.8888888888888888,
             "#fdca26"
            ],
            [
             1,
             "#f0f921"
            ]
           ],
           "sequentialminus": [
            [
             0,
             "#0d0887"
            ],
            [
             0.1111111111111111,
             "#46039f"
            ],
            [
             0.2222222222222222,
             "#7201a8"
            ],
            [
             0.3333333333333333,
             "#9c179e"
            ],
            [
             0.4444444444444444,
             "#bd3786"
            ],
            [
             0.5555555555555556,
             "#d8576b"
            ],
            [
             0.6666666666666666,
             "#ed7953"
            ],
            [
             0.7777777777777778,
             "#fb9f3a"
            ],
            [
             0.8888888888888888,
             "#fdca26"
            ],
            [
             1,
             "#f0f921"
            ]
           ]
          },
          "colorway": [
           "#636efa",
           "#EF553B",
           "#00cc96",
           "#ab63fa",
           "#FFA15A",
           "#19d3f3",
           "#FF6692",
           "#B6E880",
           "#FF97FF",
           "#FECB52"
          ],
          "font": {
           "color": "#f2f5fa"
          },
          "geo": {
           "bgcolor": "rgb(17,17,17)",
           "lakecolor": "rgb(17,17,17)",
           "landcolor": "rgb(17,17,17)",
           "showlakes": true,
           "showland": true,
           "subunitcolor": "#506784"
          },
          "hoverlabel": {
           "align": "left"
          },
          "hovermode": "closest",
          "mapbox": {
           "style": "dark"
          },
          "paper_bgcolor": "rgb(17,17,17)",
          "plot_bgcolor": "rgb(17,17,17)",
          "polar": {
           "angularaxis": {
            "gridcolor": "#506784",
            "linecolor": "#506784",
            "ticks": ""
           },
           "bgcolor": "rgb(17,17,17)",
           "radialaxis": {
            "gridcolor": "#506784",
            "linecolor": "#506784",
            "ticks": ""
           }
          },
          "scene": {
           "xaxis": {
            "backgroundcolor": "rgb(17,17,17)",
            "gridcolor": "#506784",
            "gridwidth": 2,
            "linecolor": "#506784",
            "showbackground": true,
            "ticks": "",
            "zerolinecolor": "#C8D4E3"
           },
           "yaxis": {
            "backgroundcolor": "rgb(17,17,17)",
            "gridcolor": "#506784",
            "gridwidth": 2,
            "linecolor": "#506784",
            "showbackground": true,
            "ticks": "",
            "zerolinecolor": "#C8D4E3"
           },
           "zaxis": {
            "backgroundcolor": "rgb(17,17,17)",
            "gridcolor": "#506784",
            "gridwidth": 2,
            "linecolor": "#506784",
            "showbackground": true,
            "ticks": "",
            "zerolinecolor": "#C8D4E3"
           }
          },
          "shapedefaults": {
           "line": {
            "color": "#f2f5fa"
           }
          },
          "sliderdefaults": {
           "bgcolor": "#C8D4E3",
           "bordercolor": "rgb(17,17,17)",
           "borderwidth": 1,
           "tickwidth": 0
          },
          "ternary": {
           "aaxis": {
            "gridcolor": "#506784",
            "linecolor": "#506784",
            "ticks": ""
           },
           "baxis": {
            "gridcolor": "#506784",
            "linecolor": "#506784",
            "ticks": ""
           },
           "bgcolor": "rgb(17,17,17)",
           "caxis": {
            "gridcolor": "#506784",
            "linecolor": "#506784",
            "ticks": ""
           }
          },
          "title": {
           "x": 0.05
          },
          "updatemenudefaults": {
           "bgcolor": "#506784",
           "borderwidth": 0
          },
          "xaxis": {
           "automargin": true,
           "gridcolor": "#283442",
           "linecolor": "#506784",
           "ticks": "",
           "title": {
            "standoff": 15
           },
           "zerolinecolor": "#283442",
           "zerolinewidth": 2
          },
          "yaxis": {
           "automargin": true,
           "gridcolor": "#283442",
           "linecolor": "#506784",
           "ticks": "",
           "title": {
            "standoff": 15
           },
           "zerolinecolor": "#283442",
           "zerolinewidth": 2
          }
         }
        },
        "title": {
         "text": "Home Team Advantage by Season"
        },
        "xaxis": {
         "anchor": "y",
         "domain": [
          0,
          1
         ],
         "title": {
          "text": "Season"
         }
        },
        "yaxis": {
         "anchor": "x",
         "domain": [
          0,
          1
         ],
         "title": {
          "text": "value"
         }
        }
       }
      }
     },
     "metadata": {},
     "output_type": "display_data"
    }
   ],
   "source": [
    "home_team_adv = px.line(new_df.groupby('Season')['Result_Num'].sum(), title='Home Team Advantage by Season', template= 'plotly_dark')\n",
    "home_team_adv.update_traces(marker_color='orange')\n",
    "home_team_adv.write_image('home_team_adv.png')\n",
    "home_team_adv.show()"
   ]
  },
  {
   "cell_type": "code",
   "execution_count": 52,
   "metadata": {},
   "outputs": [
    {
     "data": {
      "application/vnd.plotly.v1+json": {
       "config": {
        "plotlyServerURL": "https://plot.ly"
       },
       "data": [
        {
         "hovertemplate": "variable=Result_Num<br>League=%{x}<br>value=%{y}<extra></extra>",
         "legendgroup": "Result_Num",
         "line": {
          "color": "#636efa",
          "dash": "solid"
         },
         "marker": {
          "color": "orange",
          "symbol": "circle"
         },
         "mode": "lines",
         "name": "Result_Num",
         "orientation": "v",
         "showlegend": true,
         "type": "scatter",
         "x": [
          "2_liga",
          "bundesliga",
          "championship",
          "eredivisie",
          "ligue_1",
          "ligue_2",
          "premier_league",
          "primeira_liga",
          "primera_division",
          "segunda_division",
          "serie_a",
          "serie_b"
         ],
         "xaxis": "x",
         "y": [
          2052,
          1867,
          1055,
          1814,
          2581,
          1887,
          2275,
          1962,
          2669,
          2763,
          1878,
          2215
         ],
         "yaxis": "y"
        }
       ],
       "layout": {
        "legend": {
         "title": {
          "text": "variable"
         },
         "tracegroupgap": 0
        },
        "template": {
         "data": {
          "bar": [
           {
            "error_x": {
             "color": "#f2f5fa"
            },
            "error_y": {
             "color": "#f2f5fa"
            },
            "marker": {
             "line": {
              "color": "rgb(17,17,17)",
              "width": 0.5
             },
             "pattern": {
              "fillmode": "overlay",
              "size": 10,
              "solidity": 0.2
             }
            },
            "type": "bar"
           }
          ],
          "barpolar": [
           {
            "marker": {
             "line": {
              "color": "rgb(17,17,17)",
              "width": 0.5
             },
             "pattern": {
              "fillmode": "overlay",
              "size": 10,
              "solidity": 0.2
             }
            },
            "type": "barpolar"
           }
          ],
          "carpet": [
           {
            "aaxis": {
             "endlinecolor": "#A2B1C6",
             "gridcolor": "#506784",
             "linecolor": "#506784",
             "minorgridcolor": "#506784",
             "startlinecolor": "#A2B1C6"
            },
            "baxis": {
             "endlinecolor": "#A2B1C6",
             "gridcolor": "#506784",
             "linecolor": "#506784",
             "minorgridcolor": "#506784",
             "startlinecolor": "#A2B1C6"
            },
            "type": "carpet"
           }
          ],
          "choropleth": [
           {
            "colorbar": {
             "outlinewidth": 0,
             "ticks": ""
            },
            "type": "choropleth"
           }
          ],
          "contour": [
           {
            "colorbar": {
             "outlinewidth": 0,
             "ticks": ""
            },
            "colorscale": [
             [
              0,
              "#0d0887"
             ],
             [
              0.1111111111111111,
              "#46039f"
             ],
             [
              0.2222222222222222,
              "#7201a8"
             ],
             [
              0.3333333333333333,
              "#9c179e"
             ],
             [
              0.4444444444444444,
              "#bd3786"
             ],
             [
              0.5555555555555556,
              "#d8576b"
             ],
             [
              0.6666666666666666,
              "#ed7953"
             ],
             [
              0.7777777777777778,
              "#fb9f3a"
             ],
             [
              0.8888888888888888,
              "#fdca26"
             ],
             [
              1,
              "#f0f921"
             ]
            ],
            "type": "contour"
           }
          ],
          "contourcarpet": [
           {
            "colorbar": {
             "outlinewidth": 0,
             "ticks": ""
            },
            "type": "contourcarpet"
           }
          ],
          "heatmap": [
           {
            "colorbar": {
             "outlinewidth": 0,
             "ticks": ""
            },
            "colorscale": [
             [
              0,
              "#0d0887"
             ],
             [
              0.1111111111111111,
              "#46039f"
             ],
             [
              0.2222222222222222,
              "#7201a8"
             ],
             [
              0.3333333333333333,
              "#9c179e"
             ],
             [
              0.4444444444444444,
              "#bd3786"
             ],
             [
              0.5555555555555556,
              "#d8576b"
             ],
             [
              0.6666666666666666,
              "#ed7953"
             ],
             [
              0.7777777777777778,
              "#fb9f3a"
             ],
             [
              0.8888888888888888,
              "#fdca26"
             ],
             [
              1,
              "#f0f921"
             ]
            ],
            "type": "heatmap"
           }
          ],
          "heatmapgl": [
           {
            "colorbar": {
             "outlinewidth": 0,
             "ticks": ""
            },
            "colorscale": [
             [
              0,
              "#0d0887"
             ],
             [
              0.1111111111111111,
              "#46039f"
             ],
             [
              0.2222222222222222,
              "#7201a8"
             ],
             [
              0.3333333333333333,
              "#9c179e"
             ],
             [
              0.4444444444444444,
              "#bd3786"
             ],
             [
              0.5555555555555556,
              "#d8576b"
             ],
             [
              0.6666666666666666,
              "#ed7953"
             ],
             [
              0.7777777777777778,
              "#fb9f3a"
             ],
             [
              0.8888888888888888,
              "#fdca26"
             ],
             [
              1,
              "#f0f921"
             ]
            ],
            "type": "heatmapgl"
           }
          ],
          "histogram": [
           {
            "marker": {
             "pattern": {
              "fillmode": "overlay",
              "size": 10,
              "solidity": 0.2
             }
            },
            "type": "histogram"
           }
          ],
          "histogram2d": [
           {
            "colorbar": {
             "outlinewidth": 0,
             "ticks": ""
            },
            "colorscale": [
             [
              0,
              "#0d0887"
             ],
             [
              0.1111111111111111,
              "#46039f"
             ],
             [
              0.2222222222222222,
              "#7201a8"
             ],
             [
              0.3333333333333333,
              "#9c179e"
             ],
             [
              0.4444444444444444,
              "#bd3786"
             ],
             [
              0.5555555555555556,
              "#d8576b"
             ],
             [
              0.6666666666666666,
              "#ed7953"
             ],
             [
              0.7777777777777778,
              "#fb9f3a"
             ],
             [
              0.8888888888888888,
              "#fdca26"
             ],
             [
              1,
              "#f0f921"
             ]
            ],
            "type": "histogram2d"
           }
          ],
          "histogram2dcontour": [
           {
            "colorbar": {
             "outlinewidth": 0,
             "ticks": ""
            },
            "colorscale": [
             [
              0,
              "#0d0887"
             ],
             [
              0.1111111111111111,
              "#46039f"
             ],
             [
              0.2222222222222222,
              "#7201a8"
             ],
             [
              0.3333333333333333,
              "#9c179e"
             ],
             [
              0.4444444444444444,
              "#bd3786"
             ],
             [
              0.5555555555555556,
              "#d8576b"
             ],
             [
              0.6666666666666666,
              "#ed7953"
             ],
             [
              0.7777777777777778,
              "#fb9f3a"
             ],
             [
              0.8888888888888888,
              "#fdca26"
             ],
             [
              1,
              "#f0f921"
             ]
            ],
            "type": "histogram2dcontour"
           }
          ],
          "mesh3d": [
           {
            "colorbar": {
             "outlinewidth": 0,
             "ticks": ""
            },
            "type": "mesh3d"
           }
          ],
          "parcoords": [
           {
            "line": {
             "colorbar": {
              "outlinewidth": 0,
              "ticks": ""
             }
            },
            "type": "parcoords"
           }
          ],
          "pie": [
           {
            "automargin": true,
            "type": "pie"
           }
          ],
          "scatter": [
           {
            "marker": {
             "line": {
              "color": "#283442"
             }
            },
            "type": "scatter"
           }
          ],
          "scatter3d": [
           {
            "line": {
             "colorbar": {
              "outlinewidth": 0,
              "ticks": ""
             }
            },
            "marker": {
             "colorbar": {
              "outlinewidth": 0,
              "ticks": ""
             }
            },
            "type": "scatter3d"
           }
          ],
          "scattercarpet": [
           {
            "marker": {
             "colorbar": {
              "outlinewidth": 0,
              "ticks": ""
             }
            },
            "type": "scattercarpet"
           }
          ],
          "scattergeo": [
           {
            "marker": {
             "colorbar": {
              "outlinewidth": 0,
              "ticks": ""
             }
            },
            "type": "scattergeo"
           }
          ],
          "scattergl": [
           {
            "marker": {
             "line": {
              "color": "#283442"
             }
            },
            "type": "scattergl"
           }
          ],
          "scattermapbox": [
           {
            "marker": {
             "colorbar": {
              "outlinewidth": 0,
              "ticks": ""
             }
            },
            "type": "scattermapbox"
           }
          ],
          "scatterpolar": [
           {
            "marker": {
             "colorbar": {
              "outlinewidth": 0,
              "ticks": ""
             }
            },
            "type": "scatterpolar"
           }
          ],
          "scatterpolargl": [
           {
            "marker": {
             "colorbar": {
              "outlinewidth": 0,
              "ticks": ""
             }
            },
            "type": "scatterpolargl"
           }
          ],
          "scatterternary": [
           {
            "marker": {
             "colorbar": {
              "outlinewidth": 0,
              "ticks": ""
             }
            },
            "type": "scatterternary"
           }
          ],
          "surface": [
           {
            "colorbar": {
             "outlinewidth": 0,
             "ticks": ""
            },
            "colorscale": [
             [
              0,
              "#0d0887"
             ],
             [
              0.1111111111111111,
              "#46039f"
             ],
             [
              0.2222222222222222,
              "#7201a8"
             ],
             [
              0.3333333333333333,
              "#9c179e"
             ],
             [
              0.4444444444444444,
              "#bd3786"
             ],
             [
              0.5555555555555556,
              "#d8576b"
             ],
             [
              0.6666666666666666,
              "#ed7953"
             ],
             [
              0.7777777777777778,
              "#fb9f3a"
             ],
             [
              0.8888888888888888,
              "#fdca26"
             ],
             [
              1,
              "#f0f921"
             ]
            ],
            "type": "surface"
           }
          ],
          "table": [
           {
            "cells": {
             "fill": {
              "color": "#506784"
             },
             "line": {
              "color": "rgb(17,17,17)"
             }
            },
            "header": {
             "fill": {
              "color": "#2a3f5f"
             },
             "line": {
              "color": "rgb(17,17,17)"
             }
            },
            "type": "table"
           }
          ]
         },
         "layout": {
          "annotationdefaults": {
           "arrowcolor": "#f2f5fa",
           "arrowhead": 0,
           "arrowwidth": 1
          },
          "autotypenumbers": "strict",
          "coloraxis": {
           "colorbar": {
            "outlinewidth": 0,
            "ticks": ""
           }
          },
          "colorscale": {
           "diverging": [
            [
             0,
             "#8e0152"
            ],
            [
             0.1,
             "#c51b7d"
            ],
            [
             0.2,
             "#de77ae"
            ],
            [
             0.3,
             "#f1b6da"
            ],
            [
             0.4,
             "#fde0ef"
            ],
            [
             0.5,
             "#f7f7f7"
            ],
            [
             0.6,
             "#e6f5d0"
            ],
            [
             0.7,
             "#b8e186"
            ],
            [
             0.8,
             "#7fbc41"
            ],
            [
             0.9,
             "#4d9221"
            ],
            [
             1,
             "#276419"
            ]
           ],
           "sequential": [
            [
             0,
             "#0d0887"
            ],
            [
             0.1111111111111111,
             "#46039f"
            ],
            [
             0.2222222222222222,
             "#7201a8"
            ],
            [
             0.3333333333333333,
             "#9c179e"
            ],
            [
             0.4444444444444444,
             "#bd3786"
            ],
            [
             0.5555555555555556,
             "#d8576b"
            ],
            [
             0.6666666666666666,
             "#ed7953"
            ],
            [
             0.7777777777777778,
             "#fb9f3a"
            ],
            [
             0.8888888888888888,
             "#fdca26"
            ],
            [
             1,
             "#f0f921"
            ]
           ],
           "sequentialminus": [
            [
             0,
             "#0d0887"
            ],
            [
             0.1111111111111111,
             "#46039f"
            ],
            [
             0.2222222222222222,
             "#7201a8"
            ],
            [
             0.3333333333333333,
             "#9c179e"
            ],
            [
             0.4444444444444444,
             "#bd3786"
            ],
            [
             0.5555555555555556,
             "#d8576b"
            ],
            [
             0.6666666666666666,
             "#ed7953"
            ],
            [
             0.7777777777777778,
             "#fb9f3a"
            ],
            [
             0.8888888888888888,
             "#fdca26"
            ],
            [
             1,
             "#f0f921"
            ]
           ]
          },
          "colorway": [
           "#636efa",
           "#EF553B",
           "#00cc96",
           "#ab63fa",
           "#FFA15A",
           "#19d3f3",
           "#FF6692",
           "#B6E880",
           "#FF97FF",
           "#FECB52"
          ],
          "font": {
           "color": "#f2f5fa"
          },
          "geo": {
           "bgcolor": "rgb(17,17,17)",
           "lakecolor": "rgb(17,17,17)",
           "landcolor": "rgb(17,17,17)",
           "showlakes": true,
           "showland": true,
           "subunitcolor": "#506784"
          },
          "hoverlabel": {
           "align": "left"
          },
          "hovermode": "closest",
          "mapbox": {
           "style": "dark"
          },
          "paper_bgcolor": "rgb(17,17,17)",
          "plot_bgcolor": "rgb(17,17,17)",
          "polar": {
           "angularaxis": {
            "gridcolor": "#506784",
            "linecolor": "#506784",
            "ticks": ""
           },
           "bgcolor": "rgb(17,17,17)",
           "radialaxis": {
            "gridcolor": "#506784",
            "linecolor": "#506784",
            "ticks": ""
           }
          },
          "scene": {
           "xaxis": {
            "backgroundcolor": "rgb(17,17,17)",
            "gridcolor": "#506784",
            "gridwidth": 2,
            "linecolor": "#506784",
            "showbackground": true,
            "ticks": "",
            "zerolinecolor": "#C8D4E3"
           },
           "yaxis": {
            "backgroundcolor": "rgb(17,17,17)",
            "gridcolor": "#506784",
            "gridwidth": 2,
            "linecolor": "#506784",
            "showbackground": true,
            "ticks": "",
            "zerolinecolor": "#C8D4E3"
           },
           "zaxis": {
            "backgroundcolor": "rgb(17,17,17)",
            "gridcolor": "#506784",
            "gridwidth": 2,
            "linecolor": "#506784",
            "showbackground": true,
            "ticks": "",
            "zerolinecolor": "#C8D4E3"
           }
          },
          "shapedefaults": {
           "line": {
            "color": "#f2f5fa"
           }
          },
          "sliderdefaults": {
           "bgcolor": "#C8D4E3",
           "bordercolor": "rgb(17,17,17)",
           "borderwidth": 1,
           "tickwidth": 0
          },
          "ternary": {
           "aaxis": {
            "gridcolor": "#506784",
            "linecolor": "#506784",
            "ticks": ""
           },
           "baxis": {
            "gridcolor": "#506784",
            "linecolor": "#506784",
            "ticks": ""
           },
           "bgcolor": "rgb(17,17,17)",
           "caxis": {
            "gridcolor": "#506784",
            "linecolor": "#506784",
            "ticks": ""
           }
          },
          "title": {
           "x": 0.05
          },
          "updatemenudefaults": {
           "bgcolor": "#506784",
           "borderwidth": 0
          },
          "xaxis": {
           "automargin": true,
           "gridcolor": "#283442",
           "linecolor": "#506784",
           "ticks": "",
           "title": {
            "standoff": 15
           },
           "zerolinecolor": "#283442",
           "zerolinewidth": 2
          },
          "yaxis": {
           "automargin": true,
           "gridcolor": "#283442",
           "linecolor": "#506784",
           "ticks": "",
           "title": {
            "standoff": 15
           },
           "zerolinecolor": "#283442",
           "zerolinewidth": 2
          }
         }
        },
        "title": {
         "text": "Home Team Advantage by League"
        },
        "xaxis": {
         "anchor": "y",
         "domain": [
          0,
          1
         ],
         "title": {
          "text": "League"
         }
        },
        "yaxis": {
         "anchor": "x",
         "domain": [
          0,
          1
         ],
         "title": {
          "text": "value"
         }
        }
       }
      }
     },
     "metadata": {},
     "output_type": "display_data"
    }
   ],
   "source": [
    "home_team_adv_League = px.line(new_df.groupby('League')['Result_Num'].sum(), title='Home Team Advantage by League', template= 'plotly_dark')\n",
    "home_team_adv_League.update_traces(marker_color='orange')\n",
    "home_team_adv_League.write_image('home_team_adv_league.png')\n",
    "home_team_adv_League.show()"
   ]
  },
  {
   "cell_type": "code",
   "execution_count": 53,
   "metadata": {},
   "outputs": [
    {
     "data": {
      "text/html": [
       "<div>\n",
       "<style scoped>\n",
       "    .dataframe tbody tr th:only-of-type {\n",
       "        vertical-align: middle;\n",
       "    }\n",
       "\n",
       "    .dataframe tbody tr th {\n",
       "        vertical-align: top;\n",
       "    }\n",
       "\n",
       "    .dataframe thead th {\n",
       "        text-align: right;\n",
       "    }\n",
       "</style>\n",
       "<table border=\"1\" class=\"dataframe\">\n",
       "  <thead>\n",
       "    <tr style=\"text-align: right;\">\n",
       "      <th></th>\n",
       "      <th>League</th>\n",
       "      <th>Round</th>\n",
       "      <th>Season</th>\n",
       "      <th>Home_Team</th>\n",
       "      <th>Away_Team</th>\n",
       "      <th>Result</th>\n",
       "      <th>Home_Yellow</th>\n",
       "      <th>Home_Red</th>\n",
       "      <th>Away_Yellow</th>\n",
       "      <th>Away_Red</th>\n",
       "      <th>Home_Score</th>\n",
       "      <th>Away_Score</th>\n",
       "      <th>Result_Num</th>\n",
       "      <th>total_goals</th>\n",
       "      <th>total_fouls</th>\n",
       "    </tr>\n",
       "  </thead>\n",
       "  <tbody>\n",
       "    <tr>\n",
       "      <th>0</th>\n",
       "      <td>2_liga</td>\n",
       "      <td>1</td>\n",
       "      <td>1990</td>\n",
       "      <td>Saarbrücken</td>\n",
       "      <td>Stuttgarter Kickers</td>\n",
       "      <td>1-0</td>\n",
       "      <td>0.0</td>\n",
       "      <td>0.0</td>\n",
       "      <td>3.0</td>\n",
       "      <td>0.0</td>\n",
       "      <td>1.0</td>\n",
       "      <td>0.0</td>\n",
       "      <td>1.0</td>\n",
       "      <td>1.0</td>\n",
       "      <td>3.0</td>\n",
       "    </tr>\n",
       "    <tr>\n",
       "      <th>1</th>\n",
       "      <td>2_liga</td>\n",
       "      <td>1</td>\n",
       "      <td>1990</td>\n",
       "      <td>SC Freiburg</td>\n",
       "      <td>Unterhaching</td>\n",
       "      <td>2-3</td>\n",
       "      <td>1.0</td>\n",
       "      <td>0.0</td>\n",
       "      <td>0.0</td>\n",
       "      <td>0.0</td>\n",
       "      <td>2.0</td>\n",
       "      <td>3.0</td>\n",
       "      <td>-1.0</td>\n",
       "      <td>5.0</td>\n",
       "      <td>1.0</td>\n",
       "    </tr>\n",
       "    <tr>\n",
       "      <th>2</th>\n",
       "      <td>2_liga</td>\n",
       "      <td>1</td>\n",
       "      <td>1990</td>\n",
       "      <td>VfL Osnabrück</td>\n",
       "      <td>Meppen</td>\n",
       "      <td>1-1</td>\n",
       "      <td>3.0</td>\n",
       "      <td>0.0</td>\n",
       "      <td>2.0</td>\n",
       "      <td>0.0</td>\n",
       "      <td>1.0</td>\n",
       "      <td>1.0</td>\n",
       "      <td>0.0</td>\n",
       "      <td>2.0</td>\n",
       "      <td>5.0</td>\n",
       "    </tr>\n",
       "    <tr>\n",
       "      <th>3</th>\n",
       "      <td>2_liga</td>\n",
       "      <td>1</td>\n",
       "      <td>1990</td>\n",
       "      <td>RW Essen</td>\n",
       "      <td>Schalke 04</td>\n",
       "      <td>0-0</td>\n",
       "      <td>2.0</td>\n",
       "      <td>0.0</td>\n",
       "      <td>2.0</td>\n",
       "      <td>0.0</td>\n",
       "      <td>0.0</td>\n",
       "      <td>0.0</td>\n",
       "      <td>0.0</td>\n",
       "      <td>0.0</td>\n",
       "      <td>4.0</td>\n",
       "    </tr>\n",
       "    <tr>\n",
       "      <th>4</th>\n",
       "      <td>2_liga</td>\n",
       "      <td>1</td>\n",
       "      <td>1990</td>\n",
       "      <td>Alemannia Aachen</td>\n",
       "      <td>MSV Duisburg</td>\n",
       "      <td>1-2</td>\n",
       "      <td>1.0</td>\n",
       "      <td>0.0</td>\n",
       "      <td>1.0</td>\n",
       "      <td>0.0</td>\n",
       "      <td>1.0</td>\n",
       "      <td>2.0</td>\n",
       "      <td>-1.0</td>\n",
       "      <td>3.0</td>\n",
       "      <td>2.0</td>\n",
       "    </tr>\n",
       "  </tbody>\n",
       "</table>\n",
       "</div>"
      ],
      "text/plain": [
       "   League Round Season         Home_Team            Away_Team Result  \\\n",
       "0  2_liga     1   1990       Saarbrücken  Stuttgarter Kickers    1-0   \n",
       "1  2_liga     1   1990       SC Freiburg         Unterhaching    2-3   \n",
       "2  2_liga     1   1990     VfL Osnabrück               Meppen    1-1   \n",
       "3  2_liga     1   1990          RW Essen           Schalke 04    0-0   \n",
       "4  2_liga     1   1990  Alemannia Aachen         MSV Duisburg    1-2   \n",
       "\n",
       "   Home_Yellow  Home_Red  Away_Yellow  Away_Red  Home_Score  Away_Score  \\\n",
       "0          0.0       0.0          3.0       0.0         1.0         0.0   \n",
       "1          1.0       0.0          0.0       0.0         2.0         3.0   \n",
       "2          3.0       0.0          2.0       0.0         1.0         1.0   \n",
       "3          2.0       0.0          2.0       0.0         0.0         0.0   \n",
       "4          1.0       0.0          1.0       0.0         1.0         2.0   \n",
       "\n",
       "   Result_Num  total_goals  total_fouls  \n",
       "0         1.0          1.0          3.0  \n",
       "1        -1.0          5.0          1.0  \n",
       "2         0.0          2.0          5.0  \n",
       "3         0.0          0.0          4.0  \n",
       "4        -1.0          3.0          2.0  "
      ]
     },
     "execution_count": 53,
     "metadata": {},
     "output_type": "execute_result"
    }
   ],
   "source": [
    "new_df.head()"
   ]
  },
  {
   "cell_type": "code",
   "execution_count": 54,
   "metadata": {},
   "outputs": [],
   "source": [
    "sums =new_df.groupby(['Season']).sum()"
   ]
  },
  {
   "cell_type": "code",
   "execution_count": 57,
   "metadata": {},
   "outputs": [],
   "source": []
  }
 ],
 "metadata": {
  "kernelspec": {
   "display_name": "Python 3.9.12 ('base')",
   "language": "python",
   "name": "python3"
  },
  "language_info": {
   "codemirror_mode": {
    "name": "ipython",
    "version": 3
   },
   "file_extension": ".py",
   "mimetype": "text/x-python",
   "name": "python",
   "nbconvert_exporter": "python",
   "pygments_lexer": "ipython3",
   "version": "3.9.12"
  },
  "orig_nbformat": 4,
  "vscode": {
   "interpreter": {
    "hash": "ba8fa5b7b48e2768b8d0fa4630915d8875b98ef5a8e0f08caed19a5a3bde2031"
   }
  }
 },
 "nbformat": 4,
 "nbformat_minor": 2
}
